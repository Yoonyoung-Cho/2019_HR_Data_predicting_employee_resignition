{
 "cells": [
  {
   "cell_type": "code",
   "execution_count": 24,
   "metadata": {
    "scrolled": false
   },
   "outputs": [],
   "source": [
    "import pandas as pd\n",
    "import numpy as np\n",
    "import matplotlib.pyplot as plt\n",
    "import seaborn as sns  \n",
    "from sklearn.model_selection import GridSearchCV\n",
    "from sklearn.metrics import classification_report\n",
    "from sklearn.metrics import confusion_matrix, accuracy_score\n",
    "from imblearn.over_sampling import SMOTE, ADASYN\n",
    "from sklearn.model_selection import train_test_split"
   ]
  },
  {
   "cell_type": "markdown",
   "metadata": {},
   "source": [
    "## EDA"
   ]
  },
  {
   "cell_type": "code",
   "execution_count": 25,
   "metadata": {},
   "outputs": [
    {
     "name": "stdout",
     "output_type": "stream",
     "text": [
      "<class 'pandas.core.frame.DataFrame'>\n",
      "RangeIndex: 14999 entries, 0 to 14998\n",
      "Data columns (total 9 columns):\n",
      "satisfaction     14999 non-null float64\n",
      "evaluation       14999 non-null float64\n",
      "Nproject         14999 non-null int64\n",
      "avgMonthlyhrs    14999 non-null int64\n",
      "yrsAtCompany     14999 non-null int64\n",
      "workAccident     14999 non-null int64\n",
      "left             14999 non-null int64\n",
      "promotion        14999 non-null int64\n",
      "salary           14999 non-null int64\n",
      "dtypes: float64(2), int64(7)\n",
      "memory usage: 1.0 MB\n"
     ]
    }
   ],
   "source": [
    "hr=pd.read_csv(\"C:/Users/hice0/Desktop/머신러닝/R/hr_original.csv\",engine='python')\n",
    "hr = hr.drop('sales',axis=1)\n",
    "hr.columns = ['satisfaction','evaluation','Nproject','avgMonthlyhrs','yrsAtCompany','workAccident','left','promotion','salary'] # inplace=True)\n",
    "\n",
    "# salary 바꿈\n",
    "hr.salary, uniques = pd.factorize(hr.salary)\n",
    "hr.info()"
   ]
  },
  {
   "cell_type": "code",
   "execution_count": 48,
   "metadata": {},
   "outputs": [
    {
     "data": {
      "text/html": [
       "<div>\n",
       "<style scoped>\n",
       "    .dataframe tbody tr th:only-of-type {\n",
       "        vertical-align: middle;\n",
       "    }\n",
       "\n",
       "    .dataframe tbody tr th {\n",
       "        vertical-align: top;\n",
       "    }\n",
       "\n",
       "    .dataframe thead th {\n",
       "        text-align: right;\n",
       "    }\n",
       "</style>\n",
       "<table border=\"1\" class=\"dataframe\">\n",
       "  <thead>\n",
       "    <tr style=\"text-align: right;\">\n",
       "      <th></th>\n",
       "      <th>satisfaction</th>\n",
       "      <th>evaluation</th>\n",
       "      <th>Nproject</th>\n",
       "      <th>avgMonthlyhrs</th>\n",
       "      <th>yrsAtCompany</th>\n",
       "      <th>workAccident</th>\n",
       "      <th>left</th>\n",
       "      <th>promotion</th>\n",
       "      <th>salary</th>\n",
       "    </tr>\n",
       "  </thead>\n",
       "  <tbody>\n",
       "    <tr>\n",
       "      <th>count</th>\n",
       "      <td>14999.000000</td>\n",
       "      <td>14999.000000</td>\n",
       "      <td>14999.000000</td>\n",
       "      <td>14999.000000</td>\n",
       "      <td>14999.000000</td>\n",
       "      <td>14999.000000</td>\n",
       "      <td>14999.000000</td>\n",
       "      <td>14999.000000</td>\n",
       "      <td>14999.000000</td>\n",
       "    </tr>\n",
       "    <tr>\n",
       "      <th>mean</th>\n",
       "      <td>0.612834</td>\n",
       "      <td>0.716102</td>\n",
       "      <td>3.803054</td>\n",
       "      <td>201.050337</td>\n",
       "      <td>3.498233</td>\n",
       "      <td>0.144610</td>\n",
       "      <td>0.238083</td>\n",
       "      <td>0.021268</td>\n",
       "      <td>0.594706</td>\n",
       "    </tr>\n",
       "    <tr>\n",
       "      <th>std</th>\n",
       "      <td>0.248631</td>\n",
       "      <td>0.171169</td>\n",
       "      <td>1.232592</td>\n",
       "      <td>49.943099</td>\n",
       "      <td>1.460136</td>\n",
       "      <td>0.351719</td>\n",
       "      <td>0.425924</td>\n",
       "      <td>0.144281</td>\n",
       "      <td>0.637183</td>\n",
       "    </tr>\n",
       "    <tr>\n",
       "      <th>min</th>\n",
       "      <td>0.090000</td>\n",
       "      <td>0.360000</td>\n",
       "      <td>2.000000</td>\n",
       "      <td>96.000000</td>\n",
       "      <td>2.000000</td>\n",
       "      <td>0.000000</td>\n",
       "      <td>0.000000</td>\n",
       "      <td>0.000000</td>\n",
       "      <td>0.000000</td>\n",
       "    </tr>\n",
       "    <tr>\n",
       "      <th>25%</th>\n",
       "      <td>0.440000</td>\n",
       "      <td>0.560000</td>\n",
       "      <td>3.000000</td>\n",
       "      <td>156.000000</td>\n",
       "      <td>3.000000</td>\n",
       "      <td>0.000000</td>\n",
       "      <td>0.000000</td>\n",
       "      <td>0.000000</td>\n",
       "      <td>0.000000</td>\n",
       "    </tr>\n",
       "    <tr>\n",
       "      <th>50%</th>\n",
       "      <td>0.640000</td>\n",
       "      <td>0.720000</td>\n",
       "      <td>4.000000</td>\n",
       "      <td>200.000000</td>\n",
       "      <td>3.000000</td>\n",
       "      <td>0.000000</td>\n",
       "      <td>0.000000</td>\n",
       "      <td>0.000000</td>\n",
       "      <td>1.000000</td>\n",
       "    </tr>\n",
       "    <tr>\n",
       "      <th>75%</th>\n",
       "      <td>0.820000</td>\n",
       "      <td>0.870000</td>\n",
       "      <td>5.000000</td>\n",
       "      <td>245.000000</td>\n",
       "      <td>4.000000</td>\n",
       "      <td>0.000000</td>\n",
       "      <td>0.000000</td>\n",
       "      <td>0.000000</td>\n",
       "      <td>1.000000</td>\n",
       "    </tr>\n",
       "    <tr>\n",
       "      <th>max</th>\n",
       "      <td>1.000000</td>\n",
       "      <td>1.000000</td>\n",
       "      <td>7.000000</td>\n",
       "      <td>310.000000</td>\n",
       "      <td>10.000000</td>\n",
       "      <td>1.000000</td>\n",
       "      <td>1.000000</td>\n",
       "      <td>1.000000</td>\n",
       "      <td>2.000000</td>\n",
       "    </tr>\n",
       "  </tbody>\n",
       "</table>\n",
       "</div>"
      ],
      "text/plain": [
       "       satisfaction    evaluation      Nproject  avgMonthlyhrs  yrsAtCompany  \\\n",
       "count  14999.000000  14999.000000  14999.000000   14999.000000  14999.000000   \n",
       "mean       0.612834      0.716102      3.803054     201.050337      3.498233   \n",
       "std        0.248631      0.171169      1.232592      49.943099      1.460136   \n",
       "min        0.090000      0.360000      2.000000      96.000000      2.000000   \n",
       "25%        0.440000      0.560000      3.000000     156.000000      3.000000   \n",
       "50%        0.640000      0.720000      4.000000     200.000000      3.000000   \n",
       "75%        0.820000      0.870000      5.000000     245.000000      4.000000   \n",
       "max        1.000000      1.000000      7.000000     310.000000     10.000000   \n",
       "\n",
       "       workAccident          left     promotion        salary  \n",
       "count  14999.000000  14999.000000  14999.000000  14999.000000  \n",
       "mean       0.144610      0.238083      0.021268      0.594706  \n",
       "std        0.351719      0.425924      0.144281      0.637183  \n",
       "min        0.000000      0.000000      0.000000      0.000000  \n",
       "25%        0.000000      0.000000      0.000000      0.000000  \n",
       "50%        0.000000      0.000000      0.000000      1.000000  \n",
       "75%        0.000000      0.000000      0.000000      1.000000  \n",
       "max        1.000000      1.000000      1.000000      2.000000  "
      ]
     },
     "execution_count": 48,
     "metadata": {},
     "output_type": "execute_result"
    }
   ],
   "source": [
    "hr.describe()"
   ]
  },
  {
   "cell_type": "code",
   "execution_count": 9,
   "metadata": {
    "scrolled": true
   },
   "outputs": [
    {
     "data": {
      "text/plain": [
       "0    11428\n",
       "1     3571\n",
       "Name: left, dtype: int64"
      ]
     },
     "execution_count": 9,
     "metadata": {},
     "output_type": "execute_result"
    }
   ],
   "source": [
    "hr.left.value_counts() #left는 이직한 사람들"
   ]
  },
  {
   "cell_type": "code",
   "execution_count": 28,
   "metadata": {
    "scrolled": true
   },
   "outputs": [
    {
     "data": {
      "text/plain": [
       "3571"
      ]
     },
     "execution_count": 28,
     "metadata": {},
     "output_type": "execute_result"
    }
   ],
   "source": [
    "hr.left.value_counts()[1] #left는 이직한 사람들"
   ]
  },
  {
   "cell_type": "code",
   "execution_count": 30,
   "metadata": {},
   "outputs": [
    {
     "data": {
      "image/png": "[encoded data removed]",
      "text/plain": [
       "<Figure size 432x288 with 1 Axes>"
      ]
     },
     "metadata": {
      "needs_background": "light"
     },
     "output_type": "display_data"
    }
   ],
   "source": [
    "# 이직 안이직  plot\n",
    "objects = ('stay', 'left')\n",
    "y_pos = np.arange(len(objects))\n",
    "performance = [hr.left.value_counts()[0], hr.left.value_counts()[1]]\n",
    "plt.bar(y_pos, performance, align='center', alpha=0.5)\n",
    "plt.xticks(y_pos, objects)\n",
    "plt.ylabel('Number of people')\n",
    "plt.title('Resigned')\n",
    "plt.show()"
   ]
  },
  {
   "cell_type": "code",
   "execution_count": 37,
   "metadata": {
    "scrolled": true
   },
   "outputs": [
    {
     "data": {
      "text/plain": [
       "<matplotlib.axes._subplots.AxesSubplot at 0x1a4a3af0320>"
      ]
     },
     "execution_count": 37,
     "metadata": {},
     "output_type": "execute_result"
    },
    {
     "data": {
      "image/png": "[encoded data removed]",
      "text/plain": [
       "<Figure size 1080x1080 with 2 Axes>"
      ]
     },
     "metadata": {
      "needs_background": "light"
     },
     "output_type": "display_data"
    }
   ],
   "source": [
    "#  cor plot\n",
    "plt.figure(figsize=(15,15))\n",
    "sns.heatmap(data = hr.corr(), annot=True, fmt = '.2f', linewidths=.5, cmap='Blues')"
   ]
  },
  {
   "cell_type": "code",
   "execution_count": 48,
   "metadata": {
    "scrolled": false
   },
   "outputs": [
    {
     "data": {
      "image/png": "[encoded data removed]",
      "text/plain": [
       "<Figure size 360x360 with 2 Axes>"
      ]
     },
     "metadata": {
      "needs_background": "light"
     },
     "output_type": "display_data"
    }
   ],
   "source": [
    "# cor plot with   5개 변수\n",
    "plt.figure(figsize=(5,5))\n",
    "ax=sns.heatmap(data = hr[['left','satisfaction','evaluation','Nproject','avgMonthlyhrs']].corr(), \n",
    "               annot=True,  fmt = '.2f', linewidths=.5,  cmap=\"YlGnBu\",vmin=-1, vmax=1)\n",
    "plt.title('Heatmap of HR data')\n",
    "plt.show()\n",
    "\n"
   ]
  },
  {
   "cell_type": "code",
   "execution_count": 131,
   "metadata": {},
   "outputs": [
    {
     "data": {
      "application/javascript": [
       "/* Put everything inside the global mpl namespace */\n",
       "window.mpl = {};\n",
       "\n",
       "\n",
       "mpl.get_websocket_type = function() {\n",
       "    if (typeof(WebSocket) !== 'undefined') {\n",
       "        return WebSocket;\n",
       "    } else if (typeof(MozWebSocket) !== 'undefined') {\n",
       "        return MozWebSocket;\n",
       "    } else {\n",
       "        alert('Your browser does not have WebSocket support.' +\n",
       "              'Please try Chrome, Safari or Firefox ≥ 6. ' +\n",
       "              'Firefox 4 and 5 are also supported but you ' +\n",
       "              'have to enable WebSockets in about:config.');\n",
       "    };\n",
       "}\n",
       "\n",
       "mpl.figure = function(figure_id, websocket, ondownload, parent_element) {\n",
       "    this.id = figure_id;\n",
       "\n",
       "    this.ws = websocket;\n",
       "\n",
       "    this.supports_binary = (this.ws.binaryType != undefined);\n",
       "\n",
       "    if (!this.supports_binary) {\n",
       "        var warnings = document.getElementById(\"mpl-warnings\");\n",
       "        if (warnings) {\n",
       "            warnings.style.display = 'block';\n",
       "            warnings.textContent = (\n",
       "                \"This browser does not support binary websocket messages. \" +\n",
       "                    \"Performance may be slow.\");\n",
       "        }\n",
       "    }\n",
       "\n",
       "    this.imageObj = new Image();\n",
       "\n",
       "    this.context = undefined;\n",
       "    this.message = undefined;\n",
       "    this.canvas = undefined;\n",
       "    this.rubberband_canvas = undefined;\n",
       "    this.rubberband_context = undefined;\n",
       "    this.format_dropdown = undefined;\n",
       "\n",
       "    this.image_mode = 'full';\n",
       "\n",
       "    this.root = $('<div/>');\n",
       "    this._root_extra_style(this.root)\n",
       "    this.root.attr('style', 'display: inline-block');\n",
       "\n",
       "    $(parent_element).append(this.root);\n",
       "\n",
       "    this._init_header(this);\n",
       "    this._init_canvas(this);\n",
       "    this._init_toolbar(this);\n",
       "\n",
       "    var fig = this;\n",
       "\n",
       "    this.waiting = false;\n",
       "\n",
       "    this.ws.onopen =  function () {\n",
       "            fig.send_message(\"supports_binary\", {value: fig.supports_binary});\n",
       "            fig.send_message(\"send_image_mode\", {});\n",
       "            if (mpl.ratio != 1) {\n",
       "                fig.send_message(\"set_dpi_ratio\", {'dpi_ratio': mpl.ratio});\n",
       "            }\n",
       "            fig.send_message(\"refresh\", {});\n",
       "        }\n",
       "\n",
       "    this.imageObj.onload = function() {\n",
       "            if (fig.image_mode == 'full') {\n",
       "                // Full images could contain transparency (where diff images\n",
       "                // almost always do), so we need to clear the canvas so that\n",
       "                // there is no ghosting.\n",
       "                fig.context.clearRect(0, 0, fig.canvas.width, fig.canvas.height);\n",
       "            }\n",
       "            fig.context.drawImage(fig.imageObj, 0, 0);\n",
       "        };\n",
       "\n",
       "    this.imageObj.onunload = function() {\n",
       "        fig.ws.close();\n",
       "    }\n",
       "\n",
       "    this.ws.onmessage = this._make_on_message_function(this);\n",
       "\n",
       "    this.ondownload = ondownload;\n",
       "}\n",
       "\n",
       "mpl.figure.prototype._init_header = function() {\n",
       "    var titlebar = $(\n",
       "        '<div class=\"ui-dialog-titlebar ui-widget-header ui-corner-all ' +\n",
       "        'ui-helper-clearfix\"/>');\n",
       "    var titletext = $(\n",
       "        '<div class=\"ui-dialog-title\" style=\"width: 100%; ' +\n",
       "        'text-align: center; padding: 3px;\"/>');\n",
       "    titlebar.append(titletext)\n",
       "    this.root.append(titlebar);\n",
       "    this.header = titletext[0];\n",
       "}\n",
       "\n",
       "\n",
       "\n",
       "mpl.figure.prototype._canvas_extra_style = function(canvas_div) {\n",
       "\n",
       "}\n",
       "\n",
       "\n",
       "mpl.figure.prototype._root_extra_style = function(canvas_div) {\n",
       "\n",
       "}\n",
       "\n",
       "mpl.figure.prototype._init_canvas = function() {\n",
       "    var fig = this;\n",
       "\n",
       "    var canvas_div = $('<div/>');\n",
       "\n",
       "    canvas_div.attr('style', 'position: relative; clear: both; outline: 0');\n",
       "\n",
       "    function canvas_keyboard_event(event) {\n",
       "        return fig.key_event(event, event['data']);\n",
       "    }\n",
       "\n",
       "    canvas_div.keydown('key_press', canvas_keyboard_event);\n",
       "    canvas_div.keyup('key_release', canvas_keyboard_event);\n",
       "    this.canvas_div = canvas_div\n",
       "    this._canvas_extra_style(canvas_div)\n",
       "    this.root.append(canvas_div);\n",
       "\n",
       "    var canvas = $('<canvas/>');\n",
       "    canvas.addClass('mpl-canvas');\n",
       "    canvas.attr('style', \"left: 0; top: 0; z-index: 0; outline: 0\")\n",
       "\n",
       "    this.canvas = canvas[0];\n",
       "    this.context = canvas[0].getContext(\"2d\");\n",
       "\n",
       "    var backingStore = this.context.backingStorePixelRatio ||\n",
       "\tthis.context.webkitBackingStorePixelRatio ||\n",
       "\tthis.context.mozBackingStorePixelRatio ||\n",
       "\tthis.context.msBackingStorePixelRatio ||\n",
       "\tthis.context.oBackingStorePixelRatio ||\n",
       "\tthis.context.backingStorePixelRatio || 1;\n",
       "\n",
       "    mpl.ratio = (window.devicePixelRatio || 1) / backingStore;\n",
       "\n",
       "    var rubberband = $('<canvas/>');\n",
       "    rubberband.attr('style', \"position: absolute; left: 0; top: 0; z-index: 1;\")\n",
       "\n",
       "    var pass_mouse_events = true;\n",
       "\n",
       "    canvas_div.resizable({\n",
       "        start: function(event, ui) {\n",
       "            pass_mouse_events = false;\n",
       "        },\n",
       "        resize: function(event, ui) {\n",
       "            fig.request_resize(ui.size.width, ui.size.height);\n",
       "        },\n",
       "        stop: function(event, ui) {\n",
       "            pass_mouse_events = true;\n",
       "            fig.request_resize(ui.size.width, ui.size.height);\n",
       "        },\n",
       "    });\n",
       "\n",
       "    function mouse_event_fn(event) {\n",
       "        if (pass_mouse_events)\n",
       "            return fig.mouse_event(event, event['data']);\n",
       "    }\n",
       "\n",
       "    rubberband.mousedown('button_press', mouse_event_fn);\n",
       "    rubberband.mouseup('button_release', mouse_event_fn);\n",
       "    // Throttle sequential mouse events to 1 every 20ms.\n",
       "    rubberband.mousemove('motion_notify', mouse_event_fn);\n",
       "\n",
       "    rubberband.mouseenter('figure_enter', mouse_event_fn);\n",
       "    rubberband.mouseleave('figure_leave', mouse_event_fn);\n",
       "\n",
       "    canvas_div.on(\"wheel\", function (event) {\n",
       "        event = event.originalEvent;\n",
       "        event['data'] = 'scroll'\n",
       "        if (event.deltaY < 0) {\n",
       "            event.step = 1;\n",
       "        } else {\n",
       "            event.step = -1;\n",
       "        }\n",
       "        mouse_event_fn(event);\n",
       "    });\n",
       "\n",
       "    canvas_div.append(canvas);\n",
       "    canvas_div.append(rubberband);\n",
       "\n",
       "    this.rubberband = rubberband;\n",
       "    this.rubberband_canvas = rubberband[0];\n",
       "    this.rubberband_context = rubberband[0].getContext(\"2d\");\n",
       "    this.rubberband_context.strokeStyle = \"#000000\";\n",
       "\n",
       "    this._resize_canvas = function(width, height) {\n",
       "        // Keep the size of the canvas, canvas container, and rubber band\n",
       "        // canvas in synch.\n",
       "        canvas_div.css('width', width)\n",
       "        canvas_div.css('height', height)\n",
       "\n",
       "        canvas.attr('width', width * mpl.ratio);\n",
       "        canvas.attr('height', height * mpl.ratio);\n",
       "        canvas.attr('style', 'width: ' + width + 'px; height: ' + height + 'px;');\n",
       "\n",
       "        rubberband.attr('width', width);\n",
       "        rubberband.attr('height', height);\n",
       "    }\n",
       "\n",
       "    // Set the figure to an initial 600x600px, this will subsequently be updated\n",
       "    // upon first draw.\n",
       "    this._resize_canvas(600, 600);\n",
       "\n",
       "    // Disable right mouse context menu.\n",
       "    $(this.rubberband_canvas).bind(\"contextmenu\",function(e){\n",
       "        return false;\n",
       "    });\n",
       "\n",
       "    function set_focus () {\n",
       "        canvas.focus();\n",
       "        canvas_div.focus();\n",
       "    }\n",
       "\n",
       "    window.setTimeout(set_focus, 100);\n",
       "}\n",
       "\n",
       "mpl.figure.prototype._init_toolbar = function() {\n",
       "    var fig = this;\n",
       "\n",
       "    var nav_element = $('<div/>')\n",
       "    nav_element.attr('style', 'width: 100%');\n",
       "    this.root.append(nav_element);\n",
       "\n",
       "    // Define a callback function for later on.\n",
       "    function toolbar_event(event) {\n",
       "        return fig.toolbar_button_onclick(event['data']);\n",
       "    }\n",
       "    function toolbar_mouse_event(event) {\n",
       "        return fig.toolbar_button_onmouseover(event['data']);\n",
       "    }\n",
       "\n",
       "    for(var toolbar_ind in mpl.toolbar_items) {\n",
       "        var name = mpl.toolbar_items[toolbar_ind][0];\n",
       "        var tooltip = mpl.toolbar_items[toolbar_ind][1];\n",
       "        var image = mpl.toolbar_items[toolbar_ind][2];\n",
       "        var method_name = mpl.toolbar_items[toolbar_ind][3];\n",
       "\n",
       "        if (!name) {\n",
       "            // put a spacer in here.\n",
       "            continue;\n",
       "        }\n",
       "        var button = $('<button/>');\n",
       "        button.addClass('ui-button ui-widget ui-state-default ui-corner-all ' +\n",
       "                        'ui-button-icon-only');\n",
       "        button.attr('role', 'button');\n",
       "        button.attr('aria-disabled', 'false');\n",
       "        button.click(method_name, toolbar_event);\n",
       "        button.mouseover(tooltip, toolbar_mouse_event);\n",
       "\n",
       "        var icon_img = $('<span/>');\n",
       "        icon_img.addClass('ui-button-icon-primary ui-icon');\n",
       "        icon_img.addClass(image);\n",
       "        icon_img.addClass('ui-corner-all');\n",
       "\n",
       "        var tooltip_span = $('<span/>');\n",
       "        tooltip_span.addClass('ui-button-text');\n",
       "        tooltip_span.html(tooltip);\n",
       "\n",
       "        button.append(icon_img);\n",
       "        button.append(tooltip_span);\n",
       "\n",
       "        nav_element.append(button);\n",
       "    }\n",
       "\n",
       "    var fmt_picker_span = $('<span/>');\n",
       "\n",
       "    var fmt_picker = $('<select/>');\n",
       "    fmt_picker.addClass('mpl-toolbar-option ui-widget ui-widget-content');\n",
       "    fmt_picker_span.append(fmt_picker);\n",
       "    nav_element.append(fmt_picker_span);\n",
       "    this.format_dropdown = fmt_picker[0];\n",
       "\n",
       "    for (var ind in mpl.extensions) {\n",
       "        var fmt = mpl.extensions[ind];\n",
       "        var option = $(\n",
       "            '<option/>', {selected: fmt === mpl.default_extension}).html(fmt);\n",
       "        fmt_picker.append(option)\n",
       "    }\n",
       "\n",
       "    // Add hover states to the ui-buttons\n",
       "    $( \".ui-button\" ).hover(\n",
       "        function() { $(this).addClass(\"ui-state-hover\");},\n",
       "        function() { $(this).removeClass(\"ui-state-hover\");}\n",
       "    );\n",
       "\n",
       "    var status_bar = $('<span class=\"mpl-message\"/>');\n",
       "    nav_element.append(status_bar);\n",
       "    this.message = status_bar[0];\n",
       "}\n",
       "\n",
       "mpl.figure.prototype.request_resize = function(x_pixels, y_pixels) {\n",
       "    // Request matplotlib to resize the figure. Matplotlib will then trigger a resize in the client,\n",
       "    // which will in turn request a refresh of the image.\n",
       "    this.send_message('resize', {'width': x_pixels, 'height': y_pixels});\n",
       "}\n",
       "\n",
       "mpl.figure.prototype.send_message = function(type, properties) {\n",
       "    properties['type'] = type;\n",
       "    properties['figure_id'] = this.id;\n",
       "    this.ws.send(JSON.stringify(properties));\n",
       "}\n",
       "\n",
       "mpl.figure.prototype.send_draw_message = function() {\n",
       "    if (!this.waiting) {\n",
       "        this.waiting = true;\n",
       "        this.ws.send(JSON.stringify({type: \"draw\", figure_id: this.id}));\n",
       "    }\n",
       "}\n",
       "\n",
       "\n",
       "mpl.figure.prototype.handle_save = function(fig, msg) {\n",
       "    var format_dropdown = fig.format_dropdown;\n",
       "    var format = format_dropdown.options[format_dropdown.selectedIndex].value;\n",
       "    fig.ondownload(fig, format);\n",
       "}\n",
       "\n",
       "\n",
       "mpl.figure.prototype.handle_resize = function(fig, msg) {\n",
       "    var size = msg['size'];\n",
       "    if (size[0] != fig.canvas.width || size[1] != fig.canvas.height) {\n",
       "        fig._resize_canvas(size[0], size[1]);\n",
       "        fig.send_message(\"refresh\", {});\n",
       "    };\n",
       "}\n",
       "\n",
       "mpl.figure.prototype.handle_rubberband = function(fig, msg) {\n",
       "    var x0 = msg['x0'] / mpl.ratio;\n",
       "    var y0 = (fig.canvas.height - msg['y0']) / mpl.ratio;\n",
       "    var x1 = msg['x1'] / mpl.ratio;\n",
       "    var y1 = (fig.canvas.height - msg['y1']) / mpl.ratio;\n",
       "    x0 = Math.floor(x0) + 0.5;\n",
       "    y0 = Math.floor(y0) + 0.5;\n",
       "    x1 = Math.floor(x1) + 0.5;\n",
       "    y1 = Math.floor(y1) + 0.5;\n",
       "    var min_x = Math.min(x0, x1);\n",
       "    var min_y = Math.min(y0, y1);\n",
       "    var width = Math.abs(x1 - x0);\n",
       "    var height = Math.abs(y1 - y0);\n",
       "\n",
       "    fig.rubberband_context.clearRect(\n",
       "        0, 0, fig.canvas.width, fig.canvas.height);\n",
       "\n",
       "    fig.rubberband_context.strokeRect(min_x, min_y, width, height);\n",
       "}\n",
       "\n",
       "mpl.figure.prototype.handle_figure_label = function(fig, msg) {\n",
       "    // Updates the figure title.\n",
       "    fig.header.textContent = msg['label'];\n",
       "}\n",
       "\n",
       "mpl.figure.prototype.handle_cursor = function(fig, msg) {\n",
       "    var cursor = msg['cursor'];\n",
       "    switch(cursor)\n",
       "    {\n",
       "    case 0:\n",
       "        cursor = 'pointer';\n",
       "        break;\n",
       "    case 1:\n",
       "        cursor = 'default';\n",
       "        break;\n",
       "    case 2:\n",
       "        cursor = 'crosshair';\n",
       "        break;\n",
       "    case 3:\n",
       "        cursor = 'move';\n",
       "        break;\n",
       "    }\n",
       "    fig.rubberband_canvas.style.cursor = cursor;\n",
       "}\n",
       "\n",
       "mpl.figure.prototype.handle_message = function(fig, msg) {\n",
       "    fig.message.textContent = msg['message'];\n",
       "}\n",
       "\n",
       "mpl.figure.prototype.handle_draw = function(fig, msg) {\n",
       "    // Request the server to send over a new figure.\n",
       "    fig.send_draw_message();\n",
       "}\n",
       "\n",
       "mpl.figure.prototype.handle_image_mode = function(fig, msg) {\n",
       "    fig.image_mode = msg['mode'];\n",
       "}\n",
       "\n",
       "mpl.figure.prototype.updated_canvas_event = function() {\n",
       "    // Called whenever the canvas gets updated.\n",
       "    this.send_message(\"ack\", {});\n",
       "}\n",
       "\n",
       "// A function to construct a web socket function for onmessage handling.\n",
       "// Called in the figure constructor.\n",
       "mpl.figure.prototype._make_on_message_function = function(fig) {\n",
       "    return function socket_on_message(evt) {\n",
       "        if (evt.data instanceof Blob) {\n",
       "            /* FIXME: We get \"Resource interpreted as Image but\n",
       "             * transferred with MIME type text/plain:\" errors on\n",
       "             * Chrome.  But how to set the MIME type?  It doesn't seem\n",
       "             * to be part of the websocket stream */\n",
       "            evt.data.type = \"image/png\";\n",
       "\n",
       "            /* Free the memory for the previous frames */\n",
       "            if (fig.imageObj.src) {\n",
       "                (window.URL || window.webkitURL).revokeObjectURL(\n",
       "                    fig.imageObj.src);\n",
       "            }\n",
       "\n",
       "            fig.imageObj.src = (window.URL || window.webkitURL).createObjectURL(\n",
       "                evt.data);\n",
       "            fig.updated_canvas_event();\n",
       "            fig.waiting = false;\n",
       "            return;\n",
       "        }\n",
       "        else if (typeof evt.data === 'string' && evt.data.slice(0, 21) == \"data:image/png;base64\") {\n",
       "            fig.imageObj.src = evt.data;\n",
       "            fig.updated_canvas_event();\n",
       "            fig.waiting = false;\n",
       "            return;\n",
       "        }\n",
       "\n",
       "        var msg = JSON.parse(evt.data);\n",
       "        var msg_type = msg['type'];\n",
       "\n",
       "        // Call the  \"handle_{type}\" callback, which takes\n",
       "        // the figure and JSON message as its only arguments.\n",
       "        try {\n",
       "            var callback = fig[\"handle_\" + msg_type];\n",
       "        } catch (e) {\n",
       "            console.log(\"No handler for the '\" + msg_type + \"' message type: \", msg);\n",
       "            return;\n",
       "        }\n",
       "\n",
       "        if (callback) {\n",
       "            try {\n",
       "                // console.log(\"Handling '\" + msg_type + \"' message: \", msg);\n",
       "                callback(fig, msg);\n",
       "            } catch (e) {\n",
       "                console.log(\"Exception inside the 'handler_\" + msg_type + \"' callback:\", e, e.stack, msg);\n",
       "            }\n",
       "        }\n",
       "    };\n",
       "}\n",
       "\n",
       "// from http://stackoverflow.com/questions/1114465/getting-mouse-location-in-canvas\n",
       "mpl.findpos = function(e) {\n",
       "    //this section is from http://www.quirksmode.org/js/events_properties.html\n",
       "    var targ;\n",
       "    if (!e)\n",
       "        e = window.event;\n",
       "    if (e.target)\n",
       "        targ = e.target;\n",
       "    else if (e.srcElement)\n",
       "        targ = e.srcElement;\n",
       "    if (targ.nodeType == 3) // defeat Safari bug\n",
       "        targ = targ.parentNode;\n",
       "\n",
       "    // jQuery normalizes the pageX and pageY\n",
       "    // pageX,Y are the mouse positions relative to the document\n",
       "    // offset() returns the position of the element relative to the document\n",
       "    var x = e.pageX - $(targ).offset().left;\n",
       "    var y = e.pageY - $(targ).offset().top;\n",
       "\n",
       "    return {\"x\": x, \"y\": y};\n",
       "};\n",
       "\n",
       "/*\n",
       " * return a copy of an object with only non-object keys\n",
       " * we need this to avoid circular references\n",
       " * http://stackoverflow.com/a/24161582/3208463\n",
       " */\n",
       "function simpleKeys (original) {\n",
       "  return Object.keys(original).reduce(function (obj, key) {\n",
       "    if (typeof original[key] !== 'object')\n",
       "        obj[key] = original[key]\n",
       "    return obj;\n",
       "  }, {});\n",
       "}\n",
       "\n",
       "mpl.figure.prototype.mouse_event = function(event, name) {\n",
       "    var canvas_pos = mpl.findpos(event)\n",
       "\n",
       "    if (name === 'button_press')\n",
       "    {\n",
       "        this.canvas.focus();\n",
       "        this.canvas_div.focus();\n",
       "    }\n",
       "\n",
       "    var x = canvas_pos.x * mpl.ratio;\n",
       "    var y = canvas_pos.y * mpl.ratio;\n",
       "\n",
       "    this.send_message(name, {x: x, y: y, button: event.button,\n",
       "                             step: event.step,\n",
       "                             guiEvent: simpleKeys(event)});\n",
       "\n",
       "    /* This prevents the web browser from automatically changing to\n",
       "     * the text insertion cursor when the button is pressed.  We want\n",
       "     * to control all of the cursor setting manually through the\n",
       "     * 'cursor' event from matplotlib */\n",
       "    event.preventDefault();\n",
       "    return false;\n",
       "}\n",
       "\n",
       "mpl.figure.prototype._key_event_extra = function(event, name) {\n",
       "    // Handle any extra behaviour associated with a key event\n",
       "}\n",
       "\n",
       "mpl.figure.prototype.key_event = function(event, name) {\n",
       "\n",
       "    // Prevent repeat events\n",
       "    if (name == 'key_press')\n",
       "    {\n",
       "        if (event.which === this._key)\n",
       "            return;\n",
       "        else\n",
       "            this._key = event.which;\n",
       "    }\n",
       "    if (name == 'key_release')\n",
       "        this._key = null;\n",
       "\n",
       "    var value = '';\n",
       "    if (event.ctrlKey && event.which != 17)\n",
       "        value += \"ctrl+\";\n",
       "    if (event.altKey && event.which != 18)\n",
       "        value += \"alt+\";\n",
       "    if (event.shiftKey && event.which != 16)\n",
       "        value += \"shift+\";\n",
       "\n",
       "    value += 'k';\n",
       "    value += event.which.toString();\n",
       "\n",
       "    this._key_event_extra(event, name);\n",
       "\n",
       "    this.send_message(name, {key: value,\n",
       "                             guiEvent: simpleKeys(event)});\n",
       "    return false;\n",
       "}\n",
       "\n",
       "mpl.figure.prototype.toolbar_button_onclick = function(name) {\n",
       "    if (name == 'download') {\n",
       "        this.handle_save(this, null);\n",
       "    } else {\n",
       "        this.send_message(\"toolbar_button\", {name: name});\n",
       "    }\n",
       "};\n",
       "\n",
       "mpl.figure.prototype.toolbar_button_onmouseover = function(tooltip) {\n",
       "    this.message.textContent = tooltip;\n",
       "};\n",
       "mpl.toolbar_items = [[\"Home\", \"Reset original view\", \"fa fa-home icon-home\", \"home\"], [\"Back\", \"Back to previous view\", \"fa fa-arrow-left icon-arrow-left\", \"back\"], [\"Forward\", \"Forward to next view\", \"fa fa-arrow-right icon-arrow-right\", \"forward\"], [\"\", \"\", \"\", \"\"], [\"Pan\", \"Pan axes with left mouse, zoom with right\", \"fa fa-arrows icon-move\", \"pan\"], [\"Zoom\", \"Zoom to rectangle\", \"fa fa-square-o icon-check-empty\", \"zoom\"], [\"\", \"\", \"\", \"\"], [\"Download\", \"Download plot\", \"fa fa-floppy-o icon-save\", \"download\"]];\n",
       "\n",
       "mpl.extensions = [\"eps\", \"jpeg\", \"pdf\", \"png\", \"ps\", \"raw\", \"svg\", \"tif\"];\n",
       "\n",
       "mpl.default_extension = \"png\";var comm_websocket_adapter = function(comm) {\n",
       "    // Create a \"websocket\"-like object which calls the given IPython comm\n",
       "    // object with the appropriate methods. Currently this is a non binary\n",
       "    // socket, so there is still some room for performance tuning.\n",
       "    var ws = {};\n",
       "\n",
       "    ws.close = function() {\n",
       "        comm.close()\n",
       "    };\n",
       "    ws.send = function(m) {\n",
       "        //console.log('sending', m);\n",
       "        comm.send(m);\n",
       "    };\n",
       "    // Register the callback with on_msg.\n",
       "    comm.on_msg(function(msg) {\n",
       "        //console.log('receiving', msg['content']['data'], msg);\n",
       "        // Pass the mpl event to the overridden (by mpl) onmessage function.\n",
       "        ws.onmessage(msg['content']['data'])\n",
       "    });\n",
       "    return ws;\n",
       "}\n",
       "\n",
       "mpl.mpl_figure_comm = function(comm, msg) {\n",
       "    // This is the function which gets called when the mpl process\n",
       "    // starts-up an IPython Comm through the \"matplotlib\" channel.\n",
       "\n",
       "    var id = msg.content.data.id;\n",
       "    // Get hold of the div created by the display call when the Comm\n",
       "    // socket was opened in Python.\n",
       "    var element = $(\"#\" + id);\n",
       "    var ws_proxy = comm_websocket_adapter(comm)\n",
       "\n",
       "    function ondownload(figure, format) {\n",
       "        window.open(figure.imageObj.src);\n",
       "    }\n",
       "\n",
       "    var fig = new mpl.figure(id, ws_proxy,\n",
       "                           ondownload,\n",
       "                           element.get(0));\n",
       "\n",
       "    // Call onopen now - mpl needs it, as it is assuming we've passed it a real\n",
       "    // web socket which is closed, not our websocket->open comm proxy.\n",
       "    ws_proxy.onopen();\n",
       "\n",
       "    fig.parent_element = element.get(0);\n",
       "    fig.cell_info = mpl.find_output_cell(\"<div id='\" + id + \"'></div>\");\n",
       "    if (!fig.cell_info) {\n",
       "        console.error(\"Failed to find cell for figure\", id, fig);\n",
       "        return;\n",
       "    }\n",
       "\n",
       "    var output_index = fig.cell_info[2]\n",
       "    var cell = fig.cell_info[0];\n",
       "\n",
       "};\n",
       "\n",
       "mpl.figure.prototype.handle_close = function(fig, msg) {\n",
       "    var width = fig.canvas.width/mpl.ratio\n",
       "    fig.root.unbind('remove')\n",
       "\n",
       "    // Update the output cell to use the data from the current canvas.\n",
       "    fig.push_to_output();\n",
       "    var dataURL = fig.canvas.toDataURL();\n",
       "    // Re-enable the keyboard manager in IPython - without this line, in FF,\n",
       "    // the notebook keyboard shortcuts fail.\n",
       "    IPython.keyboard_manager.enable()\n",
       "    $(fig.parent_element).html('<img src=\"' + dataURL + '\" width=\"' + width + '\">');\n",
       "    fig.close_ws(fig, msg);\n",
       "}\n",
       "\n",
       "mpl.figure.prototype.close_ws = function(fig, msg){\n",
       "    fig.send_message('closing', msg);\n",
       "    // fig.ws.close()\n",
       "}\n",
       "\n",
       "mpl.figure.prototype.push_to_output = function(remove_interactive) {\n",
       "    // Turn the data on the canvas into data in the output cell.\n",
       "    var width = this.canvas.width/mpl.ratio\n",
       "    var dataURL = this.canvas.toDataURL();\n",
       "    this.cell_info[1]['text/html'] = '<img src=\"' + dataURL + '\" width=\"' + width + '\">';\n",
       "}\n",
       "\n",
       "mpl.figure.prototype.updated_canvas_event = function() {\n",
       "    // Tell IPython that the notebook contents must change.\n",
       "    IPython.notebook.set_dirty(true);\n",
       "    this.send_message(\"ack\", {});\n",
       "    var fig = this;\n",
       "    // Wait a second, then push the new image to the DOM so\n",
       "    // that it is saved nicely (might be nice to debounce this).\n",
       "    setTimeout(function () { fig.push_to_output() }, 1000);\n",
       "}\n",
       "\n",
       "mpl.figure.prototype._init_toolbar = function() {\n",
       "    var fig = this;\n",
       "\n",
       "    var nav_element = $('<div/>')\n",
       "    nav_element.attr('style', 'width: 100%');\n",
       "    this.root.append(nav_element);\n",
       "\n",
       "    // Define a callback function for later on.\n",
       "    function toolbar_event(event) {\n",
       "        return fig.toolbar_button_onclick(event['data']);\n",
       "    }\n",
       "    function toolbar_mouse_event(event) {\n",
       "        return fig.toolbar_button_onmouseover(event['data']);\n",
       "    }\n",
       "\n",
       "    for(var toolbar_ind in mpl.toolbar_items){\n",
       "        var name = mpl.toolbar_items[toolbar_ind][0];\n",
       "        var tooltip = mpl.toolbar_items[toolbar_ind][1];\n",
       "        var image = mpl.toolbar_items[toolbar_ind][2];\n",
       "        var method_name = mpl.toolbar_items[toolbar_ind][3];\n",
       "\n",
       "        if (!name) { continue; };\n",
       "\n",
       "        var button = $('<button class=\"btn btn-default\" href=\"#\" title=\"' + name + '\"><i class=\"fa ' + image + ' fa-lg\"></i></button>');\n",
       "        button.click(method_name, toolbar_event);\n",
       "        button.mouseover(tooltip, toolbar_mouse_event);\n",
       "        nav_element.append(button);\n",
       "    }\n",
       "\n",
       "    // Add the status bar.\n",
       "    var status_bar = $('<span class=\"mpl-message\" style=\"text-align:right; float: right;\"/>');\n",
       "    nav_element.append(status_bar);\n",
       "    this.message = status_bar[0];\n",
       "\n",
       "    // Add the close button to the window.\n",
       "    var buttongrp = $('<div class=\"btn-group inline pull-right\"></div>');\n",
       "    var button = $('<button class=\"btn btn-mini btn-primary\" href=\"#\" title=\"Stop Interaction\"><i class=\"fa fa-power-off icon-remove icon-large\"></i></button>');\n",
       "    button.click(function (evt) { fig.handle_close(fig, {}); } );\n",
       "    button.mouseover('Stop Interaction', toolbar_mouse_event);\n",
       "    buttongrp.append(button);\n",
       "    var titlebar = this.root.find($('.ui-dialog-titlebar'));\n",
       "    titlebar.prepend(buttongrp);\n",
       "}\n",
       "\n",
       "mpl.figure.prototype._root_extra_style = function(el){\n",
       "    var fig = this\n",
       "    el.on(\"remove\", function(){\n",
       "\tfig.close_ws(fig, {});\n",
       "    });\n",
       "}\n",
       "\n",
       "mpl.figure.prototype._canvas_extra_style = function(el){\n",
       "    // this is important to make the div 'focusable\n",
       "    el.attr('tabindex', 0)\n",
       "    // reach out to IPython and tell the keyboard manager to turn it's self\n",
       "    // off when our div gets focus\n",
       "\n",
       "    // location in version 3\n",
       "    if (IPython.notebook.keyboard_manager) {\n",
       "        IPython.notebook.keyboard_manager.register_events(el);\n",
       "    }\n",
       "    else {\n",
       "        // location in version 2\n",
       "        IPython.keyboard_manager.register_events(el);\n",
       "    }\n",
       "\n",
       "}\n",
       "\n",
       "mpl.figure.prototype._key_event_extra = function(event, name) {\n",
       "    var manager = IPython.notebook.keyboard_manager;\n",
       "    if (!manager)\n",
       "        manager = IPython.keyboard_manager;\n",
       "\n",
       "    // Check for shift+enter\n",
       "    if (event.shiftKey && event.which == 13) {\n",
       "        this.canvas_div.blur();\n",
       "        event.shiftKey = false;\n",
       "        // Send a \"J\" for go to next cell\n",
       "        event.which = 74;\n",
       "        event.keyCode = 74;\n",
       "        manager.command_mode();\n",
       "        manager.handle_keydown(event);\n",
       "    }\n",
       "}\n",
       "\n",
       "mpl.figure.prototype.handle_save = function(fig, msg) {\n",
       "    fig.ondownload(fig, null);\n",
       "}\n",
       "\n",
       "\n",
       "mpl.find_output_cell = function(html_output) {\n",
       "    // Return the cell and output element which can be found *uniquely* in the notebook.\n",
       "    // Note - this is a bit hacky, but it is done because the \"notebook_saving.Notebook\"\n",
       "    // IPython event is triggered only after the cells have been serialised, which for\n",
       "    // our purposes (turning an active figure into a static one), is too late.\n",
       "    var cells = IPython.notebook.get_cells();\n",
       "    var ncells = cells.length;\n",
       "    for (var i=0; i<ncells; i++) {\n",
       "        var cell = cells[i];\n",
       "        if (cell.cell_type === 'code'){\n",
       "            for (var j=0; j<cell.output_area.outputs.length; j++) {\n",
       "                var data = cell.output_area.outputs[j];\n",
       "                if (data.data) {\n",
       "                    // IPython >= 3 moved mimebundle to data attribute of output\n",
       "                    data = data.data;\n",
       "                }\n",
       "                if (data['text/html'] == html_output) {\n",
       "                    return [cell, data, j];\n",
       "                }\n",
       "            }\n",
       "        }\n",
       "    }\n",
       "}\n",
       "\n",
       "// Register the function which deals with the matplotlib target/channel.\n",
       "// The kernel may be null if the page has been refreshed.\n",
       "if (IPython.notebook.kernel != null) {\n",
       "    IPython.notebook.kernel.comm_manager.register_target('matplotlib', mpl.mpl_figure_comm);\n",
       "}\n"
      ],
      "text/plain": [
       "<IPython.core.display.Javascript object>"
      ]
     },
     "metadata": {},
     "output_type": "display_data"
    },
    {
     "data": {
      "text/html": [
       "<img src=\"data:image/png;base64,iVBORw0KGgoAAAANSUhEUgAAA+gAAAPoCAYAAABNo9TkAAAgAElEQVR4Xuy9CdhXxZXnf4QWA2lxQxgRF2LUDDhxiQ0aM9MxCo62jUbjRrpdwqhRMoi7kLhNq+iAS0fBZdotGtSkp43giIhtlLQL7sbOuMYRxCUGQVsFtYP8n1P//N68vCzvvb9Tdavurc99njxt89Y9VfU5p5bvr+pWrbNixYoVwgMBCEAAAhCAAAQgAAEIQAACEIBAVALrINCj8idzCEAAAhCAAAQgAAEIQAACEICAI4BAJxAgAAEIQAACEIAABCAAAQhAAAIJEECgJ+AEigABCEAAAhCAAAQgAAEIQAACEECgEwMQgAAEIAABCEAAAhCAAAQgAIEECCDQE3ACRYAABCAAAQhAAAIQgAAEIAABCCDQiQEIQAACEIAABCAAAQhAAAIQgEACBBDoCTiBIkAAAhCAAAQgAAEIQAACEIAABBDoxAAEIAABCEAAAhCAAAQgAAEIQCABAgj0BJxAESAAAQhAAAIQgAAEIAABCEAAAgh0YgACEIAABCAAAQhAAAIQgAAEIJAAAQR6Ak6gCBCAAAQgAAEIQAACEIAABCAAAQQ6MQABCEAAAhCAAAQgAAEIQAACEEiAAAI9ASdQBAhAAAIQgAAEIAABCEAAAhCAAAKdGIAABCAAAQhAAAIQgAAEIAABCCRAAIGegBMoAgQgAAEIQAACEIAABCAAAQhAAIFODEAAAhCAAAQgAAEIQAACEIAABBIggEBPwAkUAQIQgAAEIAABCEAAAhCAAAQggEAnBiAAAQhAAAIQgAAEIAABCEAAAgkQQKAn4ASKAAEIQAACEIAABCAAAQhAAAIQQKATAxCAAAQgAAEIQAACEIAABCAAgQQIINATcAJFgAAEIAABCEAAAhCAAAQgAAEIINCJAQhAAAIQgAAEIAABCEAAAhCAQAIEEOgJOIEiQAACEIAABCAAAQhAAAIQgAAEEOjEAAQgAAEIQAACEIAABCAAAQhAIAECCPQEnEARIAABCEAAAhCAAAQgAAEIQAACCHRiAAIQgAAEIAABCEAAAhCAAAQgkAABBHoCTqAIEIAABCAAAQhAAAIQgAAEIAABBDoxAAEIQAACEIAABCAAAQhAAAIQSIAAAj0BJ1AECEAAAhCAAAQgAAEIQAACEIAAAp0YgAAEIAABCEAAAhCAAAQgAAEIJEAAgZ6AEygCBCAAAQhAAAIQgAAEIAABCEAAgU4MQAACEIAABCAAAQhAAAIQgAAEEiCAQE/ACRQBAhCAAAQgAAEIQAACEIAABCCAQCcGIAABCEAAAhCAAAQgAAEIQAACCRBAoCfgBIoAAQhAAAIQgAAEIAABCEAAAhBAoBMDEIAABCAAAQhAAAIQgAAEIACBBAgg0BNwAkWAAAQgAAEIQAACEIAABCAAAQgg0IkBCEAAAhCAAAQgAAEIQAACEIBAAgQQ6Ak4gSJAAAIQgAAEIAABCEAAAhCAAAQQ6MQABCAAAQhAAAIQgAAEIAABCEAgAQII9AScQBEgAAEIQAACEIAABCAAAQhAAAIIdGIAAhCAAAQgAAEIQAACEIAABCCQAAEEegJOoAgQgAAEIAABCEAAAhCAAAQgAAEEOjEAAQhAAAIQgAAEIAABCEAAAhBIgAACPQEnUAQIQAACEIAABCAAAQhAAAIQgAACnRiAAAQgAAEIQAACEIAABCAAAQgkQACBnoATKAIEIAABCEAAAhCAAAQgAAEIQACBTgxAAAIQgAAEIAABCEAAAhCAAAQSIIBAT8AJFAECEIAABCAAAQhAAAIQgAAEIIBAJwYgAAEIQAACEIAABCAAAQhAAAIJEECgJ+AEigABCEAAAhCAAAQgAAEIQAACEECgEwMQgAAEIAABCEAAAhCAAAQgAIEECCDQE3ACRYAABCAAAQhAAAIQgAAEIAABCCDQiQEIQAACEIAABCAAAQhAAAIQgEACBBDoCTiBIkAAAhCAAAQgAAEIQAACEIAABBDoxAAEIAABCEAAAhCAAAQgAAEIQCABAgj0BJxAESAAAQhAAAIQgAAEIAABCEAAAgh0YgACEIAABCAAAQhAAAIQgAAEIJAAAQR6Ak6gCBCAAAQgAAEIQAACEIAABCAAAQQ6MQABCEAAAhCAAAQgAAEIQAACEEiAAAI9ASdQBAhAAAIQgAAEIAABCEAAAhCAAAKdGIAABCAAAQhAAAIQgAAEIAABCCRAAIGegBMoAgQgAAEIQAACEIAABCAAAQhAAIFODEAAAhCAAAQgAAEIQAACEIAABBIggEBPwAkUAQIQgAAEIAABCEAAAhCAAAQggEAnBiAAAQhAAAIQgAAEIAABCEAAAgkQQKAn4ASKAAEIQAACEIAABCAAAQhAAAIQQKATAxCAAAQgAAEIQAACEIAABCAAgQQIINATcAJFgAAEIAABCEAAAhCAAAQgAAEIINCJAQhAAAIQgAAEIAABCEAAAhCAQAIEEOgJOIEiQAACEIAABCAAAQhAAAIQgAAEEOjEAAQgAAEIQAACEIAABCAAAQhAIAECCPQEnEARIAABCEAAAhCAAAQgAAEIQAACCHRiAAIQgAAEIAABCEAAAhCAAAQgkAABBHoCTqAIEIAABCAAAQhAAAIQgAAEIAABBDoxAAEIQAACEIAABCAAAQhAAAIQSIAAAj0BJ1AECEAAAhCAAAQgAAEIQAACEIAAAp0YgAAEIAABCEAAAhCAAAQgAAEIJEAAgZ6AEygCBCAAAQhAAAIQgAAEIAABCEAAgU4MQAACEIAABCAAAQhAAAIQgAAEEiCAQE/ACRQBAhCAAAQgAAEIQAACEIAABCCAQCcGIAABCEAAAhCAAAQgAAEIQAACCRBAoCfgBIoAAQhAAAIQgAAEIAABCEAAAhBAoBMDEIAABCAAAQhAAAIQgAAEIACBBAgg0BNwAkWAAAQgAAEIQAACEIAABCAAAQgg0IkBCEAAAhCAAAQgAAEIQAACEIBAAgQQ6Ak4gSJAAAIQgAAEIAABCEAAAhCAAAQQ6MQABCAAAQhAAAIQgAAEIAABCEAgAQII9AScQBEgAAEIQAACEIAABCAAAQhAAAIIdGIAAhCAAAQgAAEIQAACEIAABCCQAAEEegJOoAgQgAAEIAABCEAAAhCAAAQgAAEEOjEAAQhAAAIQgAAEIAABCEAAAhBIgAACPQEnUAQIQAACEIAABCAAAQhAAAIQgAACnRiAAAQgAAEIQAACEIAABCAAAQgkQACBnoATKAIEIAABCEAAAhCAAAQgAAEIQACBTgxAAAIQgAAEIAABCEAAAhCAAAQSIIBAT8AJFAECEIAABCAAAQhAAAIQgAAEIIBAJwYgAAEIQAACEIAABCAAAQhAAAIJEECgJ+AEigABCEAAAhCAAAQgAAEIQAACEECgEwMQgEAHgZtuukmOOeYYWW+99eSll16SrbbaaiU63/zmN2XRokXyr//6r5VTe/DBB2XPPfeUX/7yl6Ll8P289dZbct1118mBBx4oO+20k2/z2IMABCAAgQQI6Pjx0EMPyeDBg+W3v/2trLPOOiuVau7cufKXf/mX7t9uvPFGOfroo4OVetq0adKnT59V8miNdz//+c/lO9/5zlrz1/Jp+tdff71UOTW9Mpg8ebKcdtpppd4lMQQgEJYAAj0sX6xDoFYEWgJdC/03f/M3cssttyQj0P/t3/5N/u///b8yZMgQ6du3r3euTz75pPzFX/xF8AmZ94JjEAIQgAAEChNQgf7000/Lhx9+KPfff7/stddeK72rgvfOO+8UHXNCC/QddthB+vXr5wR25weBXtidJIRAIwkg0BvpVioFgfYItAT6f/2v/1Xuu+8+N4nZcccdO4z5XEFftmyZfOELX1hl9aK9ktvfQqDbGWIBAhCAQOoEWuPY+uuvL1/60pfkpz/9aUeRVbT/h//wH+S73/2u/K//9b8Q6Gtx5tKlS93qPw8EIOCfAALdP1MsQqC2BFoC/YEHHpDDDjtMdtllF7n33nvXKNB1a+DYsWPlP/2n/ySXXnqpzJ8/X7bZZhs555xz5PDDD+94r2V39uzZcvvtt8vMmTPdVvmWSP+Xf/kXOffcc+Xxxx+X5cuXuy3mP/zhD+Wv/uqvOmysaYu7Cuv/8T/+h6gNnTD8x//4H2XChAly6KGHruSHN998U84//3yZNWuW/O53v3OrFl//+tdl6tSp8sILL7jt810fLdN5551XW39ScAhAAAIpEnj11VflwgsvdP229s0bbbSRG28uuugiN57o8/vf/14233xzOfPMM+Xv/u7vVqrGiy++6Pr6v//7v5dx48a5v6mt008/XZ555hnZZJNN5Hvf+577TOvYY4+V//f//p9svfXWLl1LoJ900knu3bfffls23HBD9zcV5ePHj3djlK6sd11BLzJWdR5Hf/azn4luU1+xYoXbNn/VVVfJwIEDXV5aHh0zOz9aXt163hrvpk+f7j4p03J89NFHMmzYMDdmbb/99h2vdd3iruVWpjqudd6+r2XYdttt3bv/5//8H5dPa4t7jx495Morr3TMlf/ll18uu+2220p5/OM//qM8+uijcuqpp7r/q6v/+n+V99lnn+3G7w8++MCx33nnneXaa6+VQYMGpRh+lAkCyRNAoCfvIgoIgeoItCYWTzzxhDzyyCOiE5h//ud/lm9961srTWxa36Dr4L/FFluIrkToAP3FL35R9Js6FfWdv51r2dXJlorub3/72/Lxxx+77711wjNixAj56le/KmeccYb7/l1tzJkzR2677Tb3Q4E+qxPo+j26rvYPHz5cfvCDH8gGG2zgfgDQ/DpPrHSyotvX//3f/10mTpzo8nrvvfdEfzDQCZ1OmP7pn/7JfX//ox/9qOOHAZ1cMMGoLv7ICQIQyIOAfuc9Y8YM2X333WXTTTeVxYsXy8033+z6ZBV8LQF60EEHif4Iq2JSRWTrUdF+xRVXiJ4dooLw17/+tRsHtttuO9fH68ruNddc4z6L0ndXJ9BVXG622WbuG+wTTjjBmVZRqnn/9//+31f55Em/Wy8yVrXGO12d1/Fu//33lzfeeMONNfrjs/4Aro/WU78v13FLxzx9dPxTcdsa71TE77HHHjJ69Gi35V7rrWlUfPfs2dO901WgK9cDDjjAjaF77713B7N77rnHlUfF+X777dch0DWPr3zlK/L973/fpdWxfOHChY6Zlq2Vh/5YoGP48ccf734o+MMf/uDKpj8qqNDX8XvAgAHyzjvvuLNi9McP/RGFBwIQKE8AgV6eGW9AoLEEOgt0FbE6uG688cbul3EV4123uOu/9e7d2w3kOjDroyvg+su6Dt6vvPKK+7eW3SOPPNJNwjo/OkF77bXX3GE9f/7nf95hQycy77//vixYsMDlvTqBruXT/LV8f/Znf9Zh9q//+q/lqaeecpMMndSNGTPGfU//3HPPrXHCwBb3xoY1FYMABBInoOPG559/LkOHDnWC9rLLLnMl1pXsUaNGuU+uVBy3xpgtt9zSiXtd1dVHd0ypAFUxrruj9FF7uhqsIn11Al1/aFZx+5vf/Eb0R2lNp/nrWKM/Nnc9k6ToWNUa70488US32t169IcAFbG6Yq/b6PXp7ht0FdIqqFuP/vCtddUfF1or3F0FutZbV8q17r/4xS863lVbL7/8shuXdUxtraBrOv2xoCX4lYUKcP2BvLUTTvPQsfuGG25wP2S3Hh1nd911V5eP/ijAAwEI+CGAQPfDESsQaASBzgJdB10doPWXe12V1pXs1Ql0nUzpJKrzo9vCdTu5rhroCnTL7l133eUmW61HV9F19V1XLzpPZPTv//N//k+3WqArBfrrfleBrlskdRIyZcoUt9Lf+dFtijo50gmXinhdIddJiK7OrOlBoDcihKkEBCBQAwL6A6728bfeeqtoX667m1qP7orST5H00XS6S0s/QdIVXH26rgTrv+kPxLqCrqvHnR8dh3Q8WpNAb53YrivwOk7pGKUCVoVnZ4FeZqxqjXe6k2yfffbpKI6OP1q3xx57zJVVn+4Euu4C0BXr1qO3q+h42BqT9d9Xd4q7blHXFXv98Vt/zNAfwFvj5SmnnOLMtQT6WWedJZMmTerI49NPP3Xnw1x88cVuDG7loQJdt7B3PqRV/39dPe/fv7/7NOC//Jf/4g5y5YEABGwEEOg2frwNgUYR6CrQ9Zs1Feo6CKtQ1hWMztes6a/w/+2//Tf33V7nRycVKrqfffZZd8hcy66udOukp/XoCrdOvvT7Qt1a3vnRidvf/u3fui3wuo2uq0B/+OGH5Rvf+MZa+evk6z//5/8s6667rujq/fXXX7/G9Aj0RoUylYEABBImoNuf9UdZFYD6bbZ+g667nXQ80e/BO59qrqvO+n1061txXUHWcUF/AG6t+uoOKl3ZXdNYtCaBroh0W/zIkSNFvxdXkalb5LuOB2XGqq7jaMsNq9sF1p1A73rNWktUd/6Ea3UCXcds/XFct+rrd/0qyvWbcP3cq/W9/dquWdOxvfMZLJqHlkV/qOj6PP/88+48Ad3lsGTJEvfZgH73r2O6jr08EIBAeQII9PLMeAMCjSWwuomFXkOjwlwPt9EBuqtAL7OCrlvnVPC3Hh3s9dd4/fZtTSvoehiQfhPYdXLTWknQA+H0O8XVPfqertCzgt7YkKViEIBADQnop1O6JVqFZudHReWXv/zllQS6/jisq7JXX32128mlAlCFtK7wtp41raC3dnOtTaDr6rGKSRWlemibfmfdVaCXGatSEOjKRc9l0R8ddAzVw1v1e/fOP2CUFej6OYEeVLemR3/Qb+1E0PMBlKuuzvNAAALlCSDQyzPjDQg0lsCaJha6uqDfb+tq9yeffOJOldVnbd+g65ZF3bqoz5rs6t/0JHWdPOlWPP2eXB/9hk6/Qddf49f2DbqufOi2vc7f6K3OOa1v0PWX/s6n33ZOq3/T7+71sJ7WgUGNdTQVgwAEIBCRgB7sdsghh7iD3FqP9uP6g6+uqHe9F1y/t1YBqDuhVHi2frhtvdvuN+j6vh40p59E6edQra3eq9tRVXSsKiPQv/a1r7nzU+bNm7eSN9Z0D3rRFXQ1pt+b63Z4/TRND21r7WhrZeRboHeugO6I0B/29QcCHghAoDwBBHp5ZrwBgcYSWNPEQg+Q0YmETpD0EJ0ip7h3/kZubQK9dTKuXrFz2mmnSa9evZxI1u1yRU5x33fffd2ETrfg6cqHngasKy56h7uu+OvTOsVdDyLS7Yv6PboeQKffCOrWP53E6BVteriQluOCCy5wB9bpynvrSpzGOp2KQQACEKiYwFFHHSV33HGHWwXXH0b1m289RE1PKNfV3q4C/brrrnPfYusKu35TrZ84dX70B2QV8fqjrV7RqT/2qvjXA+B0VVz/p+/p0/UsldVVfXUCvehYVUag67ilY6V+362nvuu33zo++RDoWi89GE6/59fPwX71q1+tVFUfAv3uu+9247XeyKLl1zmC3oii7NVnutWdBwIQKE8AgV6eGW9AoLEE1iakv/vd77pDeroKdL0HXf9N70HX1W6dXOk1LXq4XOtZm11N07pbVlcRdPVcv1vXSZauprSe1oRF/68K8tajW+r0+zf9d11x15UZ3Q6pKyqdD9fRbwj1mzo9YEivWNOrfXTSot826gE3+uhESQ8V0gN1dAcA96A3NtSpGAQgEJGA/kCqP8jqAaO6bVp/GG1tNddidRXoesWYnny+bNkyt01bv1Xv+ug4ojZ1pVhXcPUME/3RVb9z1/xaV4a1K9CLjlVlBLr+cHDccce5U9k//PBDd2VZ53vQ2/0GvcVGhX/rR4DWlaWtv/kQ6PqpmY6Zer6M7kTQH9h1l5ruSNAfYXggAIH2CCDQ2+PGWxCAwB+3uKtA1+/TQz96uq7+Sq9b0fVgHR4IQAACEIDA2gjo51kqRHW7d47PwQcf7E6NVwYc2JZjBFDnuhJAoNfVc5QbAgkQ0G/QQwt0vfJFt+Zdcskl7jt4XaXXbYA8EIAABCAAgRYB/Vxp5513dmel6KdOP/3pT912a72943vf+142oHTM1E+8dFX75JNPdnfK66F6PBCAQH0IINDr4ytKCoHkCFQh0PWXf/2uULfN6URDD57hgQAEIAABCHQmcNJJJ7l70N955x13gKl+6qTC9G/+5m+yAtXauq43pOinZrrDrXUdXVYgqCwEakwAgV5j51F0CEAAAhCAAAQgAAEIQAACEGgOAQR6c3xJTSAAAQhAAAIQgAAEIAABCECgxgQQ6DV2HkWHAAQgAAEIQAACEIAABCAAgeYQQKA3x5fUBAIQgAAEIAABCEAAAhCAAARqTACBXmPntVN0vWNa76pcf/313SEqPBCAAAQgUJzAihUr3H3FAwcOlB49ehR/kZTBCDCuBUOLYQhAIAMCjGvpORmBnp5PgpZo4cKF7goSHghAAAIQaJ/AG2+8IYMGDWrfAG96I8C45g0lhiAAgYwJMK6l43wEejq+qKQkH3zwgWy44YaijVCv4Cjz/Pu//7vcd999MnLkSFl33XXLvFrrtDnWmzrnEd85+lk7I0u9/+3f/s39yPn+++/LBhtsUOu+rSmFt4xrqTOwxGrqdYtRPnj6ow7L5rBkXPPnS1+WEOi+SNbEjjZCnVTqhKYdgX7PPffIfvvtl51Az63eOvBS55o0akMxc/RzS6C3G9+WPtTgKl5dC4Em+yTXNhoq4OHpjywsm8OyyX2oPy9VawmBXi3v6LlZGmGunXGO9abO+aygtytUo3dmhgJY4tvShxqKzKsI9Kx+GA8V8Ja2H6pMdbULS3+ei82Scc2fL31ZQqD7IlkTO5ZGGLsDiYU4x3pTZwR6rPZWRb6W+Lb0oVXULcc8muwTS6zmGAvd1Rme3REq/ndYFmfVXcrYLJvch3bHPtW/I9A9eWbu3LkyefJkeeqpp+Ttt9+WO++8Uw488MCVrL/wwgty5plnykMPPSR66uzQoUPlZz/7mWy55ZYu3aeffiqnnXaa3HbbbbJs2TLZa6+9ZNq0aSsdRLRgwQIZO3asPPDAA9K7d28ZPXq0TJkyRXr16lWoJpZGGLsDKVTBAIlyrDd1RqAHaErJmLTEt6UPTQZAwwrSZJ9YYrVhbvZSHXh6weiMwLI5LJvch/rzUrWWEOieeM+aNUsefvhh2WWXXeTggw9eRaD/9re/lWHDhsmYMWPkiCOOcN+Bq2D/i7/4C+nfv78rxQknnCAzZ86Um266STbZZBM59dRTZfHixU709+zZU5YvXy477bSTbLrppnLppZfKe++9J0cddZQcdNBBcuWVVxaqiaUR5toZ51hv6oxAL9Sh1DSRJb4tfWhNcSVf7Cb7xBKryTsuQgHh6Q86LJvDssl9qD8vVWsJgR6At94v3nUF/fDDD3ffj91yyy2rzVEPbVPhrX8/7LDDXBq9r1xPC9ZvRPfZZx/RHwH2339/dwK73sGrz+233y5HH320vPvuu4UOfbM0wlw74xzrTZ0R6AG6xmRMWuLb0ocmA6BhBWmyTyyx2jA3e6kOPL1gZAXdH8YkWDa5D/XsqsrMIdADoO4q0HU7u66Yn3HGGfIv//Iv8swzz8jgwYNlwoQJHdvgdcu6bmnXFfONNtqoo1Q77rijS3P++efLOeecI3fddZc899xzHX9fsmSJbLzxxm7L+5577rlKbXTbvP6v9bSuUli0aFEhQd/ZoA5sc+bMkREjRmR1WE2O9abO+Qh02nQ5X2sf2q9fv7Zuwggw3GBSRJo8uURQ+g1xePrjCcvmsGxyH+rPS9VaQqAH4N1VoL/zzjuy2WabSZ8+feSCCy5wQvree++ViRMnyi9/+Uv5y7/8S5k+fbocc8wxK4lpLZreOa5i/tprr5XjjjtOXn/9dXcXeednvfXWc9videt81+e8885z4r7ro/lpeXggAAEIQKA4gaVLl7qzP9q5qrJ4LqQsQ6DJk0tEUJlI6D4tPLtnVDQFLIuS6j5dbJZN7kO7p59mCgR6AL90Fei6VX3zzTd3AlqFcesZNWqUfPGLX3SHwq1JoOtq9TbbbCPXXHONE+jz58+X2bNnr1RqPSDuJz/5ieg2+q4PK+h2B7OaXG6F0U48jgX8nIefNbosvmYFPU77XFuuTZ5cxp64p+dtW4ngaePX+W1YNodlk/tQf16q1hICPQDvrgL9s88+c0L83HPPlR/96EcdOeqJ7rrlXQ+XC7XFvWv1LI0w1844x3pT5zzEao5+bgn0du9/t/ShAYYbTLLFnRgoQSDXPq8EosJJYVkYVbcJY7NkXOvWRZUnQKAHQL66Q+K+/vWvu5XwzofEffvb33ZXpenqeeuQuFtvvVUOPfRQVyq9rm3QoEGrHBK3cOFCt2VenzvuuMOd5M4hcQEc+UeTsTvOcDVbs2XqjECPEXdV5WmJbyYyVXmpeD5N9oklVosTzCclPP35GpbNYdnkPtSfl6q1hED3xPujjz6SV1991Vnbeeed5bLLLnPfmusBbnrPuZ7qrqezT506teMb9PHjx8uDDz4o3/jGN9x7es3a3Xff7b4n1/f0TnS9Sq3rNWsDBgxwd67rgXJ6grseIsc1a54cuRozOQ5C1BmBHq5FxbdsiW8mMvH917UETfaJJVbT81T8EsHTnw9g2RyWTe5D/XmpWksIdE+8VWiv7hR1Xd1Wwa3PDTfcIJMmTRJdAd9+++3d4W0HHHBARwk++eQTOf30092K+rJly9yp7tOmTXNXrbWeBQsWyIknnui2xOvqux5WNGXKFNGD4oo8lkaYa2ecY72pMwK9SH9S1zSW+Lb0oXXllXq5m+wTS6ym7rcY5YOnP+qwbA7LJveh/rxUrSUEerW8o+dmaYS5dsY51ps6I9Cjd1YBC2CJb0sfGrBKUUz/4Q9/EL0p5Kc//am0bivRXV161kqPHj1cmVasWOF+jL7uuutErwUdPny420k2dOjQjjLrv48bN05mzJjh/k0PUNVdYRtuuGGhenrIoFQAACAASURBVDXZJ5ZYLQQvs0Tw9OdwWDaHZZP7UH9eqtYSAr1a3tFzszTCVmf8cf+vivToWXldRg/fsvI8NcMcByHqjECP0tgqytQS35Y+tKLqVZbNhRdeKJdffrncfPPNTnA/+eST7rpQvU70pJNOcuW45JJLRNPpTrLtttvO/W3u3Lny0ksvyfrrr+/S7Lvvvm5nmYp4ffTGkq233lpmzpxZqC5Wn0yft6BQPiESdTeuWWI1RHnrbhOe/jwIy+awtPah/khgqUUAgZ5ZLFgaIQJ9P1l3XYRbU5tMjpONHOts/dHN0oc2re3sv//+omeiXH/99R1VO/jgg6VPnz7uQFRdPR84cKDoeSt6a4k+evWnvqPC/fjjj5cXXnhBhgwZIo899phbXddH/3v33XeXF1980X0O1t1j9QkCvTvCzfl7rn1eCA/C0h/V2Cytfag/ElhCoGcaA5ZGiEBHoDe52cQeIGOwzbHOCHR/kXbxxRfLNddcI/fdd59bHX/uuedk5MiRcsUVV8gRRxwhr732mru95Omnn3aHp7YePXtFt6/ryruezXLKKafI+++/v1LB9O+6Oq8r8l0fFfn6v9aj45qe1bJo0SLp27dv6Qr+/MmFpd/x9cIhuw5aqylto3PmzJERI0Zk8wOxL7arswNPf3Rh2RyW2of269fP3SjVTh/qjwSWEOiZxgACvbzjcxQx1JmdEuVbSn3esMS3pQ+tD6FiJdUV8okTJ7rV8J49e8ry5cvddvYJEyY4A4888ojsscce8uabb7qV9NajW9jnz58vs2fPlosuushtf3/55ZdXylQFv4rzlq3Of9Tv3vW79q6PHrCqq/c8EIAABCBQnMDSpUvdodMI9OLMQqdki3towonZt0wuWUFnBT2xcPZaHIto81qQCo3lWGfFa6m3pQ+t0LWVZHX77be7m0f02k/9Bv3ZZ59129n1mlG9waQl0N966y3ZbLPNOsp07LHHyhtvvCH33nuvE+i6kq7fpHd+tt12WxkzZoycddZZq9SFFfRK3NvITFj19edWWDaHJSvo/nzpyxIC3RfJmtixTC4R6Aj0moR5W8W0iLa2MkzgpRzrjED3F3i6rVwF9NixYzuM6iFwt956q/t+PNQW9641sIxraotv0P3FROqWcu3zQvgFlv6oxmZp7UP9kcBSiwACPbNYsDRCBDoCvcnNJfYAGYNtjnVGoPuLtE022cSdyn7CCSd0GJ00aZLceOONbst665C4k08+Wc444wyX5rPPPpP+/fuvckjcvHnzZNiwYS6N/vduu+3GIXHG3R7+PN0cS7n2eSE8CEt/VGOztGgDfxSw1JkAAj2zeLA0QgQ6Ar3JzSX2ABmDbY51RqD7izS98/z++++Xa6+91m1xf+aZZ9wVad/73vecANdH/29LtOu2dd3S/uCDD65yzZpug1c7+qiNrbbaimvWEOj+gvWPlnLt87yDJDa9Io0dlxZt4BUExjoIINAzCwZLI0SgI9Cb3FxiD5Ax2OZYZwS6v0j78MMP5eyzz5Y777xT3n33XXcQnJ7efs4550ivXr1cRrqKrge6qfhesmSJu0pt6tSpssMOO3QUZPHixTJu3DiZMWOG+7dRo0bJVVdd5U56L/JYxjW1H3OLe7f1+3y5fPHdX8vH/b8q0qNnt8nLJOjuDvYytuqSNtc+L4R/YOmPamyW1j7UHwkstQgg0DOLBUsjRKAj0JvcXGIPkDHY5lhnBHqMSAubp2VcQ6CH9U1q1nPt80L4AZb+qMZmae1D/ZHAEgI90xiwNEIEOgK9yc0m9gAZg22OdUagx4i0sHlaxjUEeljfpGY91z4vhB9g6Y9qbJbWPtQfCSwh0DONAUsjRKAj0JvcbGIPkDHY5lhnBHqMSAubp2VcQ6CH9U1q1nPt80L4AZb+qMZmae1D/ZHAEgI90xiwNEIEOgK9yc0m9gAZg22OdUagx4i0sHlaxjUEeljfpGY91z4vhB9g6Y9qbJbWPtQfCSwh0DONAUsjRKAj0JvcbGIPkDHY5lhnBHqMSAubp2VcQ6CH9U1q1nPt80L4AZb+qMZmae1D/ZHAEgI90xiwNEIEOgK9yc0m9gAZg22OdUagx4i0sHlaxjUEeljfpGY91z4vhB9g6Y9qbJbWPtQfCSwh0DONAUsjRKAj0JvcbGIPkDHY5lhnBHqMSAubp2VcQ6CH9U1q1nPt80L4AZb+qMZmae1D/ZHAEgI90xiwNEIEOgK9yc0m9gAZg22OdUagx4i0sHlaxjUEeljfpGY91z4vhB9g6Y9qbJbWPtQfCSwh0DONAUsjRKAj0JvcbGIPkDHY5lhnBHqMSAubp2VcQ6CH9U1q1nPt80L4AZb+qMZmae1D/ZHAEgI90xiwNEIEOgK9yc0m9gAZg22OdUagx4i0sHlaxjUEeljfpGY91z4vhB9g6Y9qbJbWPtQfCSwh0DONAUsjRKAj0JvcbGIPkDHY5lhnBHqMSAubp2VcQ6CH9U1q1nPt80L4AZb+qMZmae1D/ZHAEgI90xiwNEIEOgK9yc0m9gAZg22OdUagx4i0sHlaxjUEeljfpGY91z4vhB9g6Y9qbJbWPtQfCSwh0DONAUsjRKAj0JvcbGIPkDHY5lhnBHqMSAubp2VcQ6CH9U1q1nPt80L4AZb+qMZmae1D/ZHAEgI90xiwNEIEOgK9yc0m9gAZg22OdUagx4i0sHlaxjUEeljfpGY91z4vhB9g6Y9qbJbWPtQfCSwh0DONAUsjRKAj0JvcbGIPkDHY5lhnBHqMSAubp2VcQ6CH9U1q1nPt80L4AZb+qMZmae1D/ZHAEgI90xiwNEIEOgK9yc0m9gAZg22OdUagx4i0sHlaxjUEeljfpGY91z4vhB9g6Y9qbJbWPtQfCSwh0DONAUsjRKAj0JvcbGIPkDHY5lhnBHqMSAubp2VcQ6CH9U1q1nPt80L4AZb+qMZmae1D/ZHAEgI90xiwNEIEOgK9yc0m9gAZg22OdUagx4i0sHlaxjUEeljfpGY91z4vhB9g6Y9qbJbWPtQfCSwh0DONAUsjRKAj0JvcbGIPkDHY5lhnBHqMSAubp2VcQ6CH9U1q1nPt80L4AZb+qMZmae1D/ZHAEgI90xiwNEIEOgK9yc0m9gAZg22OdUagx4i0sHlaxjUEeljfpGY91z4vhB9g6Y9qbJbWPtQfCSwh0D3HwNy5c2Xy5Mny1FNPydtvvy133nmnHHjggavN5fjjj5frrrtOLr/8chk/fnxHmiVLlsi4ceNkxowZ7t9GjRolV155pWy44YYdaZ5//nn5wQ9+II8//rhsvPHGorbOPvtsWWeddQrVyNIIEegI9EJBVtNEsQfIGNhyrDMCPUakhc3TMq4h0MP6JjXrufZ5IfwAS39UY7O09qH+SGAJge45BmbNmiUPP/yw7LLLLnLwwQevUaD/4he/kPPOO09+//vfy+mnn76SQN93331l4cKFTrzrc9xxx8nWW28tM2fOdP+/NqDttttO9txzT/nhD38oL7/8shx99NFy7rnnyqmnnlqoRpZGiEBHoBcKspomij1AxsCWY50R6DEiLWyelnENgR7WN6lZz7XPC+EHWPqjGpultQ/1RwJLCPSAMaCr2atbQX/zzTdl+PDhMnv2bPmrv/orJ85bK+gvvPCCDBkyRB577DGXRh/97913311efPFF2X777eXqq6+WCRMmyO9+9ztZb731XJqLL77YrbKrsC+yim5phAh0BHrAZhPddOwBMgaAHOuMQI8RaWHztIxrCPSwvknNeq59Xgg/wNIf1dgsrX2oPxJYQqAHjIHVCfTPP/9c9t57bznggAPkpJNOcivjnQX6DTfcIKeccoq8//77K5VMt7frVvhjjjlGjjzySPnggw/krrvu6kjzzDPPuFX71157TQYPHtxtrSyNEIGOQO82wGqcIPYAGQNdjnVGoMeItLB5WsY1BHpY36RmPdc+L4QfYOmPamyW1j7UHwksIdADxsDqBPqkSZPkl7/8pVs91793FegXXXSR3HTTTW7beudHt7SrONeV85EjR7r3WlvgNd1bb70lm2++uTzyyCNutb3r8+mnn4r+r/VoI9xiiy1k0aJF0rdv31IUtAOZM2eOfNxvqEiPnqXe9ZH4kF0H+TBT2kar3iNGjJB111239Pt1fIE64+c6xm3RMlviW/vQfv36uR9Ly/ahRctHunIErJPL6fMWlMuwytSfL5cvvvtr+bj/V72Pu6OHb1llTZLIK7YQSgKCp0LA0hNIEYnN0tqH+iOBJQR6wBjoKtD14Djd0v7000/LwIEDXc6rE+g333yzvPTSSyuVbNttt5UxY8bIWWed5QS6rpJfe+21HWl02/ygQYPk0Ucfld12222VWun37ueff/4q/z59+nTp06dPQAqYhgAEINA8AkuXLpXRo0cj0BNyrXVyiUBPyJmBixJbCAWuXqXmYekPd2yW1j7UHwksIdADxkBXgX7FFVe47es9evToyHX58uXu/9fV7Ndff11CbXFnBd3uaMtqmz33OBaoMyvocSKvmlwt8c0KejU+KpOLdXKJQC9Du95pYwuhetNbufSw9OfN2Cytfag/ElhCoAeMga4C/b333nNXr3V+9tlnH/nbv/1bt31dD4BrHRI3b948GTZsmEuq/62r4p0PiZs4caI7JK5Xr14uzSWXXCI//vGPOSQuoD9jd5wBq7ZG09Q5H4F+zz33yH775XO+gga9Jb6ZyMTokdaep9UnCPT0fBqqRJa2H6pMdbULS3+ei83S2of6I4ElBLrnGPjoo4/k1VdfdVZ33nlnueyyy9x1aHpX+ZZbrvqdV9ct7vqeXrOm35S3trDrNWtbbbVVxzVr+s2jivlvfetbokL9lVdecdesnXPOOVyz5tmfnc3F7jgDVg2B3okAfs7jRwkEeoweJWye1sklAj2sf1KynmM/H4o/LP2Rjc3S2of6I4ElBLrnGHjwwQedIO/6HHXUUe7wt67P6gT64sWLZdy4cTJjxgyXfNSoUXLVVVeJnuTeep5//nkZO3asPP7447LRRhvJ97//fSfQi1yxpjYsjbDVgYQ4rKaIO2IdaBO74yzCxnca6pyHWM3Rzwh0f72FjmPz589fxeCJJ54oU6dOdQeUnnbaaXLbbbfJsmXLZK+99pJp06a5c1Naz4IFC9yY9sADD0jv3r3d9/1Tpkzp2CVWpLSWcU3tI9CLUG5Gmlz7vBDeg6U/qrFZWvtQfySwhEDPNAYsjRCBns824NiDRYzmSZ3z+FECge6vdf3+978XPU+l9fzrv/6r6G0XemPJN7/5TTnhhBPcDjD9kXqTTTZxO730h2g9OLVnz57u3Z122kk23XRTufTSS0U/B9MftQ866CC58sorCxfUMq4h0AtjbkTCHPv5UI6DpT+ysVla+1B/JLCEQM80BiyNEIGOQG9ys4k9QMZgm2OdEejhIm38+PFy9913u8+vdKxR4X3LLbfIYYcd5jLVT7j0YFQ990DPYZk1a5bsv//+8sYbb3TccHL77be7T7fefffdwtfYWcY1BHq4eEjRcq59XghfwNIf1dgsrX2oPxJYQqBnGgOWRohAR6A3udnEHiBjsM2xzgj0MJH22WefOZGtN5boGSm6ZV23tOuKuX6O1Xp23HFHOfDAA931n/p51l133SXPPfdcx9+XLFnizm7R91f32djqSm8Z1xDoYeIhVau59nkh/AFLf1Rjs7T2of5IYAmBnmkMWBohAh2B3uRmE3uAjME2xzoj0MNE2s9+9jP3/bh+U65Cffr06e6WEv0OvfMzcuRIGTx4sDsMVQ9C1WtG77vvvpXSrLfeem5b/BFHHLHawvq8PlQz+PmTC8NA8WH18+XyxUW/kY/7DRXp0dOHxQ4bh+z6p7MAvBpO2Jj2eXPmzHGfYqy7bj6f9YRwCSz9UY3NkutD/fnSl6V1VqxYscKXMeykTwCBXt5HOYoY6pzHxC1HPyPQy/eBRd7QLet6/ad+c67PmgS6CqNtttlGrrnmGifQ9ZC52bNnr5SF2vnJT34ihx9++GqzPu+889wKfNdH8+zTp0+R4pIGAhCAAAT+SGDp0qXuB1a9Lapv375wSYAAAj0BJ1RZBAR6edo5ihjqjEAv31Lq84Ylvi19aH0IlSupiuwvfelL8k//9E9ywAEHuJdDbnFnBb2cf9aUmhX0PPp5P9GyqpXYq76h6hXDbmyWrKDH8Pra80Sgp+eToCWyTC7Z4s4W96DBGdm4RbRFLnrb2edYZ4VlqbelD23bUYm/qCvaumVdD3v7sz/7M1daXYnRQ+JuvfVWOfTQQ92/vf322+6Kta6HxC1cuFA222wzl+aOO+5wJ7lzSNwfna5b3N/9tYS43jTW1aUxw9nS9mOWO8W8YenPK7FZMq7586UvSwh0XyRrYsfSCBHoCPSahHlbxYw9QLZVaONLOdYZgW4Mmi6vf/755+6bcv1e/OKLL17pr3rNmp7qrt+T68Fveie6XqXW9Zq1AQMGyOTJk92BcnqCux4ixzVrCHS/kfr/W8u1z4NlCAL+bMaOS4s28EcBS50JINAziwdLI0SgI9Cb3FxiD5Ax2OZYZ+sk3dKHxvBx6Dz1gDf9/vyll16S7bbbbqXsPvnkEzn99NPd9+jLli1zp7pPmzbNXbXWevRQuRNPPNFtie/du7f7DnLKlCmiB8UVfaw+mT5vQdGsqk/HCrpX5rn2eV4h/tEYLP1Rjc3S2of6I4GlFgEEemaxYGmECHQEepObS+wBMgbbHOuMQI8RaWHztIxrWjIEelj/pGQ91z4vhA9g6Y9qbJbWPtQfCSwh0DONAUsjRKAj0JvcbGIPkDHY5lhnBHqMSAubp2VcQ6CH9U1q1nPt80L4AZb+qMZmae1D/ZHAEgI90xiwNEIEOgK9yc0m9gAZg22OdUagx4i0sHlaxjUEeljfpGY91z4vhB9g6Y9qbJbWPtQfCSwh0DONAUsjRKAj0JvcbGIPkDHY5lhnBHqMSAubp2VcQ6CH9U1q1nPt80L4AZb+qMZmae1D/ZHAEgI90xiwNEIEOgK9yc0m9gAZg22OdUagx4i0sHlaxjUEeljfpGY91z4vhB9g6Y9qbJbWPtQfCSwh0DONAUsjRKAj0JvcbGIPkDHY5lhnBHqMSAubp2VcQ6CH9U1q1nPt80L4AZb+qMZmae1D/ZHAEgI90xiwNEIEOgK9yc0m9gAZg22OdUagx4i0sHlaxjUEeljfpGY91z4vhB9g6Y9qbJbWPtQfCSwh0DONAUsjRKAj0JvcbGIPkDHY5lhnBHqMSAubp2VcQ6CH9U1q1nPt80L4AZb+qMZmae1D/ZHAEgI90xiwNEIEOgK9yc0m9gAZg22OdUagx4i0sHlaxjUEeljfpGY91z4vhB9g6Y9qbJbWPtQfCSwh0DONAUsjRKAj0JvcbGIPkDHY5lhnBHqMSAubp2VcQ6CH9U1q1nPt80L4AZb+qMZmae1D/ZHAEgI90xiwNEIEOgK9yc0m9gAZg22OdUagx4i0sHlaxjUEeljfpGY91z4vhB9g6Y9qbJbWPtQfCSwh0DONAUsjRKAj0JvcbGIPkDHY5lhnBHqMSAubp2VcQ6CH9U1q1nPt80L4AZb+qMZmae1D/ZHAEgI90xiwNEIEOgK9yc0m9gAZg22OdUagx4i0sHlaxjUEeljfpGY91z4vhB9g6Y9qbJbWPtQfCSwh0DONAUsjRKAj0JvcbGIPkDHY5lhnBHqMSAubp2VcQ6CH9U1q1nPt80L4AZb+qMZmae1D/ZHAEgI90xiwNEIEOgK9yc0m9gAZg22OdUagx4i0sHlaxjUEeljfpGY91z4vhB9g6Y9qbJbWPtQfCSwh0DONAUsjRKAj0JvcbGIPkDHY5lhnBHqMSAubp2VcQ6CH9U1q1nPt80L4AZb+qMZmae1D/ZHAEgI90xiwNEIEOgK9yc0m9gAZg22OdUagx4i0sHlaxjUEeljfpGY91z4vhB9g6Y9qbJbWPtQfCSwh0DONAUsjRKAj0JvcbGIPkDHY5lhnBHqMSAubp2VcQ6CH9U1q1nPt80L4AZb+qMZmae1D/ZHAEgI90xiwNEIEOgK9yc0m9gAZg22OdUagx4i0sHlaxjUEeljfpGY91z4vhB9g6Y9qbJbWPtQfCSwh0DONAUsjRKAj0JvcbGIPkDHY5lhnBHqMSAubp2VcQ6CH9U1q1nPt80L4AZb+qMZmae1D/ZHAEgI90xiwNEIEOgK9yc0m9gAZg22OdUagx4i0sHlaxjUEeljfpGY91z4vhB9g6Y9qbJbWPtQfCSwh0DONAUsjRKAj0JvcbGIPkDHY5lhnBHqMSAubp2VcQ6CH9U1q1nPt80L4AZb+qMZmae1D/ZHAEgLdcwzMnTtXJk+eLE899ZS8/fbbcuedd8qBBx7octGG96Mf/Ujuueceee2112SDDTaQvffeWy6++GIZOHBgR0mWLFki48aNkxkzZrh/GzVqlFx55ZWy4YYbdqR5/vnn5Qc/+IE8/vjjsvHGG8vxxx8vZ599tqyzzjqFamRphAh0BHqhIKtpotgDZAxsOdYZgR4j0sLmaRnXEOhhfZOa9Vz7vBB+gKU/qrFZWvtQfySwhED3HAOzZs2Shx9+WHbZZRc5+OCDVxLoH3zwgXznO9+RY489VnbccUdRIT5+/Hj5wx/+IE8++WRHSfbdd19ZuHChXHfdde7fjjvuONl6661l5syZ7v/XBrTddtvJnnvuKT/84Q/l5ZdflqOPPlrOPfdcOfXUUwvVyNIIEegI9EJBVtNEsQfIGNhyrDMCPUakhc3TMq4h0MP6JjXrufZ5IfwAS39UY7O09qH+SGAJgR4wBnQ1u/MK+uqyeuKJJ2TYsGEyf/582XLLLeWFF16QIUOGyGOPPSbDhw93r+h/77777vLiiy/K9ttvL1dffbVMmDBBfve738l6663n0ugqvK6yq7AvsopuaYQIdAR6wGYT3XTsATIGgBzrjECPEWlh87SMawj0sL5JzXqufV4IP8DSH9XYLK19qD8SWEKgB4yBIgL9/vvvl5EjR8r7778vffv2lRtuuEFOOeUU9/93fnR7++WXXy7HHHOMHHnkkaKr8XfddVdHkmeeecat2uvW+cGDB3dbK0sjRKAj0LsNsBoniD1AxkCXY50R6DEiLWyelnENgR7WN6lZz7XPC+EHWPqjGpultQ/1RwJLCPSAMdCdQP/kk0/kG9/4hnzlK1+RW2+91ZXkoosukptuusltW+/86JZ2Fee6cq6CXre8t7bAa7q33npLNt98c3nkkUfcanvX59NPPxX9X+vRRrjFFlvIokWL3A8DZR7tQObMmSMf9xsq0qNnmVe9pD1k10Fe7JQ10qr3iBEjZN111y37ei3TU2f8XMvALVhoS3xrH9qvXz/3Y2nZPrRg8UhWkoB1cjl93oKSOVaY/PPl8sV3fy0f9/+q93F39PAtK6xIGlnFFkJpUPBTClj64ahWYrO09qH+SGCpRWCdFStWrACHXwJrE+jaCA855BBZsGCBPPjggx0TPBXoN998s7z00ksrFWbbbbeVMWPGyFlnneUEuq6SX3vttR1p3nzzTRk0aJA8+uijsttuu61SkfPOO0/OP//8Vf59+vTp0qdPH78VxxoEIACBhhNYunSpjB49GoGekJ+tk0sEekLODFyU2EIocPUqNQ9Lf7hjs7T2of5IYAmBHjAG1iTQtQEeeuihbjv6Aw88IJtssklHKUJtcWcF3e5oy2qbPfc4FqgzK+hxIq+aXC3xzQp6NT4qk4t1colAL0O73mljC6F601u59LD0583YLK19qD8SWEKgB4yB1Qn0ljh/5ZVX5Je//KVsuummK5WgdUjcvHnz3OFx+uh/66p450PiJk6c6A6J69Wrl0tzySWXyI9//GMOiQvoz9gdZ8CqrdE0dc5HoOv1j/vtl8/5Chr0lvhmIhOjR1p7nlafINDT82moElnafqgy1dUuLP15LjZLax/qjwSWEOieY+Cjjz6SV1991Vndeeed5bLLLnPXoeld5XrXuV699vTTT8vdd98tAwYM6Mhd/94S23rNmn5T3trCrtesbbXVVh3XrOk3j3qa+7e+9S1Roa5iX69ZO+ecc7hmzbM/O5uL3XEGrBoCvRMB/JzHjxIIdL89in5mdeaZZ4peNbps2TJ3Fej1118vX/va11xG+hWdfmalZ6foFaN6S8nUqVNl6NChHQXRfx83bpzMmDHD/duoUaPc7SR6SGqRxzq5RKAXodyMNDn286E8B0t/ZGOztPah/khgCYHuOQb0e3IV5F2fo446SvQ78DWdsK6r6d/85jfda4sXL15lknLVVVetNEl5/vnnZezYsfL444/LRhttJN///vedQC9yxZrmYWmErQ4kxGE1RdwR60Cb2B1nETa+01DnPMRqjn5GoPvrLVRY6w/SOvadcMIJ0r9/f/ntb3/rDjPdZpttXEa6y+vCCy90h6CqeL/gggtk7ty57ryV9ddf36XRH6f1qtDWAaj647TamDlzZqHCWsY1zQCBXghzIxLl2ueFcB4s/VGNzdLah/ojgSUEeqYxYGmECPR8tgHHHixiNE/qnMePEgh0f61LDy99+OGH5Ve/+tVqjerque4gGz9+vFtl10fPRdFdZCrcjz/+eGl93vXYY4+51XV99L/1VpLW513dldgyriHQu6PbrL/n2M+H8iAs/ZGNzdLah/ojgSUEeqYxYGmECHQEepObTewBMgbbHOuMQPcXaUOGDJF99tnHrX4/9NBD7srPE088UY499liXiR6Iqivp+nmXrrS3ngMOOMDtDNObS4ockNq1xD4PP1XbP39yoT8ovi3pNWuLfhPketNYV5f6RlTGnuWAyDL55JAWlv68HJslh5/686UvS1yz5otkTewg0Ms7KkcRQ53zWE3O0c8I9PJ94Jre+MIXvuD+dMopp7jrQ/XTK10t13NUjjzy2juxrgAAIABJREFUSHnkkUdkjz32EP1OXVfSW49uYZ8/f77Mnj1b9IpR3f7+8ssvr5SNboc/5phjZMKECatkz/Wh/nyIJQhAAAJcH5peDCDQ0/NJ0BIh0MvjzVHEUGcEevmWUp83LPFt6UPrQ6hYSfWA01133dUJ8dajh7098cQT8uijj3YIdD38dLPNNutIoyvsb7zxhtx7771OoOtKun6T3vnZdtttZcyYMaLb6Ls+rKAX8093qVhBz6Of7y4O2v177FXfdsud4nuxWbKCnl5UINDT80nQElkml2xxZ4t70OCMbNwi2iIXve3sc6yzwrLU29KHtu2oRF/UW0ZGjBgh//AP/9BRwquvvtodBKer5qG2uHfFYfUJh8QlGmABimVp+wGKU2uTsPTnvtgsrX2oPxJYahFAoGcWC5ZGiEBHoDe5ucQeIGOwzbHOCHR/kTZ69Gi3Et75kLiTTz5Z5s2b51bPW4fE6b+dccYZLuPPPvvMnfbe9ZA4fWfYsGEujf73brvtxiFxCkO/QX/31xLi9pRYN6P4i8DylnLt88qT6v4NWHbPqGiK2Cwt2qBoHUlXjgACvRyv2qe2NEIEOgK99g1gLRWIPUDGYJtjnRHo/iJNt7J//etfd/ecH3rooe4bdN2+rtelffe733UZqRCfNGmS3HjjjaLb1nVLu15L2vWaNd0Gr9+u66PfqOvqPNesIdD9Rev/bynXPs83R1j6JRo7Li3awC8JrLUIINAziwVLI0SgI9Cb3FxiD5Ax2OZYZ+vE0tKHxvBx6Dzvvvtud5DbK6+8IoMHD3YHxrVOcde8dRVdBbyKb703Xa9Smzp1quywww4dRVu8eLHot+szZsxw/zZq1Ci56qqr3EnvRR6rT9jiXoRyM9Lk2ueF8B4s/VGNzdLah/ojgSUEeqYxYGmECHQEepObTewBMgbbHOuMQI8RaWHztIxrWjIEelj/pGQ91z4vhA9g6Y9qbJbWPtQfCSwh0DONAUsjRKAj0JvcbGIPkDHY5lhnBHqMSAubp2VcQ6CH9U1q1nPt80L4AZb+qMZmae1D/ZHAEgI90xiwNEIEOgK9yc0m9gAZg22OdUagx4i0sHlaxjUEeljfpGY91z4vhB9g6Y9qbJbWPtQfCSwh0DONAUsjRKAj0JvcbGIPkDHY5lhnBHqMSAubp2VcQ6CH9U1q1nPt80L4AZb+qMZmae1D/ZHAEgI90xiwNEIEOgK9yc0m9gAZg22OdUagx4i0sHlaxjUEeljfpGY91z4vhB9g6Y9qbJbWPtQfCSwh0DONAUsjRKAj0JvcbGIPkDHY5lhnBHqMSAubp2VcQ6CH9U1q1nPt80L4AZb+qMZmae1D/ZHAEgI90xiwNEIEOgK9yc0m9gAZg22OdUagx4i0sHlaxjUEeljfpGY91z4vhB9g6Y9qbJbWPtQfCSwh0DONAUsjRKAj0JvcbGIPkDHY5lhnBHqMSAubp2VcQ6CH9U1q1nPt80L4AZb+qMZmae1D/ZHAEgI90xiwNEIEOgK9yc0m9gAZg22OdUagx4i0sHlaxjUEeljfpGY91z4vhB9g6Y9qbJbWPtQfCSwh0DONAUsjRKAj0JvcbGIPkDHY5lhnBHqMSAubp2VcQ6CH9U1q1nPt80L4AZb+qMZmae1D/ZHAEgI90xiwNEIEOgK9yc0m9gAZg22OdUagx4i0sHlaxjUEeljfpGY91z4vhB9g6Y9qbJbWPtQfCSwh0DONAUsjRKAj0JvcbGIPkDHY5lhnBHqMSAubp2VcQ6CH9U1q1nPt80L4AZb+qMZmae1D/ZHAEgI90xiwNEIEOgK9yc0m9gAZg22OdUagx4i0sHlaxjUEeljfpGY91z4vhB9g6Y9qbJbWPtQfCSwh0DONAUsjRKAj0JvcbGIPkDHY5lhnBHqMSAubp2VcQ6CH9U1q1nPt80L4AZb+qMZmae1D/ZHAEgI90xiwNEIEOgK9yc0m9gAZg22OdUagx4i0sHlaxjUEeljfpGY91z4vhB9g6Y9qbJbWPtQfCSwh0DONAUsjRKAj0JvcbGIPkDHY5lhnBHqMSAubp2VcQ6CH9U1q1nPt80L4AZb+qMZmae1D/ZHAEgI90xiwNEIEOgK9yc0m9gAZg22OdUagx4i0sHlaxjUEeljfpGY91z4vhB9g6Y9qbJbWPtQfCSwh0DONAUsjRKAj0JvcbGIPkDHY5lhnBHqMSAubp2VcQ6CH9U1q1nPt80L4AZb+qMZmae1D/ZHAEgI90xiwNEIEOgK9yc0m9gAZg22OdUagx4i0sHlaxjUEeljfpGY91z4vhB9g6Y9qbJbWPtQfCSwh0DONAUsjRKAj0JvcbGIPkDHY5lhnBHqMSAubp2VcQ6CH9U1q1nPt80L4AZb+qMZmae1D/ZHAEgI90xiwNEIEOgK9yc0m9gAZg22OdUagx4i0sHlaxjUEeljfpGY91z4vhB9g6Y9qbJbWPtQfCSwh0DONAUsjRKAj0JvcbGIPkDHY5lhnBHqMSAubp2VcQ6CH9U1q1nPt80L4AZb+qMZmae1D/ZHAEgI90xiwNEIEOgK9yc0m9gAZg22OdUagx4i0sHlaxjUEeljfpGY91z4vhB+KsJw+b0GIrLu1OXr4lt2mSSlBEZYhy2vtQ0OWLVfb66xYsWJFrpX3We+5c+fK5MmT5amnnpK3335b7rzzTjnwwAM7slDM559/vlx33XWyZMkSGT58uEydOlWGDh3akUb/fdy4cTJjxgz3b6NGjZIrr7xSNtxww440zz//vPzgBz+Qxx9/XDbeeGM5/vjj5eyzz5Z11lmnUHUsjRCBjkAvFGQ1TRR7gIyBLcc6I9BjRFrYPC3jGgI9rG9Ss55rnxfCD0VYItCLkS/Cspil9lJZ+9D2cuWttRFAoHuKj1mzZsnDDz8su+yyixx88MGrCPRLLrlELrzwQrnppptku+22kwsuuEBU1L/00kuy/vrru1Lsu+++snDhQifi9TnuuONk6623lpkzZ7r/XxuQvrvnnnvKD3/4Q3n55Zfl6KOPlnPPPVdOPfXUQjWxNEIEOgK9UJDVNFHsATIGthzrjECPEWlh87SMawj0sL5JzXqufV4IPxRhiUAvRr4Iy2KW2ktl7UPby5W3EOgVx4CuZndeQdfV84EDB8r48ePlzDPPdKX59NNPZcCAAaLCXVfBX3jhBRkyZIg89thjbnVdH/3v3XffXV588UXZfvvt5eqrr5YJEybI7373O1lvvfVcmosvvtitsquwL7KKbmmECHQEesVNqdLsYg+QlVb2j5nlWGcEeoxIC5unZVxDoIf1TWrWc+3zQvihCEsEejHyRVgWs9ReKmsf2l6uvIVArzgGugr01157TbbZZht5+umnZeedd+4ozQEHHOC2r998881yww03yCmnnCLvv//+SqXVv19++eVyzDHHyJFHHikffPCB3HXXXR1pnnnmGbdqr3kMHjx4lZrqDwH6v9ajjXCLLbaQRYsWSd++fUuR0Q5kzpw58nG/oSI9epZ610fiQ3Yd5MNMaRuteo8YMULWXXfd0u/X8QXqjJ/rGLdFy2yJb+1D+/Xr5/risn1o0fKRrhwB6+QylogoVMvPl8sX3/21fNz/q97H3bp9p1uIVzeJYgshH3VIxUYRlrHaVt1iuwjLkH639qEhy5arbba4B/B8V4H+yCOPyB577CFvvvmmW0lvPbqFff78+TJ79my56KKL3PZ33bbe+dEt7SrOdeV85MiRbst7awu8pnvrrbdk8803F81DV9u7Puedd5779r3rM336dOnTp0+A2mMSAhCAQHMJLF26VEaPHo1AT8jF1sllLBFRCCECvRCmooliC6Gi5axDuiIsY7UtBHq5CLL2oeVyI3URAgj0IpRKplmTQFcxvdlmm3VYO/bYY+WNN96Qe++91wl0XUnXb9I7P9tuu62MGTNGzjrrLCfQdZX82muv7Uiion/QoEHy6KOPym677bZKSVlBL+m81SS3rLbZc49jgTqzgh4n8qrJ1RLfrKBX46MyuVgnl7FERKE6ItALYSqaqIioLGor93RFWMZqWwj0ctFp7UPL5UbqIgQQ6EUolUyT0hb3rkW3NEK+Qecb9JJNoVbJi0w2alWhAoXNsc6KxVJvSx9awCW1SrK6HVp6tso777zj6uHr9pLuoFh9EktEdFcv93cEeiFMRRNZ2n7RPHJJV4RlrLaFQC8XhdY+tFxupC5CAIFehFLJNGs6JO7kk0+WM844w1n77LPPpH///qscEjdv3jwZNmyYS6P/ravinQ+JmzhxojskrlevXi6NHjL34x//mEPiSvqoTPIig1AZe3VIS53zWUG/5557ZL/98vnxCYHurwdSgf6P//iPcv/993cY7dmzp2y66aYd45P19pIipbVOLmOJiCJ1Q6AXolQ4UY5jW2E4JRMWYRmrbSHQyznT2oeWy43URQgg0ItQKpDmo48+kldffdWl1IPgLrvsMncdmt5VvuWWWzohPWnSJLnxxhtFt63rlvYHH3xwlWvWdBt8awu7fqO+1VZbdVyzpocS6Wnu3/rWt0SF+iuvvOKuWTvnnHO4Zq2Aj9pNUmQQatd2qu9RZwR6qrHpo1yW+GYi8ycPqED/xS9+Ic8+++wqbvF1e0kRf1t9EktEFKkbAr0QpcKJLG2/cCaZJCzCMlbbQqCXC0JrH1ouN1IXIYBAL0KpQBoV2yrIuz5HHXWUO/yttdVPxfeSJUvcVWpTp06VHXbYoeOVxYsXy7hx42TGjBnu30aNGiVXXXWVO+m99Tz//PMyduxYefzxx2WjjTaS73//+06gF7liTW1YGiFb3PNZZSwy8BZoFrVKQp3z+FFCg9Lia0sfWqsGUaCwKtAnT54sG2ywgbv6U8c1/fH5S1/6krtZxMftJasrhs+zVdT+z59cWKC2kZLoFvdFvwlye0qsm1EikXTZWs6fiFnuFPMuwjJW26pbbBdhGTIGOFslJN32bCPQ2+NW27csk0sEOgK9toFfoOAW0VbAfJJJcqwzAt1fKM6aNUv0VHu9bUQ/vbrgggvcJ1m/+c1v3O4wH7eXrK603E7iz4dYggAEIMDtJOnFAAI9PZ8ELRECvTzeHEUMdc5jNTlHPyPQy/eBRd/4+OOP3aq5nrWi56eoQLfeXrK6vFlBL+qRtaer2yqjj1rHXqn0UYdUbBRhyQp6MW8VYVnMUnupWEFvj1vItxDoIekmaBuBXt4pOYoY6oxAL99S6vOGJb4tfWh9CLVf0hEjRsiXv/xlOf3004Ntce9aOqtPYn0nW4gyp7gXwlQ0kaXtF80jl3RFWMZqW3yDXi4KrX1oudxIXYQAAr0IpQalsTRCtrizxb1BTWGVqhSZbDSt/jnWWX1oqbelD21a/HStj65s6wq6HnB69tlny8CBA8V6e0kRZlafxBIRRerGIXGFKBVOZGn7hTPJJGERlrHaFgK9XBBa+9ByuZG6CAEEehFKDUpjaYQIdAR6g5oCAt0oVOscC0Umlmuqn6UPrTOz1ZX9tNNOk7/+6792N5W8++677hv0hx56SPQwU72BxMftJUWYWX0SS0QUqRsCvRClwoksbb9wJpkkLMIyVttCoJcLQmsfWi43UhchgEAvQqlBaSyNEIGOQG9QU0CgI9Dbuv/d0oc2rf0cfvjhMnfuXFm0aJG7+1y/O/+7v/s7GTJkiKuqr9tLuuNm9UksEdFdvdzf2eJeCFPRREVEZVFbuacrwjJW20Kgl4tOax9aLjdSFyGAQC9CqUFpLI0QgY5Ab1BTQKAj0BHoDWnQlnFNEcQSEYXwI9ALYSqaqIioLGor93RFWMZqWwj0ctFp7UPL5UbqIgQQ6EUoNSiNpREi0BHoDWoKCHQEOgK9IQ3aMq4h0BsSBAWrUURUFjSVfbIiLBHoxcKkCMtiltpLZe1D28uVt9ZGAIGeWXxYGiECHYHe5OYSe4CMwTbHOitnS70tfWgMH+eQp9UnsUREId+wgl4IU9FElrZfNI9c0hVhGattsYJeLgqtfWi53EhdhAACvQilBqWxNEIEOgK9QU2BFXSjUK1zLBSZWK6pfpY+tM7MUi671SexREQhpgj0QpiKJrK0/aJ55JKuCMtYbQuBXi4KrX1oudxIXYQAAr0IpQalsTRCBDoCvUFNAYGOQGeLe0MatGVcUwSxREQh/Aj0QpiKJioiKovayj1dEZax2hYCvVx0WvvQcrmRuggBBHoRSg1KY2mECHQEeoOaAgIdgY5Ab0iDtoxrCPSGBEHBahQRlQVN1SZZMJEc8McjK1wEejmC1j60XG6kLkIAgV6EUoPSWBohAh2B3qCmgEBHoCPQG9KgLeMaAr0hQVCwGgj0gqCKJEOgF6FUKE3suLT2oYUqSaJSBBDopXDVP7GlESLQEej1bwFrrkHsATIG2xzrrJwt9bb0oTF8nEOeVp8EW2H0AT+gCKrbKqMPnJa27yP/GDaCxXfA2LRyqltsx45Lax9q9Rfvr0oAgZ5ZVFgaIQIdgd7k5hJ7gIzBNsc6I9BjRFrYPC3jGivoYX2TmvUc+zwEempRuGp5YseltQ9Nn3D9SohAr5/PTCW2NEIEOgLdFHyJvxx7gIyBJ8c6I9BjRFrYPC3jGgI9rG9Ss55jn4dATy0KEejpeyR+CRHo8X1QaQksExkEOgK90mCtOLMcJ2451hmBXnHDqiA7y7iGQK/AQQllkWOfh0BPKADXUJTYcWntQ9MnXL8SItDr5zNTiS2NEIGOQDcFX+Ivxx4gY+DJsc4I9BiRFjZPy7iGQA/rm9Ss59jnIdBTi0JW0NP3SPwSItDj+6DSElgmMgh0BHqlwVpxZjlO3HKsMwK94oZVQXaWcQ2BXoGDEsoixz4PgZ5QALKCnr4zEikhAj0RR1RVDMtEBoGOQK8qTmPkk+PELcc6I9BjtK6weVrGNQR6WN+kZj3HPg+BnloUsoKevkfilxCBHt8HlZbAMpFBoCPQKw3WijPLceKWY50R6BU3rAqys4xrCPQKHJRQFjn2eQj0hAKQFfT0nZFICRHoiTiiqmJYJjIIdAR6VXEaI58cJ2451hmBHqN1hc3TMq4h0MP6JjXrOfZ5CPTUopAV9PQ9Er+ECPT4Pqi0BJaJDAIdgV5psFacWY4TtxzrjECvuGFVkJ1lXEOgV+CghLLIsc9DoCcUgKygp++MREqIQE/EEVUVwzKRQaAj0KuK0xj55Dhxy7HOCPQYrStsnpZxDYEe1jepWc+xz0OgpxaFrKCn75H4JUSgx/dBpSWwTGQQ6Aj0SoO14sxynLjlWGcEesUNq4LsLOMaAr0CByWURY59HgI9oQBkBT19ZyRSQgR6Io6oqhiWiQwCHYFeVZzGyCfHiVuOdUagx2hdYfO0jGsI9LC+Sc16jn0eAj21KGQFPX2PxC8hAj2+DyotgWUig0BHoFcarBVnluPELcc6I9ArblgVZGcZ1xDoFTgooSxy7PMQ6AkFICvo6TsjkRIi0BNxRFXFsExkEOgI9KriNEY+OU7ccqwzAj1G6wqbp2VcQ6CH9U1q1nPs8xDoqUUhK+jpeyR+CRHo8X1QaQksExkEOgK90mCtOLMcJ2451hmBXnHDqiA7y7iGQK/AQQllkWOfh0BPKABZQU/fGYmUEIGeiCOqKoZlIoNAR6BXFacx8slx4pZjnRHoMVpX2Dwt4xoCPaxvUrOeY5+HQE8tCllBT98j8UuIQI/vg0pLYJnIINAR6JUGa8WZ5Thxy7HOCPSKG1YF2VnGNQR6BQ5KKIsc+zwEekIByAp6+s5IpIQI9Ioc8Yc//EHOO+88+elPfyrvvPOObLbZZnL00UfLj370I+nRo4crxYoVK+T888+X6667TpYsWSLDhw+XqVOnytChQztKqf8+btw4mTFjhvu3UaNGyZVXXikbbrhhoZpYJjIIdAR6oSCraaIcJ2451hmBXtMGupZiW8Y1BHrz4mFtNcqxz0Ogpx/jsePS2oemT7h+JUSgV+SzCy+8UC6//HK5+eabneB+8skn5ZhjjpELLrhATjrpJFeKSy65RDTdTTfdJNttt53729y5c+Wll16S9ddf36XZd999ZeHChU7E63PcccfJ1ltvLTNnzixUE0sjRKAj0AsFWU0TxR4gY2DLsc4I9BiRFjZPy7iGQA/rm9Ss59jnIdBTi8JVyxM7Lq19aPqE61dCBHpFPtt///1lwIABcv3113fkePDBB0ufPn3klltucavnAwcOlPHjx8uZZ57p0nz66afuHRXuxx9/vLzwwgsyZMgQeeyxx9zquj7637vvvru8+OKLsv3223dbG0sjRKAj0LsNsBoniD1AxkCXY50R6DEiLWyelnENgR7WN6lZz7HPQ6CnFoUI9PQ9Er+ECPSKfHDxxRfLNddcI/fdd59bHX/uuedk5MiRcsUVV8gRRxwhr732mmyzzTby9NNPy84779xRqgMOOMBtX9eV9xtuuEFOOeUUef/991cqtf5dV+d1Rb7royJf/9d6dCKzxRZbyKJFi6Rv376laq8D25w5c+TjfkNFevQs9a6PxIfsOsiHmdI2WvUeMWKErLvuuqXfr+ML1Bk/1zFui5bZEt/ah/br108++OCD0n1o0fKRrhwBBHo5Xq3Uo4dv2d6LNX4Lge7ReZ8vly+++2v5uP9Xo8wJ11aTusV27Li09qEeowpTfySAQK8oFHSFfOLEiW41vGfPnrJ8+XK3nX3ChAmuBI888ojsscce8uabb7qV9NajW9jnz58vs2fPlosuushtf3/55ZdXKrUKfhXnLVud/6jfvet37V2f6dOnu9V7HghAAAIQKE5g6dKlMnr0aAT6apBNmjTJjXP62Zb++KyP/kB82mmnyW233SbLli2TvfbaS6ZNmyaDBv3pB9cFCxbI2LFj5YEHHpDevXs7vlOmTJFevXoVcox1chlshbFQ6btJFFAE1U3E+MAZWwj5qENZG8HiO2Bslq1j1/R1i+3YcWntQ63+4v1VCSDQK4qK22+/XU4//XSZPHmy+wb92WefddvZL7vsMjnqqKM6BPpbb73lDpBrPccee6y88cYbcu+99zqBrivp+k1652fbbbeVMWPGyFlnnbVKbVhBtzvYstpmzz2OBerMCnqcyKsmV0t8s4K+eh898cQTcuihh7pdBXvuuWeHQD/hhBPcGSn64/Imm2wip556qixevFieeuqpjh+rd9ppJ9l0003l0ksvlffee8+NiQcddJA7ALXIY51cBhMwRQrfXZqAIqhuIqY7VEX+HlsIFSmj7zTB4jtgbFoZ1C22Y8eltQ+1+ov3EejRYkC3lauA1lWC1qOHwN16663u+/FQW9y7VtjSCPkGnW/QozWgCjKOPUBWUMVVssixzgrBUm9LHxrDx1Xk+dFHH8kuu+ziVsZ1XFPBrSvo+hmACm89Z+Wwww5zRdEfoXU8vOeee2SfffaRWbNmiZ7Roj9Et3aP6Q/aesvJu+++W+gzAqtPggkYH/ADiqC6iRgfOC1t30f+MWwEi++AsWnlVLfYjh2X1j7U6i/eR6BHiwFdOdCJi64mtB7dDnjjjTe6LeutQ+JOPvlkOeOMM1ySzz77TPr377/KIXHz5s2TYcOGuTT637vtthuHxAX0bOyOM2DV1miaOuezgq5Cab/98vnxCYHuv0fRFe+NN97YnYXyzW9+s0Og65Z13dKuK+YbbbRRR8Y77rijHHjgge7zq3POOUfuuusudy5L69HrRNWevq+r8d091sllMAHTXcGL/D2gCKqbiCmCq7s0OY5tweI7YGx258fu/l632I4dl9Y+tDt/8PfyBNjiXp5ZW2/oasD9998v1157rdvi/swzz7gr0r73ve85Aa6P/t+WaNdt67ql/cEHH1zlmjVdgVA7+qiNrbbaimvW2vJKsZdid5zFSuk3FXVGoPuNqLSsWeKbiczKvtTVbv3xWa8O/cIXvrCSQNezTvR8lM4HlerbekDq4MGD3TimY9jrr7/uDlDt/Ky33npuW7weotr18fnpltr++ZML0wrQzqVREbToN0EOZ4118GpM2JbPW2KW25J3sPgOGJuW+uq7dYvt2HHJp1vWiPP/PgLdP9PVWvzwww/l7LPPljvvvNNt29OtfDrx0NWD1kE4uoquKwo6adEVBL1KberUqbLDDjt02NSViHHjxsmMGTPcv40aNUquuuoqd9J7kccyuWSLez6rjBYBUyQOU0xDnfP4UUJjz+JrSx+aYtxbyqTb0nfddVcnrnVVXJ/OK+hrEuh6I4beWqI3m3Q+CLVzWXRc/MlPfiKHH374KkXk8FOL13gXAhCAwMoEOPw0vYhAoKfnk6AlskwuEegI9KDBGdm4RbRFLnrb2edYZwR62+Gyyou/+MUv5Nvf/rY77K316A0l66yzjvTo0cPdPrL33nt73+LOCrofH9ZtldFHrWOvVPqoQ1kbrKCXJVZ9+thxyQp69T7vLkcEeneEGvZ3BHp5h+YoYqhzHqvJOfoZgV6+D1zTG7ozTK8B7fzolvavfOUrcuaZZ7rD4PSQOD0MVU941+ftt992V6x1PSRu4cKFHTeY3HHHHe4kdw6JE5GA3/nW7TtdH5GbY5/HN+g+IiesjdhxadEGYcnkax2BnpnvLY2QFXRW0JvcXGIPkDHY5lhnBHrYSOu8xV1z0oNR7777bvc9uR78pnei61VqXa9ZGzBggLuGVD/j0jNb9BA5rllDoPuO1hz7PAS67yjyby92XFq0gX8aWFQCCPTM4sDSCBHoCPQmN5fYA2QMtjnWGYEeNtK6CvRPPvlETj/9dNHv0ZctW+ZOddfr2HR1vfUsWLBATjzxRHdqe+/evWX06NEyZcoU0YPiijyWcU3tBxMwRQrfXRpW0LsjVOrvOfZ5weI7YGyWcupqEtdtd0jsuLT2oVZ/8f6qBBDomUWFpREi0BHoTW4usQfIGGxzrDMCPUakhc3TMq4h0MP6JjXrOfZ5CPTUonDV8sSOS2uKSl2WAAAgAElEQVQfmj7h+pUQgV4/n5lKbGmECHQEuin4En859gAZA0+OdUagx4i0sHlaxjUEeljfpGY9xz4PgZ5aFCLQ0/dI/BIi0OP7oNISWCYyCHQEeqXBWnFmOU7ccqwzAr3ihlVBdpZxDYFegYMSyiLHPg+BnlAArqEosePS2oemT7h+JUSg189nphJbGiECHYFuCr7EX449QMbAk2OdEegxIi1snpZxDYEe1jepWc+xz0OgpxaFrKCn75H4JUSgx/dBpSWwTGQQ6Aj0SoO14sxynLjlWGcEesUNq4LsLOMaAr0CByWURY59HgI9oQBkBT19ZyRSQgR6Io6oqhiWiQwCHYFeVZzGyCfHiVuOdUagx2hdYfO0jGsI9LC+Sc16jn0eAj21KGQFPX2PxC8hAj2+DyotgWUig0BHoFcarBVnluPELcc6I9ArblgVZGcZ1xDoFTgooSxy7PMQ6AkFICvo6TsjkRIi0BNxRFXFsExkEOgI9KriNEY+OU7ccqwzAj1G6wqbp2VcQ6CH9U1q1nPs8xDoqUUhK+jpeyR+CRHo8X1QaQksExkEOgK90mCtOLMcJ2451hmBXnHDqiA7y7iGQK/AQQllkWOfh0BPKABZQU/fGYmUEIGeiCOqKoZlIoNAR6BXFacx8slx4pZjnRHoMVpX2Dwt4xoCPaxvUrOeY5+HQE8tCllBT98j8UuIQI/vg0pLYJnIINAR6JUGa8WZ5Thxy7HOCPSKG1YF2VnGNQR6BQ5KKIsc+zwEekIByAp6+s5IpIQI9EQcUVUxLBMZBDoCvao4jZFPjhO3HOuMQI/RusLmaRnXEOhhfZOa9Rz7PAR6alHICnr6HolfQgR6fB9UWgLLRAaBjkCvNFgrzizHiVuOdUagV9ywKsjOMq4h0CtwUEJZ5NjnIdATCkBW0NN3RiIlRKAn4oiqimGZyCDQEehVxWmMfHKcuOVYZwR6jNYVNk/LuIZAD+ub1Kzn2Och0FOLQlbQ0/dI/BIi0OP7oNISWCYyCHQEeqXBWnFmOU7ccqwzAr3ihlVBdpZxDYFegYMSyiLHPg+BnlAAsoKevjMSKSECPRFHVFUMy0QGgY5ArypOY+ST48Qtxzoj0GO0rrB5WsY1BHpY36RmPcc+D4GeWhSygp6+R+KXEIEe3weVlsAykUGgI9ArDdaKM8tx4pZjnRHoFTesCrKzjGsI9AoclFAWOfZ5CPSEApAV9PSdkUgJEeiJOKKqYlgmMgh0BHpVcRojnxwnbjnWGYEeo3WFzdMyriHQw/omNes59nkI9NSikBX09D0Sv4QI9Pg+qLQElokMAh2BXmmwVpxZjhO3HOuMQK+4YVWQnWVcQ6BX4KCEssixz0OgJxSArKCn74xESohAT8QRVRXDMpFBoCPQq4rTGPnkOHHLsc4I9BitK2yelnENgR7WN6lZz7HPQ6CnFoWsoKfvkfglRKDH90GlJbBMZBDoCPRKg7XizHKcuNGmy7dpSx9acUhnk53VJ8EEjA8PfL5cvvjur+Xj/l8V6dHTh8UOG6OHb+nVXh2M5djPB4vvgLFpjaW6xXbsuLT2oVZ/8f6qBBDomUWFpREymS8/ma9reMUeLGJwy7nOISb/RXwYaxJl8bWlDy3ChDTlCVh9EkzAlK/Kqm8EFEGx2p8PLO3asLT9dvOM/V6w+A4Ym1ZmdYvt2HFp7UOt/uJ9BHr2MWBphAh0BHqTG1DsATIGW9p0+TZt6UNj+DiHPK0+CSZgfMAPKILqJmJ84Myxnw8W3wFj0+rrusV27Li09qFWf/E+Aj37GLA0Qibz5SfzdQ242INFDG4515kV9OIRZ+lDi+dCyjIErD4JJmDKVGJNaQOKoLqJGB84c+zng8V3wNi0+rpusR07Lq19qNVfvI9Azz4GLI0QgY5Ab3IDij1AxmBLmy7fpi19aAwf55Cn1SfBBIwP+AFFUN1EjA+cOfbzweI7YGxafV232I4dl9Y+1Oov3kegZx8DlkbIZL78ZL6uARd7sIjBLec6s4JePOIsfWjxXEhZhoDVJ8EETJlKsILug1a3NnLs54PFNwK923grmiB2XFr70KL1JF1xAhwSV5yVOeWbb74pZ555psyaNUuWLVsm2223nVx//fXyta99zdlesWKFnH/++XLdddfJkiVLZPjw4TJ16lQZOnRoR9767+PGjZMZM2a4fxs1apRceeWVsuGGGxYqn6URItAR6IWCrKaJYg+QMbDRpsu3aUsfGsPHOeRp9UkwAeMDfkARVLdVRh84c+zng8V3wNi0+rpusR07Lq19qNVfvL8qAQR6RVGhwnrnnXeWPffcU0444QTp37+//Pa3v5Wtt95attlmG1eKSy65RC688EK56aabnHi/4IILZO7cufLSSy/J+uuv79Lsu+++snDhQifi9TnuuOOcjZkzZxaqiaURMpkvP5kv5JQEE8UeLGIgybnOrKAXjzhLH1o8F1KWIWD1STABU6YSa0obUATVTcT4wJljPx8svgPGpg9fx7LRTruKHZfWPjQW6ybni0CvyLtnnXWWPPzww/KrX/1qtTnq6vnAgQNl/PjxbpVdn08//VQGDBjghPvxxx8vL7zwggwZMkQee+wxt7quj/737rvvLi+++KJsv/323dbG0ggR6Aj0bgOsxglyjO8c66whapkMWfrQGjePpItu9UkwAeODWkAR1I6Q8FGlmDYsbT9muS15B4vvgLFpqW/sd9tpV7Hj0tqHxmbexPwR6BV5VYX1Pvvs41a/H3roIdl8883lxBNPlGOPPdaV4LXXXnMr6U8//bRbaW89BxxwgNu+fvPNN8sNN9wgp5xyirz//vsrlVr/fvnll8sxxxzTbW0sjZDJPAK92wCrcYIc4zvHOiPQa9xI11B0y7imJoMJGB+oA4qgdoSEjyrFtBFbCMWoe7D4DhibMTj5yrOddhU7Lq19qC922PkTAQR6RdHwhS98weWkAvuQQw6Rxx9/3K2WX3vttXLkkUfKI488InvssYfod+q6kt56dAv7/PnzZfbs2XLRRRe57e8vv/zySqXW7fAqzidMmLBKbXQVXv/XerQRbrHFFrJo0SLp27dvqdprBzJnzhz5uN9QkR49S73rI/Ehuw7yYaa0jVa9R4wYIeuuu27p9+v4Qs51zim+adPl27T2of369ZMPPvigdB9ax75gbWW++uqrRf/3+uuvu2R6Xso555zjPsXSR8ee0047TW677TZ37spee+0l06ZNk0GD/tSXL1iwQMaOHSsPPPCA9O7dW0aPHi1TpkyRXr16FcZlnVwGEzCFa7CWhAFFUDtCwkeVYtqILYRi1D1YfAeMzRicfOXZTruKHZfWPtQXO+z8iQACvaJo0MnGrrvu6oR469HD3p544gl59NFHOwT6W2+9JZtttllHGl1hf+ONN+Tee+91Al1X0vWb9M7PtttuK2PGjBHdRt/1Oe+889zBc12f6dOnS58+fSqqPdlAAAIQaAaBpUuXOhGJQBd39knPnj3ly1/+snOujk+TJ0+WZ555xol1PW9F0+gPy5tssomceuqpsnjxYnnqqafce8uXL5eddtpJNt10U7n00kvlvffek6OOOkoOOuggd/hp0cc6uQwmYIpWYG3pAoqgdoSEjyrFtBFbCMWoe7D4DhibMTj5yrOddhU7Lq19qC922EGgVx4DW221legK7D/8wz905K0rD3oQnK6ah9rizgq63dU5rybnuGuAFXR7mylqoY67YlhBX7t3N954YyfSv/Od7zjhfcstt8hhhx3mXtIfoHUH1z333OM++dIbTfbff3/3I3Rr59jtt98uRx99tLz77ruFdyhYJ5fBBEzRhoBA90GqkI3YQqhQIT0nChbfCPTVegqB7jmAMzXHCnpFjtcVF52EdD4k7uSTT5Z58+a51fPWIXH6b2eccYYr1WeffeZOe+96SJy+M2zYMJdG/3u33XbjkLiAfsxxQM+5zjmdaM436OXPlbCKwYBdVVTTuhr+85//3K2A6wr6O++847a064r5Rhtt1FG2HXfcUQ488EC3s0u3w991113y3HPPdfxdbzxRka9b3vXWk9U9Pn94Vvs/f3JhVHZrzVxF0KLfBPm0LNYPZDFh5/iDe7D4DhibMWPEmnc77Sp2XPLDs9Xr/t9HoPtnulqLupX961//upuUHHrooe4bdN2+rtelffe733XvqBCfNGmS3HjjjaLb1nVL+4MPPrjKNWu6CqHfruuj36jr6jzXrIVzZM5idb/9yguYcJ4IazlHsZpjnTWKLG0agb5yO3z++efdTSKffPKJ/Pmf/7no51Pab+j/1bNROp+Bom+OHDlSBg8e7MYwHb/0+/X77rtvJaPrrbee2xZ/xBFHrLbR8+lW2L4Q6xCAQF4E+HQrPX8j0Cv0yd133+0OcnvllVfcBEUPjGud4q7F0FV0FfA6cdFVBL1KberUqbLDDjt0lFJXI/Tb9RkzZrh/GzVqlFx11VXupPcij2VyyWQ+P7GKQC/SqvykaWdbnDVn2nT5Nm3pQ63+SvF93emlB73p7SL/+3//b/cZl95U8uyzz65WoOtnM3pjyTXXXOMEeusQ1M510zNbfvKTn8jhhx++2iqzgu4nEtpZ6fOTczwrsVcqY9ScFfRqqbfTrmLHJSvo1cZIkdwQ6EUoNSiNZXLJZL78ZL6uoWNZYax7ndniXp0HY/woobWzxLelD62ObLyc9t57byfA9bvzUFvcu9bO6pNg3+j6cEPA73xjtT8fWNq1YWn77eYZ+71g8R0wNmMzs+TfTruKHZfWPtTCi3dXTwCBnllkWBohAh2B3uTmkmN851hnBHrYVqyiXA+C+/u//3t3SNytt97qPuvS5+2333ZXrHU9JG7hwoUdt5fccccd7jt2Don7o58CiqB2hETY6AlvPbYQCl/DVXNAoFdLvZ12FTsuLdqgWrr55IZAz8fXrqaWRshkHoHe5OaSY3znWGcEur9WPHHiRHfnuQryDz/8UPQE9osvvthdC6pb2fWaNf20S78n14Pf9E50vUqt6zVrAwYMcCe/6ydceoK7HiLHNWsIdH+R+idLsYVQiDp1ZxOB3h0hv39HoPvlmas1BHpmnkegl3d4jgN6znVmi3v5NtLuG+1MZNrNq/N7lvi29KE+yp6SjTFjxsg///M/u5XxDTbYQL761a/KmWee6cS5Pnpw3Omnn+4OjFu2bJnb8j5t2jQn6FuPfr9+4oknulPbe/fu7e6YnzJliuhBcUUfq0+CCZiiFVhbOlbQfVDssGFp+14LUqGxYPEdMDYrxOM9q3bGtdhxae1DvUPEoCDQMwsCSyNktY0V9CY3lxzjO8c6awxbJkOWPrTJ7Sdm3aw+CSZgfEAJKILaERI+qhTThqXtxyy3Je9g8R0wNi31jf1uO+0qdlxa+9DYzJuYPwK9iV5dS50sjZDJPAK9yc0lx/jOsc4I9Oa1Ysu4pjSCCRgfqAOKoHaEhI8qxbQRWwjFqHuw+A4YmzE4+cqznXYVOy6tfagvdtj5EwEEembRYGmETOYR6E1uLjnGd451RqA3rxVbxjUEevPiYW01ii2EYtBGoFdLHYFeLe+m5oZAb6pn11Avy0SGyTwCvcnNJcf4zrHOCPTmtWLLuIZAb148pCrQgwnlWC5kBX215BHosQKyWfki0Jvlz25rY5nIMJlHoHcbYDVOkGN851hnBHqNG2mAH54R6M2LBwR6RT5FoCPQKwq1HLNBoGfmdQR6eYfnuCUu5zpzinv5NtLuG+2sNLSbV+f3LPFt6UN9lB0bqxKw+iTplc2AIihW+4sZw5a2by130nHWTuUCxmY7xan1O55YttumrX1ordknWngEeqKOCVUsSyNktY0V9FBxmYLdHOM7xzqzgp5Ca/NbBsu4xgq6X1+kbg2B7tFDnkSlxxLV15Qnlgj0+oZA15Ij0Jvjy0I1sUxkmMwj0AsFWU0T5RjfOdYZgV7TBrqWYlvGNQR68+JhbTVCoHv0tydR6bFE9TXliSUCvb4hgEBvju/aqollIsNkHoHeVtDV5KUc4zvHOiPQa9IgSxTTMq4h0EuAbkBSBLpHJ3oSlR5LVF9Tnlgi0OsbAgj05viurZpYJjJM5hHobQVdTV7KMb5zrDMCvSYNskQxLeMaAr0E6AYkRaB7dKInUemxRPU15YklAr2+IYBAb47v2qqJZSLDZB6B3lbQ1eSlHOM7xzoj0GvSIEsU0zKuIdBLgG5AUgS6Ryd6EpUeS1RfU55YItDrGwII9Ob4rq2aWCYyTOYR6G0FXU1eyjG+c6wzAr0mDbJEMS3jGgK9BOgGJEWge3SiJ1HpsUT1NeWJJQK9viGAQG+O79qqiWUiw2Qegd5W0NXkpRzjO8c6I9Br0iBLFNMyriHQS4BuQFIEukcnehKVHktUX1OeWCLQ6xsCCPTm+K6tmlgmMkzmEehtBV1NXsoxvnOsMwK9Jg2yRDEt4xoCvQToBiRFoHt0oidR6bFE9TXliSUCvb4hgEBvju/aqollIsNkHoHeVtDV5KUc4zvHOiPQa9IgSxTTMq4h0EuAbkBSBLpHJ3oSlR5LVF9Tnlgi0OsbAgj05viurZpYJjJM5hHobQVdTV7KMb5zrDMCvSYNskQxLeMaAr0E6AYkRaB7dKInUemxRPU15YklAr2+IYBAb47v2qqJZSLDZB6B3lbQ1eSlHOM7xzoj0GvSIEsU0zKuIdBLgG5AUgS6Ryd6EpUeS1RfU55YItDrGwII9Ob4rq2aWCYyTOYR6G0FXU1eyjG+c6wzAr0mDbJEMS3jGgK9BOgGJEWge3SiJ1HpsUT1NeWJJQK9viGAQG+O79qqiWUiw2Qegd5W0NXkpRzjO8c6I9Br0iBLFNMyriHQS4BuQFIEukcnehKVHktUX1OeWCLQ6xsCCPTm+K6tmlgmMkzmEehtBV1NXsoxvnOsMwK9Jg2yRDEt4xoCvQToBiRFoHt0oidR6bFE9TXliSUCvb4hgEBvju/aqollIsNkHoHeVtDV5KUc4zvHOiPQa9IgSxTTMq4h0EuAbkBSBLpHJ3oSlR5LVF9Tnlgi0OsbAgj05viurZpYJjJM5hHobQVdTV7KMb5zrDMCvSYNskQxLeMaAr0E6AYkRaB7dKInUemxRPU15YklAr2+IYBAb47v2qqJZSLDZB6B3lbQ1eSlHOM7xzoj0GvSIEsU0zKuIdBLgG5AUgS6Ryd6EpUeS1RfU55YItDrGwII9Ob4rq2aWCYyTOYR6G0FXU1eyjG+c6wzAr0mDbJEMS3jGgK9BOgGJEWge3SiJ1HpsUT1NeWJJQK9viGAQG+O79qqiWUiw2Qegd5W0NXkpRzjO8c6I9Br0iBLFNMyriHQS4BuQFIEukcnehKVHktUX1OeWCLQ6xsCCPTm+K6tmlgmMkzmEehtBV1NXsoxvnOsMwK9Jg2yRDEt4xoCvQToBiRFoHt0oidR6bFE9TXliSUCvb4hgEBvju/aqollIsNkHoHeVtDV5KUc4zvHOiPQa9IgSxTTMq4h0EuAbkBSBLpHJ3oSlR5LVF9Tnlgi0OsbAgj0RHw3adIkmThxopx00klyxRVXuFJ9+umnctppp8ltt90my5Ytk7322kumTZsmgwYN6ij1ggULZOzYsfLAAw9I7969ZfTo0TJlyhTp1atXoZpZJjJM5hHohYKspolyjO8c64xAr2kDXUuxLeMaAr158bC2GiHQPfrbk6j0WKL6mvLEEoFe3xBAoCfguyeeeEIOPfRQ6du3r+y5554dAv2EE06QmTNnyk033SSbbLKJnHrqqbJ48WJ56qmnpGfPnrJ8+XLZaaedZNNNN5VLL71U3nvvPTnqqKPkoIMOkv+PvTMB97Kq9v8SQgQTHFADQUVySMx59lb6KA5kOJQT3VIeS694NefxZlCOF0x7EBSzHEPNckBFkXLWMoc0czZTQCxEkVRQ/yr/Z+3rOZ1zOIffb++19zt+3ufhyeDda6/1WXvvd39/e7/7nTBhQlORWSYyTOYR6E01spLeVMf2XceYEegl7aAIdJFu3aMmL3QyH9WJjI0h0CMCjyQqI3pUXlORWIb2aYs2KC/0Ynu+zOLFixcX28Vqeffee+/J5ptv7lbGzzzzTCe4dQV9wYIFTnhfffXVcsABB7ig58yZI4MGDZJp06bJbrvtJnfccYfsueeeMmvWLBkwYIC757rrrpNDDjlE5s6d6wR/o8vSCZnMI9Abta8y/3sd23cdY0agx+uluhPsxhtvlOeff97t6Np+++3lvPPOk/XXX7+1kqLvDFNHpzwyMx6U2JYiTdw7cyt0Mh87xCztIdAj0k7YNiN6WQ5TkViG9mmLNigH4PJ5iUDPOGe64r3yyivLBRdcIDvuuGOrQNct67qlXVfMV1pppVavNtlkE9l7771l7NixcsYZZ8gtt9wiTz31VOu/z58/39nT8roa3/HSyZH+abm0E6ronzdvXlOCvq09fbDNmDFD3u83NPov+c2kYb8t/73Vv5n7Y93TEvewYcOkR48escwW2k6euc47z3Vq33nmWTtA3rkO6dM6hvbr18/9qNrMj6KF7uhG53bffXc58MADZauttpKPP/5YTj/9dHn66afl2WefleWXX95ZL/rOMAS6sRGUrDgCPWLCIonKiB6V11Qklgj08jaBjp4j0DPMpa5266r5Y489Jsstt1w7gT5lyhQZNWpUOzGtru26664yePBgmTx5shx22GHy6quvyl133dXO6549e7pt8QcddNAS0YwZM8aJ+46X1te7d+8Mo6cqCEAAAuUnsHDhQnf2BwJ9yVy++eabstpqq8l9990nX/3qV0uxMwyBXv4+6RMBAt2HVoN7I4nKiB6V11Qklgj08jYBBHpOudNt6VtuuaUT17oqrlfbFfSuBLqu8AwZMkQuueQSJ9Bfe+01mT59erso9IC4q666yq1kdLxYQbcnnBX0uO89NspI3quqrKA3ylC8f88716ygx8ulWnr55Zdl3XXXdavoG220kdvZlWJnWEevrdsz2eIetx0U2RoCPWJ2IonKiB6V11Qklgj08jYBBHpOubv55ptln332cYe9tVx66Nsyyywj3bp1c6J7l112ib7FPeZEhvdV6/cO+vurbZz56wyhDxhr165j+65jzNpOLJN0qxi0ttOiltfjbPbaay/R164eeOAB52aqnWExf3hWP294bHZRsYroxH3eM0leLcvrB7I8Yef5g3uh21lIUhK2zRB3Sl0mEsvQPs2rW8VrPWxxzygn7777rlv9bnvplvYNNthATj75ZPdeuB4Sd80117gT3vV644033CfWOh4SN3v2bOnfv7+75/rrr3cnuXNIXLpEWibz6bxKazlP4YZAT5vbttbzzLP6kXeuhw/3/9ENgd55+9TPf95+++3y4IMPtn4aNNXOMF7dym6MoCYIQKD6BHh1q3g5RqDnmJO2W9zVDT1M57bbbnPvk+vBb/pNdP2UWsfPrK2++uoybtw4t9quJ7jrIXJ8Zi1dIhHo2W5xz1u05bFrIC+xikBHoMcYOY866ijRXWL333+/OzOl5Uq1xZ0V9BhZy++Qxjjeh1lhBT2MW6elIq36RvSovKYisWQFvbxNoKPnCPQcc9lRoH/wwQdy4oknum2BixYtcu/u6efYdHW95Zo5c6aMHj3avdunn7XRw4rGjx8velBcM5dl9YfJvP9kvpmcFPGePHONQM+uReSZ57x+lNB6LT+6WcbQ7DKbTU26rV3F+U033ST33nuve/+87dXy+dAi7wxTf3kHPZv2UoRaLH3f6n+h21lIcJHemw6punJlIrEMnT/xXCtei0KgFy8nST2ydEIm8wj0pI3zM+OhDxirb3Vs33WMGYFu7Sn/Lq8/FusPyvr5z7bfPu/bt6/7AVmvou8MQ6DHaw9lsIRAj5ilSKIyokflNRWJZej8yaINygu92J4j0Iudn+jeWTohk3kEevQG2YnB0AeM1bc6tu86xoxAt/aUf5fXQ047uy6//HL3+pVeRd8ZhkCP1x7KYAmBHjFLkURlRI/KayoSy9D5k0UblBd6sT1HoBc7P9G9s3RCJvMI9OgNEoHeSiD0wWrJCX3av09bxlBLrijbNQFrTgq99TjSxL0zenmMOXm3YwR6xAwkbJsRvSyHqUgsQ/u0dQwtB+RyeYlAL1e+zN5aOiGTef/JvDlhORnIM9ehDxgrqjxjVt/ziLuOMStryyTdMoZa2yjlOydgzQkCvT4ty9L3rZQK3c5CgoskKkOqrlyZSCxD5xHWMbRy+ShAQAj0AiQhSxcsnZDJPAI9i7Ya+oCx+lbH9l3HmBHo1p5SvPKW55pGU2jhFGnizgr6/xFAoEfsvwnbZkQvy2EqEsvQ+ZN1DC0H5HJ5iUAvV77M3lo6IZN5BLq5ATZhIPQB04Tppd5Sx/Zdx5itk3TLGGpto5TvnIA1Jwj0+rQsBHrEXEcSlRE9Kq+pSCxD50/WMbS84IvrOQK9uLlJ4pmlEzKZR6AnaZQdjIY+YKy+1bF91zFmBLq1pxSvvOW5ptEg0IuX01QeIdAjko0kKiN6VF5TkViGzp+sY2h5wRfXcwR6cXOTxDNLJ2Qyj0BP0igR6I5A6IPVkhP6tH+ftoyhllxRtmsC1pwg0OvTuhDoEXMdSVRG9Ki8piKxDJ1HWMfQ8oIvrucI9OLmJolnlk7IZN5/Mp8kiRkYzTPXoQ8YK5Y8Y0agW7PnV94ySbeMoX5ecnezBKw5QaA3S7r891n6vjX6QrezkOAiicqQqitXJhLL0PmTdQytXD4KEBACvQBJyNIFSyeso4DR3OT5QM+ybbStK89chz5grKzyjBmBbs2eX3lLn7aMoX5ecnezBKw5KbRwijRx74xlXmNts3lNcZ+l71v9KXQ7CwkuYdsMcafUZSKxDO3T1jG01OwL6jwCvaCJSeWWpRPWUcAg0DcW6dY9VXPs1G7oA8bqZB3bdx1jtvZpyxhqbVSSAaYAACAASURBVKOU75yANSeFFk6RJu4I9P8jgECPOIokbJsRvSyHqUgsQ+dP1jG0HJDL5SUCvVz5Mntr6YRM5tnibm6ATRgIfcA0YXqpt9SxfdcxZusk3TKGWtso5RHoMdtAXmNtzBh8bSHQfYkt5f5IojKiR+U1FYllaJ/muVa8poNAL15Oknpk6YRM5hHoSRvnZ8ZDHzBW3+rYvusYMwLd2lOKV97yXNNoWEEvXk5TeYRAj0g2kqiM6FF5TUViGTp/so6h5QVfXM8R6MXNTRLPLJ2QyTwCPUmj7GA09AFj9a2O7buOMSPQrT2leOUtzzUEevHymdIjBHpEupFEZUSPymsqEsvQ+ZN1DC0v+OJ6jkAvbm6SeGbphEzmEehJGiUC3REIfbBackKf9u/TljHUkivKdk3AmhNW0OvTuhDoEXMdSVRG9Ki8piKxDJ1HWMfQ8oIvrucI9OLmJolnlk7IZN5/Mp8kiRkYzTPXoQ8YK5Y8Y0agW7PnV94ySbeMoX5ecnezBKw5QaA3S7r891n6vjX6QrezkOAiicqQqitXJhLL0PmTdQytXD4KEBACvQBJyNIFSyeso4DR3OT5QM+ybbStK89chz5grKzyjBmBbs2eX3lLn7aMoX5ecnezBKw5KbRwijRx74xlXmNts3lNcZ+l71v9KXQ7CwkuYdsMcafUZSKxDO3T1jG01OwL6jwCvaCJSeWWpRPWUcAg0PnMWqq+2NFu6IPV4h992n9XjGUMteSKsl0TsOak0MIp0sQdgf5/BBDoEUeShG0zopflMBWJZeg8wjqGlgNyubxEoJcrX2ZvLZ2Qybz/ZN6csJwM5Jnr0AeMFVWeMavvecRdx5itk3TLGGpto5TvnIA1Jwj0+rQsBHrEXEcSlRE9Kq+pSCxD5xHWMbS84IvrOQK9uLlJ4pmlEzKZR6AnaZQdjIY+YKy+1bF91zFmBLq1pxSvvOW5ptEg0IuX01QeIdAjko0kKiN6VF5TkViGzp+sY2h5wRfXcwR6cXOTxDNLJ2Qyj0BP0igR6I5A6IPVkhP6tH+ftoyhllxRtmsC1pwg0OvTuhDoEXMdSVRG9Ki8piKxDJ1HWMfQ8oIvrucI9OLmJolnlk7IZN5/Mp8kiRkYzTPXoQ8YK5Y8Y0agW7PnV94ySbeMoX5ecnezBKw5QaA3S7r891n6vjX6QrezkOAiicqQqitXJhLL0PmTdQytXD4KEBACvQBJyNIFSyeso4DR3OT5QM+ybbStK89chz5grKzyjBmBbs2eX3lLn7aMoX5ecnezBKw5KbRwijRx74xlXmNts3lNcZ+l71v9KXQ7CwkuYdsMcafUZSKxDO3T1jG01OwL6jwCvaCJSeWWpRPWUcAg0DnFPVVf7Gg39MFq8Y8+7b8rxjKGWnJF2a4JWHNSaOEUaeKOQP8/Agj0iCNJwrYZ0ctymIrEMnQeYR1DywG5XF4i0MuVL7O3lk7IZN5/Mm9OWE4G8sx16APGiirPmNX3POLOO2ZrzoLLfzYZGj7cv09bxtBgfym4VALWnCDQ69PAEOgRcx1JVEb0qLymIrEMnUdYx9Dygi+u5wj04uYmiWeWTpj3ZD504LGCzPOBbvU9tHyeuc47z++vlv2uAQR6aEsNLIdADwRXzGKW55pGhEAvZl5TeJXn87zQ7SwEdiRRGVJ15cpEYhk6f7KOoZXLRwECQqAXIAlZumDphHmKtrwEjNab5wM9y7bRtq48cx36gLGyyjPmvNp33jFbcxZcHoEejK6IBS3PNQR6ETOazqc8n+cI9HR5Lb1lBHrpUxg7AAR6bKIFt2eZyOQ9mc9buIVshy14c+jSvTxznXeeWUEva6v18BuB7gGr+LdanmsI9OLnN6aHCPSINCOJyogelddUJJah8yfrGFpe8MX1HIFe3Nwk8czSCfMUbXmtMGq9eT7QkzSCJozmmevQB0wTYS31ljxjzqt95x2zNWfB5RHoweiKWNDyXEOgFzGj6XzK83nOCnq6vJbeMgK99CmMHQACPTbRgtuzTGTynsznLdxYQc+mceedZ1bQs8lzrrUg0HPFH7tyy3MNgR47G8W2h0CPmJ9IojKiR+U1FYll6PzJOoaWF3xxPUegFzc3STyzdEIEuv+Jz0mSmIHRPHMd+oCxYskzZlbQrdnzLI9A9wRW7NstzzUEerFzG9s7BHpEopFEZUSPymsqEsvQ+ZN1DC0v+OJ6jkDPKDfnnHOO3HjjjfL8889Lr169ZPvtt5fzzjtP1l9//VYPPvzwQznhhBPk2muvlUWLFsnOO+8skyZNkoEDB7beM3PmTDnyyCPl7rvvdnZGjhwp48ePl2WXXbapSCydsI4CRqHm+UBvKqkJbsoz16EPGCuGPGNGoFuz51kege4JrNi3W55rCPRi5za2d3k+z9niHjubFbKHQK9QMuOEgkCPw7Ghld13310OPPBA2WqrreTjjz+W008/XZ5++ml59tlnZfnll3fljzjiCLn11lvliiuukFVWWUWOP/54efvtt+Xxxx+X7t27yyeffCKbbrqprLrqqnL++efLW2+9JQcffLDsu+++MmHChIY+6A2WiUwdBQwCPftPjiHQm+rKUW7Ku09HCSLECAI9hFqnZe6//34ZN26ce0698cYbctNNN8nee+/deu/ixYtl7Nixcumll8r8+fNlm222kYkTJ8rQoUNb79G/P/roo2Xq1Knu70aMGOGeaSuuuGJTflqeawj0phBX5iYEesRURhKVET0qr6lILEPnT9YxtLzgi+s5Aj2n3Lz55puy2mqryX333Sdf/epXZcGCBU54X3311XLAAQc4r+bMmSODBg2SadOmyW677SZ33HGH7LnnnjJr1iwZMGCAu+e6666TQw45RObOnSt9+vRpGI2lE+Y9mQ8deBpCaXBDng90q++h5fPMdd555h300FZTonII9GjJ0ufSQw89JJtvvrl885vfXEKg606xs846y/3wvN5668mZZ54pKupfeOEFWWGFFZwfe+yxh8yePduJeL0OO+wwWXvttd0P1s1clucaAr0ZwtW5J8/nOSvo1WlH0SNBoEdHWnaDCPScMvjyyy/Luuuu61bRN9poI7dlXbe064r5Siut1OrVJpts4lYjdAXijDPOkFtuuUWeeuqp1n/XlYeVV17Zld9pp52WiEa3zeuflksnMir6582b15Sgb2tQH2wzZsyQ9/sNFenWPXNy+235763+WVbeEvewYcOkR48eWVadW1155jrvPNepfeeZ59wat1ask6F5z0hIn9YxtF+/fu5H1WZ+FM01zowrX2aZZdoJdF091x+TjznmGDn55JOdN/o8Wn311d0rXocffrg899xzsuGGG8of//hHt7qul/73dttt514Ja/saWFfhINDDEp3Xj6Fh3sYphUCPw9FZiSQqI3pUXlORWIb2aesYWl7wxfUcgZ5DbnTSstdee7ntfg888IDzYMqUKTJq1Kh2Ylr/ftddd5XBgwfL5MmT3arCq6++KnfddVc7r3v27OlWJw466KAlohkzZowT9x0vra937945RE+VEIAABMpLYOHChe7sDwT6kjnsKNBfeeUVGTJkiDzxxBOy2WabtRbQ559uX7/yyivll7/8pRx33HHyzjvvtDOo/37BBRe452LHK+YPz2r7hsdmF7dBfvZjUoofDvP6MTRP2Hn+4F7odhaSlIRtM8SdUpeJxDK0T/PDc/FaDwI9h5zoIW+33367PPjgg60HwHUl0HWFRyc4l1xyiRPor732mkyfPr2d13pA3FVXXeXecU85kcl7tS104LGmOM8HutX30PJ55jrvPKeYCDeThzzizjPPzTBJdg8r6EnQdhToDz/8sOywww7y+uuvt76WpRW3fZadffbZ7gfmF198sZ1Puh1exfmpp566hK/88JwkfRiFAARqSoAfnouXeAR6xjk56qij5Oabb3bv4OnKeMuVaot7x/As21jyfC9Z4wjdumNNcZ5b4qy+h5bPM9d555l30ENbTYnK8Q56kmR1JdD1PJX+/fu31vn973/fnaVy5513igp0XUnXd9LbXvoK2KGHHiqnnHJK0h+e1XihVzYjrax1lvA8fhRM0vA8jOb5g3uh25kHw9ZbE7bNEHdKXSYSy9A+zQp68VoPAj2jnOi2dhXnesLtvffe694/b3u1HBJ3zTXXyP777+/+SU/E1U+sdTwkTg/TaZnsXH/99e4kdw6JS5dIBHq25w0g0NO15Y6W8/whJrsoO6kJgZ4Ef1Zb3GP+8Ky2Cn14V6R3UztLeF5jbZLG16TRPJ/nhW5nTfJrd1vCthniTqnLRGIZ2qcti3el5l5g5xHoGSVn9OjR7j1zPeSt7aE3ffv2dd8z10s/s3bbbbe57X568Jt+E10/pdbxM2t6wI5+1kYPlNMT3PUQOT6zli6ReT7Q00W1dMt5CrfQB4yVVZ4xq+95xJ13zNacBZdHoAejW1rBrg6JO/bYY+Wkk05yRT/66CP3BZOOh8Q98sgjsvXWW7t79L+33XZbDolTGJEm7gj0/yOQ5/McgZ5k2KmG0Uj9PHQegUAvXjNCoGeUE524dHZdfvnlTmTr9cEHH8iJJ57ohPyiRYvcqe6TJk1yp663XDNnzhQV+7olXoW9HlY0fvx40YPimrksnTDvyXzowNMMl6Xdk+cD3ep7aPk8c513ntniHtpqSlQOgR4tWe+9957oV0n00oPgfvrTn7oviuiPzGuuuaYT4uecc47os053jumWdt1F1vEza7oNXg9D1UvfUV9rrbX4zBoCPVo7bTGU5/McgR49ndUxiECvTi4jRYJAjwSyLGYQ6P6ZyvOB7u9tnBII9Gy39WvW8vhhIs88x2mpgVYQ6IHgliymYruzT3zqq1e6G0xf79Iviaj41i+X6KfUJk6c6D4v2nLpbrCjjz5apk6d6v5qxIgRctFFF7mT3pu5LM81tV9o4RRp4t4ZxzzGnGbymfKePJ/nhW5nIdATts0Qd0pdJhLL0D5tHUNLzb6gziPQC5qYVG5ZOmHek/nQgcfKMs8HutX30PJ55jrvPLOCHtpqSlQOgV6iZDV21fJcQ6A35lulO/J8niPQq9SSIseCQI8MtPzmEOjlz6FXBJaJTJ6iTYPMW7gNHz5cevTo4cW7rDfnmeu884xAL2ur9fAbge4Bq/i3Wp5rCPTi5zemhwj0iDQjicqIHpXXVCSWofMn6xhaXvDF9RyBXtzcJPHM0gnzFG0I9CTNoUujeeY69AFjJZRnzHm177xjtuYsuDwCPRhdEQtanmsI9CJmNJ1PCPSIbCOJyogelddUJJah8yfrGFpe8MX1HIFe3Nwk8czSCfOezIcOPFaQeT7Qrb6Hls8z13nnmRX00FZTonII9BIlq7GrlucaAr0x3yrdkefznC3uVWpJkWNBoEcGWn5zCPTy59ArAstEJk/RltcKo9ab5wPdK7kRb84z1wj0iIlsYCrPPGcXZSc1IdBzxR+7cstzDYEeOxvFtpfn8xyBXuy2kat3CPRc8RexcgR6EbOS0CfLRCbvyXzewo130BM2zDam884zK+jZ5DnXWhDoueKPXbnluYZAj52NYttDoEfMTyRRGdGj8pqKxDJ0/mQdQ8sLvrieI9CLm5sknlk6IQKdQ+KSNMoORkMfMFbf6ti+847ZmrPg8gj0YHRFLGh5riHQi5jRdD4h0COyjSQqI3pUXlORWIbOn6xjaHnBF9dzBHpxc5PEM0snzHsyHzrwWEHm+UC3+h5aPs9c551nVtBDW02JyiHQS5Ssxq5anmsI9MZ8q3RHns9ztrhXqSVFjgWBHhlo+c0h0MufQ68ILBOZPEWbBpm3cGOLu1dTC7457zwj0INTV56CCPTy5KoJTy3PNQR6E4ArdAsCPWIyI4nKiB6V11QklqHzJ+sYWl7wxfUcgV7c3CTxzNIJEehscU/SKDsYDX3AWH2rY/vOO2ZrzoLLI9CD0RWxoOW5hkAvYkbT+YRAj8g2kqiM6FF5TUViGTp/so6h5QVfXM8R6MXNTRLPLJ0w78l86MBjBZnnA93qe2j5PHOdd55ZQQ9tNSUqh0AvUbIau2p5riHQG/Ot0h15Ps/Z4l6llhQ5FgR6ZKDlN4dAL38OvSKwTGTyFG0aZN7CjS3uXk0t+Oa884xAD05deQoi0MuTqyY8tTzXEOhNAK7QLQj0iMmMJCojelReU5FYhs6frGNoecEX13MEenFzk8QzSydEoLPFPUmj7GA09AFj9a2O7TvvmK05Cy6PQA9GV8SClucaAr2IGU3nEwI9IttIojKiR+U1FYll6PzJOoaWF3xxPUegFzc3STyzdMK8J/OhA48VZJ4PdKvvoeXzzHXeeWYFPbTVlKgcAr1EyWrsquW5hkBvzLdKd+T5PGeLe5VaUuRYEOiRgZbfHAK9/Dn0isAykclTtGmQeQs3trh7NbXgm/POMwI9OHXlKYhAL0+umvDU8lxDoDcBuEK3INAjJjOSqIzoUXlNRWIZOn+yjqHlBV9czxHoxc1NEs8snRCBzhb3JI2yg9HQB4zVtzq277xjtuYsuDwCPRhdEQtanmsI9CJmNJ1PCPSIbCOJyogelddUJJah8yfrGFpe8MX1HIFe3Nwk8czSCfOezIcOPFaQeT7Qrb6Hls8z13nnmRX00FZTonII9BIlq7GrlucaAr0x3yrdkefznC3uVWpJkWNBoEcGWn5zCPTy59ArAstEJk/RpkHmLdzY4u7V1IJvzjvPCPTg1JWnIAK9PLlqwlPLcw2B3gTgCt2CQI+YzEiiMqJH5TUViWXo/Mk6hpYXfHE9R6AXNzdJPLN0QgQ6W9yTNMoORkMfMFbf6ti+847ZmrPg8gj0YHRFLGh5riHQi5jRdD5N+cPfZfm5f5G8fohNF1kOliOJyhw8L16VkViGzp+sY2jxgJbfIwR6+XPoFYGlE+Y9mQ8deLwAdXJznnETszV7zZfPM8/qZR65zjvm5rMT+U4EemSg+ZqzPNcQ6PnmLuvaEegRiUcSlRE9Kq+pSCxD5xHWMbS84IvrOQK9uLlJ4pmlE+Y9mQ8deKwg84ybmK3Za758nnlGoDefpyh3ItCjYCyKEctzDYFelCxm4wcCPSLnSKIyokflNRWJZeic0TqGlhd8cT1HoBc3N0k8s3TCOgoYTUKecYcOttbGQ8zdrQi9y+eR6zzz7A0oZgEEekyauduyPNfqLNDzSlweY11LrAj0iFmPJCojelReU5FYhvYt6xhaXvDF9RyBXtzcJPHM0gnznsyHDjxWkHnGTczW7DVfPs88q5d55DrvmJvPTuQ7EeiRgeZrzvJcQ6Bnn7s8xjoEeoI8RxKVCTwrn8lILEP7lnUMLR/w4nuMQC9+jqJ6aOmEeU/mQwceK8A84yZma/aaL59nnhHozecpyp0I9CgYi2LE8lxDoBclixn5EUkIZeRtsauBZbz8RGIZOme0jqHxQGCphQACvWZtwdIJ6yhgtHnkGXfoYGtt1sTMFndrGyp0eQR6odPj65zluYZA96Vd8vsjCaGSU4jjPizjcFQrkViGzhmtY2g8EFhCoNe0DVg6YZ6iLa8VRgT6xiLdshWroQ8Ya5euY/vOO2ZrzoLLI9CD0RWxoOW5hkAvYkYT+hRJCCX0sDymYRkvV5FYhs6frGNoPBBYQqDXtA1YOmHek/nQgcea6jzjJmZr9povn2ee8/oBKu+Ym89O5DsR6JGB5mvO8lxDoOebu8xrjySEMve7iBXCMl5WIrEMnTNax9B4ILCEQK9pG7B0wrwn86EDjzXVecZNzNbsNV8+zzwj0JvPU5Q7EehRMBbFiOW5hkAvShYz8iOSEMrI22JXA8t4+YnEMnTOaB1D44HAEgK9pm3A0gnrKGC0meQZd+hga23exJzttn4EurXFepZHoHsCK/btlucaAr3YuY3uXSQhFN2vMhqEZbysRWIZOme0jqHxQGAJgV7iNjBp0iQZN26cvPHGGzJ06FC58MIL5Stf+UpTEVk6YZ6iLS8Bg0DnHfSmOlaEm0IfrJaq8+7TFt9NZRHoJnwpCuf1XEOgp8hmgW1GEkIFjjA712AZj3UklqHzCIs2iAcBS20JcIp7ydrD9ddfL9/5zndEJzM77LCDTJ48WS677DJ59tlnZc0112wYjaUT5j2ZDx14GkJpcEOecROzNXvNl88zz3n9AJV3zM1nJ/KdCPTIQG3m8nyuIdBtuStd6UhCqHRxp3AYlvGoRmIZOme0aIN4ELCEQC9xG9hmm21k8803l4svvrg1ii996Uuy9957yznnnNMwMksnzHsyHzrwNISCQF+CQJ65rmOeEejWXupZHoHuCSzt7Xk+1xDoaXNbOOuRhFDh4srDIVjGox6JZej8yaIN4kHAEgK9pG3go48+kt69e8sNN9wg++yzT2sUP/jBD+TJJ5+U++67r2Fklk6Yp2jLS8BovXnGHTrYNmwI/ChRqB8l8mrfebZtaxs1lUegm/DFLJz3cw2BHjObJbAVSQiVINL0LsIyHuNILEPnjBZtEA8ClhDoJW0Dc+bMkTXWWEMeeugh2X777VujOPvss+XKK6+UF154YYnIPvzwQ9E/LdeCBQvcVvi///3vssIKK3iR0Mn8PffcI++vskHm38ZWR/fZbA0vf2PdnGfcxBwri43t5JnnvNp33jE3zkqiO3Qy9NbzstNOO0mPHj28Knn33Xdl8ODB8s4770jfvn29ynLzkgTyfq6pRzf9+fXipuaztprXc7e4YAI9g2cguE6KwbJwLEPnjDzX4qUyliXeQY9FMgM7LROZhx9+WLbbbrvWGs866yy5+uqr5fnnn1/CizFjxsjYsWMz8I4qIAABCNSHwKxZs2TgwIH1CThRpDzXEoHFLAQgAAFPAjzXPIElvB2BnhBubNMhWwE7rqB/+umn8vbbb8sqq6wiyyyzjJeLugVm0KBBoh24T58+XmXLfHMd4ybmerTvOuZZxyJL3IsXLxZdbRgwYIB069atzENbIXzP+7lWCAhLccLSVoseWx7+wTMedVhWhyXPtXi5jGUJgR6LZEZ29DCdLbbYwp3i3nJtuOGGstdeezV1SJzFzbq+o1LHuIm5PgJdt2nrqy91+9GtjnFbxv+UZfN8rqWMK4btOo7FMbh1ZQOe8ejCEpbxCGCpIwEEesnaRMvnaC655BK3zf3SSy+Vn//85/LMM8/IWmutlTSaug7GdYybmBHoSQeTnI3XsX3njHyp1ef5XCsyF/WNtho3Q/CMxxOWsIxHAEsI9Aq0AV09/9///V954403ZKONNpILLrhAvvrVryaPrK6DcR3jJmYEevIBJccK6ti+c8TdVNV5Pdeaci7Hm2irceHDMx5PWMIyHgEsIdBpA8EE9H12/db6qaeeKj179gy2U7aCdYybmOvRvuuYZx1/6hp32cZe/KWtxm4D9P14RGEJy3gEsIRApw1AAAIQgAAEIAABCEAAAhCAAAQKSIB30AuYFFyCAAQgAAEIQAACEIAABCAAgfoRQKDXL+dEDAEIQAACEIAABCAAAQhAAAIFJIBAL2BScAkCEIAABCAAAQhAAAIQgAAE6kcAgV6/nBMxBCAAAQhAAAIQgAAEIAABCBSQAAK9gEkpmkt6cvuNN94ozz//vPTq1Uu23357Oe+882T99dcvmqvR/Ln44otF/7z66qvO5tChQ+WMM86QPfbYI1odRTekeT/ttNPkBz/4gVx44YVFdzfYvzFjxsjYsWPblV999dXlH//4R7DNMhR8/fXX5eSTT5Y77rhDFi1aJOutt5784he/kC222KIM7nv7uPbaa8trr722RLnRo0fLxIkTve1RAAIWAvfff7+MGzdOHn/8cffJ1Jtuukn23nvvVpOHHHKIXHnlle2q2GabbeSPf/xj69/pKdonnHCCXHvtta4P77zzzqKfqxs4cKDFtVKVbWZ+0gynmTNnypFHHil33323m+eMHDlSxo8fL8suu2ypeFidbYbnjjvuKPfdd1+7qg444AC57rrrWv9u/vz5cvTRR8vUqVPd340YMUImTJggK664otXF0pRvNI+kXZYmlbk4ikDPBXu5Kt19993lwAMPlK222ko+/vhjOf300+Xpp5+WZ599VpZffvlyBdOkt7feeqt0795dvvjFL7oSOlHSydSf//xnJ9arfj366KOy//77S58+fWSnnXaqvED/zW9+I7/73e9a06q5X3XVVSubZp08bbbZZi63RxxxhKy22mryt7/9TVTEDhkypJJxv/nmm/LJJ5+0xvbXv/5Vhg0bJvfcc4/ohJMLAlkS0B/GHnroIdl8883lm9/8ZqcC/Z///KdcfvnlrW6pWFx55ZVb/7/2XX1WXXHFFbLKKqvI8ccfL2+//bYT/TqG1eFqZn7SiJOOC5tuuqkb888//3x566235OCDD5Z9993Xico6Xc3w1PFSf9D98Y9/3IpGf9To27dv6//XxYzZs2fLpZde6v7usMMOc88Xba91uRrNI2mXdWkJYXEi0MO41bqUTnR1Qq+/oH71q1+tDQudGKlIP/TQQysd83vvvecmjboSc+aZZ7qJS9VX0G+++WZ58sknK53XtsGdcsopThw88MADtYm5Y6DHHHOM3HbbbfLSSy/JMsssU1sOBJ4/AW1/na2gv/POO6JjU2fXggULnKC8+uqrRVcv9ZozZ44MGjRIpk2bJrvttlv+geXgQcf5STOc9MeSPffcU2bNmiUDBgxwXutqsO5imDt3rvuhuq5XZ/M9FehLmxc899xzsuGGG7rdHrrrQy/97+22287txKzy7stG7aRlHvmtb32rYf+lXTaiWe1/R6BXO79Jonv55Zdl3XXXdavoG220UZI6imRUf12/4YYb3C/quoKuD54qXxqnPkQuuOACt7JYB4GuP7zor/89e/Z0E4qzzz5b1llnncqmWduwTuB1hUN/aFtjjTVEt3p///vfr2zMbQP76KOP3ET8uOOOc69xiLM4jQAAIABJREFUcEEgTwJdCXQV57pqrtuCv/a1r8lZZ53lfhzXS7di65Z2XTFfaaWVWt3fZJNN3Fb5jq/t5BlflnV3nJ80w0lfX7vlllvkqaeeanVVdxnpc1DL606jul6dzfd0XvDMM8/I4sWLRV8H09XyH/3oR7LCCis4TL/85S/d2Ko/MLW9tB3rvGLUqFG1w9lxHqmv0DXqv7TL2jWTdgEj0Oudf+/odUDea6+9RB9eVV990x8g9BffDz74QD7/+c/LlClTZPjw4d7MylRAVw101fyxxx6T5ZZbrhYCXX+lXrhwoduyp1tKNX79lV8nILpttIqX5lYvnUTtt99+8qc//Ul0RXny5Mny3e9+t4oht4vp17/+tXvHVN87bVkxq3zQBFhYAp0J9Ouvv949d9Zaay35+9//Lj/84Q/dK2a6fV1/SNTnkQodfY+17bXrrrvK4MGDXV+u29XZ/KQZTrr9Ws+bueuuu9ohU876+sBBBx1UN5Qu3q7mez//+c9dG/vCF74g+qrQqaee6l4HnDFjhiunP3ArtxdffLEdN33GapvV++tydTWPpF3WpQWEx4lAD2dXy5J6iMrtt98uDz74YOUPotFVNp3A66/Av/3tb+Wyyy5zq41VXUHX7X1bbrmlm6ToKoxedVhB79iR33//ffce9kknneQEbBUvXZXTXD/88MOt4emBPnr2wB/+8IcqhtwuJt09oAzq9D5k5ZNa4gA7E+gdw9GD5FSs64+o+m50VxN8PVdBx69LLrmkxETCXO9sftIMJxXoeoDk9OnT21WsY8RVV13lzuCp49XsfE9/NNLnif6vvh6nAl3P7XnhhRfaYdOdl/qKoL5iVZerq3mkvlLX2Q9sbfsv7bIuraTzOBHo9c6/V/RHHXWUex9OT5/VX0/rdu2yyy5u4lPVlQnN7T777NPucCHdlqWTx27durmVmrocPKQPSV0R0FNYq3jpRF9j1B+dWi6NVXcP6OnuVb50Iq6vL+iXKXQ3EBcE8ibQjEBXH1XgfO9733NfX2hm63becWVZf1fzk2Y4sZV4yUz5zPd0pV13G7Sch8AW965bfss8Us+NYIt7liNE+epCoJcvZ5l7rIOvDtZ6iM29997rJgl1vHQw1QN4dOtWFa933313ic9Q6S+8G2ywgZsQ1uG8Ac2r/hChP8Tor9c6cavipdu7dcdE29dUjj32WHnkkUfarapXMXb9rJ7+yKbxf+5zn6tiiMRUMgLNCHQ9WVzPitBTsfU1lJbDz6655hr3xQ29dJVdP7FWp0PiGs1PmuHUchiXnsnRv39/x1JfMdDzWOp2SFwjnp11Ld3m/uUvf7n14OCWQ+L0ebL11lu7Ivrf2267be0PiWuZR/7sZz9zh8Qtrf/SLks2kEd2F4EeGWgVzenhUbpNTA9RaXv6ph6qpZ/WqOKlB0fpwScqyFW46rbCc889V+6880638liXqw5b3PU7wt/4xjdkzTXXdJMxXUXWVxn03TFdaa7ipVvZt99+e3eQlE7u9R10PSBOJ//f/va3qxiyi+nTTz91u3/0nVLtz1wQyIuAfi1DD+DSSz95+NOf/tQdRqYHk+kf/SFJP7+mglHfj9Znkr5ypeKn5TAu/UyTfolAfzTWMjqWqZCv02fWmpmfNOLU8pk1PfBMDwzVg/f0BHc9bK9un1lrxFM/x/mrX/3KncfTr18/97ld/byfzgX1udKyy07nT/pVgZYdh/qDtz5P6/RaUaN5JO0yr9G3HPUi0MuRp1y97OoTRPp9Vn2IVfHS96R+//vfuxUJ/SFi4403dqvIdRLnmtc6CHR9v1Bf25g3b577RVt/5f/JT35S2bMGWvqrTuz1sB79zJiKVn3fvuqnuOv5Cvr+ub4bqQcWcUEgLwK6G62z08F11VZfN1FxqF8N0TNQVKTrvTou6Y/GLZceYHriiSe6H9AXLVrktszq5zHb3pNXfFnV28z8pBlO+uOHilPdEq9iU3cZjR8/3m3drtPViKfuPPrP//xPdzic/sikbe3rX/+6O8VdfyRqufRHDj3XZOrUqe6vRowYIRdddJH7IkFdrkbzSNplXVpCWJwI9DBulIIABCAAAQhAAAIQgAAEIAABCEQlgECPihNjEIAABCAAAQhAAAIQgAAEIACBMAII9DBulIIABCAAAQhAAAIQgAAEIAABCEQlgECPihNjEIAABCAAAQhAAAIQgAAEIACBMAII9DBulIIABCAAAQhAAAIQgAAEIAABCEQlgECPihNjEIAABCAAAQhAAAIQgAAEIACBMAII9DBulIIABCAAAQhAAAIQgAAEIAABCEQlgECPihNjEIAABCAAAQhAAAIQgAAEIACBMAII9DBulIIABCAAAQhAAAIQgAAEIAABCEQlgECPihNjEIAABCAAAQhAAAIQgAAEIACBMAII9DBulIIABCAAAQhAAAIQgAAEIAABCEQlgECPihNjEIAABCAAAQhAAAIQgAAEIACBMAII9DBulIIABCAAAQhAAAIQgAAEIAABCEQlgECPihNjEIAABCAAAQhAAAIQgAAEIACBMAII9DBulIIABCAAAQhAAAIQgAAEIAABCEQlgECPihNjEIAABCAAAQhAAAIQgAAEIACBMAII9DBulIIABCAAAQhAAAIQgAAEIAABCEQlgECPihNjEIAABCAAAQhAAAIQgAAEIACBMAII9DBulIIABCAAAQhAAAIQgAAEIAABCEQlgECPihNjEIAABCAAAQhAAAIQgAAEIACBMAII9DBulIIABCAAAQhAAAIQgAAEIAABCEQlgECPihNjEIAABCAAAQhAAAIQgAAEIACBMAII9DBulIIABCAAAQhAAAIQgAAEIAABCEQlgECPihNjEIAABCAAAQhAAAIQgAAEIACBMAII9DBulIIABCAAAQhAAAIQgAAEIAABCEQlgECPihNjEIAABCAAAQhAAAIQgAAEIACBMAII9DBulIIABCAAAQhAAAIQgAAEIAABCEQlgECPihNjEIAABCAAAQhAAAIQgAAEIACBMAII9DBulIIABCAAAQhAAAIQgAAEIAABCEQlgECPihNjEIAABCAAAQhAAAIQgAAEIACBMAII9DBulIIABCAAAQhAAAIQgAAEIAABCEQlgECPihNjEIAABCAAAQhAAAIQgAAEIACBMAII9DBulIIABCAAAQhAAAIQgAAEIAABCEQlgECPihNjEIAABCAAAQhAAAIQgAAEIACBMAII9DBulIIABCAAAQhAAAIQgAAEIAABCEQlgECPihNjEIAABCAAAQhAAAIQgAAEIACBMAII9DBulIIABCAAAQhAAAIQgAAEIAABCEQlgECPihNjEIAABCAAAQhAAAIQgAAEIACBMAII9DBulIIABCAAAQhAAAIQgAAEIAABCEQlgECPihNjEIAABCAAAQhAAAIQgAAEIACBMAII9DBulIIABCAAAQhAAAIQgAAEIAABCEQlgECPihNjEIAABCAAAQhAAAIQgAAEIACBMAII9DBulIIABCAAAQhAAAIQgAAEIAABCEQlgECPihNjEIAABCAAAQhAAAIQgAAEIACBMAII9DBulIIABCAAAQhAAAIQgAAEIAABCEQlgECPihNjEIAABCAAAQhAAAIQgAAEIACBMAII9DBulIIABCAAAQhAAAIQgAAEIAABCEQlgECPihNjEIAABCAAAQhAAAIQgAAEIACBMAII9DBulIIABCAAAQhAAAIQgAAEIAABCEQlgECPihNjEIAABCAAAQhAAAIQgAAEIACBMAII9DBulIIABCAAAQhAAAIQgAAEIAABCEQlgECPihNjEIAABCAAAQhAAAIQgAAEIACBMAII9DBulIIABCAAAQhAAAIQgAAEIAABCEQlgECPihNjEIAABCAAAQhAAAIQgAAEIACBMAII9DBulIIABCAAAQhAAAIQgAAEIAABCEQlgECPihNjEIAABCAAAQhAAAIQgAAEIACBMAII9DBulIIABCAAAQhAAAIQgAAEIAABCEQlgECPihNjEIAABCAAAQhAAAIQgAAEIACBMAII9DBulIIABCAAAQhAAAIQgAAEIAABCEQlgECPihNjEIBARwLLLLOM/OhHP5IxY8YkgzNt2jT505/+1Gkda6+9tuy4445yxRVXJKsfwxCAAAQgAAEIQAACEIhBAIEegyI2IACBLglkIdD/+7//WyZOnCiLFy9ewo8///nP0qdPHxkyZAhZggAEIAABCEAAAhCAQKEJINALnR6cg0D5CeQt0MtPkAggAAEIQAACEIAABOpCAIFel0wTJwRE5KWXXnLbzX/3u9/JggULZJ111hFdfT7yyCPlzTfflDXWWENOPvlk+clPftKO1/PPPy9f+tKX5Gc/+5kcffTR7l61c++998rMmTOld+/estFGG8nYsWPlK1/5SruyHQW6bnXX+zqudusW9FGjRsnf//530W3pel1//fXyi1/8Qp5++ml555133N/vtdde8sMf/lCWX355d88hhxwiV1555RL5bbHT2RZ39fm0006Tu+66q5XD9773PTn22GOlW7duztarr74qgwcPlnHjxrm/mzBhgov7y1/+slxwwQWy7bbb0qYgAAEIQAACEIAABCAQlQACPSpOjEGguASeffZZ2X777WXNNdeUE088Ub7whS/I9OnTndg844wznODed9995bHHHnPitEWoakQq2i+88EKZM2eOrLLKKvLCCy84sf61r33N2Xnvvffkpptukssvv1x+//vfu3e+Wy6LQD/zzDPl85//vKy33npOkOsPBeedd54T6nfffber4m9/+5uccsop8pvf/Eb+8Ic/tNa72WabSc+ePd29bd9BV5Gt//bRRx+5HyL032+77Ta56KKL5IgjjpBJkya1E+j67xtssIH813/9l/t7/XFg9uzZ7oeEvn37FjfheAYBCEAAAhCAAAQgUDoCCPTSpQyHIRBGYPfdd5dnnnnG/dF3sluuo446Si677DInvh988EEZMWKEW1keNmyYu+WTTz5xon677bZzIrizS+/RFXGtQ23feOONUQR627rUvtbz8MMPux8GnnrqKdl4443dLUt7B72jQD/11FPl3HPPlUceeUS23nrr1ipGjx4tl1xyifsRQH8QaFlB1xVzfY+9e/fu7t5HH33Ulbv22mvlwAMPDEsGpSAAAQhAAAIQgAAEINAJAQQ6zQICNSDwwQcfyAorrOBWiH/605+2i3jGjBkyfPhw0ZPQVZQPGjRIdtppJ5kyZYq7T//+61//utx+++3uvpZLxeyll14qujL/4Ycftv69rjY/99xzUQT6K6+8Iv/zP//jVsvnzp3bblv8ddddJwcccIC3QN9mm23cir/+UNH20lPg9d8uvvhit1reItB1df6cc85pvVVjXW655ZzI150FXBCAAAQgAAEIQAACEIhFAIEeiyR2IFBgAq+//roMHDhwqR5eddVV8p3vfEdOOukk9771G2+8ISuuuKLsv//+bmV91qxZravIKvKPP/54J2T33HNP6devn/s33f6t4lzFbcsVusVdRfT666/vxLCueuuqtr7rrn7oVnzdTq/vn+vls4L+xS9+0W1r1/fw2166bV1/nNBt9aeffnq7d9BPOOGEdvdmcfBdgZsTrkEAAhCAAAQgAAEIJCKAQE8EFrMQKBKBhQsXuq3nKsD1QLjOLj0QTd8vV4G94YYbupVkXaHu37+/HHPMMW7FuOXafPPN3fvX99xzTztT//Ef/+Hez16aQFc7Krh1VV/fEW+5xo8f796NbzncberUqe5AOD2ITre0t1wqrHWlP1SgN1pB150Bhx9+OAK9SA0YXyAAAQhAAAIQgEBNCCDQa5JowoSAilo9IE23ci+77LJLBaInlOs739/97nfd6rS+l62r2S3XFltsIauuuqrceeedrX/3l7/8xR2+pqvQSxPoujX9oIMOcn5stdVWreVVhN9///2tAv3WW29178PrwW9tT0zfb7/93LvwbQW6rubrqr7+ENGrV692sXV8B11Pb9ct648//rjoDw0tl8apB8R1fAddT3FnBZ3+AwEIQAACEIAABCCQBQEEehaUqQMCBSCg74rrCve6667r3kVX4fruu+/Kyy+/LCqGW05FV1f13XJdRdZt8XpA3EMPPdQuAj3xXU9A1y3tKqz1VPcf//jH7qT1jz/+eKkC/V//+pf7fJl+0k3LfO5znxP9xNoTTzzhxHnLCvpbb73lfNX6tb4ePXrIr371Kyes9XNxbQV6yyfa9L499tjDbbfXA+T0h4iuTnHXA+e0/rXWWsu9X6/b+pXLxIkTXaxtP7OGQC9AA8YFCEAAAhCAAAQgUAMCCPQaJJkQIdBCQEWnCmv9vJoeuqbvmKsI1sPf9L3rlktFtH4+bdGiRfLzn/9c9BvhbS/9RJneryeZq5DWLfH6qTb91JpuSV/aCrra0ZPQddu8nsSuPqh9XXnX/237HXRdPdfVcb1Pxb9uedfT1nXlu61AV3906/4tt9wi8+bNc6v/jb6DrtvslYPGqt+D17qPO+64Tr+DjkCnD0EAAhCAAAQgAAEIZEEAgZ4FZeqAAAQgAAEIQAACEIAABCAAAQg0IIBAp4lAAAIQgAAEIAABCEAAAhCAAAQKQACBXoAk4AIEIAABCEAAAhCAAAQgAAEIQACBThuAAAQgAAEIQAACEIAABCAAAQgUgAACvQBJwAUIQAACEIAABCAAAQhAAAIQgAACnTYAAQhAAAIQgAAEIAABCEAAAhAoAAEEegGSgAsQgAAEIAABCEAAAhCAAAQgAAEEes3awKeffipz5syRFVZYQZZZZpmaRU+4EIAABGwEFi9eLO+++64MGDBAunXrZjNGaQhAAAIQgAAEINCBAAK9Zk1i9uzZMmjQoJpFTbgQgAAE4hKYNWuWDBw4MK5RrEEAAhCAAAQgUHsCCPSaNYEFCxbIiiuuKDq57NOnT6Gj/3//7//JXXfdJbvuuqv06NGj0L6GOEd8IdSKUYbcFSMPoV5Y8vevf/3L/cj5zjvvSN++fUNdoBwEIAABCEAAAhDolAACvWYNQyeXOqlUoV4GgT5t2jQZPnx4ZQU68ZWzA6rAI3flzJ16bclfmcbQ8mYIzyEAAQhAAAL1JYBAr1nuyzS5tEyiy5BW4itDljr3kdyVN3cI9HLnDu8hAAEIQAACVSeAQK96hjvEh0AvTsIRecXJha8n5M6XWLHut+SvTGNosajjDQQgAAEIQAACzRBAoDdDqUL3lGlyaZlElyFlxFeGLLGCXtXzH0JfUSjTGFreHobnEIAABCAAgfoSQKDXLPdlmlwiYMvdOKucvyrHpq2O+Lrue2UaQ8s9guA9BCAAAQhAoJ4EEOg1y3uZJpeIhHI3zirnr8qxIdCX3u/KNIaWewTBewhAAAIQgEA9CSDQa5b3Mk0uEUHlbpxVzl+VY0OgI9DLPfLgPQQgAAEIQKDcBBDo5c6ft/cIdG9kyQog8pKhTW6Y3CVHnLQCS/7KNIYmhYhxCEAAAhCAAASSEECgJ8FaXKNlmlxaJtHFzcC/PSO+MmSpcx/JXXlzp55b8lemMbTcWcJ7CEAAAhCAQD0JINBrlvcyTS4tk+gypJX4ypAlBDqnuLdvA2UaQ8vbw/AcAhCAAAQgUF8CCPSa5b5Mk0sEbLkbZ5XzV+XYrCvMZWi1lvyVaQwtQy7wEQIQgAAEIACB9gQQ6DVrEWWaXFom0WVIK/GVIUusoLOCzgp6eXsqnkMAAhCAAATKRwCBXr6cmTxGoJvwRS2MQI+KM1Nj5C5T3NErs+SvTGNodHAYhAAEIAABCEAgOQEEenLExaqgTJNLyyS6WNRZha3aKixtsww9rGsfLfkr0xha7izhPQQgAAEIQKCeBBDoNcu7dXI55ZGZ2RH79BNZfu5f5P3VNhbp1l1GbrNmdnVnUJNFJGTgnrmKKsdX5dg08cTXdfO3jqHmjoUBCEAAAhCAAAQqTQCBXun0LhmcdXKJQI/XYBBB8VhmbYncZU08bn2W/FnH0LiRYA0CEIAABCAAgaoRQKBXLaMN4rFOLhHo8RqMRSTE8yKdpSrHV+XYWEFfep+wjqHpehyWIQABCEAAAhCoAgEEehWy6BGDdXKJQPeA3eBWRF48lllbIndZE49bnyV/1jE0biRYgwAEIAABCECgagQQ6FXLaIN4rJNLBHq8BmMRCfG8SGepyvFVOTZtEcTXdb+wjqHpehyWIQABCEAAAhCoAgEEehWy6BGDdXKJQPeA3eBWRFA8lllbIndZE49bnyV/1jE0biRYgwAEIAABCECgagQQ6FXLaIN4rJNLBHq8BmMRCfG8SGepyvFVOTZtEcTXdb+wjqHpehyWIQABCEAAAhCoAgEEekZZXHvtteW1115borbRo0fLxIkT5cMPP5QTTjhBrr32Wlm0aJHsvPPOMmnSJBk4cGBrmZkzZ8qRRx4pd999t/Tq1UtGjhwp48ePl2WXXbbpKKyTSwR606gb3ogIaoiosDeQu8KmpinHLPmzjqFNOchNEIAABCAAAQjUlgACPaPUv/nmm/LJJ5+01vbXv/5Vhg0bJvfcc4/suOOOcsQRR8itt94qV1xxhayyyipy/PHHy9tvvy2PP/64dO/e3ZXddNNNZdVVV5Xzzz9f3nrrLTn44INl3333lQkTJjQdhXVyiUBvGnXDGy0ioaHxAtxQ5fiqHJs2HeLrugNZx9ACdE1cgAAEIAABCECgwAQQ6Dkl55hjjpHbbrtNXnrpJdEJnwrvq6++Wg444ADn0Zw5c2TQoEEybdo02W233eSOO+6QPffcU2bNmiUDBgxw91x33XVyyCGHyNy5c6VPnz5NRWKdXCLQm8Lc1E2IoKYwFfImclfItDTtlCV/1jG0aSe5EQIQgAAEIACBWhJAoOeQ9o8++siJ7OOOO05OO+00t2Vdt7TrivlKK63U6tEmm2wie++9t4wdO1bOOOMMueWWW+Spp55q/ff58+fLyiuv7MrvtNNOTUVinVwi0JvC3NRNFpHQVAU531Tl+KocmzYb4uu681jH0Jy7JdVDAAIQgAAEIFBwAgj0HBL061//2r0/ru+Uq1CfMmWKjBo1yr2H3vbaddddZfDgwTJ58mQ57LDD5NVXX5W77rqr3T09e/Z02+IPOuigTiNRm23t6uRSV+bnzZvX9Kp7W8M3PDY7O2KffiLLz3tG3u83VKRbd9lvy3+/j5+dE+lqUhE0Y8YM96pDjx490lWUk+Uqx1fl2FoEOm2z846jY2i/fv1kwYIFQWNoTt2RaiEAAQhAAAIQKAkBBHoOidIt63qwm75zrldXAl2F25AhQ+SSSy5xAl0PmZs+fXo7j9XOVVddJQceeGCnkYwZM8atwHe8tM7evXvnED1VQgACECgvgYULF7ofWBHo5c0hnkMAAhCAAASKTACBnnF2VGSvs846cuONN8pee+3lak+5xZ0V9IwT7FEdq7AesAp2K7krWEI83bHkjxV0T9jcDgEIQAACEICAFwEEuhcu+826oq1b1vWwt8997nPOoK7E6CFx11xzjey///7u79544w33ibWOh8TNnj1b+vfv7+65/vrr3UnuHBJnz0seFnjPNw/qceokd3E45mXFkj/eQc8ra9QLAQhAAAIQqAcBBHqGef7000/dO+X6vvi5557brmb9zJqe6q7vk+vBb/pNdP2UWsfPrK2++uoybtw4d6CcnuCuh8jxmbUMkxixKotIiOhGMlNVjq/KsWmDIL6uuwUCPdmQgWEIQAACEIAABEQEgZ5hM9AD3vT98xdeeEHWW2+9djV/8MEHcuKJJ7r30RctWuROdZ80aZI70K3l0kPlRo8e7bbE9+rVy70HOX78eNGD4pq9rJNLTnFvlnTj+xBBjRkV9Q5yV9TMNOeXJX/WMbQ5D7kLAhCAAAQgAIG6EkCg1yzz1sklAj1eg7GIhHhepLNU5fiqHJu2COLrul9Yx9B0PQ7LEIAABCAAAQhUgQACvQpZ9IjBOrlEoHvAbnArIigey6wtkbusicetz5I/6xgaNxKsQQACEIAABCBQNQII9KpltEE81sklAj1eg7GIhHhepLNU5fiqHJu2COLrul9Yx9B0PQ7LEIAABCAAAQhUgQACvQpZ9IjBOrlEoHvAbnArIigey6wtkbusicetz5I/6xgaNxKsQQACEIAABCBQNQII9KpltEE81sklAj1eg7GIhHhepLNU5fiqHJu2COLrul9Yx9B0PQ7LEIAABCAAAQhUgQACvQpZ9IjBOrlEoHvAbnArIigey6wtkbusicetz5I/6xgaNxKsQQACEIAABCBQNQII9KpltEE81sklAj1eg7GIhHhepLNU5fiqHJu2COLrul9Yx9B0PQ7LEIAABCAAAQhUgQACvQpZ9IjBOrlEoHvAbnArIigey6wtkbusicetz5I/6xgaNxKsQQACEIAABCBQNQII9KpltEE81sklAj1eg7GIhHhepLNU5fiqHJu2COLrul9Yx9B0PQ7LEIAABCAAAQhUgQACvQpZ9IjBOrlEoHvAbnArIigey6wtkbusicetz5I/6xgaNxKsQQACEIAABCBQNQII9KpltEE81sklAj1eg7GIhHhepLNU5fiqHJu2COLrul9Yx9B0PQ7LEIAABCAAAQhUgQACvQpZ9IjBOrlEoHvAbnArIigey6wtkbusicetz5I/6xgaNxKsQQACEIAABCBQNQII9KpltEE81sklAj1eg7GIhHhepLNU5fiqHJu2COLrul9Yx9B0PQ7LEIAABCAAAQhUgQACvQpZ9IjBOrlEoHvAbnArIigey6wtkbusicetz5I/6xgaNxKsQQACEIAABCBQNQII9KpltEE81sklAj1eg7GIhHhepLNU5fiqHJu2COLrul9Yx9B0PQ7LEIAABCAAAQhUgQACvQpZ9IjBOrlEoHvAbnArIigey6wtkbusicfl3jDMAAAgAElEQVStz5I/6xgaNxKsQQACEIAABCBQNQII9KpltEE81sklAj1eg7GIhHhepLNU5fiqHJu2COLrul9Yx9B0PQ7LEIAABCAAAQhUgQACvQpZ9IjBOrlEoHvAbnArIigey6wtkbusicetz5I/6xgaNxKsQQACEIAABCBQNQII9KpltEE81sklAj1eg7GIhHhepLNU5fiqHJu2COLrul9Yx9B0PQ7LEIAABCAAAQhUgQACvQpZ9IjBOrlEoHvAbnArIigey6wtkbusicetz5I/6xgaNxKsQQACEIAABCBQNQII9KpltEE81sklAj1eg7GIhHhepLNU5fiqHJu2COLrul9Yx9B0PQ7LEIAABCAAAQhUgQACvQpZ9IjBOrlEoHvAbnArIigey6wtkbusicetz5I/6xgaNxKsQQACEIAABCBQNQII9KpltEE81sklAj1eg7GIhHhepLNU5fiqHJu2COLrul9Yx9B0PQ7LEIAABCAAAQhUgQACvQpZ9IjBOrlEoHvAbnArIigey6wtkbusicetz5I/6xgaNxKsQQACEIAABCBQNQII9KpltEE81sklAj1eg7GIhHhepLNU5fiqHJu2COLrul9Yx9B0PQ7LEIAABCAAAQhUgQACvQpZ9IjBOrlEoHvAbnArIigey6wtkbusicetz5I/6xgaNxKsQQACEIAABCBQNQII9KpltEE81sklAj1eg7GIhHhepLNU5fiqHJu2COLrul9Yx9B0PQ7LEIAABCAAAQhUgQACvQpZ9IjBOrlEoHvAbnArIigey6wtkbusicetz5I/6xgaNxKsQQACEIAABCBQNQII9KpltEE81sklAj1eg7GIhHhepLNU5fiqHJu2COLrul9Yx9B0PQ7LEIAABCAAAQhUgQACvQpZ9IjBOrnMU6B7hBn91pHbrBndJiIoOtLMDJK7zFAnqciSP+sYmiQgjEIAAhCAAAQgUBkCCPTKpLK5QKyTSwR6c5ybucsiEpqxn/c9VY6vyrFpuyG+rnuPdQzNu19SPwQgAAEIQAACxSaAQC92fqJ7Z51cItDjpQQRFI9l1pbIXdbE49ZnyZ91DI0bCdYgAAEIQAACEKgaAQR61TLaIB7r5BKBHq/BWERCPC/SWapyfFWOjRX0pfcJ6xiarsdhGQIQgAAEIACBKhBAoFchix4xWCeXCHQP2A1uReTFY5m1JXKXNfG49VnyZx1D40aCNQhAAAIQgAAEqkYAgZ5hRl9//XU5+eST5Y477pBFixbJeuutJ7/4xS9kiy22cF4sXrxYxo4dK5deeqnMnz9fttlmG5k4caIMHTq01Uv9+6OPPlqmTp3q/m7EiBEyYcIEWXHFFZuKxDq5RKA3hbmpmywioakKcr6pyvFVOTZtNsTXdeexjqE5d0uqhwAEIAABCECg4AQQ6BklSIX1ZpttJjvttJMcccQRstpqq8nf/vY3WXvttWXIkCHOi/POO0/OOussueKKK5x4P/PMM+X++++XF154QVZYYQV3zx577CGzZ892Il6vww47zNm49dZbm4rEOrlEoDeFuambEEFNYSrkTeSukGlp2ilL/qxjaNNOciMEIAABCEAAArUkgEDPKO2nnHKKPPTQQ/LAAw90WqOung8YMECOOeYYt8qu14cffiirr766E+6HH364PPfcc7LhhhvKH//4R7e6rpf+93bbbSfPP/+8rL/++g2jsU4uEegNETd9g0UkNF1JjjdWOb4qx6ZNhvi67jjWMTTHLknVEIAABCAAAQiUgAACPaMkqbDebbfd3Or3fffdJ2ussYaMHj1avv/97zsPXnnlFbeS/sQTT7iV9pZrr732ctvXr7zySvnlL38pxx13nLzzzjvtvNZ/v+CCC2TUqFFLRKMiX/+0XDq5HDRokMybN0/69OnjHf0Nj832LhNc4NNPZPl5z8j7/YaKdOsebCZGwf22HBjDTDsbKoJmzJghw4YNkx49ekS3n7fBKsdX5dhaBDpts/MepGNov379ZMGCBUFjaN79kvohAAEIQAACECg2AQR6RvlZbrnlXE0qsPfbbz/505/+5FbLJ0+eLN/97nfl4Ycflh122EH0PXVdSW+5dAv7a6+9JtOnT5ezzz7bbX9/8cUX23mt2+FVnJ966qlLRDNmzBj3XnvHa8qUKdK7d++MoqcaCEAAAtUgsHDhQhk5ciQCvRrpJAoIQAACEIBA4Qgg0DNKybLLLitbbrmlE+Itlx729uijj8of/vCHVoE+Z84c6d+/f+s9usI+a9YsufPOO51A15V0fSe97bXuuuvKoYceKrqNvuPFCnqcBLOC7s+xyqvMVY5NM018Xbd3VtD9xwJKQAACEIAABCDQPAEEevOsTHeutdZabivzZZdd1mrn4osvdgfB6ap5qi3uHZ22vj/JO+imZtCuMO/5xmOZtSVylzXxuPVZ8mcdQ+NGgjUIQAACEIAABKpGAIGeUUZ1S6SuhLc9JO7YY4+VRx55xK2etxwSp3930kknOa8++ugjd9p7x0PitMzWW2/t7tH/3nbbbTkkLnEeR26zZvQaLCIhujMJDFY5virHpk2B+LruEAj0BIMFJiEAAQhAAAIQaCWAQM+oMehW9u233969D77//vu7d9B1+7p+Lu3b3/6280KF+DnnnCOXX3656LZ13dJ+7733LvGZNd0Gr++u66XvqOvqPJ9ZS5tIBLo/3yqLvCrHhkBfeltHoPuPBZSAAAQgAAEIQKB5Agj05lmZ77ztttvcQW4vvfSSDB482B0Y13KKuxrXVXQV8Cq+9bvp+im1iRMnykYbbdRa99tvvy367vrUqVPd340YMUIuuugid9J7M5d1cskW92YoN3cPIq85TkW8i9wVMSvN+2TJn3UMbd5L7oQABCAAAQhAoI4EEOg1y7p1colAj9dgLCIhnhfpLFU5virHpi2C+LruF9YxNF2PwzIEIAABCEAAAlUggECvQhY9YrBOLhHoHrAb3IoIiscya0vkLmviceuz5M86hsaNBGsQgAAEIAABCFSNAAK9ahltEI91colAj9dgLCIhnhfpLFU5virHpi2C+LruF9YxNF2PwzIEIAABCEAAAlUggECvQhY9YrBOLhHoHrAb3IoIiscya0vkLmviceuz5M86hsaNBGsQgAAEIAABCFSNAAK9ahltEI91colAj9dgLCIhnhfpLFU5virHpi2C+LruF9YxNF2PwzIEIAABCEAAAlUggECvQhY9YrBOLhHoHrAb3IoIiscya0vkLmviceuz5M86hsaNBGsQgAAEIAABCFSNAAK9ahltEI91colAj9dgLCIhnhfpLFU5virHpi2C+LruF9YxNF2PwzIEIAABCEAAAlUggECvQhY9YrBOLhHoHrAb3IoIiscya0vkLmviceuz5M86hsaNBGsQgAAEIAABCFSNAAK9ahltEI91colAj9dgLCIhnhfpLFU5virHpi2C+LruF9YxNF2PwzIEIAABCEAAAlUggECvQhY9YrBOLhHoHrAb3IoIiscya0vkLmviceuz5M86hsaNBGsQgAAEIAABCFSNAAK9ahltEI91colAj9dgLCIhnhfpLFU5virHpi2C+LruF9YxNF2PwzIEIAABCEAAAlUggECvQhY9YrBOLhHoHrAb3IoIiscya0vkLmviceuz5M86hsaNBGsQgAAEIAABCFSNAAK9ahltEI91colAj9dgLCIhnhfpLFU5virHpi2C+LruF9YxNF2PwzIEIAABCEAAAlUggECvQhY9YrBOLhHoHrAb3IoIiscya0vkLmviceuz5M86hsaNBGsQgAAEIAABCFSNAAK9ahltEI91colAj9dgLCIhnhfpLFU5virHpi2C+LruF9YxNF2PwzIEIAABCEAAAlUggECvQhY9YrBOLhHoHrAb3IoIiscya0spcpdp32oDbOQ2ay6BL0V8WedoafVZ4rOOoUXigC8QgAAEIAABCBSPAAK9eDlJ6pF1cpmpiPj0E1l+7l/k/dU2FunWPSmXRsY7EzGNyjT6d4tIaGS7CP9e5fhSxJZp30Kgy7Rp02T48OHSo0cPr+5iHUO9KuNmCEAAAhCAAARqRwCBXrOUWyeXmYoIBHqpW2cKEVsUICliy7RvIdAR6EXpTPgBAQhAAAIQgEA7Agj0mjUIBHpYwllB9+eWQsT6e5GmRIrYEOhpctWZVUv+rGNodlFSEwQgAAEIQAACZSSAQC9j1gw+WyeXmYoIVtANmc6/qEUE5e/90j1IEVumfYsVdFbQi97J8A8CEIAABCBQUwII9JolHoEelnBW0P25pRCx/l6kKZEiNgR6mlyxgp4dV2qCAAQgAAEIQMBOAIFuZ1gqCwj0sHQh0P25pRCx/l6kKZEiNgR6mlwh0LPjSk0QgAAEIAABCNgJINDtDEtlAYEeli4Euj+3FCLW34s0JVLEhkBPkysEenZcqQkCEIAABCAAATsBBLqdYaksINDD0oVA9+eWQsT6e5GmRIrYEOhpcoVAz44rNUEAAhCAAAQgYCeAQLczLJUFBHpYuhDo/txSiFh/L9KUSBEbAj1NrhDo2XGlJghAAAIQgAAE7AQQ6HaGpbKAQA9LFwLdn1sKEevvRZoSKWJDoKfJFQI9O67UBAEIQAACEICAnQAC3c6wVBYQ6GHpQqD7c0shYv29SFMiRWx1FOh5xSyffcJx+PDh0qNHD69GYh1DvSrjZghAAAIQgAAEakcAgV6zlFsnl5lOqPkOeqlbZwoRWxQgKWLLtG+1AdnZj08p4ussd3nFjEAvSk/CDwhAAAIQgAAEOhJAoNesTSDQwxLOCro/t6xEnr9n9hIpYstLrCLQWUG39wgsQAACEIAABCAQiwACPRbJkthBoIclCoHuzy2FiPX3Ik2JFLEh0NPkqlOrbHHPEDZVQQACEIAABCDgQwCB7kOrAvci0MOSiED355ZCxPp7kaZEitgQ6GlyhUDPkCtVQQACEIAABCBgJoBANyMslwEEeli+EOj+3FKIWH8v0pRIERsCPU2uEOgZcqUqCEAAAhCAAATMBBDoZoTlMoBAD8sXAt2fWwoR6+9FmhIpYkOgp8kVAj1DrlQFAQhAAAIQgICZAALdjLBcBhDoYflCoPtzSyFi/b1IUyJFbAj0NLlCoGfIlaogAAEIQAACEDATQKCbETZnYMyYMTJ27Nh2N6+++uryj3/8w/3d4sWL3b9feumlMn/+fNlmm21k4sSJMnTo0NYy+vdHH320TJ061f3diBEjZMKECbLiiis254SIINCbRtXuRgS6P7cUItbfizQlUsSGQE+TKwR6hlypCgIQgAAEIAABMwEEuhlhcwZUoP/mN7+R3/3ud60FunfvLquuuqr7/+edd56cddZZcsUVV8h6660nZ555ptx///3ywgsvyAorrODu2WOPPWT27NlOxOt12GGHydprry233nprc04g0Jvm1PFGBLo/uhQi1t+LNCVSxIZAT5MrBHqGXKkKAhCAAAQgAAEzAQS6GWFzBlSg33zzzfLkk08uUUBXzwcMGCDHHHOMnHzyye7fP/zwQ9EVdhXuhx9+uDz33HOy4YYbyh//+Ee3uq6X/vd2220nzz//vKy//vpNOcIKelOYlrgJge7PLYWI9fciTYkUsSHQ0+QKgZ4hV6qCAAQgAAEIQMBMAIFuRticARXo48aNk759+0rPnj2dyD777LNlnXXWkVdeeUWGDBkiTzzxhGy22WatBvfaay+3ff3KK6+UX/7yl3LcccfJO++8065C/fcLLrhARo0a1akjKvT1T8ulAn3QoEEyb9486dOnT3POt7nrhsdme5cJLqDfKp73jLzfb6hIt+7BZmIU3G/LgTHMtLOhIm/GjBkybNgw6dGjR3T7eRuscnwpYsu0b7VpHJ217RTxddYe84pZPhtbQvqejqH9+vWTBQsWBI2hefdL6ocABCAAAQhAoNgEEOgZ5eeOO+6QhQsXuu3r//znP90Wdl35fuaZZ9w29h122EFef/11t5LecukW9tdee02mT5/uxLxuf3/xxRfbeaz2VJyfeuqpnUbS2bvveuOUKVOkd+/eGUVPNRCAAASqQUDH8ZEjRyLQq5FOooAABCAAAQgUjgACPaeUvP/++27V/KSTTpJtt93WCfQ5c+ZI//79Wz36/ve/L7NmzZI777zTCXRdSVcx3/Zad9115dBDD5VTTjml00hYQY+TYFbQ/TlmtQrr75m9RIrY8lpNZgXdb/cKK+j2/oMFCEAAAhCAAAS6JoBAz7F16PbKL37xi3LiiScm2+LeMTzeQQ9LOO+g+3NL8Z62vxdpSqSIjXfQ0+SqU6u6xX3uX2T48OHer5dYx9AMo6QqCEAAAhCAAARKSACBnlPSdGVbV9B1G/sPf/hDt7X92GOPdSvqen300Uey2mqrLXFI3COPPCJbb721u0f/W1ffOSQufRIR6P6MU4hYfy/SlEgRGwI9Ta4Q6BlypSoIQAACEIAABMwEEOhmhM0ZOOGEE+Qb3/iGrLnmmjJ37lz3Dvp9990nTz/9tKy11lpOiJ9zzjly+eWXi25b1y3t99577xKfWdNt8JMnT3aVqrjXsnxmrbkcWO5CoPvTSyFi/b1IUyJFbAj0NLlCoGfIlaogAAEIQAACEDATQKCbETZn4MADD3TfNdfT0/Xb57ry/ZOf/MR9Ok0v/dTa2LFjnfieP3++O+V94sSJstFGG7VW8Pbbb8vRRx8tU6dOdX83YsQIueiii9xJ781e1u2ZmYqIz7ahvr/axrmf4o5Ab7aF/fu+FCLW34s0JVLElmnfaoOls7adIr7OMpFXzO4Ud7a4p+kcWIUABCAAAQhAwEQAgW7CV77CCPSwnCHQ/bllJfL8PbOXSBFbXmIVge5/SJx+LpPPrNn7ERYgAAEIQAACEFiSAAK9Zq0CgR6WcAS6P7cUItbfizQlUsSGQE+Tq06tsoKeIWyqggAEIAABCEDAhwAC3YdWBe5FoIclEYHuzy2FiPX3Ik2JFLEh0NPkCoGeIVeqggAEIAABCEDATACBbkZYLgMI9LB8IdD9uaUQsf5epCmRIjYEeppcIdAz5EpVEIAABCAAAQiYCSDQzQjLZQCBHpYvBLo/txQi1t+LNCVSxIZAT5MrBHqGXKkKAhCAAAQgAAEzAQS6GWG5DCDQw/KFQPfnlkLE+nuRpkSK2BDoaXKFQM+QK1VBAAIQgAAEIGAmgEA3IyyXAQR6WL4Q6P7cUohYfy/SlEgRGwI9Ta4Q6BlypSoIQAACEIAABMwEEOhmhOUygEAPyxcC3Z9bChHr70WaEiliQ6CnyRUCPUOuVAUBCEAAAhCAgJkAAt2MsFwGEOhh+UKg+3NLIWL9vUhTIkVsCPQ0uUKgZ8iVqiAAAQhAAAIQMBNAoJsRlssAAj0sXwh0f24pRKy/F2lKpIgNgZ4mVwj0DLlSFQQgAAEIQAACZgIIdDPCchlAoIflC4Huzy2FiPX3Ik2JFLEh0NPkCoGeIVeqggAEIAABCEDATACBbkZYLgMI9LB8IdD9uaUQsf5epCmRIjYEeppcIdAz5EpVEIAABCAAAQiYCSDQzQjLZQCBHpYvBLo/txQi1t+LNCVSxIZAT5MrBHqGXKkKAhCAAAQgAAEzAQS6GWG5DCDQw/KFQPfnlkLE+nuRpkSK2BDoaXKFQM+QK1VBAAIQgAAEIGAmgEA3IyyXAQR6WL4Q6P7cUohYfy/SlEgRGwI9Ta4Q6BlypSoIQAACEIAABMwEEOhmhOUygEAPyxcC3Z9bChHr70WaEiliQ6CnyRUCPUOuVAUBCEAAAhCAgJkAAt2MsFwGEOhh+UKg+3NLIWL9vUhTIkVsCPQ0uUKgZ8iVqiAAAQhAAAIQMBNAoJsRlssAAj0sXwh0f24pRKy/F2lKpIgNgZ4mVwj0DLlSFQQgAAEIQAACZgIIdDPCchlAoIflC4Huzy2FiPX3Ik2JFLEh0NPkCoGeIVeqggAEIAABCEDATACBbkZYLgMI9LB8IdD9uaUQsf5epCmRIjYEeppcIdAz5EpVEIAABCAAAQiYCSDQzQjLZQCBHpYvBLo/txQi1t+LNCVSxIZAT5MrBHqGXKkKAhCAAAQgAAEzAQS6GWG5DCDQw/KFQPfnlkLE+nuRpkSK2BDoaXKFQM+QK1VBAAIQgAAEIGAmgEA3IyyXAQR6WL4Q6P7cUohYfy/SlEgRGwI9Ta4Q6BlypSoIQAACEIAABMwEEOhmhOUygEAPyxcC3Z9bChHr70WaEiliQ6CnyRUCPUOuVAUBCEAAAhCAgJkAAt2MsFwGEOhh+UKg+3NLIWL9vUhTIkVsCPQ0uUKgZ8iVqiAAAQhAAAIQMBNAoJsRlssAAj0sXwh0f24pRKy/F2lKpIgNgZ4mVwj0DLlSFQQgAAEIQAACZgIIdDPCchlAoIflC4Huzy2FiPX3Ik2JFLHlJdCXJmDfX21jkW7d00DM0+qnn8jyc/8iw4cPlx49enh5Yh1DvSrjZghAAAIQgAAEakcAgV6zlFsnl5mKiM8m0UUQCQh0/46SQsT6e5GmRIrYMu1bjbAUqO81cjXo3xHoQdgoBAEIQAACEIBAegII9PSMC1UDAj0sHQh0f24pRKy/F2lKpIgNgZ4mV51aRaBnCJuqIAABCEAAAhDwIYBA96FVgXsR6GFJRKD7c0shYv29SFMiRWwI9DS5QqBnyJWqIAABCEAAAhAwE0CgmxGWywACPSxfCHR/bilErL8XaUqkiA2BniZXCPQMuVIVBCAAAQhAAAJmAgh0M8JyGUCgh+ULge7PLYWI9fciTYkUsSHQ0+QKgZ4hV6qCAAQgAAEIQMBMAIFuRlguAwj0sHwh0P25pRCx/l6kKZEiNgR6mlwh0DPkSlUQgAAEIAABCJgJINDNCMtlAIEeli8Euj+3FCLW34s0JVLEhkBPkysEeoZcqQoCEIAABCAAATMBBLoZYZiBc845R0477TT5wQ9+IBdeeKEz8uGHH8oJJ5wg1157rSxatEh23nlnmTRpkgwcOLC1kpkzZ8qRRx4pd999t/Tq1UtGjhwp48ePl2WXXbYpRxDoTWFa4iYEuj+3FCLW34s0JVLEhkBPkysEeoZcqQoCEIAABCAAATMBBLoZob+BRx99VPbff3/p06eP7LTTTq0C/YgjjpBbb71VrrjiCllllVXk+OOPl7ffflsef/xx6d69u3zyySey6aabyqqrrirnn3++vPXWW3LwwQfLvvvuKxMmTGjKEQR6U5gQ6GGY2pVKIWIjuBXFRIrYEOhRUtOcET6z1hwn7oIABCAAAQhAIHMCCPSMkb/33nuy+eabu5XxM8880wluXUFfsGCBE95XX321HHDAAc6rOXPmyKBBg2TatGmy2267yR133CF77rmnzJo1SwYMGODuue666+SQQw6RuXPnOsHf6EKgNyLU+b+zgu7PLYWI9fciTYkUsSHQ0+SqU6sI9AxhUxUEIAABCEAAAj4EEOg+tCLcqyveK6+8slxwwQWy4447tgp03bKuW9p1xXyllVZqrWmTTTaRvffeW8aOHStnnHGG3HLLLfLUU0+1/vv8+fOdPS2vq/EdL902r39aLhXoKvrnzZvXlKDvaO+Gx2ZHoNCkCZ1Ez3tG3u83VKRb9yYLpbltvy3//ZpBrBpU5M2YMUOGDRsmPXr0iGW2MHaqHF+K2DLtW41aSYH6XiNXg/79s/hC+p6Oof369XM/qjbzo2iQfxSCAAQgAAEIQKC2BBDoGaZeV7t11fyxxx6T5ZZbrp1AnzJliowaNaqdmFbXdt11Vxk8eLBMnjxZDjvsMHn11Vflrrvuaud1z5493bb4gw46aIloxowZ48R9x0vr6927d4bRUxUEIACB8hNYuHChO/sDgV7+XBIBBCAAAQhAoIgEEOgZZUW3pW+55ZZOXOuquF5tV9C7Eui6wjNkyBC55JJLnEB/7bXXZPr06e281gPirrrqKjnwwAOXiIYV9DgJZgXdn2OKVWZ/L9KUSBEbK+hpctWpVVbQM4RNVRCAAAQgAAEI+BBAoPvQMtx78803yz777OMOe2u59NC3ZZZZRrp16+ZE9y677BJ9i3tHl3kHPSyJvIPuzy3Fe9r+XqQpkSI23kFPk6suBfrcv8jw4cO9Xy+xjqEZRklVEIAABCAAAQiUkAACPaOkvfvuu271u+2lW9o32GADOfnkk9174XpI3DXXXONOeNfrjTfecJ9Y63hI3OzZs6V///7unuuvv96d5M4hcWkTiUD355tCxPp7kaZEitgQ6GlyhUDPkCtVQQACEIAABCBgJoBANyMMN9B2i7ta0c+s3Xbbbe59cj34Tb+Jrp9S6/iZtdVXX13GjRvnVtv1BHc9RI7PrIXnoZmSCPRmKLW/J4WI9fciTYkUsSHQ0+QKgZ4hV6qCAAQgAAEIQMBMAIFuRhhuoKNA/+CDD+TEE08UfR990aJF7lR3/Rybrq63XDNnzpTRo0e7U9t79erlDisaP3686EFxzVzW7ZmZiojPPoX0/mob536KOwK9mdaFQPen9O8SmfatRo4WqO81cjXo3/nMWhA2CkEAAhCAAAQgkJ4AAj0940LVgEAPSwcC3Z9bilVmfy/SlEgRGwI9Ta46tYpAzxA2VUEAAhCAAAQg4EMAge5DqwL3ItDDkohA9+eWQsT6e5GmRIrYEOhpcoVAz5ArVUEAAhCAAAQgYCaAQDcjLJcBBHpYvhDo/txSiFh/L9KUSBEbAj1NrhDoGXKlKghAAAIQgAAEzAQQ6GaE5TKAQA/LFwLdn1sKEevvRZoSKWJDoKfJFQI9Q65UBQEIQAACEICAmQAC3YywXAYQ6GH5QqD7c0shYv29SFMiRWwI9DS5QqBnyJWqIAABCEAAAhAwE0CgmxGWywACPSxfCHR/bilErL8XaUqkiA2BniZXCPQMuVIVBCAAAQhAAAJmAgh0M8JyGUCgh+ULge7PLYWI9fciTYkUsa8THTwAACAASURBVCHQ0+QKgZ4hV6qCAAQgAAEIQMBMAIFuRlguAwj0sHwh0P25pRCx/l6kKZEiNgR6mlwh0DPkSlUQgAAEIAABCJgJINDNCMtlAIEeli8Euj+3FCLW34s0JVLEhkBPkysEeoZcqQoCEIAABCAAATMBBLoZYbkMINDD8oVA9+eWQsT6e5GmRIrYEOhpcoVAz5ArVUEAAhCAAAQgYCaAQDcjLJcBBHpYvhDo/txSiFh/L9KUSBEbAj1NrhDoGXKlKghAAAIQgAAEzAQQ6GaE5TKAQA/LFwLdn1sKEevvRZoSKWJDoKfJFQI9Q65UBQEIQAACEICAmQAC3YywXAYQ6GH5QqD7c0shYv29SFMiRWwI9DS5QqBnyJWqIAABCEAAAhAwE0CgmxGWywACPSxfCHR/bilErL8XaUqkiA2BniZXCPQMuVIVBCAAAQhAAAJmAgh0M8JyGUCgh+ULge7PLYWI9fciTYkUsSHQ0+QKgZ4hV6qCAAQgAAEIQMBMAIFuRlguAwj0sHwh0P25pRCx/l6kKZEiNgR6mlwh0DPkSlUQgAAEIAABCJgJINDNCMtlAIEeli8Euj+3FCLW34s0JVLEhkBPkysEeoZcqQoCEIAABCAAATMBBLoZYbkMINDD8oVA9+eWQsT6e5GmRIrYEOhpcoVAz5ArVUEAAhCAAAQgYCaAQDcjLJcBBHpYvhDo/txSiFh/L9KUSBEbAj1NrhDoGXKlKghAAAIQgAAEzAQQ6GaE5TKAQA/LFwLdn1sKEevvRZoSKWJDoKfJFQI9Q65UBQEIQAACEICAmQAC3YywXAYQ6GH5QqD7c0shYv29SFMiRWwI9DS5QqBnyJWqIAABCEAAAhAwE0CgmxGWywACPSxfCHR/bilErL8XaUqkiA2BniZXCPQMuVIVBCAAAQhAAAJmAgh0M8JyGUCgh+ULge7PLYWI9fciTYkUsSHQ0+QKgZ4hV6qCAAQgAAEIQMBMAIFuRlguAwj0sHwh0P25pRCx/l6kKZEiNgR6mlwh0DPkSlUQgAAEIAABCJgJINDNCMtlAIEeli8Euj+3FCLW34s0JVLEhkBPkysEeoZcqQoCEIAABCAAATMBBLoZYbkMINDD8oVA9+eWQsT6e5GmRIrYEOhpcoVAz5ArVUEAAhCAAAQgYCaAQDcjLJcBBHpYvhDo/txSiFh/L9KUSBEbAj1NrhDoGXKlKghAAAIQgAAEzAQQ6GaE5TKAQA/LFwLdn1sKEevvRZoSKWJDoKfJFQI9Q65UBQEIQAACEICAmQAC3YywXAYQ6GH5QqD7c0shYv29SFMiRWwI9DS5QqBnyJWqIAABCEAAAhAwE0CgmxGWywACPSxfCHR/bilErL8XaUqkiA2BniZXCPQMuVIVBCAAAQhAAAJmAgh0M8JyGUCgh+ULge7PLYWI9fciTYkUsSHQ0+QKgZ4hV6qCAAQgAAEIQMBMAIFuRlguAwj0sHwh0P25pRCx/l6kKZEiNgR6mlwh0DPkSlUQgAAEIAABCJgJINDNCMtlAIEeli8Euj+3FCLW34s0JVLEhkBPkysEeoZcqQoCEIAABCAAATMBBLoZYbkMINDD8oVA9+eWQsT6e+FXommR/Oknsvzcv8j7q20s0q27XyVluLsm8Q0fPlx69OjhlRHrGOpVGTdDAAIQgAAEIFA7Agj0jFJ+8cUXi/559dVXXY1Dhw6VM844Q/bYYw/3/z/88EM54YQT5Nprr5VFixbJzjvvLJMmTZKBAwe2ejhz5kw58sgj5e6775ZevXrJyJEjZfz48bLssss2HYV1ctm0gGnao6XcWCCRgED3TygC3Z9ZYUoUqO8lYfJZfAj0JHQxCgEIQAACEICAgQAC3QDPp+itt94q3bt3ly9+8Yuu2JVXXinjxo2TP//5z06sH3HEEaL3XHHFFbLKKqvI8ccfL2+//bY8/vjjrtwnn3wim266qay66qpy/vnny1tvvSUHH3yw7LvvvjJhwoSmXUGgN42q3Y0IdH9uCHR/ZoUpgUDvMhXWMbQwOcYRCEAAAhCAAAQKSQCBnmNaVl55ZSfSv/WtbznhffXVV8sBBxzgPJozZ44MGjRIpk2bJrvttpvccccdsueee8qsWbNkwIAB7p7rrrtODjnkEJk7d6706dOnqUisk0tW0JvC3NRNZRSwTQX22U1ljK/p9l0TAVv1LfysoPv0aO6FAAQgAAEIQCALAgj0LCh3qENXw2+44Qa3Aq4r6P/4xz/clnZdMV9ppZVa795kk01k7733lrFjx7rt8Lfccos89dRTrf8+f/58UZGvW9532mmnTiPRrfP6p+VSga7Cf968eU2L+raGb3hsdnbEVATNe0be7zc09/d899vy368axAKgAnbGjBkybNgw7/dgY/mQ0k4Z42u6fReobSbJYU3iC+l7Oob269dPFixYEDSGJskXRiEAAQhAAAIQqAwBBHqGqXz66adlu+22kw8++EA+//nPy5QpU0RXcPR/R40a1U5Iq1u77rqrDB48WCZPniyHHXaYe3/9rrvuaudxz5493bb4gw46qNNIxowZ4wR+x0vr7N27d4bRUxUEIACB8hNYuHChO/8DgV7+XBIBBCAAAQhAoIgEEOgZZuWjjz4SPejtnXfekd/+9rdy2WWXyX333SdPPvlkpwJdV3eGDBkil1xyiRPor732mkyfPr2dx3pA3FVXXSUHHnhgp5Gwgh4nwayg+3NkBd2fWWFKsILeZSpYQS9MK8URCEAAAhCAQCUJINBzTOsuu+ziBLi+d55qi3vH8HgHPSzhHBLnz4130P2ZFaZETd6x5x30wrQ4HIEABCAAAQhA4DMCCPQcm4KKcn0f/Gc/+5k7JO6aa66R/fff33n0xhtvuE+sdTwkbvbs2dK/f393z/XXX+/eY+eQuPRJRKD7M0ag+zMrTAkEepepsP7IWZgc4wgEIAABCEAAAoUkgEDPKC2nnXaa++a5CvJ3333XncB+7rnnyp133ukOCdPPrN12223ufXI9+E2/ia6fUuv4mbXVV1/dnfyuB8rpCe56iByfWUufRAS6P2MEuj+zwpRAoCPQC9MYcQQCEIAABCBQLwII9Izyfeihh8rvf/97tzLet29f2XjjjeXkk0924lwvPTjuxBNPdAfGLVq0yG15nzRpkhP0LZe+vz569Gh3anuvXr3cQUXjx48XPSiu2cu6+tP0Z6iadWhp9xVIJCDQ/ROKQPdnVpgSBep7SZh8Fh9b3JPQxSgEIAABCEAAAgYCCHQDvDIWRaCHZQ2B7s8Nge7PrDAlEOhdpsI6hhYmxzgCAQhAAAIQgEAhCSDQC5mWdE5ZJ5esoMfLTRkFrE/0ZYyv6fZdEwH7/mobi3Tr7pP2ctzLCno58oSXEIAABCAAgRoSQKDXLOkI9LCEs4Luzw2B7s+sMCVq8gMEW9wL0+JwBAIQgAAEIACBzwgg0GvWFBDoYQlHoPtzQ6D7MytMCQR6l6mwjqGFyTGOQAACEIAABCBQSAII9EKmJZ1T1sll01uAY4RQIJGAQPdPKALdn1lhShSo7yVhwhb3JFgxCgEIQAACEICAnQAC3c6wVBYQ6GHpQqD7c0Og+zMrTAkEOivohWmMOAIBCEAAAhCoFwEE+v9v705g7qjq/oGfQgpaZJFVyh4ClcU/2yurIERR3GgRXzajgAgIyK4sEknryyKUTZGlQNhlCQn7IqCGgiCYF/4QIhQkbIXWCLSgCJSt/5yxT//dYM69M8/cc5/5TEI0zL1n+fwON/f7nJm57ap3ENC7K7iA3rmbgN65WTbvENAF9GwWo4EQIECAAIF2CQjo7aq3gN5lvQX0zuEE9M7NsnmHgC6gZ7MYDYQAAQIECLRLQEBvV70F9JzqnRCCBuMPA00RCOhNSQ9CPwlrcxB6ba5J96A3Z60nAgQIECBAoCMBAb0jrv5/sUvcM6phQggS0JutV/JDEBNq1+zIa+6tJfPzM2s1rxvNESBAgAABApUFBPTKhP3VgICeUb0SQpCA3my9BPRZ3glrs9nK1NybHfSaQTVHgAABAgQI1CUgoNcl2SftCOgZFSohBAnozdZLQBfQy1Zc1c/QsvadJ0CAAAECBNotIKC3rP5Vv1wmB5g6XBMCbB3d9KyNhPkJ6M1WJ3l9J9Su2ZHX3FtL5ucS95rXjeYIECBAgACBygICemXC/mpAQM+oXgkhSEBvtl4Cuh30shVX9TO0rH3nCRAgQIAAgXYLCOgtq3/VL5fJAaYO14QAW0c3PWsjYX4CerPVSV7fCbVrduQ199aS+dlBr3ndaI4AAQIECBCoLCCgVybsrwYE9IzqlRCCBPRm6yWg20EvW3FVP0PL2neeAAECBAgQaLeAgN6y+lf9cpkcYOpwTQiwdXTTszYS5iegN1ud5PWdULtmR15zby2Znx30mteN5ggQIECAAIHKAgJ6ZcL+akBAz6heCSFIQG+2XgK6HfSyFVf1M7SsfecJECBAgACBdgsI6C2rf9Uvl8kBpg7XhABbRzc9ayNhfgJ6s9VJXt8JtWt25DX31pL52UGved1ojgABAgQIEKgsIKBXJuyvBgT0jOqVEIIE9GbrJaDbQS9bcVU/Q8vad54AAQIECBBot4CA3rL6V/1ymRxg6nBNCLB1dNOzNhLmJ6A3W53k9Z1Qu2ZHXnNvLZmfHfSa143mCBAgQIAAgcoCAnplwv5qQEDPqF4JIUhAb7ZeArod9LIVV/UztKx95wkQIECAAIF2CwjoLat/1S+XyQGmDteEAFtHNz1rI2F+Anqz1Ule3wm1a3bkNffWkvnZQa953WiOAAECBAgQqCwgoFcm7K8GBPSM6pUQggT0ZusloNtBL1txVT9Dy9p3ngABAgQIEGi3gIDesvpX/XKZHGDqcE0IsHV007M2EuYnoDdbneT1nVC7Zkdec28tmZ8d9JrXjeYIECBAgACBygICemXC/mpAQM+oXgkhSEBvtl4Cuh30shVX9TO0rH3nCRAgQIAAgXYLCOgtq3/VL5fJAaYO14QAW0c3PWsjYX4CerPVSV7fCbVrduQ199aS+dlBr3ndaI4AAQIECBCoLCCgVybsrwYE9IzqlRCCBPRm6yWg20EvW3FVP0PL2neeAAECBAgQaLeAgN6y+lf9cpkcYOpwTQiwdXTTszYS5iegN1ud5PWdULtmR15zby2Znx30mteN5ggQIECAAIHKAgJ6ZcL+akBAz6heCSFIQG+2XgK6HfSyFVf1M7SsfecJECBAgACBdgsI6C2rf9Uvl8kBpg7XhABbRzc9ayNhfgJ6s9VJXt8JtWt25DX31pL52UGved1ojgABAgQIEKgsIKBXJuyvBgT0jOqVEIIE9GbrJaDbQS9bcVU/Q8vad54AAQIECBBot4CA3rL6V/1ymRxg6nBNCLB1dNOzNhLmJ6A3W53k9Z1Qu2ZHXnNvLZmfHfSa143mCBAgQIAAgcoCAnplwv5qQEDPqF4JIUhAb7ZeArod9LIVV/UztKx95wkQIECAAIF2CwjoDdX/5JNPDtdff32YNGlS+OQnPxm23HLLcMopp4RRo0bNHsGMGTPCT37yk3D11VeHt99+O3zpS18K5557blh55ZVnv+bFF18MBx10UPjjH/9YtLPHHnuE0047LSyyyCJJM6n65TI5wCSNpuRFCQG2jm561kbC/AT0ZquTvL4TatfsyGvurSXzs4Ne87rRHAECBAgQIFBZQECvTJjWwA477BB222238PnPfz68//774bjjjguPP/54eOKJJ8Jiiy1WNHLAAQeEW265JVx66aVhmWWWCUceeWSYNm1aePjhh8PCCy8cPvjgg7DhhhuG5ZZbLpx++unhtddeC3vuuWf49re/Hc4+++ykgQjoSUzNvCghBAnozZRioBcBfZZEwtpstjI19zZrfgJ6za6aI0CAAAECBCoLCOiVCbtr4JVXXgnLL798mDhxYthmm23CG2+8UQTvK664Iuy6665Fo1OmTAmrrLJKuP3228NXv/rVcMcdd4RvfvObYfLkyWHkyJHFa6655pqw1157hX/84x9hiSWWKB2MgF5K1NwLEkKQgN5cOWJPArqAXrbiqn6GlrXvPAECBAgQINBuAQG9R/V/5plnwlprrVXsoq+//vrFJevxkva4Y/7pT3969qg22GCDMGbMmDBu3Lhw/PHHh5tuuik89thjs89Pnz49LL300sX7t9tuu/lmEy+bj/8MHPHLZQz9r776alKgn7fB6/73pebEYoB99a/h38uuF8JCCzfXb1M9Jczvv//r/9/e0NSw6urnvffeC3fffXfYfvvtw/Dhw+tqdlDbSV7fCbUb1IEOduMtmV83azN+hi677LLFH1VT/ig62KXSPgECBAgQIDC0BAT0HtRz5syZYfTo0SGG6/vuu68YwVVXXRX23nvvucJ0/Pdf+cpXwhprrBEmTJgQ9ttvv/D888+Hu+66a65RL7roosVl8bvvvvt8sxk7dmwR7uc9Yn8jRozowex1SYAAgf4VeOutt4pnfwjo/VtDIydAgAABAjkLCOg9qE58yNttt90W/vSnP81+ANxHBfS4w7PmmmuG888/vwjoL7zwQrjzzjvnGnV8QNzll19e3OM+72EHvQcFTu0yYZfSDnoqZj2vs4M+yzFhbdYj3qNWZs3PDnqP/HVLgAABAgQIfKSAgN7w4jj44IPDjTfeGO69995iZ3zgGKxL3OedXtX7J5Pv0a3DNeEe7Tq66VkbCfNzD3qz1Ule3wm1a3bkNffWkvl5SFzN60ZzBAgQIECAQGUBAb0yYVoD8bL2GM5vuOGGcM899xT3n895DDwk7sorrwy77LJLcWrq1KnFDvu8D4l76aWXwoorrli85tprry2e5O4hcWl1yOpVCSFIQG+2YgL6LO+EtdlsZWruzVPcawbVHAECBAgQIFCXgIBel2RJOwceeGBxn3l8yNucv32+5JJLFr9nHo/4M2u33nprcT95fPBb/E30+FNq8/7M2gorrBDGjx9fPFAuPsE9PkTOz6w1VMg6u0kIQQJ6neDlbQnoAnrZKql6FVJZ+84TIECAAAEC7RYQ0Buq/7BhwxbY0yWXXFKE7Hi888474ac//WkR5N9+++3iqe7nnntu8dT1gePFF18MMezHS+JjsI8PKzrttNNCfFBcylH1y2VygEkZTNlrEgJsWRNZn0+Yn4DebAWT13dC7Zodec29tWR+LnGved1ojgABAgQIEKgsIKBXJuyvBgT0jOqVEIIE9GbrJaDP8k5Ym81WpubeXOJeM6jmCBAgQIAAgboEBPS6JPukHQE9o0IlhCABvdl6CegCetmKq/oZWta+8wQIECBAgEC7BQT0ltW/6pfL5ABTh2tCgK2jm561kTA/Ab3Z6iSv74TaNTvymntryfxc4l7zutEcAQIECBAgUFlAQK9M2F8NCOgZ1SshBAnozdZLQLeDXrbiqn6GlrXvPAECBAgQINBuAQG9ZfWv+uUyOcDU4ZoQYOvopmdtJMxPQG+2OsnrO6F2zY685t5aMj876DWvG80RIECAAAEClQUE9MqE/dWAgJ5RvRJCkIDebL0EdDvoZSuu6mdoWfvOEyBAgAABAu0WENBbVv+qXy6TA0wdrgkBto5uetZGwvwE9Gark7y+E2rX7Mhr7q0l87ODXvO60RwBAgQIECBQWUBAr0zYXw0I6BnVKyEECejN1ktAt4NetuKqfoaWte88AQIECBAg0G4BAb1l9a/65TI5wNThmhBg6+imZ20kzE9Ab7Y6yes7oXbNjrzm3loyPzvoNa8bzREgQIAAAQKVBQT0yoT91YCAnlG9EkKQgN5svQR0O+hlK67qZ2hZ+84TIECAAAEC7RYQ0FtW/6pfLpMDTB2uCQG2jm561kbC/AT0ZquTvL4TatfsyGvurSXzs4Ne87rRHAECBAgQIFBZQECvTNhfDQjoGdUrIQQJ6M3WS0C3g1624qp+hpa17zwBAgQIECDQbgEBvWX1r/rlMjnA1OGaEGDr6KZnbSTMT0BvtjrJ6zuhds2OvObeWjI/O+g1rxvNESBAgAABApUFBPTKhP3VgICeUb0SQpCA3my9BHQ76GUrrupnaFn7zhMgQIAAAQLtFhDQW1b/ql8ukwNMHa4JAbaObnrWRsL8BPRmq5O8vhNq1+zIa+6tJfOzg17zutEcAQIECBAgUFlAQK9M2F8NCOgZ1SshBAnozdZLQLeDXrbiqn6GlrXvPAECBAgQINBuAQG9ZfWv+uUyOcDU4ZoQYOvopmdtJMxPQG+2OsnrO6F2zY685t5aMj876DWvG80RIECAAAEClQUE9MqE/dWAgJ5RvRJCkIDebL0EdDvoZSuu6mdoWfvOEyBAgAABAu0WENBbVv+qXy6TA0wdrgkBto5uetZGwvwE9Gark7y+E2rX7Mhr7q0l87ODXvO60RwBAgQIECBQWUBAr0zYXw0I6BnVKyEECejN1ktAt4NetuKqfoaWte88AQIECBAg0G4BAb1l9a/65TI5wNThmhBg6+imZ20kzE9Ab7Y6yes7oXbNjrzm3loyPzvoNa8bzREgQIAAAQKVBQT0yoT91YCAnlG9EkKQgN5svQR0O+hlK67qZ2hZ+84TIECAAAEC7RYQ0FtW/6pfLpMDTB2uCQG2jm561kbC/AT0ZquTvL4TatfsyGvurSXzs4Ne87rRHAECBAgQIFBZQECvTNhfDQjoGdUrIQQJ6M3WS0C3g1624qp+hpa17zwBAgQIECDQbgEBvWX1r/rlMjnA1OGaEGDr6KZnbSTMT0BvtjrJ6zuhds2OvObeWjI/O+g1rxvNESBAgAABApUFBPTKhP3VgICeUb0SQpCA3my9BHQ76GUrrupnaFn7zhMgQIAAAQLtFhDQW1b/ql8ukwNMHa4JAbaObnrWRsL8BPRmq5O8vhNq1+zIa+6tJfOzg17zutEcAQIECBAgUFlAQK9M2F8NCOgZ1SshBAnozdZLQLeDXrbiqn6GlrXvPAECBAgQINBuAQG9ZfWv+uUyOcDU4ZoQYOvopmdtJMxPQG+2OsnrO6F2zY685t5aMj876DWvG80RIECAAAEClQUE9MqE/dWAgJ5RvRJCkIDebL0EdDvoZSuu6mdoWfvOEyBAgAABAu0WENBbVv+qXy6TA0wdrgkBto5uetZGwvwE9Gark7y+E2rX7Mhr7q0l87ODXvO60RwBAgQIECBQWUBAr0zYXw0I6BnVKyEECejN1ktAt4NetuKqfoaWte88AQIECBAg0G4BAb1l9a/65TI5wNThmhBg6+imZ20kzE9Ab7Y6yes7oXbNjrzm3loyPzvoNa8bzREgQIAAAQKVBQT0yoT91YCAnlG9EkKQgN5svQR0O+hlK67qZ2hZ+84TIECAAAEC7RYQ0Buq/7333hvGjx8fHn744TB16tRwww03hDFjxszufebMmWHcuHHhggsuCNOnTw+bbbZZOOecc8J66603+zXx3x9yyCHh5ptvLv7djjvuGM4+++yw1FJLJc+i6pfL5ACTPKKPeWFCgK2jm561kTA/Ab3Z6iSv74TaNTvymntryfzsoNe8bjRHgAABAgQIVBYQ0CsTpjVwxx13hPvvvz9svPHGYeedd54voJ9yyinhxBNPDJdeemlYe+21wwknnBBiqH/qqafC4osvXnTyta99Lbz00ktFiI/HfvvtF1ZfffVwyy23pA0ihCCgJ1MN/gsTQpCAPvhlmLMHAX2WRsLabLYyNfc2a34Ces2umiNAgAABAgQqCwjolQk7b2DYsGFzBfS4ez5y5Mhw2GGHhaOPPrpocMaMGWGFFVYIMbjvv//+4cknnwzrrrtuePDBB4vd9XjE/7/FFluESZMmhVGjRiUNREBPYmrmRQkhSEBvphQDvQjoAnrZiqv6GVrWvvMECBAgQIBAuwUE9B7Uf96A/uyzz4Y111wzPPLII2GjjTaaPaLRo0cXl69fdtll4eKLLw5HHHFEeP311+cacTx/5plnhr333nuBM4lBP/4zcMQvl6usskp49dVXwxJLLNHx7K/735c6fk/Xb4gB9tW/hn8vu14ICy3cdTPZvjFhfv/9XytnO/yygb333nvh7rvvDttvv30YPnx42cuzOJ+8vhNql8WEuh1ES+bXzdqMn6HLLrtseOONN7r6DO22JN5HgAABAgQItENAQO9BnecN6A888EDYaqutwssvv1zspA8c8RL2F154Idx5553hpJNOKi5/f/rpp+cacbwcPobzY489doEzGTt2bHFv+7zHVVddFUaMGNGD2euSAAEC/Svw1ltvhT322ENA798SGjkBAgQIEMhaQEDvQXk+KqBPmTIlrLjiirNHtO+++4bJkyeH3/3ud0VAjzvp8Z70OY+11lor7LPPPuGYY45Z4EzsoPegwKldJuxS2kFPxazndXbQZzkmrM16xHvUyqz52UHvkb9uCRAgQIAAgY8UENB7sDiavMR93ulVvX8y+R7dOlwT7tGuo5uetZEwP/egN1ud5PWdULtmR15zby2Zn4fE1bxuNEeAAAECBAhUFhDQKxN23sBHPSTu8MMPD0cddVTR4LvvvhuWX375+R4S99BDD4VNN920eE38/5tvvrmHxHVegjzekRCCBPRmSyWgz/JOWJvNVqbm3jzFvWZQzREgQIAAAQJ1CQjodUmWtPPmm2+GZ555pnhVfBDcGWecEbbbbruw9NJLh1VXXbUI4ieffHK45JJLQrxsPV7Sfs8998z3M2vxMvgJEyYU7cR71FdbbTU/s9ZQDWvvJiEECei1q39sgwK6gF624qpehVTWvvMECBAgQIBAuwUE9IbqH8N2DOTzHnvuuWfx8Lf4U2vxYW4xfE+fPr34KbVzzjknrL/++rPfMm3atHDIIYeEm2++ufh3O+64Y/jNb35TPOk99aj65TI5wKQO6ONelxBg6+imZ20kzE9Ab7Y6yes7oXbNjrzm3loyP5e4VV0ZGQAAGItJREFU17xuNEeAAAECBAhUFhDQKxP2VwMCekb1SghBAnqz9RLQZ3knrM1mK1Nzby5xrxlUcwQIECBAgEBdAgJ6XZJ90o6AnlGhEkKQgN5svQR0Ab1sxVX9DC1r33kCBAgQIECg3QICesvqX/XLZXKAqcM1IcDW0U3P2kiYn4DebHWS13dC7Zodec29tWR+LnGved1ojgABAgQIEKgsIKBXJuyvBgT0jOqVEIIE9GbrJaDbQS9bcVU/Q8vad54AAQIECBBot4CA3rL6V/1ymRxg6nBNCLB1dNOzNhLmJ6A3W53k9Z1Qu2ZHXnNvLZmfHfSa143mCBAgQIAAgcoCAnplwv5qQEDPqF4JIUhAb7ZeArod9LIVV/UztKx95wkQIECAAIF2CwjoLat/1S+XyQGmDteEAFtHNz1rI2F+Anqz1Ule3wm1a3bkNffWkvnZQa953WiOAAECBAgQqCwgoFcm7K8GBPSM6pUQggT0ZusloNtBL1txVT9Dy9p3ngABAgQIEGi3gIDesvpX/XKZHGDqcE0IsHV007M2EubXxoDe6BrrtvgJteu26Sze15L52UHPYrUZBAECBAgQIDCHgIDesuUgoGdU8IQQJKBnVK85h5JQu0xHnjaslsxPQE9bDl5FgAABAgQINCcgoDdnnUVPAnoWZfjPIBJCkICeUb0E9EyL0cWwZv23J6B3YectBAgQIECAwKAKCOiDyptf4wJ6RjUR0BdYDJe4Z7BGE9ZmBqPsfggCevd23kmAAAECBAgMqoCAPqi8+TUuoGdUk4QQZAc9o3rZQc+0GF0MS0DvAs1bCBAgQIAAgSYEBPQmlDPqQ0DPqBgCuh30jJbjXENJWJu5Dj1pXAJ6EpMXESBAgAABAs0LCOjNm/e0RwG9p/xzd54QguygZ1SvOYeSULtMR542rJbMzz3oacvBqwgQIECAAIHmBAT05qyz6ElAz6IM/xlEQggS0DOql4CeaTG6GJYd9C7QvIUAAQIECBBoQkBAb0I5oz4E9IyKIaAvsBgeEpfBGk1YmxmMsvshCOjd23knAQIECBAgMKgCAvqg8ubXuICeUU0SQpAd9IzqZQc902J0MSwBvQs0byFAgAABAgSaEBDQm1DOqA8BPaNiCOh20DNajnMNJWFt5jr0pHEJ6ElMXkSAAAECBAg0LyCgN2/e0x4F9J7yz915Qgiyg55RveYcSkLtMh152rBaMj8PiUtbDl5FgAABAgQINCcgoDdnnUVPAnoWZfjPIBJCkICeUb0E9EyL0cWw7KB3geYtBAgQIECAQBMCAnoTyhn1IaBnVAwBfYHF8JC4DNZowtrMYJTdD0FA797OOwkQIECAAIFBFRDQB5U3v8YF9IxqkhCC7KBnVC876JkWo4thCehdoHkLAQIECBAg0ISAgN6EckZ9COgZFSPzgF55JzthfhlVo7OhDOW5RYmWzM896J0te68mQIAAAQIEBl9AQB9846x6ENAzKkdCCOrlDrqA/jFrJaF2Ga20zofSkvkJ6J0vDe8gQIAAAQIEBldAQB9c3+xaF9AzKklLQtC/l/8/ISy0cEbwNQxF7WpA7GETLnHvIb6uCRAgQIAAgY8TENBbtj4E9IwKLuRlVIwOh6J2HYJl9nIBPbOCGA4BAgQIECAwICCgt2wtCOgZFVzIy6gYHQ5F7ToEy+zlAnpmBTEcAgQIECBAQEBv6RoQ0DMqvJCXUTE6HIradQiW2csF9MwKYjgECBAgQICAgN7SNSCgZ1R4IS+jYnQ4FLXrECyzlwvomRXEcAgQIECAAAEBvaVrQEDPqPBCXkbF6HAoatchWGYvF9AzK4jhECBAgAABAgJ6S9eAgJ5R4YW8jIrR4VDUrkOwzF4uoGdWEMMhQIAAAQIEBPSWrgEBPaPCC3kZFaPDoahdh2CZvVxAz6wghkOAAAECBAgI6C1dAwJ6RoUX8jIqRodDUbsOwTJ7uYCeWUEMhwABAgQIEBDQ+3gNnHvuuWH8+PFh6tSpYb311gtnnXVW2HrrrZNmJKAnMTXzIiGvGefB6EXtBkO1uTYF9Oas9USAAAECBAh0JOB30Dvi6v2Lr7322vC9730vxJC+1VZbhQkTJoSLLrooPPHEE2HVVVctHaCAXkrU3AuEvOas6+5J7eoWbbY9Ab1Zb70RIECAAAECyQICejJVHi/cbLPNwsYbbxzOO++82QNaZ511wpgxY8LJJ59cOkgBvZSouRcIec1Z192T2tUt2mx7Anqz3nojQIAAAQIEkgUE9GSq3r/w3XffDSNGjAjXXXdd2GmnnWYP6NBDDw2PPvpomDhx4nyDnDFjRoj/DBxvvPFGsdP+3HPPhcUXX7zjSd3wf1/u+D1dvyF+iX5tUvj3Mp8NYaGFu24m2zeaX7alKR2Y2pUSZf2CWfXbbrvtwvDhwzsa6r/+9a+wxhprhNdffz0sueSSHb3XiwkQIECAAAECZQICeplQRuenTJkSVlpppXD//feHLbfccvbITjrppHDZZZeFp556ar7Rjh07NowbNy6jWRgKAQIE+l9g8uTJYeWVV+7/iZgBAQIECBAgkJWAgJ5VOT5+MAMB/YEHHghbbLHF7BefeOKJ4YorrgiTJk2ar4F5d9A//PDDMG3atLDMMsuEYcOGZT37eDn+KqusEuIX4SWWWCLrsXYzOPPrRi2P96hdHnXodhRV6jdz5swQd9FHjhwZFlpooW6H4H0ECBAgQIAAgQUKCOh9tDC6ucS9j6Y331Cr3i+f+9zNL/cKffT41K5/axdHPtTr19/VMXoCBAgQINBuAQG9z+ofHxK3ySabFE9xHzjWXXfdMHr06KSHxPXTdIf6l2jz66fVOPdY1a5/ayeg93ftjJ4AAQIECAx1AQG9zyo88DNr559/fnGZ+wUXXBAuvPDC8Ne//jWsttpqfTabjx+uENTf5RzK9RvKc2tDgB3q9evvTw6jJ0CAAAEC7RYQ0Puw/nH3/NRTTw1Tp04N66+/fjjzzDPDNtts04cz+fghx/vn40/HHXvssWHRRRc1vz4TGMr1G8pzi8vM/PrsPzbDJUCAAAECBIaMgIA+ZEppIgQIECBAgAABAgQIECDQzwICej9Xz9gJECBAgAABAgQIECBAYMgICOhDppQmQoAAAQIECBAgQIAAAQL9LCCg93P1jJ0AAQIECBAgQIAAAQIEhoyAgD5kSmkiBAgQIECAAAECBAgQINDPAgJ6P1dvCIw9PpF+/PjxxRPp11tvvXDWWWeFrbfeeoEzu/TSS8Pee+8937m33347fOITn8hSo5P5xQm8/vrr4bjjjgvXX399mD59elhjjTXC6aefHr7+9a9nN79O5rbtttuGiRMnzjeHOK/bbrstu7nFAXUyv/j6uHbPO++88OKLL4Zll102fOc73yl+hWAorM333nuvmMtll10WXn755TBq1KhwyimnhB122CG72t17773FZ8rDDz9cfK7ccMMNYcyYMR87zrg2jzjiiOLnKkeOHBmOOuqo8KMf/Si7uRkQAQIECBAgMPQFBPShX+NsZzjwm+4xCG211VZhwoQJ4aKLLgpPPPFEWHXVVecbdwzohx56aHjqqafmOveZz3wmyzl2Or933323cFh++eXDz372s7DyyiuHyZMnh8UXXzxssMEGWc2x07lNmzYtxPkNHK+99loxp1jvvfbaK6u5xcF0Or/f/va3YZ999gkXX3xx2HLLLcPTTz9dzGvXXXctfgYxt6PT+R199NHhyiuvDBdeeGH47Gc/G+68884i0D7wwANho402ymp6d9xxR7j//vvDxhtvHHbeeefSgP7cc88VP1e57777hv33379474EHHhiuvvrq4v0OAgQIECBAgECTAgJ6k9r6mktgs802K75Ex13HgWOdddYpdrvibt28Rwzohx12WLHL3A9Hp/M7//zzi52/SZMmheHDh2c9xU7nNu9k4m7z8ccfX+xwLrbYYtnNtdP5/fjHPw5PPvlk+MMf/jB7LkceeWT4y1/+Eu67776+n1/cVY5Xdhx00EGz5xL/O/3Upz5VBPdcj2HDhpUG9PjHh5tvvrmo38ARd88fe+yx8Oc//znXqRkXAQIECBAgMEQFBPQhWtjcpxV3U0eMGBGuu+66sNNOO80ebtwhf/TRRxd4OXQM6D/84Q/DSiutFD744IOw4YYbhv/5n//JbgcvTqab+cXLvZdeeunC5aabbgrLLbdc2GOPPUIMEAsvvHA2Je1mbvMO/nOf+1zYYostwgUXXJDNvAYG0s38rrnmmuKS6Lvuuitsuumm4dlnnw3f+MY3wp577hmOOeaYrObYzfyWWWaZcOqppxZXCQwcu+++exFgn3/++azmN+dgUgL6NttsU3yG/OpXv5r91nhZ/C677BLeeuut7P9Yli2+gREgQIAAAQJdCQjoXbF5U1WBKVOmFEE7Xk4aLwkeOE466aTiPtd5L2OP5x988MHwzDPPhBju/vnPfxZfqG+//fZip2uttdaqOqRa39/N/OKlwzHsfPe73y0usf3b3/5W7FjGP1rE3eZcjm7mNufY465y3KF+6KGHijCb29Ht/M4+++wQd81nzpwZ3n///XDAAQcU97HndnQzv/iHovjf2Y033hjWXHPN4kqB0aNHF38omzFjRm5TnD2elIC+9tprF7cjxNtKBo546X683SRarbjiitnOz8AIECBAgACBoScgoA+9mvbFjAZCQvwiHHdSB44TTzwxXHHFFcVl3mXHhx9+WFwiH3fAfv3rX5e9vNHz3cwvBoV33nknxHtiB3bMzzjjjNkP0Wt0Ah/TWTdzm7O5eJ9vrPvjjz+ey5TmGkc387vnnnvCbrvtFk444YTijw/xD0nxDyvxvuaf//znWc2zm/m98sorxVxuueWWEENvDOlf/vKXwyWXXFLsMud6pAb0+PDJY489dvY04h8Ov/CFLxS3YOT6jItczY2LAAECBAgQqCYgoFfz8+4uBbq5zHZBXcXQ8NJLL4X4YKicjm7m98UvfrG4nPb3v//97KnEecVL3+Mu5SKLLJLFFLuZ28DAY5iLO5K/+MUvigCb49HN/OIvD2y++ebFH1MGjnhv9n777RfefPPNsNBCC2Uz1W7mNzD4+Aek+IC/eE96vHT/1ltvLZ58nuuREtBd4p5r9YyLAAECBAi0U0BAb2fds5h13GncZJNN5roMeN111y0unV3QQ+LmHXS8lDheIh0veY9Pz87t6HR+8RLbq666qrh/eSDQxcv4489ZxV3PnI5O5zYw9vgcgXivdvyprnhfc65Hp/OL6zjuKMdaDRzxKeA/+MEPioCe0zME4vg6nd+8dYo/uxYf6Bjv0463peR6pAT0+IyHeGVA/PWIgSPenhCfheEhcblW1rgIECBAgMDQFRDQh25ts5/ZwE89xaeXDzwwLP6MU9yRW2211cL3v//94j71gbA+bty4Ypcy3m8e70GPl7XHy+Hj5ag53svc6fziT6rFP1DE+2EPPvjg4h70GPAOOeSQ4gnaOR2dzm1g7HGnOdY0PlQt56PT+Y0dOzbE2xHiQ+8GLnGPIS8G99hWbken84vPC4h/VIkPZoz/G+cbb8V45JFHwlJLLZXV9OIfROItBvGID3+Lddluu+2KBzDGn2+Ml7LHOVx++eXFawZ+Zi3eehGvyImhPP4Ryc+sZVVWgyFAgAABAq0RENBbU+o8JxofohWfDh3v9Yy/RRx/MzpechqPbbfdNqy++uoh7rrG4/DDDw/XX399+Pvf/x6WXHLJ4st3DApz3sOe2yw7mV8cewwHcZ5x9y4G2fjU7Nye4j5g3Onc4m+Djxo1qnjS+fbbb59bqeYbTyfziw+FG3h+Qgx/8Qn83/rWt4p/l1uA7aZ+EydOLB56F6/uiD+tFm+7+OUvf1lc6p7bEZ8HEAP5vEd8on78LIl/AIsPY4yvGzji/OJ/d/GPg3FO8b+5GNIdBAgQIECAAIGmBQT0psX1R4AAAQIECBAgQIAAAQIEFiAgoFsWBAgQIECAAAECBAgQIEAgAwEBPYMiGAIBAgQIECBAgAABAgQIEBDQrQECBAgQIECAAAECBAgQIJCBgICeQREMgQABAgQIECBAgAABAgQICOjWAAECBAgQIECAAAECBAgQyEBAQM+gCIZAgAABAgQIECBAgAABAgQEdGuAAAECBAgQIECAAAECBAhkICCgZ1AEQyBAgAABAgQIECBAgAABAgK6NUCAAAECBAgQIECAAAECBDIQENAzKIIhECBAgAABAgQIECBAgAABAd0aIECAAAECBAgQIECAAAECGQgI6BkUwRAIECBAgAABAgQIECBAgICAbg0QIECAAAECBAgQIECAAIEMBAT0DIpgCAQIECBAgAABAgQIECBAQEC3BggQIECAAAECBAgQIECAQAYCAnoGRTAEAgQIECBAgAABAgQIECAgoFsDBAgQIECAAAECBAgQIEAgAwEBPYMiGAIBAgQIECBAgAABAgQIEBDQrQECBAgQIECAAAECBAgQIJCBgICeQREMgQABAgQIECBAgAABAgQICOjWAAECBAgQIECAAAECBAgQyEBAQM+gCIZAgAABAgQIECBAgAABAgQEdGuAAAECBAgQIECAAAECBAhkICCgZ1AEQyBAgAABAgQIECBAgAABAgK6NUCAAAECBAgQIECAAAECBDIQENAzKIIhECBAgAABAgQIECBAgAABAd0aIECAAAECBAgQIECAAAECGQgI6BkUwRAIECBAgAABAgQIECBAgICAbg0QIECAAAECBAgQIECAAIEMBAT0DIpgCAQIECBAgAABAgQIECBAQEC3BggQIECAAAECBAgQIECAQAYCAnoGRTAEAgQIECBAgAABAgQIECAgoFsDBAgQIECAAAECBAgQIEAgAwEBPYMiGAIBAgQIECBAgAABAgQIEBDQrQECBAgQIECAAAECBAgQIJCBgICeQREMgQABAgQIECBAgAABAgQICOjWAAECBAgQIECAAAECBAgQyEBAQM+gCIZAgAABAgQIECBAgAABAgQEdGuAAAECBAgQIECAAAECBAhkICCgZ1AEQyBAgAABAgQIECBAgAABAgK6NUCAAAECBAgQIECAAAECBDIQENAzKIIhECBAgAABAgQIECBAgAABAd0aIECAAAECBAgQIECAAAECGQgI6BkUwRAIECBAgAABAgQIECBAgICAbg0QIECAAAECBAgQIECAAIEMBAT0DIpgCAQIECBAgAABAgQIECBAQEC3BggQIECAAAECBAgQIECAQAYCAnoGRTAEAgQIECBAgAABAgQIECAgoFsDBAgQIECAAAECBAgQIEAgAwEBPYMiGAIBAgQIECBAgAABAgQIEBDQrQECBAgQIECAAAECBAgQIJCBgICeQREMgQABAgQIECBAgAABAgQICOjWAAECBAgQIECAAAECBAgQyEBAQM+gCIZAgAABAgQIECBAgAABAgQEdGuAAAECBAgQIECAAAECBAhkICCgZ1AEQyBAgAABAgQIECBAgAABAgK6NUCAAAECBAgQIECAAAECBDIQENAzKIIhECBAgAABAgQIECBAgAABAd0aIECAAAECBAgQIECAAAECGQgI6BkUwRAIECBAgAABAgQIECBAgICAbg0QIECAAAECBAgQIECAAIEMBAT0DIpgCAQIECBAgAABAgQIECBAQEC3BggQIECAAAECBAgQIECAQAYCAnoGRTAEAgQIECBAgAABAgQIECAgoFsDBAgQIECAAAECBAgQIEAgAwEBPYMiGAIBAgQIECBAgAABAgQIEBDQrQECBAgQIECAAAECBAgQIJCBgICeQREMgQABAgQIECBAgAABAgQICOjWAAECBAgQIECAAAECBAgQyEBAQM+gCIZAgAABAgQIECBAgAABAgQEdGuAAAECBAgQIECAAAECBAhkICCgZ1AEQyBAgAABAgQIECBAgAABAgK6NUCAAAECBAgQIECAAAECBDIQENAzKIIhECBAgAABAgQIECBAgAABAd0aIECAAAECBAgQIECAAAECGQgI6BkUwRAIECBAgAABAgQIECBAgICAbg0QIECAAAECBAgQIECAAIEMBAT0DIpgCAQIECBAgAABAgQIECBAQEC3BggQIECAAAECBAgQIECAQAYCAnoGRTAEAgQIECBAgAABAgQIECAgoFsDBAgQIECAAAECBAgQIEAgAwEBPYMiGAIBAgQIECBAgAABAgQIEBDQrQECBAgQIECAAAECBAgQIJCBgICeQREMgQABAgQIECBAgAABAgQICOjWAAECBAgQIECAAAECBAgQyEBAQM+gCIZAgAABAgQIECBAgAABAgQEdGuAAAECBAgQIECAAAECBAhkICCgZ1AEQyBAgAABAgQIECBAgAABAv8PKA2ws4RR+cYAAAAASUVORK5CYII=\" width=\"1000\">"
      ],
      "text/plain": [
       "<IPython.core.display.HTML object>"
      ]
     },
     "metadata": {},
     "output_type": "display_data"
    },
    {
     "data": {
      "text/plain": [
       "array([[<matplotlib.axes._subplots.AxesSubplot object at 0x000001A4FA475550>,\n",
       "        <matplotlib.axes._subplots.AxesSubplot object at 0x000001A4FA7E1EF0>],\n",
       "       [<matplotlib.axes._subplots.AxesSubplot object at 0x000001A4FA7F8C50>,\n",
       "        <matplotlib.axes._subplots.AxesSubplot object at 0x000001A4FA88FBE0>]],\n",
       "      dtype=object)"
      ]
     },
     "execution_count": 131,
     "metadata": {},
     "output_type": "execute_result"
    }
   ],
   "source": [
    "# left 한 사람들만\n",
    "hr[hr.left>0][['evaluation','Nproject','avgMonthlyhrs']].hist(figsize=(10,10),alpha=0.4)"
   ]
  },
  {
   "cell_type": "code",
   "execution_count": 91,
   "metadata": {
    "collapsed": true
   },
   "outputs": [
    {
     "data": {
      "text/plain": [
       "array([[<matplotlib.axes._subplots.AxesSubplot object at 0x000001A4A6A26780>,\n",
       "        <matplotlib.axes._subplots.AxesSubplot object at 0x000001A4A6A4F588>],\n",
       "       [<matplotlib.axes._subplots.AxesSubplot object at 0x000001A4A6A6B7F0>,\n",
       "        <matplotlib.axes._subplots.AxesSubplot object at 0x000001A4A6A89B38>]],\n",
       "      dtype=object)"
      ]
     },
     "execution_count": 91,
     "metadata": {},
     "output_type": "execute_result"
    },
    {
     "data": {
      "image/png": "[encoded data removed]",
      "text/plain": [
       "<Figure size 720x720 with 4 Axes>"
      ]
     },
     "metadata": {
      "needs_background": "light"
     },
     "output_type": "display_data"
    }
   ],
   "source": [
    "# 전체 사람들\n",
    "hr[['evaluation','Nproject','avgMonthlyhrs']].hist(figsize=(10,10),alpha=0.4)"
   ]
  },
  {
   "cell_type": "code",
   "execution_count": 54,
   "metadata": {
    "scrolled": false
   },
   "outputs": [
    {
     "data": {
      "text/html": [
       "<div>\n",
       "<style scoped>\n",
       "    .dataframe tbody tr th:only-of-type {\n",
       "        vertical-align: middle;\n",
       "    }\n",
       "\n",
       "    .dataframe tbody tr th {\n",
       "        vertical-align: top;\n",
       "    }\n",
       "\n",
       "    .dataframe thead th {\n",
       "        text-align: right;\n",
       "    }\n",
       "</style>\n",
       "<table border=\"1\" class=\"dataframe\">\n",
       "  <thead>\n",
       "    <tr style=\"text-align: right;\">\n",
       "      <th></th>\n",
       "      <th>evaluation</th>\n",
       "      <th>Nproject</th>\n",
       "      <th>avgMonthlyhrs</th>\n",
       "    </tr>\n",
       "  </thead>\n",
       "  <tbody>\n",
       "    <tr>\n",
       "      <th>count</th>\n",
       "      <td>14999.000000</td>\n",
       "      <td>14999.000000</td>\n",
       "      <td>14999.000000</td>\n",
       "    </tr>\n",
       "    <tr>\n",
       "      <th>mean</th>\n",
       "      <td>0.716102</td>\n",
       "      <td>3.803054</td>\n",
       "      <td>201.050337</td>\n",
       "    </tr>\n",
       "    <tr>\n",
       "      <th>std</th>\n",
       "      <td>0.171169</td>\n",
       "      <td>1.232592</td>\n",
       "      <td>49.943099</td>\n",
       "    </tr>\n",
       "    <tr>\n",
       "      <th>min</th>\n",
       "      <td>0.360000</td>\n",
       "      <td>2.000000</td>\n",
       "      <td>96.000000</td>\n",
       "    </tr>\n",
       "    <tr>\n",
       "      <th>25%</th>\n",
       "      <td>0.560000</td>\n",
       "      <td>3.000000</td>\n",
       "      <td>156.000000</td>\n",
       "    </tr>\n",
       "    <tr>\n",
       "      <th>50%</th>\n",
       "      <td>0.720000</td>\n",
       "      <td>4.000000</td>\n",
       "      <td>200.000000</td>\n",
       "    </tr>\n",
       "    <tr>\n",
       "      <th>75%</th>\n",
       "      <td>0.870000</td>\n",
       "      <td>5.000000</td>\n",
       "      <td>245.000000</td>\n",
       "    </tr>\n",
       "    <tr>\n",
       "      <th>max</th>\n",
       "      <td>1.000000</td>\n",
       "      <td>7.000000</td>\n",
       "      <td>310.000000</td>\n",
       "    </tr>\n",
       "  </tbody>\n",
       "</table>\n",
       "</div>"
      ],
      "text/plain": [
       "         evaluation      Nproject  avgMonthlyhrs\n",
       "count  14999.000000  14999.000000   14999.000000\n",
       "mean       0.716102      3.803054     201.050337\n",
       "std        0.171169      1.232592      49.943099\n",
       "min        0.360000      2.000000      96.000000\n",
       "25%        0.560000      3.000000     156.000000\n",
       "50%        0.720000      4.000000     200.000000\n",
       "75%        0.870000      5.000000     245.000000\n",
       "max        1.000000      7.000000     310.000000"
      ]
     },
     "execution_count": 54,
     "metadata": {},
     "output_type": "execute_result"
    }
   ],
   "source": [
    "hr[['evaluation','Nproject','avgMonthlyhrs']].describe()"
   ]
  },
  {
   "cell_type": "code",
   "execution_count": 122,
   "metadata": {},
   "outputs": [
    {
     "data": {
      "application/javascript": [
       "/* Put everything inside the global mpl namespace */\n",
       "window.mpl = {};\n",
       "\n",
       "\n",
       "mpl.get_websocket_type = function() {\n",
       "    if (typeof(WebSocket) !== 'undefined') {\n",
       "        return WebSocket;\n",
       "    } else if (typeof(MozWebSocket) !== 'undefined') {\n",
       "        return MozWebSocket;\n",
       "    } else {\n",
       "        alert('Your browser does not have WebSocket support.' +\n",
       "              'Please try Chrome, Safari or Firefox ≥ 6. ' +\n",
       "              'Firefox 4 and 5 are also supported but you ' +\n",
       "              'have to enable WebSockets in about:config.');\n",
       "    };\n",
       "}\n",
       "\n",
       "mpl.figure = function(figure_id, websocket, ondownload, parent_element) {\n",
       "    this.id = figure_id;\n",
       "\n",
       "    this.ws = websocket;\n",
       "\n",
       "    this.supports_binary = (this.ws.binaryType != undefined);\n",
       "\n",
       "    if (!this.supports_binary) {\n",
       "        var warnings = document.getElementById(\"mpl-warnings\");\n",
       "        if (warnings) {\n",
       "            warnings.style.display = 'block';\n",
       "            warnings.textContent = (\n",
       "                \"This browser does not support binary websocket messages. \" +\n",
       "                    \"Performance may be slow.\");\n",
       "        }\n",
       "    }\n",
       "\n",
       "    this.imageObj = new Image();\n",
       "\n",
       "    this.context = undefined;\n",
       "    this.message = undefined;\n",
       "    this.canvas = undefined;\n",
       "    this.rubberband_canvas = undefined;\n",
       "    this.rubberband_context = undefined;\n",
       "    this.format_dropdown = undefined;\n",
       "\n",
       "    this.image_mode = 'full';\n",
       "\n",
       "    this.root = $('<div/>');\n",
       "    this._root_extra_style(this.root)\n",
       "    this.root.attr('style', 'display: inline-block');\n",
       "\n",
       "    $(parent_element).append(this.root);\n",
       "\n",
       "    this._init_header(this);\n",
       "    this._init_canvas(this);\n",
       "    this._init_toolbar(this);\n",
       "\n",
       "    var fig = this;\n",
       "\n",
       "    this.waiting = false;\n",
       "\n",
       "    this.ws.onopen =  function () {\n",
       "            fig.send_message(\"supports_binary\", {value: fig.supports_binary});\n",
       "            fig.send_message(\"send_image_mode\", {});\n",
       "            if (mpl.ratio != 1) {\n",
       "                fig.send_message(\"set_dpi_ratio\", {'dpi_ratio': mpl.ratio});\n",
       "            }\n",
       "            fig.send_message(\"refresh\", {});\n",
       "        }\n",
       "\n",
       "    this.imageObj.onload = function() {\n",
       "            if (fig.image_mode == 'full') {\n",
       "                // Full images could contain transparency (where diff images\n",
       "                // almost always do), so we need to clear the canvas so that\n",
       "                // there is no ghosting.\n",
       "                fig.context.clearRect(0, 0, fig.canvas.width, fig.canvas.height);\n",
       "            }\n",
       "            fig.context.drawImage(fig.imageObj, 0, 0);\n",
       "        };\n",
       "\n",
       "    this.imageObj.onunload = function() {\n",
       "        fig.ws.close();\n",
       "    }\n",
       "\n",
       "    this.ws.onmessage = this._make_on_message_function(this);\n",
       "\n",
       "    this.ondownload = ondownload;\n",
       "}\n",
       "\n",
       "mpl.figure.prototype._init_header = function() {\n",
       "    var titlebar = $(\n",
       "        '<div class=\"ui-dialog-titlebar ui-widget-header ui-corner-all ' +\n",
       "        'ui-helper-clearfix\"/>');\n",
       "    var titletext = $(\n",
       "        '<div class=\"ui-dialog-title\" style=\"width: 100%; ' +\n",
       "        'text-align: center; padding: 3px;\"/>');\n",
       "    titlebar.append(titletext)\n",
       "    this.root.append(titlebar);\n",
       "    this.header = titletext[0];\n",
       "}\n",
       "\n",
       "\n",
       "\n",
       "mpl.figure.prototype._canvas_extra_style = function(canvas_div) {\n",
       "\n",
       "}\n",
       "\n",
       "\n",
       "mpl.figure.prototype._root_extra_style = function(canvas_div) {\n",
       "\n",
       "}\n",
       "\n",
       "mpl.figure.prototype._init_canvas = function() {\n",
       "    var fig = this;\n",
       "\n",
       "    var canvas_div = $('<div/>');\n",
       "\n",
       "    canvas_div.attr('style', 'position: relative; clear: both; outline: 0');\n",
       "\n",
       "    function canvas_keyboard_event(event) {\n",
       "        return fig.key_event(event, event['data']);\n",
       "    }\n",
       "\n",
       "    canvas_div.keydown('key_press', canvas_keyboard_event);\n",
       "    canvas_div.keyup('key_release', canvas_keyboard_event);\n",
       "    this.canvas_div = canvas_div\n",
       "    this._canvas_extra_style(canvas_div)\n",
       "    this.root.append(canvas_div);\n",
       "\n",
       "    var canvas = $('<canvas/>');\n",
       "    canvas.addClass('mpl-canvas');\n",
       "    canvas.attr('style', \"left: 0; top: 0; z-index: 0; outline: 0\")\n",
       "\n",
       "    this.canvas = canvas[0];\n",
       "    this.context = canvas[0].getContext(\"2d\");\n",
       "\n",
       "    var backingStore = this.context.backingStorePixelRatio ||\n",
       "\tthis.context.webkitBackingStorePixelRatio ||\n",
       "\tthis.context.mozBackingStorePixelRatio ||\n",
       "\tthis.context.msBackingStorePixelRatio ||\n",
       "\tthis.context.oBackingStorePixelRatio ||\n",
       "\tthis.context.backingStorePixelRatio || 1;\n",
       "\n",
       "    mpl.ratio = (window.devicePixelRatio || 1) / backingStore;\n",
       "\n",
       "    var rubberband = $('<canvas/>');\n",
       "    rubberband.attr('style', \"position: absolute; left: 0; top: 0; z-index: 1;\")\n",
       "\n",
       "    var pass_mouse_events = true;\n",
       "\n",
       "    canvas_div.resizable({\n",
       "        start: function(event, ui) {\n",
       "            pass_mouse_events = false;\n",
       "        },\n",
       "        resize: function(event, ui) {\n",
       "            fig.request_resize(ui.size.width, ui.size.height);\n",
       "        },\n",
       "        stop: function(event, ui) {\n",
       "            pass_mouse_events = true;\n",
       "            fig.request_resize(ui.size.width, ui.size.height);\n",
       "        },\n",
       "    });\n",
       "\n",
       "    function mouse_event_fn(event) {\n",
       "        if (pass_mouse_events)\n",
       "            return fig.mouse_event(event, event['data']);\n",
       "    }\n",
       "\n",
       "    rubberband.mousedown('button_press', mouse_event_fn);\n",
       "    rubberband.mouseup('button_release', mouse_event_fn);\n",
       "    // Throttle sequential mouse events to 1 every 20ms.\n",
       "    rubberband.mousemove('motion_notify', mouse_event_fn);\n",
       "\n",
       "    rubberband.mouseenter('figure_enter', mouse_event_fn);\n",
       "    rubberband.mouseleave('figure_leave', mouse_event_fn);\n",
       "\n",
       "    canvas_div.on(\"wheel\", function (event) {\n",
       "        event = event.originalEvent;\n",
       "        event['data'] = 'scroll'\n",
       "        if (event.deltaY < 0) {\n",
       "            event.step = 1;\n",
       "        } else {\n",
       "            event.step = -1;\n",
       "        }\n",
       "        mouse_event_fn(event);\n",
       "    });\n",
       "\n",
       "    canvas_div.append(canvas);\n",
       "    canvas_div.append(rubberband);\n",
       "\n",
       "    this.rubberband = rubberband;\n",
       "    this.rubberband_canvas = rubberband[0];\n",
       "    this.rubberband_context = rubberband[0].getContext(\"2d\");\n",
       "    this.rubberband_context.strokeStyle = \"#000000\";\n",
       "\n",
       "    this._resize_canvas = function(width, height) {\n",
       "        // Keep the size of the canvas, canvas container, and rubber band\n",
       "        // canvas in synch.\n",
       "        canvas_div.css('width', width)\n",
       "        canvas_div.css('height', height)\n",
       "\n",
       "        canvas.attr('width', width * mpl.ratio);\n",
       "        canvas.attr('height', height * mpl.ratio);\n",
       "        canvas.attr('style', 'width: ' + width + 'px; height: ' + height + 'px;');\n",
       "\n",
       "        rubberband.attr('width', width);\n",
       "        rubberband.attr('height', height);\n",
       "    }\n",
       "\n",
       "    // Set the figure to an initial 600x600px, this will subsequently be updated\n",
       "    // upon first draw.\n",
       "    this._resize_canvas(600, 600);\n",
       "\n",
       "    // Disable right mouse context menu.\n",
       "    $(this.rubberband_canvas).bind(\"contextmenu\",function(e){\n",
       "        return false;\n",
       "    });\n",
       "\n",
       "    function set_focus () {\n",
       "        canvas.focus();\n",
       "        canvas_div.focus();\n",
       "    }\n",
       "\n",
       "    window.setTimeout(set_focus, 100);\n",
       "}\n",
       "\n",
       "mpl.figure.prototype._init_toolbar = function() {\n",
       "    var fig = this;\n",
       "\n",
       "    var nav_element = $('<div/>')\n",
       "    nav_element.attr('style', 'width: 100%');\n",
       "    this.root.append(nav_element);\n",
       "\n",
       "    // Define a callback function for later on.\n",
       "    function toolbar_event(event) {\n",
       "        return fig.toolbar_button_onclick(event['data']);\n",
       "    }\n",
       "    function toolbar_mouse_event(event) {\n",
       "        return fig.toolbar_button_onmouseover(event['data']);\n",
       "    }\n",
       "\n",
       "    for(var toolbar_ind in mpl.toolbar_items) {\n",
       "        var name = mpl.toolbar_items[toolbar_ind][0];\n",
       "        var tooltip = mpl.toolbar_items[toolbar_ind][1];\n",
       "        var image = mpl.toolbar_items[toolbar_ind][2];\n",
       "        var method_name = mpl.toolbar_items[toolbar_ind][3];\n",
       "\n",
       "        if (!name) {\n",
       "            // put a spacer in here.\n",
       "            continue;\n",
       "        }\n",
       "        var button = $('<button/>');\n",
       "        button.addClass('ui-button ui-widget ui-state-default ui-corner-all ' +\n",
       "                        'ui-button-icon-only');\n",
       "        button.attr('role', 'button');\n",
       "        button.attr('aria-disabled', 'false');\n",
       "        button.click(method_name, toolbar_event);\n",
       "        button.mouseover(tooltip, toolbar_mouse_event);\n",
       "\n",
       "        var icon_img = $('<span/>');\n",
       "        icon_img.addClass('ui-button-icon-primary ui-icon');\n",
       "        icon_img.addClass(image);\n",
       "        icon_img.addClass('ui-corner-all');\n",
       "\n",
       "        var tooltip_span = $('<span/>');\n",
       "        tooltip_span.addClass('ui-button-text');\n",
       "        tooltip_span.html(tooltip);\n",
       "\n",
       "        button.append(icon_img);\n",
       "        button.append(tooltip_span);\n",
       "\n",
       "        nav_element.append(button);\n",
       "    }\n",
       "\n",
       "    var fmt_picker_span = $('<span/>');\n",
       "\n",
       "    var fmt_picker = $('<select/>');\n",
       "    fmt_picker.addClass('mpl-toolbar-option ui-widget ui-widget-content');\n",
       "    fmt_picker_span.append(fmt_picker);\n",
       "    nav_element.append(fmt_picker_span);\n",
       "    this.format_dropdown = fmt_picker[0];\n",
       "\n",
       "    for (var ind in mpl.extensions) {\n",
       "        var fmt = mpl.extensions[ind];\n",
       "        var option = $(\n",
       "            '<option/>', {selected: fmt === mpl.default_extension}).html(fmt);\n",
       "        fmt_picker.append(option)\n",
       "    }\n",
       "\n",
       "    // Add hover states to the ui-buttons\n",
       "    $( \".ui-button\" ).hover(\n",
       "        function() { $(this).addClass(\"ui-state-hover\");},\n",
       "        function() { $(this).removeClass(\"ui-state-hover\");}\n",
       "    );\n",
       "\n",
       "    var status_bar = $('<span class=\"mpl-message\"/>');\n",
       "    nav_element.append(status_bar);\n",
       "    this.message = status_bar[0];\n",
       "}\n",
       "\n",
       "mpl.figure.prototype.request_resize = function(x_pixels, y_pixels) {\n",
       "    // Request matplotlib to resize the figure. Matplotlib will then trigger a resize in the client,\n",
       "    // which will in turn request a refresh of the image.\n",
       "    this.send_message('resize', {'width': x_pixels, 'height': y_pixels});\n",
       "}\n",
       "\n",
       "mpl.figure.prototype.send_message = function(type, properties) {\n",
       "    properties['type'] = type;\n",
       "    properties['figure_id'] = this.id;\n",
       "    this.ws.send(JSON.stringify(properties));\n",
       "}\n",
       "\n",
       "mpl.figure.prototype.send_draw_message = function() {\n",
       "    if (!this.waiting) {\n",
       "        this.waiting = true;\n",
       "        this.ws.send(JSON.stringify({type: \"draw\", figure_id: this.id}));\n",
       "    }\n",
       "}\n",
       "\n",
       "\n",
       "mpl.figure.prototype.handle_save = function(fig, msg) {\n",
       "    var format_dropdown = fig.format_dropdown;\n",
       "    var format = format_dropdown.options[format_dropdown.selectedIndex].value;\n",
       "    fig.ondownload(fig, format);\n",
       "}\n",
       "\n",
       "\n",
       "mpl.figure.prototype.handle_resize = function(fig, msg) {\n",
       "    var size = msg['size'];\n",
       "    if (size[0] != fig.canvas.width || size[1] != fig.canvas.height) {\n",
       "        fig._resize_canvas(size[0], size[1]);\n",
       "        fig.send_message(\"refresh\", {});\n",
       "    };\n",
       "}\n",
       "\n",
       "mpl.figure.prototype.handle_rubberband = function(fig, msg) {\n",
       "    var x0 = msg['x0'] / mpl.ratio;\n",
       "    var y0 = (fig.canvas.height - msg['y0']) / mpl.ratio;\n",
       "    var x1 = msg['x1'] / mpl.ratio;\n",
       "    var y1 = (fig.canvas.height - msg['y1']) / mpl.ratio;\n",
       "    x0 = Math.floor(x0) + 0.5;\n",
       "    y0 = Math.floor(y0) + 0.5;\n",
       "    x1 = Math.floor(x1) + 0.5;\n",
       "    y1 = Math.floor(y1) + 0.5;\n",
       "    var min_x = Math.min(x0, x1);\n",
       "    var min_y = Math.min(y0, y1);\n",
       "    var width = Math.abs(x1 - x0);\n",
       "    var height = Math.abs(y1 - y0);\n",
       "\n",
       "    fig.rubberband_context.clearRect(\n",
       "        0, 0, fig.canvas.width, fig.canvas.height);\n",
       "\n",
       "    fig.rubberband_context.strokeRect(min_x, min_y, width, height);\n",
       "}\n",
       "\n",
       "mpl.figure.prototype.handle_figure_label = function(fig, msg) {\n",
       "    // Updates the figure title.\n",
       "    fig.header.textContent = msg['label'];\n",
       "}\n",
       "\n",
       "mpl.figure.prototype.handle_cursor = function(fig, msg) {\n",
       "    var cursor = msg['cursor'];\n",
       "    switch(cursor)\n",
       "    {\n",
       "    case 0:\n",
       "        cursor = 'pointer';\n",
       "        break;\n",
       "    case 1:\n",
       "        cursor = 'default';\n",
       "        break;\n",
       "    case 2:\n",
       "        cursor = 'crosshair';\n",
       "        break;\n",
       "    case 3:\n",
       "        cursor = 'move';\n",
       "        break;\n",
       "    }\n",
       "    fig.rubberband_canvas.style.cursor = cursor;\n",
       "}\n",
       "\n",
       "mpl.figure.prototype.handle_message = function(fig, msg) {\n",
       "    fig.message.textContent = msg['message'];\n",
       "}\n",
       "\n",
       "mpl.figure.prototype.handle_draw = function(fig, msg) {\n",
       "    // Request the server to send over a new figure.\n",
       "    fig.send_draw_message();\n",
       "}\n",
       "\n",
       "mpl.figure.prototype.handle_image_mode = function(fig, msg) {\n",
       "    fig.image_mode = msg['mode'];\n",
       "}\n",
       "\n",
       "mpl.figure.prototype.updated_canvas_event = function() {\n",
       "    // Called whenever the canvas gets updated.\n",
       "    this.send_message(\"ack\", {});\n",
       "}\n",
       "\n",
       "// A function to construct a web socket function for onmessage handling.\n",
       "// Called in the figure constructor.\n",
       "mpl.figure.prototype._make_on_message_function = function(fig) {\n",
       "    return function socket_on_message(evt) {\n",
       "        if (evt.data instanceof Blob) {\n",
       "            /* FIXME: We get \"Resource interpreted as Image but\n",
       "             * transferred with MIME type text/plain:\" errors on\n",
       "             * Chrome.  But how to set the MIME type?  It doesn't seem\n",
       "             * to be part of the websocket stream */\n",
       "            evt.data.type = \"image/png\";\n",
       "\n",
       "            /* Free the memory for the previous frames */\n",
       "            if (fig.imageObj.src) {\n",
       "                (window.URL || window.webkitURL).revokeObjectURL(\n",
       "                    fig.imageObj.src);\n",
       "            }\n",
       "\n",
       "            fig.imageObj.src = (window.URL || window.webkitURL).createObjectURL(\n",
       "                evt.data);\n",
       "            fig.updated_canvas_event();\n",
       "            fig.waiting = false;\n",
       "            return;\n",
       "        }\n",
       "        else if (typeof evt.data === 'string' && evt.data.slice(0, 21) == \"data:image/png;base64\") {\n",
       "            fig.imageObj.src = evt.data;\n",
       "            fig.updated_canvas_event();\n",
       "            fig.waiting = false;\n",
       "            return;\n",
       "        }\n",
       "\n",
       "        var msg = JSON.parse(evt.data);\n",
       "        var msg_type = msg['type'];\n",
       "\n",
       "        // Call the  \"handle_{type}\" callback, which takes\n",
       "        // the figure and JSON message as its only arguments.\n",
       "        try {\n",
       "            var callback = fig[\"handle_\" + msg_type];\n",
       "        } catch (e) {\n",
       "            console.log(\"No handler for the '\" + msg_type + \"' message type: \", msg);\n",
       "            return;\n",
       "        }\n",
       "\n",
       "        if (callback) {\n",
       "            try {\n",
       "                // console.log(\"Handling '\" + msg_type + \"' message: \", msg);\n",
       "                callback(fig, msg);\n",
       "            } catch (e) {\n",
       "                console.log(\"Exception inside the 'handler_\" + msg_type + \"' callback:\", e, e.stack, msg);\n",
       "            }\n",
       "        }\n",
       "    };\n",
       "}\n",
       "\n",
       "// from http://stackoverflow.com/questions/1114465/getting-mouse-location-in-canvas\n",
       "mpl.findpos = function(e) {\n",
       "    //this section is from http://www.quirksmode.org/js/events_properties.html\n",
       "    var targ;\n",
       "    if (!e)\n",
       "        e = window.event;\n",
       "    if (e.target)\n",
       "        targ = e.target;\n",
       "    else if (e.srcElement)\n",
       "        targ = e.srcElement;\n",
       "    if (targ.nodeType == 3) // defeat Safari bug\n",
       "        targ = targ.parentNode;\n",
       "\n",
       "    // jQuery normalizes the pageX and pageY\n",
       "    // pageX,Y are the mouse positions relative to the document\n",
       "    // offset() returns the position of the element relative to the document\n",
       "    var x = e.pageX - $(targ).offset().left;\n",
       "    var y = e.pageY - $(targ).offset().top;\n",
       "\n",
       "    return {\"x\": x, \"y\": y};\n",
       "};\n",
       "\n",
       "/*\n",
       " * return a copy of an object with only non-object keys\n",
       " * we need this to avoid circular references\n",
       " * http://stackoverflow.com/a/24161582/3208463\n",
       " */\n",
       "function simpleKeys (original) {\n",
       "  return Object.keys(original).reduce(function (obj, key) {\n",
       "    if (typeof original[key] !== 'object')\n",
       "        obj[key] = original[key]\n",
       "    return obj;\n",
       "  }, {});\n",
       "}\n",
       "\n",
       "mpl.figure.prototype.mouse_event = function(event, name) {\n",
       "    var canvas_pos = mpl.findpos(event)\n",
       "\n",
       "    if (name === 'button_press')\n",
       "    {\n",
       "        this.canvas.focus();\n",
       "        this.canvas_div.focus();\n",
       "    }\n",
       "\n",
       "    var x = canvas_pos.x * mpl.ratio;\n",
       "    var y = canvas_pos.y * mpl.ratio;\n",
       "\n",
       "    this.send_message(name, {x: x, y: y, button: event.button,\n",
       "                             step: event.step,\n",
       "                             guiEvent: simpleKeys(event)});\n",
       "\n",
       "    /* This prevents the web browser from automatically changing to\n",
       "     * the text insertion cursor when the button is pressed.  We want\n",
       "     * to control all of the cursor setting manually through the\n",
       "     * 'cursor' event from matplotlib */\n",
       "    event.preventDefault();\n",
       "    return false;\n",
       "}\n",
       "\n",
       "mpl.figure.prototype._key_event_extra = function(event, name) {\n",
       "    // Handle any extra behaviour associated with a key event\n",
       "}\n",
       "\n",
       "mpl.figure.prototype.key_event = function(event, name) {\n",
       "\n",
       "    // Prevent repeat events\n",
       "    if (name == 'key_press')\n",
       "    {\n",
       "        if (event.which === this._key)\n",
       "            return;\n",
       "        else\n",
       "            this._key = event.which;\n",
       "    }\n",
       "    if (name == 'key_release')\n",
       "        this._key = null;\n",
       "\n",
       "    var value = '';\n",
       "    if (event.ctrlKey && event.which != 17)\n",
       "        value += \"ctrl+\";\n",
       "    if (event.altKey && event.which != 18)\n",
       "        value += \"alt+\";\n",
       "    if (event.shiftKey && event.which != 16)\n",
       "        value += \"shift+\";\n",
       "\n",
       "    value += 'k';\n",
       "    value += event.which.toString();\n",
       "\n",
       "    this._key_event_extra(event, name);\n",
       "\n",
       "    this.send_message(name, {key: value,\n",
       "                             guiEvent: simpleKeys(event)});\n",
       "    return false;\n",
       "}\n",
       "\n",
       "mpl.figure.prototype.toolbar_button_onclick = function(name) {\n",
       "    if (name == 'download') {\n",
       "        this.handle_save(this, null);\n",
       "    } else {\n",
       "        this.send_message(\"toolbar_button\", {name: name});\n",
       "    }\n",
       "};\n",
       "\n",
       "mpl.figure.prototype.toolbar_button_onmouseover = function(tooltip) {\n",
       "    this.message.textContent = tooltip;\n",
       "};\n",
       "mpl.toolbar_items = [[\"Home\", \"Reset original view\", \"fa fa-home icon-home\", \"home\"], [\"Back\", \"Back to previous view\", \"fa fa-arrow-left icon-arrow-left\", \"back\"], [\"Forward\", \"Forward to next view\", \"fa fa-arrow-right icon-arrow-right\", \"forward\"], [\"\", \"\", \"\", \"\"], [\"Pan\", \"Pan axes with left mouse, zoom with right\", \"fa fa-arrows icon-move\", \"pan\"], [\"Zoom\", \"Zoom to rectangle\", \"fa fa-square-o icon-check-empty\", \"zoom\"], [\"\", \"\", \"\", \"\"], [\"Download\", \"Download plot\", \"fa fa-floppy-o icon-save\", \"download\"]];\n",
       "\n",
       "mpl.extensions = [\"eps\", \"jpeg\", \"pdf\", \"png\", \"ps\", \"raw\", \"svg\", \"tif\"];\n",
       "\n",
       "mpl.default_extension = \"png\";var comm_websocket_adapter = function(comm) {\n",
       "    // Create a \"websocket\"-like object which calls the given IPython comm\n",
       "    // object with the appropriate methods. Currently this is a non binary\n",
       "    // socket, so there is still some room for performance tuning.\n",
       "    var ws = {};\n",
       "\n",
       "    ws.close = function() {\n",
       "        comm.close()\n",
       "    };\n",
       "    ws.send = function(m) {\n",
       "        //console.log('sending', m);\n",
       "        comm.send(m);\n",
       "    };\n",
       "    // Register the callback with on_msg.\n",
       "    comm.on_msg(function(msg) {\n",
       "        //console.log('receiving', msg['content']['data'], msg);\n",
       "        // Pass the mpl event to the overridden (by mpl) onmessage function.\n",
       "        ws.onmessage(msg['content']['data'])\n",
       "    });\n",
       "    return ws;\n",
       "}\n",
       "\n",
       "mpl.mpl_figure_comm = function(comm, msg) {\n",
       "    // This is the function which gets called when the mpl process\n",
       "    // starts-up an IPython Comm through the \"matplotlib\" channel.\n",
       "\n",
       "    var id = msg.content.data.id;\n",
       "    // Get hold of the div created by the display call when the Comm\n",
       "    // socket was opened in Python.\n",
       "    var element = $(\"#\" + id);\n",
       "    var ws_proxy = comm_websocket_adapter(comm)\n",
       "\n",
       "    function ondownload(figure, format) {\n",
       "        window.open(figure.imageObj.src);\n",
       "    }\n",
       "\n",
       "    var fig = new mpl.figure(id, ws_proxy,\n",
       "                           ondownload,\n",
       "                           element.get(0));\n",
       "\n",
       "    // Call onopen now - mpl needs it, as it is assuming we've passed it a real\n",
       "    // web socket which is closed, not our websocket->open comm proxy.\n",
       "    ws_proxy.onopen();\n",
       "\n",
       "    fig.parent_element = element.get(0);\n",
       "    fig.cell_info = mpl.find_output_cell(\"<div id='\" + id + \"'></div>\");\n",
       "    if (!fig.cell_info) {\n",
       "        console.error(\"Failed to find cell for figure\", id, fig);\n",
       "        return;\n",
       "    }\n",
       "\n",
       "    var output_index = fig.cell_info[2]\n",
       "    var cell = fig.cell_info[0];\n",
       "\n",
       "};\n",
       "\n",
       "mpl.figure.prototype.handle_close = function(fig, msg) {\n",
       "    var width = fig.canvas.width/mpl.ratio\n",
       "    fig.root.unbind('remove')\n",
       "\n",
       "    // Update the output cell to use the data from the current canvas.\n",
       "    fig.push_to_output();\n",
       "    var dataURL = fig.canvas.toDataURL();\n",
       "    // Re-enable the keyboard manager in IPython - without this line, in FF,\n",
       "    // the notebook keyboard shortcuts fail.\n",
       "    IPython.keyboard_manager.enable()\n",
       "    $(fig.parent_element).html('<img src=\"' + dataURL + '\" width=\"' + width + '\">');\n",
       "    fig.close_ws(fig, msg);\n",
       "}\n",
       "\n",
       "mpl.figure.prototype.close_ws = function(fig, msg){\n",
       "    fig.send_message('closing', msg);\n",
       "    // fig.ws.close()\n",
       "}\n",
       "\n",
       "mpl.figure.prototype.push_to_output = function(remove_interactive) {\n",
       "    // Turn the data on the canvas into data in the output cell.\n",
       "    var width = this.canvas.width/mpl.ratio\n",
       "    var dataURL = this.canvas.toDataURL();\n",
       "    this.cell_info[1]['text/html'] = '<img src=\"' + dataURL + '\" width=\"' + width + '\">';\n",
       "}\n",
       "\n",
       "mpl.figure.prototype.updated_canvas_event = function() {\n",
       "    // Tell IPython that the notebook contents must change.\n",
       "    IPython.notebook.set_dirty(true);\n",
       "    this.send_message(\"ack\", {});\n",
       "    var fig = this;\n",
       "    // Wait a second, then push the new image to the DOM so\n",
       "    // that it is saved nicely (might be nice to debounce this).\n",
       "    setTimeout(function () { fig.push_to_output() }, 1000);\n",
       "}\n",
       "\n",
       "mpl.figure.prototype._init_toolbar = function() {\n",
       "    var fig = this;\n",
       "\n",
       "    var nav_element = $('<div/>')\n",
       "    nav_element.attr('style', 'width: 100%');\n",
       "    this.root.append(nav_element);\n",
       "\n",
       "    // Define a callback function for later on.\n",
       "    function toolbar_event(event) {\n",
       "        return fig.toolbar_button_onclick(event['data']);\n",
       "    }\n",
       "    function toolbar_mouse_event(event) {\n",
       "        return fig.toolbar_button_onmouseover(event['data']);\n",
       "    }\n",
       "\n",
       "    for(var toolbar_ind in mpl.toolbar_items){\n",
       "        var name = mpl.toolbar_items[toolbar_ind][0];\n",
       "        var tooltip = mpl.toolbar_items[toolbar_ind][1];\n",
       "        var image = mpl.toolbar_items[toolbar_ind][2];\n",
       "        var method_name = mpl.toolbar_items[toolbar_ind][3];\n",
       "\n",
       "        if (!name) { continue; };\n",
       "\n",
       "        var button = $('<button class=\"btn btn-default\" href=\"#\" title=\"' + name + '\"><i class=\"fa ' + image + ' fa-lg\"></i></button>');\n",
       "        button.click(method_name, toolbar_event);\n",
       "        button.mouseover(tooltip, toolbar_mouse_event);\n",
       "        nav_element.append(button);\n",
       "    }\n",
       "\n",
       "    // Add the status bar.\n",
       "    var status_bar = $('<span class=\"mpl-message\" style=\"text-align:right; float: right;\"/>');\n",
       "    nav_element.append(status_bar);\n",
       "    this.message = status_bar[0];\n",
       "\n",
       "    // Add the close button to the window.\n",
       "    var buttongrp = $('<div class=\"btn-group inline pull-right\"></div>');\n",
       "    var button = $('<button class=\"btn btn-mini btn-primary\" href=\"#\" title=\"Stop Interaction\"><i class=\"fa fa-power-off icon-remove icon-large\"></i></button>');\n",
       "    button.click(function (evt) { fig.handle_close(fig, {}); } );\n",
       "    button.mouseover('Stop Interaction', toolbar_mouse_event);\n",
       "    buttongrp.append(button);\n",
       "    var titlebar = this.root.find($('.ui-dialog-titlebar'));\n",
       "    titlebar.prepend(buttongrp);\n",
       "}\n",
       "\n",
       "mpl.figure.prototype._root_extra_style = function(el){\n",
       "    var fig = this\n",
       "    el.on(\"remove\", function(){\n",
       "\tfig.close_ws(fig, {});\n",
       "    });\n",
       "}\n",
       "\n",
       "mpl.figure.prototype._canvas_extra_style = function(el){\n",
       "    // this is important to make the div 'focusable\n",
       "    el.attr('tabindex', 0)\n",
       "    // reach out to IPython and tell the keyboard manager to turn it's self\n",
       "    // off when our div gets focus\n",
       "\n",
       "    // location in version 3\n",
       "    if (IPython.notebook.keyboard_manager) {\n",
       "        IPython.notebook.keyboard_manager.register_events(el);\n",
       "    }\n",
       "    else {\n",
       "        // location in version 2\n",
       "        IPython.keyboard_manager.register_events(el);\n",
       "    }\n",
       "\n",
       "}\n",
       "\n",
       "mpl.figure.prototype._key_event_extra = function(event, name) {\n",
       "    var manager = IPython.notebook.keyboard_manager;\n",
       "    if (!manager)\n",
       "        manager = IPython.keyboard_manager;\n",
       "\n",
       "    // Check for shift+enter\n",
       "    if (event.shiftKey && event.which == 13) {\n",
       "        this.canvas_div.blur();\n",
       "        event.shiftKey = false;\n",
       "        // Send a \"J\" for go to next cell\n",
       "        event.which = 74;\n",
       "        event.keyCode = 74;\n",
       "        manager.command_mode();\n",
       "        manager.handle_keydown(event);\n",
       "    }\n",
       "}\n",
       "\n",
       "mpl.figure.prototype.handle_save = function(fig, msg) {\n",
       "    fig.ondownload(fig, null);\n",
       "}\n",
       "\n",
       "\n",
       "mpl.find_output_cell = function(html_output) {\n",
       "    // Return the cell and output element which can be found *uniquely* in the notebook.\n",
       "    // Note - this is a bit hacky, but it is done because the \"notebook_saving.Notebook\"\n",
       "    // IPython event is triggered only after the cells have been serialised, which for\n",
       "    // our purposes (turning an active figure into a static one), is too late.\n",
       "    var cells = IPython.notebook.get_cells();\n",
       "    var ncells = cells.length;\n",
       "    for (var i=0; i<ncells; i++) {\n",
       "        var cell = cells[i];\n",
       "        if (cell.cell_type === 'code'){\n",
       "            for (var j=0; j<cell.output_area.outputs.length; j++) {\n",
       "                var data = cell.output_area.outputs[j];\n",
       "                if (data.data) {\n",
       "                    // IPython >= 3 moved mimebundle to data attribute of output\n",
       "                    data = data.data;\n",
       "                }\n",
       "                if (data['text/html'] == html_output) {\n",
       "                    return [cell, data, j];\n",
       "                }\n",
       "            }\n",
       "        }\n",
       "    }\n",
       "}\n",
       "\n",
       "// Register the function which deals with the matplotlib target/channel.\n",
       "// The kernel may be null if the page has been refreshed.\n",
       "if (IPython.notebook.kernel != null) {\n",
       "    IPython.notebook.kernel.comm_manager.register_target('matplotlib', mpl.mpl_figure_comm);\n",
       "}\n"
      ],
      "text/plain": [
       "<IPython.core.display.Javascript object>"
      ]
     },
     "metadata": {},
     "output_type": "display_data"
    },
    {
     "data": {
      "text/html": [
       "<img src=\"data:image/png;base64,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\" width=\"640\">"
      ],
      "text/plain": [
       "<IPython.core.display.HTML object>"
      ]
     },
     "metadata": {},
     "output_type": "display_data"
    }
   ],
   "source": [
    "#  3차원 scatter  plot\n",
    "\n",
    "from mpl_toolkits.mplot3d import Axes3D\n",
    "import matplotlib.pyplot as plt\n",
    "\n",
    "%matplotlib notebook\n",
    "\n",
    "hr1 = hr[hr.left>0]\n",
    "\n",
    "fig = plt.figure()\n",
    "ax = fig.add_subplot(111, projection='3d')\n",
    "\n",
    "x = hr1.evaluation \n",
    "y = hr1.satisfaction\n",
    "z = hr1.yrsAtCompany\n",
    "\n",
    "ax.scatter(x, y, z, c='#3f77d1', marker='o')\n",
    "\n",
    "ax.set_xlabel('evaluation')\n",
    "ax.set_ylabel('satisfaction')\n",
    "ax.set_zlabel('yrsAtCompany')\n",
    "\n",
    "plt.show()"
   ]
  },
  {
   "cell_type": "markdown",
   "metadata": {},
   "source": [
    "## SMOTE &  ADASYN"
   ]
  },
  {
   "cell_type": "markdown",
   "metadata": {},
   "source": [
    "### SMOTE"
   ]
  },
  {
   "cell_type": "code",
   "execution_count": 3,
   "metadata": {},
   "outputs": [],
   "source": [
    "# split \n",
    "from sklearn.model_selection import train_test_split\n",
    "X_train, X_test, y_train, y_test = train_test_split(hr.drop('left',\n",
    "                                                                axis=1).drop('salary',\n",
    "                                                                             axis=1), \n",
    "                                                        hr.left, test_size = 0.2, random_state = 0)"
   ]
  },
  {
   "cell_type": "code",
   "execution_count": 4,
   "metadata": {},
   "outputs": [
    {
     "name": "stderr",
     "output_type": "stream",
     "text": [
      "C:\\ProgramData\\Anaconda3\\lib\\site-packages\\sklearn\\utils\\deprecation.py:144: FutureWarning: The sklearn.neighbors.base module is  deprecated in version 0.22 and will be removed in version 0.24. The corresponding classes / functions should instead be imported from sklearn.neighbors. Anything that cannot be imported from sklearn.neighbors is now part of the private API.\n",
      "  warnings.warn(message, FutureWarning)\n",
      "C:\\ProgramData\\Anaconda3\\lib\\site-packages\\sklearn\\utils\\deprecation.py:144: FutureWarning: The sklearn.ensemble.bagging module is  deprecated in version 0.22 and will be removed in version 0.24. The corresponding classes / functions should instead be imported from sklearn.ensemble. Anything that cannot be imported from sklearn.ensemble is now part of the private API.\n",
      "  warnings.warn(message, FutureWarning)\n",
      "C:\\ProgramData\\Anaconda3\\lib\\site-packages\\sklearn\\utils\\deprecation.py:144: FutureWarning: The sklearn.ensemble.base module is  deprecated in version 0.22 and will be removed in version 0.24. The corresponding classes / functions should instead be imported from sklearn.ensemble. Anything that cannot be imported from sklearn.ensemble is now part of the private API.\n",
      "  warnings.warn(message, FutureWarning)\n",
      "C:\\ProgramData\\Anaconda3\\lib\\site-packages\\sklearn\\utils\\deprecation.py:144: FutureWarning: The sklearn.ensemble.forest module is  deprecated in version 0.22 and will be removed in version 0.24. The corresponding classes / functions should instead be imported from sklearn.ensemble. Anything that cannot be imported from sklearn.ensemble is now part of the private API.\n",
      "  warnings.warn(message, FutureWarning)\n",
      "C:\\ProgramData\\Anaconda3\\lib\\site-packages\\sklearn\\utils\\deprecation.py:144: FutureWarning: The sklearn.utils.testing module is  deprecated in version 0.22 and will be removed in version 0.24. The corresponding classes / functions should instead be imported from sklearn.utils. Anything that cannot be imported from sklearn.utils is now part of the private API.\n",
      "  warnings.warn(message, FutureWarning)\n",
      "C:\\ProgramData\\Anaconda3\\lib\\site-packages\\sklearn\\utils\\deprecation.py:144: FutureWarning: The sklearn.metrics.classification module is  deprecated in version 0.22 and will be removed in version 0.24. The corresponding classes / functions should instead be imported from sklearn.metrics. Anything that cannot be imported from sklearn.metrics is now part of the private API.\n",
      "  warnings.warn(message, FutureWarning)\n",
      "C:\\ProgramData\\Anaconda3\\lib\\site-packages\\sklearn\\utils\\deprecation.py:87: FutureWarning: Function safe_indexing is deprecated; safe_indexing is deprecated in version 0.22 and will be removed in version 0.24.\n",
      "  warnings.warn(msg, category=FutureWarning)\n"
     ]
    },
    {
     "data": {
      "text/plain": [
       "array([9129, 9129], dtype=int64)"
      ]
     },
     "execution_count": 4,
     "metadata": {},
     "output_type": "execute_result"
    }
   ],
   "source": [
    "from imblearn.over_sampling import SMOTE, ADASYN\n",
    "sm = SMOTE(random_state=42, kind='regular')\n",
    "X_trainS, y_trainS = sm.fit_sample(X_train, y_train)\n",
    "np.bincount(y_trainS)"
   ]
  },
  {
   "cell_type": "markdown",
   "metadata": {},
   "source": [
    "### ADASYN"
   ]
  },
  {
   "cell_type": "code",
   "execution_count": 5,
   "metadata": {},
   "outputs": [
    {
     "name": "stdout",
     "output_type": "stream",
     "text": [
      "Resampled dataset shape from ADASYN Counter({0: 9129, 1: 9072})\n"
     ]
    },
    {
     "name": "stderr",
     "output_type": "stream",
     "text": [
      "C:\\ProgramData\\Anaconda3\\lib\\site-packages\\sklearn\\utils\\deprecation.py:87: FutureWarning: Function safe_indexing is deprecated; safe_indexing is deprecated in version 0.22 and will be removed in version 0.24.\n",
      "  warnings.warn(msg, category=FutureWarning)\n"
     ]
    }
   ],
   "source": [
    "from collections import Counter\n",
    "ada=ADASYN(random_state=0)\n",
    "X_trainA,y_trainA=ada.fit_sample(X_train,y_train)\n",
    "print('Resampled dataset shape from ADASYN %s' % Counter(y_trainA))"
   ]
  },
  {
   "cell_type": "markdown",
   "metadata": {},
   "source": [
    "## KNN"
   ]
  },
  {
   "cell_type": "code",
   "execution_count": 7,
   "metadata": {},
   "outputs": [],
   "source": [
    "# with  std\n",
    "from sklearn.preprocessing import StandardScaler  #Scikit-Learn 의 model_selection library를 train_test_split로 명명\n",
    "sc=StandardScaler()\n",
    "sc.fit(X_train)\n",
    "X_train_std=sc.transform(X_train)    # training data의 표준화\n",
    "X_test_std=sc.transform(X_test)      # test data의 표준화"
   ]
  },
  {
   "cell_type": "markdown",
   "metadata": {},
   "source": [
    "#### determining K value"
   ]
  },
  {
   "cell_type": "code",
   "execution_count": 36,
   "metadata": {},
   "outputs": [
    {
     "data": {
      "text/plain": [
       "{'n_neighbors': 6, 'p': 2}"
      ]
     },
     "execution_count": 36,
     "metadata": {},
     "output_type": "execute_result"
    }
   ],
   "source": [
    "knn2 = KNeighborsClassifier()\n",
    "#create a dictionary of all values we want to test for n_neighbors\n",
    "param_grid = {'n_neighbors': np.arange(3, 25),'p':[1,2]}\n",
    "#use gridsearch to test all values for n_neighbors\n",
    "knn_gscv = GridSearchCV(knn2, param_grid, cv=5)\n",
    "#fit model to data\n",
    "knn_gscv.fit(X_train_std, y_train)\n",
    "knn_gscv.best_params_"
   ]
  },
  {
   "cell_type": "code",
   "execution_count": 52,
   "metadata": {},
   "outputs": [
    {
     "name": "stdout",
     "output_type": "stream",
     "text": [
      "Misclassified training samples: 315\n",
      "Misclassified test samples: 91\n",
      "0.9696666666666667\n",
      "[[2273   26]\n",
      " [  65  636]]\n",
      "              precision    recall  f1-score   support\n",
      "\n",
      "           0       0.97      0.99      0.98      2299\n",
      "           1       0.96      0.91      0.93       701\n",
      "\n",
      "    accuracy                           0.97      3000\n",
      "   macro avg       0.97      0.95      0.96      3000\n",
      "weighted avg       0.97      0.97      0.97      3000\n",
      "\n"
     ]
    }
   ],
   "source": [
    "# KNN 의 적용  with std\n",
    "from sklearn.neighbors import KNeighborsClassifier  #KNN 불러오기\n",
    "from sklearn.metrics import accuracy_score    #정확도 계산을 위한 모듈 import\n",
    "from sklearn.metrics import confusion_matrix#  오분류표 작성을 위한 모듈 import\n",
    "\n",
    "knn=KNeighborsClassifier(n_neighbors=6,p=2) #5개의 인접한이웃, 거리측정기준:유클리드 \n",
    "knn.fit(X_train_std,y_train) #모델 fitting과정\n",
    "y_train_pred=knn.predict(X_train_std) #train data의 y값 예측치\n",
    "y_test_pred=knn.predict(X_test_std)  #모델을 적용한 test data의 y값 예측치\n",
    "conf=confusion_matrix(y_true=y_test,y_pred=y_test_pred) # 대각원소가 각각 setosa, versicolor, virginica를 정확하게 분류한 갯수.\n",
    "\n",
    "print('Misclassified training samples: %d' %(y_train!=y_train_pred).sum()) #오분류 데이터 갯수 확인\n",
    "print('Misclassified test samples: %d' %(y_test!=y_test_pred).sum()) #오분류 데이터 갯수 확인\n",
    "print(accuracy_score(y_test,y_test_pred)) # 45개 test sample중 42개가 정확하게 분류됨.\n",
    "print(conf)\n",
    "from sklearn.metrics import classification_report\n",
    "print(classification_report(y_test, y_test_pred))"
   ]
  },
  {
   "cell_type": "code",
   "execution_count": 22,
   "metadata": {},
   "outputs": [
    {
     "data": {
      "text/plain": [
       "{'n_neighbors': 6}"
      ]
     },
     "execution_count": 22,
     "metadata": {},
     "output_type": "execute_result"
    }
   ],
   "source": [
    "from sklearn.model_selection import GridSearchCV\n",
    "#create new a knn model\n",
    "knn2 = KNeighborsClassifier()\n",
    "#create a dictionary of all values we want to test for n_neighbors\n",
    "param_grid = {'n_neighbors': np.arange(3, 25)}\n",
    "#use gridsearch to test all values for n_neighbors\n",
    "knn_gscv = GridSearchCV(knn2, param_grid, cv=5)\n",
    "#fit model to data\n",
    "knn_gscv.fit(X_train, y_train)\n",
    "knn_gscv.best_params_"
   ]
  },
  {
   "cell_type": "code",
   "execution_count": 53,
   "metadata": {},
   "outputs": [
    {
     "name": "stdout",
     "output_type": "stream",
     "text": [
      "Misclassified training samples: 444\n",
      "Misclassified test samples: 121\n",
      "0.9596666666666667\n",
      "[[2237   62]\n",
      " [  59  642]]\n",
      "0.9158345221112696\n",
      "              precision    recall  f1-score   support\n",
      "\n",
      "           0       0.97      0.97      0.97      2299\n",
      "           1       0.91      0.92      0.91       701\n",
      "\n",
      "    accuracy                           0.96      3000\n",
      "   macro avg       0.94      0.94      0.94      3000\n",
      "weighted avg       0.96      0.96      0.96      3000\n",
      "\n"
     ]
    }
   ],
   "source": [
    "# KNN 의 적용  without std\n",
    "knn=KNeighborsClassifier(n_neighbors=6,p=2) #5개의 인접한이웃, 거리측정기준:유클리드 \n",
    "knn.fit(X_train,y_train) #모델 fitting과정\n",
    "y_train_pred=knn.predict(X_train) #train data의 y값 예측치\n",
    "y_test_pred=knn.predict(X_test)  #모델을 적용한 test data의 y값 예측치\n",
    "conf=confusion_matrix(y_true=y_test,y_pred=y_test_pred) # 대각원소가 각각 setosa, versicolor, virginica를 정확하게 분류한 갯수.\n",
    "\n",
    "print('Misclassified training samples: %d' %(y_train!=y_train_pred).sum()) #오분류 데이터 갯수 확인\n",
    "print('Misclassified test samples: %d' %(y_test!=y_test_pred).sum()) #오분류 데이터 갯수 확인\n",
    "print(accuracy_score(y_test,y_test_pred)) # 45개 test sample중 42개가 정확하게 분류됨.\n",
    "print(conf)\n",
    "print(recall_score(y_test, y_test_pred))\n",
    "print(classification_report(y_test, y_test_pred))"
   ]
  },
  {
   "cell_type": "code",
   "execution_count": 26,
   "metadata": {},
   "outputs": [
    {
     "data": {
      "text/plain": [
       "{'n_neighbors': 4}"
      ]
     },
     "execution_count": 26,
     "metadata": {},
     "output_type": "execute_result"
    }
   ],
   "source": [
    "# KNN 의 적용  with  SMOTE - determining  K value\n",
    "knn2 = KNeighborsClassifier()\n",
    "#create a dictionary of all values we want to test for n_neighbors\n",
    "param_grid = {'n_neighbors': np.arange(3, 25)}\n",
    "#use gridsearch to test all values for n_neighbors\n",
    "knn_gscv = GridSearchCV(knn2, param_grid, cv=5)\n",
    "#fit model to data\n",
    "knn_gscv.fit(X_trainS, y_trainS)\n",
    "knn_gscv.best_params_"
   ]
  },
  {
   "cell_type": "code",
   "execution_count": 54,
   "metadata": {},
   "outputs": [
    {
     "name": "stdout",
     "output_type": "stream",
     "text": [
      "Misclassified training samples: 377\n",
      "Misclassified test samples: 115\n",
      "0.9616666666666667\n",
      "[[2212   87]\n",
      " [  28  673]]\n",
      "0.9600570613409415\n",
      "              precision    recall  f1-score   support\n",
      "\n",
      "           0       0.99      0.96      0.97      2299\n",
      "           1       0.89      0.96      0.92       701\n",
      "\n",
      "    accuracy                           0.96      3000\n",
      "   macro avg       0.94      0.96      0.95      3000\n",
      "weighted avg       0.96      0.96      0.96      3000\n",
      "\n"
     ]
    }
   ],
   "source": [
    "# KNN 의 적용  with  SMOTE\n",
    "knn=KNeighborsClassifier(n_neighbors=4,p=2) #5개의 인접한이웃, 거리측정기준:유클리드 \n",
    "knn.fit(X_trainS,y_trainS) #모델 fitting과정\n",
    "y_train_pred=knn.predict(X_trainS) #train data의 y값 예측치\n",
    "y_test_pred=knn.predict(X_test)  #모델을 적용한 test data의 y값 예측치\n",
    "conf=confusion_matrix(y_true=y_test,y_pred=y_test_pred) # 대각원소가 각각 setosa, versicolor, virginica를 정확하게 분류한 갯수.\n",
    "\n",
    "print('Misclassified training samples: %d' %(y_trainS!=y_train_pred).sum()) #오분류 데이터 갯수 확인\n",
    "print('Misclassified test samples: %d' %(y_test!=y_test_pred).sum()) #오분류 데이터 갯수 확인\n",
    "print(accuracy_score(y_test,y_test_pred)) # 45개 test sample중 42개가 정확하게 분류됨.\n",
    "print(conf)\n",
    "print(recall_score(y_test, y_test_pred))\n",
    "print(classification_report(y_test, y_test_pred))"
   ]
  },
  {
   "cell_type": "code",
   "execution_count": 28,
   "metadata": {},
   "outputs": [
    {
     "data": {
      "text/plain": [
       "{'n_neighbors': 3}"
      ]
     },
     "execution_count": 28,
     "metadata": {},
     "output_type": "execute_result"
    }
   ],
   "source": [
    "# KNN 의 적용  with  SMOTE with std- determining  K value\n",
    "sc=StandardScaler()\n",
    "sc.fit(X_trainS)\n",
    "X_trainS_std=sc.transform(X_trainS)    # training data의 표준화\n",
    "X_test_std=sc.transform(X_test)      # test data의 표준화\n",
    "\n",
    "knn2 = KNeighborsClassifier()\n",
    "#create a dictionary of all values we want to test for n_neighbors\n",
    "param_grid = {'n_neighbors': np.arange(3, 25)}\n",
    "#use gridsearch to test all values for n_neighbors\n",
    "knn_gscv = GridSearchCV(knn2, param_grid, cv=5)\n",
    "#fit model to data\n",
    "knn_gscv.fit(X_trainS_std, y_trainS)\n",
    "knn_gscv.best_params_"
   ]
  },
  {
   "cell_type": "code",
   "execution_count": 55,
   "metadata": {},
   "outputs": [
    {
     "name": "stdout",
     "output_type": "stream",
     "text": [
      "Misclassified training samples: 247\n",
      "Misclassified test samples: 92\n",
      "0.9693333333333334\n",
      "[[2225   74]\n",
      " [  18  683]]\n",
      "0.9743223965763196\n",
      "              precision    recall  f1-score   support\n",
      "\n",
      "           0       0.99      0.97      0.98      2299\n",
      "           1       0.90      0.97      0.94       701\n",
      "\n",
      "    accuracy                           0.97      3000\n",
      "   macro avg       0.95      0.97      0.96      3000\n",
      "weighted avg       0.97      0.97      0.97      3000\n",
      "\n"
     ]
    }
   ],
   "source": [
    "# KNN 의 적용  with  SMOTE with std\n",
    "sc=StandardScaler()\n",
    "sc.fit(X_trainS)\n",
    "X_trainS_std=sc.transform(X_trainS)    # training data의 표준화\n",
    "X_test_std=sc.transform(X_test)      # test data의 표준화\n",
    "\n",
    "knn=KNeighborsClassifier(n_neighbors=3,p=2) #5개의 인접한이웃, 거리측정기준:유클리드 \n",
    "knn.fit(X_trainS_std,y_trainS) #모델 fitting과정\n",
    "y_train_pred=knn.predict(X_trainS_std) #train data의 y값 예측치\n",
    "y_test_pred=knn.predict(X_test_std)  #모델을 적용한 test data의 y값 예측치\n",
    "conf=confusion_matrix(y_true=y_test,y_pred=y_test_pred) # 대각원소가 각각 setosa, versicolor, virginica를 정확하게 분류한 갯수.\n",
    "\n",
    "print('Misclassified training samples: %d' %(y_trainS!=y_train_pred).sum()) #오분류 데이터 갯수 확인\n",
    "print('Misclassified test samples: %d' %(y_test!=y_test_pred).sum()) #오분류 데이터 갯수 확인\n",
    "print(accuracy_score(y_test,y_test_pred)) # 45개 test sample중 42개가 정확하게 분류됨.\n",
    "print(conf)\n",
    "print(recall_score(y_test, y_test_pred))\n",
    "print(classification_report(y_test, y_test_pred))"
   ]
  },
  {
   "cell_type": "code",
   "execution_count": 32,
   "metadata": {},
   "outputs": [
    {
     "data": {
      "text/plain": [
       "{'n_neighbors': 3}"
      ]
     },
     "execution_count": 32,
     "metadata": {},
     "output_type": "execute_result"
    }
   ],
   "source": [
    "# KNN 의 적용  with  ADASYN- determining  K value\n",
    "knn2 = KNeighborsClassifier()\n",
    "#create a dictionary of all values we want to test for n_neighbors\n",
    "param_grid = {'n_neighbors': np.arange(3, 25)}\n",
    "#use gridsearch to test all values for n_neighbors\n",
    "knn_gscv = GridSearchCV(knn2, param_grid, cv=5)\n",
    "#fit model to data\n",
    "knn_gscv.fit(X_trainA, y_trainA)\n",
    "knn_gscv.best_params_"
   ]
  },
  {
   "cell_type": "code",
   "execution_count": 56,
   "metadata": {},
   "outputs": [
    {
     "name": "stdout",
     "output_type": "stream",
     "text": [
      "Misclassified training samples: 444\n",
      "Misclassified test samples: 193\n",
      "0.9356666666666666\n",
      "[[2120  179]\n",
      " [  14  687]]\n",
      "0.9800285306704708\n",
      "              precision    recall  f1-score   support\n",
      "\n",
      "           0       0.99      0.92      0.96      2299\n",
      "           1       0.79      0.98      0.88       701\n",
      "\n",
      "    accuracy                           0.94      3000\n",
      "   macro avg       0.89      0.95      0.92      3000\n",
      "weighted avg       0.95      0.94      0.94      3000\n",
      "\n"
     ]
    }
   ],
   "source": [
    "# KNN 의 적용  with  ADASYN\n",
    "knn=KNeighborsClassifier(n_neighbors=3,p=2) #5개의 인접한이웃, 거리측정기준:유클리드 \n",
    "knn.fit(X_trainA,y_trainA) #모델 fitting과정\n",
    "y_train_pred=knn.predict(X_trainA) #train data의 y값 예측치\n",
    "y_test_pred=knn.predict(X_test)  #모델을 적용한 test data의 y값 예측치\n",
    "conf=confusion_matrix(y_true=y_test,y_pred=y_test_pred) # 대각원소가 각각 setosa, versicolor, virginica를 정확하게 분류한 갯수.\n",
    "\n",
    "print('Misclassified training samples: %d' %(y_trainA!=y_train_pred).sum()) #오분류 데이터 갯수 확인\n",
    "print('Misclassified test samples: %d' %(y_test!=y_test_pred).sum()) #오분류 데이터 갯수 확인\n",
    "print(accuracy_score(y_test,y_test_pred)) # 45개 test sample중 42개가 정확하게 분류됨.\n",
    "print(conf)\n",
    "print(recall_score(y_test, y_test_pred))\n",
    "print(classification_report(y_test, y_test_pred))"
   ]
  },
  {
   "cell_type": "code",
   "execution_count": 34,
   "metadata": {},
   "outputs": [
    {
     "data": {
      "text/plain": [
       "{'n_neighbors': 3}"
      ]
     },
     "execution_count": 34,
     "metadata": {},
     "output_type": "execute_result"
    }
   ],
   "source": [
    "# KNN 의 적용  with  ADASYN with std- determining  K value\n",
    "sc=StandardScaler()\n",
    "sc.fit(X_trainA)\n",
    "X_trainA_std=sc.transform(X_trainA)    # training data의 표준화\n",
    "X_test_std=sc.transform(X_test)      # test data의 표준화\n",
    "\n",
    "\n",
    "knn2 = KNeighborsClassifier()\n",
    "#create a dictionary of all values we want to test for n_neighbors\n",
    "param_grid = {'n_neighbors': np.arange(3, 25)}\n",
    "#use gridsearch to test all values for n_neighbors\n",
    "knn_gscv = GridSearchCV(knn2, param_grid, cv=5)\n",
    "#fit model to data\n",
    "knn_gscv.fit(X_trainA_std, y_trainA)\n",
    "knn_gscv.best_params_"
   ]
  },
  {
   "cell_type": "code",
   "execution_count": 57,
   "metadata": {},
   "outputs": [
    {
     "name": "stdout",
     "output_type": "stream",
     "text": [
      "Misclassified training samples: 323\n",
      "Misclassified test samples: 146\n",
      "0.9513333333333334\n",
      "[[2166  133]\n",
      " [  13  688]]\n",
      "0.9814550641940085\n",
      "              precision    recall  f1-score   support\n",
      "\n",
      "           0       0.99      0.94      0.97      2299\n",
      "           1       0.84      0.98      0.90       701\n",
      "\n",
      "    accuracy                           0.95      3000\n",
      "   macro avg       0.92      0.96      0.94      3000\n",
      "weighted avg       0.96      0.95      0.95      3000\n",
      "\n"
     ]
    }
   ],
   "source": [
    "# KNN 의 적용  with  ADASYN with std\n",
    "sc=StandardScaler()\n",
    "sc.fit(X_trainA)\n",
    "X_trainA_std=sc.transform(X_trainA)    # training data의 표준화\n",
    "X_test_std=sc.transform(X_test)      # test data의 표준화\n",
    "\n",
    "knn=KNeighborsClassifier(n_neighbors=3,p=2) #5개의 인접한이웃, 거리측정기준:유클리드 \n",
    "knn.fit(X_trainA_std,y_trainA) #모델 fitting과정\n",
    "y_train_pred=knn.predict(X_trainA_std) #train data의 y값 예측치\n",
    "y_test_pred=knn.predict(X_test_std)  #모델을 적용한 test data의 y값 예측치\n",
    "conf=confusion_matrix(y_true=y_test,y_pred=y_test_pred) # 대각원소가 각각 setosa, versicolor, virginica를 정확하게 분류한 갯수.\n",
    "\n",
    "print('Misclassified training samples: %d' %(y_trainA!=y_train_pred).sum()) #오분류 데이터 갯수 확인\n",
    "print('Misclassified test samples: %d' %(y_test!=y_test_pred).sum()) #오분류 데이터 갯수 확인\n",
    "print(accuracy_score(y_test,y_test_pred)) # 45개 test sample중 42개가 정확하게 분류됨.\n",
    "print(conf)\n",
    "print(recall_score(y_test, y_test_pred))\n",
    "from sklearn.metrics import classification_report\n",
    "print(classification_report(y_test, y_test_pred))"
   ]
  },
  {
   "cell_type": "markdown",
   "metadata": {},
   "source": [
    "## Logistic with salary"
   ]
  },
  {
   "cell_type": "code",
   "execution_count": 65,
   "metadata": {},
   "outputs": [],
   "source": [
    "# hr.info()\n",
    "# salary 추가\n",
    "from sklearn.model_selection import train_test_split\n",
    "X_train, X_test, y_train, y_test = train_test_split(hr.drop('left',axis=1), \n",
    "                                                        hr.left, test_size = 0.2, random_state = 0)"
   ]
  },
  {
   "cell_type": "code",
   "execution_count": 66,
   "metadata": {},
   "outputs": [
    {
     "name": "stderr",
     "output_type": "stream",
     "text": [
      "C:\\ProgramData\\Anaconda3\\lib\\site-packages\\sklearn\\utils\\deprecation.py:87: FutureWarning: Function safe_indexing is deprecated; safe_indexing is deprecated in version 0.22 and will be removed in version 0.24.\n",
      "  warnings.warn(msg, category=FutureWarning)\n"
     ]
    },
    {
     "data": {
      "text/plain": [
       "array([9129, 9129], dtype=int64)"
      ]
     },
     "execution_count": 66,
     "metadata": {},
     "output_type": "execute_result"
    }
   ],
   "source": [
    "from imblearn.over_sampling import SMOTE, ADASYN\n",
    "sm = SMOTE(random_state=42, kind='regular')\n",
    "X_trainS, y_trainS = sm.fit_sample(X_train, y_train)\n",
    "np.bincount(y_trainS)"
   ]
  },
  {
   "cell_type": "code",
   "execution_count": 67,
   "metadata": {},
   "outputs": [
    {
     "name": "stdout",
     "output_type": "stream",
     "text": [
      "Resampled dataset shape from ADASYN Counter({0: 9129, 1: 9122})\n"
     ]
    },
    {
     "name": "stderr",
     "output_type": "stream",
     "text": [
      "C:\\ProgramData\\Anaconda3\\lib\\site-packages\\sklearn\\utils\\deprecation.py:87: FutureWarning: Function safe_indexing is deprecated; safe_indexing is deprecated in version 0.22 and will be removed in version 0.24.\n",
      "  warnings.warn(msg, category=FutureWarning)\n"
     ]
    }
   ],
   "source": [
    "from collections import Counter\n",
    "ada=ADASYN(random_state=0)\n",
    "X_trainA,y_trainA=ada.fit_sample(X_train,y_train)\n",
    "print('Resampled dataset shape from ADASYN %s' % Counter(y_trainA))"
   ]
  },
  {
   "cell_type": "code",
   "execution_count": 68,
   "metadata": {},
   "outputs": [
    {
     "name": "stdout",
     "output_type": "stream",
     "text": [
      "              precision    recall  f1-score   support\n",
      "\n",
      "           0       0.83      0.93      0.87      2299\n",
      "           1       0.59      0.36      0.45       701\n",
      "\n",
      "    accuracy                           0.79      3000\n",
      "   macro avg       0.71      0.64      0.66      3000\n",
      "weighted avg       0.77      0.79      0.77      3000\n",
      "\n",
      "[[2127  172]\n",
      " [ 449  252]]\n"
     ]
    },
    {
     "name": "stderr",
     "output_type": "stream",
     "text": [
      "C:\\ProgramData\\Anaconda3\\lib\\site-packages\\sklearn\\linear_model\\_logistic.py:939: ConvergenceWarning: lbfgs failed to converge (status=1):\n",
      "STOP: TOTAL NO. of ITERATIONS REACHED LIMIT.\n",
      "\n",
      "Increase the number of iterations (max_iter) or scale the data as shown in:\n",
      "    https://scikit-learn.org/stable/modules/preprocessing.html.\n",
      "Please also refer to the documentation for alternative solver options:\n",
      "    https://scikit-learn.org/stable/modules/linear_model.html#logistic-regression\n",
      "  extra_warning_msg=_LOGISTIC_SOLVER_CONVERGENCE_MSG)\n"
     ]
    }
   ],
   "source": [
    "# with  raw \n",
    "from sklearn.linear_model import LogisticRegression\n",
    "from sklearn.metrics import accuracy_score, confusion_matrix, recall_score\n",
    "lr = LogisticRegression()\n",
    "lr.fit(X_train, y_train)\n",
    "yPred = lr.predict(X_test)\n",
    "print(classification_report(y_test, yPred))\n",
    "print(confusion_matrix(y_test,yPred))"
   ]
  },
  {
   "cell_type": "code",
   "execution_count": 69,
   "metadata": {},
   "outputs": [
    {
     "name": "stdout",
     "output_type": "stream",
     "text": [
      "              precision    recall  f1-score   support\n",
      "\n",
      "           0       0.93      0.74      0.82      2299\n",
      "           1       0.49      0.81      0.61       701\n",
      "\n",
      "    accuracy                           0.76      3000\n",
      "   macro avg       0.71      0.77      0.71      3000\n",
      "weighted avg       0.82      0.76      0.77      3000\n",
      "\n",
      "[[1698  601]\n",
      " [ 133  568]]\n"
     ]
    },
    {
     "name": "stderr",
     "output_type": "stream",
     "text": [
      "C:\\ProgramData\\Anaconda3\\lib\\site-packages\\sklearn\\linear_model\\_logistic.py:939: ConvergenceWarning: lbfgs failed to converge (status=1):\n",
      "STOP: TOTAL NO. of ITERATIONS REACHED LIMIT.\n",
      "\n",
      "Increase the number of iterations (max_iter) or scale the data as shown in:\n",
      "    https://scikit-learn.org/stable/modules/preprocessing.html.\n",
      "Please also refer to the documentation for alternative solver options:\n",
      "    https://scikit-learn.org/stable/modules/linear_model.html#logistic-regression\n",
      "  extra_warning_msg=_LOGISTIC_SOLVER_CONVERGENCE_MSG)\n"
     ]
    }
   ],
   "source": [
    "# with SMOTE\n",
    "lr.fit(X_trainS, y_trainS)\n",
    "yPred = lr.predict(X_test)\n",
    "from sklearn.metrics import classification_report\n",
    "print(classification_report(y_test, yPred))\n",
    "print(confusion_matrix(y_test,yPred))"
   ]
  },
  {
   "cell_type": "code",
   "execution_count": 70,
   "metadata": {},
   "outputs": [
    {
     "name": "stdout",
     "output_type": "stream",
     "text": [
      "              precision    recall  f1-score   support\n",
      "\n",
      "           0       0.91      0.71      0.80      2299\n",
      "           1       0.45      0.76      0.56       701\n",
      "\n",
      "    accuracy                           0.72      3000\n",
      "   macro avg       0.68      0.74      0.68      3000\n",
      "weighted avg       0.80      0.72      0.74      3000\n",
      "\n",
      "[[1639  660]\n",
      " [ 167  534]]\n"
     ]
    },
    {
     "name": "stderr",
     "output_type": "stream",
     "text": [
      "C:\\ProgramData\\Anaconda3\\lib\\site-packages\\sklearn\\linear_model\\_logistic.py:939: ConvergenceWarning: lbfgs failed to converge (status=1):\n",
      "STOP: TOTAL NO. of ITERATIONS REACHED LIMIT.\n",
      "\n",
      "Increase the number of iterations (max_iter) or scale the data as shown in:\n",
      "    https://scikit-learn.org/stable/modules/preprocessing.html.\n",
      "Please also refer to the documentation for alternative solver options:\n",
      "    https://scikit-learn.org/stable/modules/linear_model.html#logistic-regression\n",
      "  extra_warning_msg=_LOGISTIC_SOLVER_CONVERGENCE_MSG)\n"
     ]
    }
   ],
   "source": [
    "# with ADASYN\n",
    "lr.fit(X_trainA, y_trainA)\n",
    "yPred = lr.predict(X_test)\n",
    "print(classification_report(y_test, yPred))\n",
    "print(confusion_matrix(y_test,yPred))"
   ]
  },
  {
   "cell_type": "markdown",
   "metadata": {},
   "source": [
    "###  Logistic Regularization"
   ]
  },
  {
   "cell_type": "code",
   "execution_count": 32,
   "metadata": {},
   "outputs": [
    {
     "name": "stderr",
     "output_type": "stream",
     "text": [
      "C:\\ProgramData\\Anaconda3\\lib\\site-packages\\sklearn\\utils\\deprecation.py:87: FutureWarning: Function safe_indexing is deprecated; safe_indexing is deprecated in version 0.22 and will be removed in version 0.24.\n",
      "  warnings.warn(msg, category=FutureWarning)\n",
      "C:\\ProgramData\\Anaconda3\\lib\\site-packages\\sklearn\\utils\\deprecation.py:87: FutureWarning: Function safe_indexing is deprecated; safe_indexing is deprecated in version 0.22 and will be removed in version 0.24.\n",
      "  warnings.warn(msg, category=FutureWarning)\n"
     ]
    }
   ],
   "source": [
    "from sklearn.model_selection import train_test_split\n",
    "X_train, X_test, y_train, y_test = train_test_split(hr.drop('left',axis=1),\n",
    "                                                        hr.left, test_size = 0.2, random_state = 0)\n",
    "# SMOTE\n",
    "sm = SMOTE(random_state=42, kind='regular')\n",
    "X_trainS, y_trainS = sm.fit_sample(X_train, y_train)\n",
    "ada=ADASYN(random_state=0)\n",
    "X_trainA,y_trainA=ada.fit_sample(X_train,y_train)"
   ]
  },
  {
   "cell_type": "code",
   "execution_count": 72,
   "metadata": {},
   "outputs": [
    {
     "name": "stderr",
     "output_type": "stream",
     "text": [
      "C:\\ProgramData\\Anaconda3\\lib\\site-packages\\sklearn\\model_selection\\_validation.py:536: FitFailedWarning: Estimator fit failed. The score on this train-test partition for these parameters will be set to nan. Details: \n",
      "ValueError: Solver lbfgs supports only 'l2' or 'none' penalties, got l1 penalty.\n",
      "\n",
      "  FitFailedWarning)\n",
      "C:\\ProgramData\\Anaconda3\\lib\\site-packages\\sklearn\\linear_model\\_logistic.py:939: ConvergenceWarning: lbfgs failed to converge (status=1):\n",
      "STOP: TOTAL NO. of ITERATIONS REACHED LIMIT.\n",
      "\n",
      "Increase the number of iterations (max_iter) or scale the data as shown in:\n",
      "    https://scikit-learn.org/stable/modules/preprocessing.html.\n",
      "Please also refer to the documentation for alternative solver options:\n",
      "    https://scikit-learn.org/stable/modules/linear_model.html#logistic-regression\n",
      "  extra_warning_msg=_LOGISTIC_SOLVER_CONVERGENCE_MSG)\n",
      "C:\\ProgramData\\Anaconda3\\lib\\site-packages\\sklearn\\linear_model\\_logistic.py:939: ConvergenceWarning: lbfgs failed to converge (status=1):\n",
      "STOP: TOTAL NO. of ITERATIONS REACHED LIMIT.\n",
      "\n",
      "Increase the number of iterations (max_iter) or scale the data as shown in:\n",
      "    https://scikit-learn.org/stable/modules/preprocessing.html.\n",
      "Please also refer to the documentation for alternative solver options:\n",
      "    https://scikit-learn.org/stable/modules/linear_model.html#logistic-regression\n",
      "  extra_warning_msg=_LOGISTIC_SOLVER_CONVERGENCE_MSG)\n",
      "C:\\ProgramData\\Anaconda3\\lib\\site-packages\\sklearn\\linear_model\\_logistic.py:939: ConvergenceWarning: lbfgs failed to converge (status=1):\n",
      "STOP: TOTAL NO. of ITERATIONS REACHED LIMIT.\n",
      "\n",
      "Increase the number of iterations (max_iter) or scale the data as shown in:\n",
      "    https://scikit-learn.org/stable/modules/preprocessing.html.\n",
      "Please also refer to the documentation for alternative solver options:\n",
      "    https://scikit-learn.org/stable/modules/linear_model.html#logistic-regression\n",
      "  extra_warning_msg=_LOGISTIC_SOLVER_CONVERGENCE_MSG)\n",
      "C:\\ProgramData\\Anaconda3\\lib\\site-packages\\sklearn\\linear_model\\_logistic.py:939: ConvergenceWarning: lbfgs failed to converge (status=1):\n",
      "STOP: TOTAL NO. of ITERATIONS REACHED LIMIT.\n",
      "\n",
      "Increase the number of iterations (max_iter) or scale the data as shown in:\n",
      "    https://scikit-learn.org/stable/modules/preprocessing.html.\n",
      "Please also refer to the documentation for alternative solver options:\n",
      "    https://scikit-learn.org/stable/modules/linear_model.html#logistic-regression\n",
      "  extra_warning_msg=_LOGISTIC_SOLVER_CONVERGENCE_MSG)\n",
      "C:\\ProgramData\\Anaconda3\\lib\\site-packages\\sklearn\\linear_model\\_logistic.py:939: ConvergenceWarning: lbfgs failed to converge (status=1):\n",
      "STOP: TOTAL NO. of ITERATIONS REACHED LIMIT.\n",
      "\n",
      "Increase the number of iterations (max_iter) or scale the data as shown in:\n",
      "    https://scikit-learn.org/stable/modules/preprocessing.html.\n",
      "Please also refer to the documentation for alternative solver options:\n",
      "    https://scikit-learn.org/stable/modules/linear_model.html#logistic-regression\n",
      "  extra_warning_msg=_LOGISTIC_SOLVER_CONVERGENCE_MSG)\n",
      "C:\\ProgramData\\Anaconda3\\lib\\site-packages\\sklearn\\model_selection\\_validation.py:536: FitFailedWarning: Estimator fit failed. The score on this train-test partition for these parameters will be set to nan. Details: \n",
      "ValueError: Solver lbfgs supports only 'l2' or 'none' penalties, got l1 penalty.\n",
      "\n",
      "  FitFailedWarning)\n",
      "C:\\ProgramData\\Anaconda3\\lib\\site-packages\\sklearn\\linear_model\\_logistic.py:939: ConvergenceWarning: lbfgs failed to converge (status=1):\n",
      "STOP: TOTAL NO. of ITERATIONS REACHED LIMIT.\n",
      "\n",
      "Increase the number of iterations (max_iter) or scale the data as shown in:\n",
      "    https://scikit-learn.org/stable/modules/preprocessing.html.\n",
      "Please also refer to the documentation for alternative solver options:\n",
      "    https://scikit-learn.org/stable/modules/linear_model.html#logistic-regression\n",
      "  extra_warning_msg=_LOGISTIC_SOLVER_CONVERGENCE_MSG)\n",
      "C:\\ProgramData\\Anaconda3\\lib\\site-packages\\sklearn\\linear_model\\_logistic.py:939: ConvergenceWarning: lbfgs failed to converge (status=1):\n",
      "STOP: TOTAL NO. of ITERATIONS REACHED LIMIT.\n",
      "\n",
      "Increase the number of iterations (max_iter) or scale the data as shown in:\n",
      "    https://scikit-learn.org/stable/modules/preprocessing.html.\n",
      "Please also refer to the documentation for alternative solver options:\n",
      "    https://scikit-learn.org/stable/modules/linear_model.html#logistic-regression\n",
      "  extra_warning_msg=_LOGISTIC_SOLVER_CONVERGENCE_MSG)\n",
      "C:\\ProgramData\\Anaconda3\\lib\\site-packages\\sklearn\\linear_model\\_logistic.py:939: ConvergenceWarning: lbfgs failed to converge (status=1):\n",
      "STOP: TOTAL NO. of ITERATIONS REACHED LIMIT.\n",
      "\n",
      "Increase the number of iterations (max_iter) or scale the data as shown in:\n",
      "    https://scikit-learn.org/stable/modules/preprocessing.html.\n",
      "Please also refer to the documentation for alternative solver options:\n",
      "    https://scikit-learn.org/stable/modules/linear_model.html#logistic-regression\n",
      "  extra_warning_msg=_LOGISTIC_SOLVER_CONVERGENCE_MSG)\n",
      "C:\\ProgramData\\Anaconda3\\lib\\site-packages\\sklearn\\linear_model\\_logistic.py:939: ConvergenceWarning: lbfgs failed to converge (status=1):\n",
      "STOP: TOTAL NO. of ITERATIONS REACHED LIMIT.\n",
      "\n",
      "Increase the number of iterations (max_iter) or scale the data as shown in:\n",
      "    https://scikit-learn.org/stable/modules/preprocessing.html.\n",
      "Please also refer to the documentation for alternative solver options:\n",
      "    https://scikit-learn.org/stable/modules/linear_model.html#logistic-regression\n",
      "  extra_warning_msg=_LOGISTIC_SOLVER_CONVERGENCE_MSG)\n",
      "C:\\ProgramData\\Anaconda3\\lib\\site-packages\\sklearn\\linear_model\\_logistic.py:939: ConvergenceWarning: lbfgs failed to converge (status=1):\n",
      "STOP: TOTAL NO. of ITERATIONS REACHED LIMIT.\n",
      "\n",
      "Increase the number of iterations (max_iter) or scale the data as shown in:\n",
      "    https://scikit-learn.org/stable/modules/preprocessing.html.\n",
      "Please also refer to the documentation for alternative solver options:\n",
      "    https://scikit-learn.org/stable/modules/linear_model.html#logistic-regression\n",
      "  extra_warning_msg=_LOGISTIC_SOLVER_CONVERGENCE_MSG)\n",
      "C:\\ProgramData\\Anaconda3\\lib\\site-packages\\sklearn\\model_selection\\_validation.py:536: FitFailedWarning: Estimator fit failed. The score on this train-test partition for these parameters will be set to nan. Details: \n",
      "ValueError: Solver lbfgs supports only 'l2' or 'none' penalties, got l1 penalty.\n",
      "\n",
      "  FitFailedWarning)\n",
      "C:\\ProgramData\\Anaconda3\\lib\\site-packages\\sklearn\\linear_model\\_logistic.py:939: ConvergenceWarning: lbfgs failed to converge (status=1):\n",
      "STOP: TOTAL NO. of ITERATIONS REACHED LIMIT.\n",
      "\n",
      "Increase the number of iterations (max_iter) or scale the data as shown in:\n",
      "    https://scikit-learn.org/stable/modules/preprocessing.html.\n",
      "Please also refer to the documentation for alternative solver options:\n",
      "    https://scikit-learn.org/stable/modules/linear_model.html#logistic-regression\n",
      "  extra_warning_msg=_LOGISTIC_SOLVER_CONVERGENCE_MSG)\n",
      "C:\\ProgramData\\Anaconda3\\lib\\site-packages\\sklearn\\linear_model\\_logistic.py:939: ConvergenceWarning: lbfgs failed to converge (status=1):\n",
      "STOP: TOTAL NO. of ITERATIONS REACHED LIMIT.\n",
      "\n",
      "Increase the number of iterations (max_iter) or scale the data as shown in:\n",
      "    https://scikit-learn.org/stable/modules/preprocessing.html.\n",
      "Please also refer to the documentation for alternative solver options:\n",
      "    https://scikit-learn.org/stable/modules/linear_model.html#logistic-regression\n",
      "  extra_warning_msg=_LOGISTIC_SOLVER_CONVERGENCE_MSG)\n",
      "C:\\ProgramData\\Anaconda3\\lib\\site-packages\\sklearn\\linear_model\\_logistic.py:939: ConvergenceWarning: lbfgs failed to converge (status=1):\n",
      "STOP: TOTAL NO. of ITERATIONS REACHED LIMIT.\n",
      "\n",
      "Increase the number of iterations (max_iter) or scale the data as shown in:\n",
      "    https://scikit-learn.org/stable/modules/preprocessing.html.\n",
      "Please also refer to the documentation for alternative solver options:\n",
      "    https://scikit-learn.org/stable/modules/linear_model.html#logistic-regression\n",
      "  extra_warning_msg=_LOGISTIC_SOLVER_CONVERGENCE_MSG)\n",
      "C:\\ProgramData\\Anaconda3\\lib\\site-packages\\sklearn\\linear_model\\_logistic.py:939: ConvergenceWarning: lbfgs failed to converge (status=1):\n",
      "STOP: TOTAL NO. of ITERATIONS REACHED LIMIT.\n",
      "\n",
      "Increase the number of iterations (max_iter) or scale the data as shown in:\n",
      "    https://scikit-learn.org/stable/modules/preprocessing.html.\n",
      "Please also refer to the documentation for alternative solver options:\n",
      "    https://scikit-learn.org/stable/modules/linear_model.html#logistic-regression\n",
      "  extra_warning_msg=_LOGISTIC_SOLVER_CONVERGENCE_MSG)\n",
      "C:\\ProgramData\\Anaconda3\\lib\\site-packages\\sklearn\\linear_model\\_logistic.py:939: ConvergenceWarning: lbfgs failed to converge (status=1):\n",
      "STOP: TOTAL NO. of ITERATIONS REACHED LIMIT.\n",
      "\n",
      "Increase the number of iterations (max_iter) or scale the data as shown in:\n",
      "    https://scikit-learn.org/stable/modules/preprocessing.html.\n",
      "Please also refer to the documentation for alternative solver options:\n",
      "    https://scikit-learn.org/stable/modules/linear_model.html#logistic-regression\n",
      "  extra_warning_msg=_LOGISTIC_SOLVER_CONVERGENCE_MSG)\n",
      "C:\\ProgramData\\Anaconda3\\lib\\site-packages\\sklearn\\linear_model\\_logistic.py:939: ConvergenceWarning: lbfgs failed to converge (status=1):\n",
      "STOP: TOTAL NO. of ITERATIONS REACHED LIMIT.\n",
      "\n",
      "Increase the number of iterations (max_iter) or scale the data as shown in:\n",
      "    https://scikit-learn.org/stable/modules/preprocessing.html.\n",
      "Please also refer to the documentation for alternative solver options:\n",
      "    https://scikit-learn.org/stable/modules/linear_model.html#logistic-regression\n",
      "  extra_warning_msg=_LOGISTIC_SOLVER_CONVERGENCE_MSG)\n"
     ]
    },
    {
     "data": {
      "text/plain": [
       "{'C': 10, 'penalty': 'l2'}"
      ]
     },
     "execution_count": 72,
     "metadata": {},
     "output_type": "execute_result"
    }
   ],
   "source": [
    "# determining regularization\n",
    "from sklearn.linear_model import LogisticRegression\n",
    "lr = LogisticRegression()\n",
    "param_grid = {'penalty': ['l1','l2'],'C':[0.1,1,10]}\n",
    "lr_gscv = GridSearchCV(lr, param_grid, cv=5)\n",
    "#fit model to data\n",
    "lr_gscv.fit(X_train, y_train)\n",
    "lr_gscv.best_params_"
   ]
  },
  {
   "cell_type": "code",
   "execution_count": 28,
   "metadata": {},
   "outputs": [
    {
     "name": "stdout",
     "output_type": "stream",
     "text": [
      "              precision    recall  f1-score   support\n",
      "\n",
      "           0       0.83      0.92      0.87      2299\n",
      "           1       0.59      0.36      0.45       701\n",
      "\n",
      "    accuracy                           0.79      3000\n",
      "   macro avg       0.71      0.64      0.66      3000\n",
      "weighted avg       0.77      0.79      0.77      3000\n",
      "\n",
      "[[2125  174]\n",
      " [ 448  253]]\n"
     ]
    },
    {
     "name": "stderr",
     "output_type": "stream",
     "text": [
      "C:\\ProgramData\\Anaconda3\\lib\\site-packages\\sklearn\\linear_model\\_logistic.py:939: ConvergenceWarning: lbfgs failed to converge (status=1):\n",
      "STOP: TOTAL NO. of ITERATIONS REACHED LIMIT.\n",
      "\n",
      "Increase the number of iterations (max_iter) or scale the data as shown in:\n",
      "    https://scikit-learn.org/stable/modules/preprocessing.html.\n",
      "Please also refer to the documentation for alternative solver options:\n",
      "    https://scikit-learn.org/stable/modules/linear_model.html#logistic-regression\n",
      "  extra_warning_msg=_LOGISTIC_SOLVER_CONVERGENCE_MSG)\n"
     ]
    }
   ],
   "source": [
    "from sklearn.linear_model import LogisticRegression\n",
    "lr2_10 = LogisticRegression(penalty='l2', C=10.0)  # L2 with C(=1/λ)=10\n",
    "lr2_10.fit(X_train,y_train)\n",
    "yPred = lr2_10.predict(X_test)\n",
    "print(classification_report(y_test, yPred))\n",
    "print(confusion_matrix(y_test,yPred))"
   ]
  },
  {
   "cell_type": "code",
   "execution_count": 34,
   "metadata": {},
   "outputs": [
    {
     "name": "stdout",
     "output_type": "stream",
     "text": [
      "[[-4.25491905  0.87915801 -0.39210159  0.00469825  0.47444157 -1.57994168\n",
      "  -1.19615916 -0.71388691]]\n"
     ]
    }
   ],
   "source": [
    "print(lr2_10.coef_)"
   ]
  },
  {
   "cell_type": "code",
   "execution_count": 75,
   "metadata": {},
   "outputs": [
    {
     "name": "stderr",
     "output_type": "stream",
     "text": [
      "C:\\ProgramData\\Anaconda3\\lib\\site-packages\\sklearn\\model_selection\\_validation.py:536: FitFailedWarning: Estimator fit failed. The score on this train-test partition for these parameters will be set to nan. Details: \n",
      "ValueError: Solver lbfgs supports only 'l2' or 'none' penalties, got l1 penalty.\n",
      "\n",
      "  FitFailedWarning)\n",
      "C:\\ProgramData\\Anaconda3\\lib\\site-packages\\sklearn\\linear_model\\_logistic.py:939: ConvergenceWarning: lbfgs failed to converge (status=1):\n",
      "STOP: TOTAL NO. of ITERATIONS REACHED LIMIT.\n",
      "\n",
      "Increase the number of iterations (max_iter) or scale the data as shown in:\n",
      "    https://scikit-learn.org/stable/modules/preprocessing.html.\n",
      "Please also refer to the documentation for alternative solver options:\n",
      "    https://scikit-learn.org/stable/modules/linear_model.html#logistic-regression\n",
      "  extra_warning_msg=_LOGISTIC_SOLVER_CONVERGENCE_MSG)\n",
      "C:\\ProgramData\\Anaconda3\\lib\\site-packages\\sklearn\\linear_model\\_logistic.py:939: ConvergenceWarning: lbfgs failed to converge (status=1):\n",
      "STOP: TOTAL NO. of ITERATIONS REACHED LIMIT.\n",
      "\n",
      "Increase the number of iterations (max_iter) or scale the data as shown in:\n",
      "    https://scikit-learn.org/stable/modules/preprocessing.html.\n",
      "Please also refer to the documentation for alternative solver options:\n",
      "    https://scikit-learn.org/stable/modules/linear_model.html#logistic-regression\n",
      "  extra_warning_msg=_LOGISTIC_SOLVER_CONVERGENCE_MSG)\n",
      "C:\\ProgramData\\Anaconda3\\lib\\site-packages\\sklearn\\linear_model\\_logistic.py:939: ConvergenceWarning: lbfgs failed to converge (status=1):\n",
      "STOP: TOTAL NO. of ITERATIONS REACHED LIMIT.\n",
      "\n",
      "Increase the number of iterations (max_iter) or scale the data as shown in:\n",
      "    https://scikit-learn.org/stable/modules/preprocessing.html.\n",
      "Please also refer to the documentation for alternative solver options:\n",
      "    https://scikit-learn.org/stable/modules/linear_model.html#logistic-regression\n",
      "  extra_warning_msg=_LOGISTIC_SOLVER_CONVERGENCE_MSG)\n",
      "C:\\ProgramData\\Anaconda3\\lib\\site-packages\\sklearn\\linear_model\\_logistic.py:939: ConvergenceWarning: lbfgs failed to converge (status=1):\n",
      "STOP: TOTAL NO. of ITERATIONS REACHED LIMIT.\n",
      "\n",
      "Increase the number of iterations (max_iter) or scale the data as shown in:\n",
      "    https://scikit-learn.org/stable/modules/preprocessing.html.\n",
      "Please also refer to the documentation for alternative solver options:\n",
      "    https://scikit-learn.org/stable/modules/linear_model.html#logistic-regression\n",
      "  extra_warning_msg=_LOGISTIC_SOLVER_CONVERGENCE_MSG)\n",
      "C:\\ProgramData\\Anaconda3\\lib\\site-packages\\sklearn\\linear_model\\_logistic.py:939: ConvergenceWarning: lbfgs failed to converge (status=1):\n",
      "STOP: TOTAL NO. of ITERATIONS REACHED LIMIT.\n",
      "\n",
      "Increase the number of iterations (max_iter) or scale the data as shown in:\n",
      "    https://scikit-learn.org/stable/modules/preprocessing.html.\n",
      "Please also refer to the documentation for alternative solver options:\n",
      "    https://scikit-learn.org/stable/modules/linear_model.html#logistic-regression\n",
      "  extra_warning_msg=_LOGISTIC_SOLVER_CONVERGENCE_MSG)\n",
      "C:\\ProgramData\\Anaconda3\\lib\\site-packages\\sklearn\\model_selection\\_validation.py:536: FitFailedWarning: Estimator fit failed. The score on this train-test partition for these parameters will be set to nan. Details: \n",
      "ValueError: Solver lbfgs supports only 'l2' or 'none' penalties, got l1 penalty.\n",
      "\n",
      "  FitFailedWarning)\n",
      "C:\\ProgramData\\Anaconda3\\lib\\site-packages\\sklearn\\linear_model\\_logistic.py:939: ConvergenceWarning: lbfgs failed to converge (status=1):\n",
      "STOP: TOTAL NO. of ITERATIONS REACHED LIMIT.\n",
      "\n",
      "Increase the number of iterations (max_iter) or scale the data as shown in:\n",
      "    https://scikit-learn.org/stable/modules/preprocessing.html.\n",
      "Please also refer to the documentation for alternative solver options:\n",
      "    https://scikit-learn.org/stable/modules/linear_model.html#logistic-regression\n",
      "  extra_warning_msg=_LOGISTIC_SOLVER_CONVERGENCE_MSG)\n",
      "C:\\ProgramData\\Anaconda3\\lib\\site-packages\\sklearn\\linear_model\\_logistic.py:939: ConvergenceWarning: lbfgs failed to converge (status=1):\n",
      "STOP: TOTAL NO. of ITERATIONS REACHED LIMIT.\n",
      "\n",
      "Increase the number of iterations (max_iter) or scale the data as shown in:\n",
      "    https://scikit-learn.org/stable/modules/preprocessing.html.\n",
      "Please also refer to the documentation for alternative solver options:\n",
      "    https://scikit-learn.org/stable/modules/linear_model.html#logistic-regression\n",
      "  extra_warning_msg=_LOGISTIC_SOLVER_CONVERGENCE_MSG)\n",
      "C:\\ProgramData\\Anaconda3\\lib\\site-packages\\sklearn\\linear_model\\_logistic.py:939: ConvergenceWarning: lbfgs failed to converge (status=1):\n",
      "STOP: TOTAL NO. of ITERATIONS REACHED LIMIT.\n",
      "\n",
      "Increase the number of iterations (max_iter) or scale the data as shown in:\n",
      "    https://scikit-learn.org/stable/modules/preprocessing.html.\n",
      "Please also refer to the documentation for alternative solver options:\n",
      "    https://scikit-learn.org/stable/modules/linear_model.html#logistic-regression\n",
      "  extra_warning_msg=_LOGISTIC_SOLVER_CONVERGENCE_MSG)\n",
      "C:\\ProgramData\\Anaconda3\\lib\\site-packages\\sklearn\\linear_model\\_logistic.py:939: ConvergenceWarning: lbfgs failed to converge (status=1):\n",
      "STOP: TOTAL NO. of ITERATIONS REACHED LIMIT.\n",
      "\n",
      "Increase the number of iterations (max_iter) or scale the data as shown in:\n",
      "    https://scikit-learn.org/stable/modules/preprocessing.html.\n",
      "Please also refer to the documentation for alternative solver options:\n",
      "    https://scikit-learn.org/stable/modules/linear_model.html#logistic-regression\n",
      "  extra_warning_msg=_LOGISTIC_SOLVER_CONVERGENCE_MSG)\n",
      "C:\\ProgramData\\Anaconda3\\lib\\site-packages\\sklearn\\linear_model\\_logistic.py:939: ConvergenceWarning: lbfgs failed to converge (status=1):\n",
      "STOP: TOTAL NO. of ITERATIONS REACHED LIMIT.\n",
      "\n",
      "Increase the number of iterations (max_iter) or scale the data as shown in:\n",
      "    https://scikit-learn.org/stable/modules/preprocessing.html.\n",
      "Please also refer to the documentation for alternative solver options:\n",
      "    https://scikit-learn.org/stable/modules/linear_model.html#logistic-regression\n",
      "  extra_warning_msg=_LOGISTIC_SOLVER_CONVERGENCE_MSG)\n",
      "C:\\ProgramData\\Anaconda3\\lib\\site-packages\\sklearn\\model_selection\\_validation.py:536: FitFailedWarning: Estimator fit failed. The score on this train-test partition for these parameters will be set to nan. Details: \n",
      "ValueError: Solver lbfgs supports only 'l2' or 'none' penalties, got l1 penalty.\n",
      "\n",
      "  FitFailedWarning)\n",
      "C:\\ProgramData\\Anaconda3\\lib\\site-packages\\sklearn\\linear_model\\_logistic.py:939: ConvergenceWarning: lbfgs failed to converge (status=1):\n",
      "STOP: TOTAL NO. of ITERATIONS REACHED LIMIT.\n",
      "\n",
      "Increase the number of iterations (max_iter) or scale the data as shown in:\n",
      "    https://scikit-learn.org/stable/modules/preprocessing.html.\n",
      "Please also refer to the documentation for alternative solver options:\n",
      "    https://scikit-learn.org/stable/modules/linear_model.html#logistic-regression\n",
      "  extra_warning_msg=_LOGISTIC_SOLVER_CONVERGENCE_MSG)\n",
      "C:\\ProgramData\\Anaconda3\\lib\\site-packages\\sklearn\\linear_model\\_logistic.py:939: ConvergenceWarning: lbfgs failed to converge (status=1):\n",
      "STOP: TOTAL NO. of ITERATIONS REACHED LIMIT.\n",
      "\n",
      "Increase the number of iterations (max_iter) or scale the data as shown in:\n",
      "    https://scikit-learn.org/stable/modules/preprocessing.html.\n",
      "Please also refer to the documentation for alternative solver options:\n",
      "    https://scikit-learn.org/stable/modules/linear_model.html#logistic-regression\n",
      "  extra_warning_msg=_LOGISTIC_SOLVER_CONVERGENCE_MSG)\n",
      "C:\\ProgramData\\Anaconda3\\lib\\site-packages\\sklearn\\linear_model\\_logistic.py:939: ConvergenceWarning: lbfgs failed to converge (status=1):\n",
      "STOP: TOTAL NO. of ITERATIONS REACHED LIMIT.\n",
      "\n",
      "Increase the number of iterations (max_iter) or scale the data as shown in:\n",
      "    https://scikit-learn.org/stable/modules/preprocessing.html.\n",
      "Please also refer to the documentation for alternative solver options:\n",
      "    https://scikit-learn.org/stable/modules/linear_model.html#logistic-regression\n",
      "  extra_warning_msg=_LOGISTIC_SOLVER_CONVERGENCE_MSG)\n",
      "C:\\ProgramData\\Anaconda3\\lib\\site-packages\\sklearn\\linear_model\\_logistic.py:939: ConvergenceWarning: lbfgs failed to converge (status=1):\n",
      "STOP: TOTAL NO. of ITERATIONS REACHED LIMIT.\n",
      "\n",
      "Increase the number of iterations (max_iter) or scale the data as shown in:\n",
      "    https://scikit-learn.org/stable/modules/preprocessing.html.\n",
      "Please also refer to the documentation for alternative solver options:\n",
      "    https://scikit-learn.org/stable/modules/linear_model.html#logistic-regression\n",
      "  extra_warning_msg=_LOGISTIC_SOLVER_CONVERGENCE_MSG)\n",
      "C:\\ProgramData\\Anaconda3\\lib\\site-packages\\sklearn\\linear_model\\_logistic.py:939: ConvergenceWarning: lbfgs failed to converge (status=1):\n",
      "STOP: TOTAL NO. of ITERATIONS REACHED LIMIT.\n",
      "\n",
      "Increase the number of iterations (max_iter) or scale the data as shown in:\n",
      "    https://scikit-learn.org/stable/modules/preprocessing.html.\n",
      "Please also refer to the documentation for alternative solver options:\n",
      "    https://scikit-learn.org/stable/modules/linear_model.html#logistic-regression\n",
      "  extra_warning_msg=_LOGISTIC_SOLVER_CONVERGENCE_MSG)\n",
      "C:\\ProgramData\\Anaconda3\\lib\\site-packages\\sklearn\\linear_model\\_logistic.py:939: ConvergenceWarning: lbfgs failed to converge (status=1):\n",
      "STOP: TOTAL NO. of ITERATIONS REACHED LIMIT.\n",
      "\n",
      "Increase the number of iterations (max_iter) or scale the data as shown in:\n",
      "    https://scikit-learn.org/stable/modules/preprocessing.html.\n",
      "Please also refer to the documentation for alternative solver options:\n",
      "    https://scikit-learn.org/stable/modules/linear_model.html#logistic-regression\n",
      "  extra_warning_msg=_LOGISTIC_SOLVER_CONVERGENCE_MSG)\n"
     ]
    },
    {
     "data": {
      "text/plain": [
       "{'C': 0.1, 'penalty': 'l2'}"
      ]
     },
     "execution_count": 75,
     "metadata": {},
     "output_type": "execute_result"
    }
   ],
   "source": [
    "# determining regularization\n",
    "lr = LogisticRegression()\n",
    "param_grid = {'penalty': ['l1','l2'],'C':[0.1,1,10]}\n",
    "lr_gscv = GridSearchCV(lr, param_grid, cv=5)\n",
    "#fit model to data\n",
    "lr_gscv.fit(X_trainS, y_trainS)\n",
    "lr_gscv.best_params_"
   ]
  },
  {
   "cell_type": "code",
   "execution_count": 33,
   "metadata": {},
   "outputs": [
    {
     "name": "stdout",
     "output_type": "stream",
     "text": [
      "              precision    recall  f1-score   support\n",
      "\n",
      "           0       0.93      0.74      0.82      2299\n",
      "           1       0.49      0.82      0.61       701\n",
      "\n",
      "    accuracy                           0.76      3000\n",
      "   macro avg       0.71      0.78      0.72      3000\n",
      "weighted avg       0.83      0.76      0.77      3000\n",
      "\n",
      "[[1695  604]\n",
      " [ 124  577]]\n"
     ]
    },
    {
     "name": "stderr",
     "output_type": "stream",
     "text": [
      "C:\\ProgramData\\Anaconda3\\lib\\site-packages\\sklearn\\linear_model\\_logistic.py:939: ConvergenceWarning: lbfgs failed to converge (status=1):\n",
      "STOP: TOTAL NO. of ITERATIONS REACHED LIMIT.\n",
      "\n",
      "Increase the number of iterations (max_iter) or scale the data as shown in:\n",
      "    https://scikit-learn.org/stable/modules/preprocessing.html.\n",
      "Please also refer to the documentation for alternative solver options:\n",
      "    https://scikit-learn.org/stable/modules/linear_model.html#logistic-regression\n",
      "  extra_warning_msg=_LOGISTIC_SOLVER_CONVERGENCE_MSG)\n"
     ]
    }
   ],
   "source": [
    "lr2_10 = LogisticRegression(penalty='l2', C=0.1)  # L2 with C(=1/λ)=10\n",
    "lr2_10.fit(X_trainS,y_trainS)\n",
    "yPred = lr2_10.predict(X_test)\n",
    "print(classification_report(y_test, yPred))\n",
    "print(confusion_matrix(y_test,yPred))"
   ]
  },
  {
   "cell_type": "code",
   "execution_count": 35,
   "metadata": {},
   "outputs": [
    {
     "name": "stdout",
     "output_type": "stream",
     "text": [
      "[[-4.25491905  0.87915801 -0.39210159  0.00469825  0.47444157 -1.57994168\n",
      "  -1.19615916 -0.71388691]]\n"
     ]
    }
   ],
   "source": [
    "print(lr2_10.coef_)"
   ]
  },
  {
   "cell_type": "code",
   "execution_count": 77,
   "metadata": {},
   "outputs": [
    {
     "name": "stderr",
     "output_type": "stream",
     "text": [
      "C:\\ProgramData\\Anaconda3\\lib\\site-packages\\sklearn\\model_selection\\_validation.py:536: FitFailedWarning: Estimator fit failed. The score on this train-test partition for these parameters will be set to nan. Details: \n",
      "ValueError: Solver lbfgs supports only 'l2' or 'none' penalties, got l1 penalty.\n",
      "\n",
      "  FitFailedWarning)\n",
      "C:\\ProgramData\\Anaconda3\\lib\\site-packages\\sklearn\\linear_model\\_logistic.py:939: ConvergenceWarning: lbfgs failed to converge (status=1):\n",
      "STOP: TOTAL NO. of ITERATIONS REACHED LIMIT.\n",
      "\n",
      "Increase the number of iterations (max_iter) or scale the data as shown in:\n",
      "    https://scikit-learn.org/stable/modules/preprocessing.html.\n",
      "Please also refer to the documentation for alternative solver options:\n",
      "    https://scikit-learn.org/stable/modules/linear_model.html#logistic-regression\n",
      "  extra_warning_msg=_LOGISTIC_SOLVER_CONVERGENCE_MSG)\n",
      "C:\\ProgramData\\Anaconda3\\lib\\site-packages\\sklearn\\linear_model\\_logistic.py:939: ConvergenceWarning: lbfgs failed to converge (status=1):\n",
      "STOP: TOTAL NO. of ITERATIONS REACHED LIMIT.\n",
      "\n",
      "Increase the number of iterations (max_iter) or scale the data as shown in:\n",
      "    https://scikit-learn.org/stable/modules/preprocessing.html.\n",
      "Please also refer to the documentation for alternative solver options:\n",
      "    https://scikit-learn.org/stable/modules/linear_model.html#logistic-regression\n",
      "  extra_warning_msg=_LOGISTIC_SOLVER_CONVERGENCE_MSG)\n",
      "C:\\ProgramData\\Anaconda3\\lib\\site-packages\\sklearn\\linear_model\\_logistic.py:939: ConvergenceWarning: lbfgs failed to converge (status=1):\n",
      "STOP: TOTAL NO. of ITERATIONS REACHED LIMIT.\n",
      "\n",
      "Increase the number of iterations (max_iter) or scale the data as shown in:\n",
      "    https://scikit-learn.org/stable/modules/preprocessing.html.\n",
      "Please also refer to the documentation for alternative solver options:\n",
      "    https://scikit-learn.org/stable/modules/linear_model.html#logistic-regression\n",
      "  extra_warning_msg=_LOGISTIC_SOLVER_CONVERGENCE_MSG)\n",
      "C:\\ProgramData\\Anaconda3\\lib\\site-packages\\sklearn\\linear_model\\_logistic.py:939: ConvergenceWarning: lbfgs failed to converge (status=1):\n",
      "STOP: TOTAL NO. of ITERATIONS REACHED LIMIT.\n",
      "\n",
      "Increase the number of iterations (max_iter) or scale the data as shown in:\n",
      "    https://scikit-learn.org/stable/modules/preprocessing.html.\n",
      "Please also refer to the documentation for alternative solver options:\n",
      "    https://scikit-learn.org/stable/modules/linear_model.html#logistic-regression\n",
      "  extra_warning_msg=_LOGISTIC_SOLVER_CONVERGENCE_MSG)\n",
      "C:\\ProgramData\\Anaconda3\\lib\\site-packages\\sklearn\\model_selection\\_validation.py:536: FitFailedWarning: Estimator fit failed. The score on this train-test partition for these parameters will be set to nan. Details: \n",
      "ValueError: Solver lbfgs supports only 'l2' or 'none' penalties, got l1 penalty.\n",
      "\n",
      "  FitFailedWarning)\n",
      "C:\\ProgramData\\Anaconda3\\lib\\site-packages\\sklearn\\linear_model\\_logistic.py:939: ConvergenceWarning: lbfgs failed to converge (status=1):\n",
      "STOP: TOTAL NO. of ITERATIONS REACHED LIMIT.\n",
      "\n",
      "Increase the number of iterations (max_iter) or scale the data as shown in:\n",
      "    https://scikit-learn.org/stable/modules/preprocessing.html.\n",
      "Please also refer to the documentation for alternative solver options:\n",
      "    https://scikit-learn.org/stable/modules/linear_model.html#logistic-regression\n",
      "  extra_warning_msg=_LOGISTIC_SOLVER_CONVERGENCE_MSG)\n",
      "C:\\ProgramData\\Anaconda3\\lib\\site-packages\\sklearn\\linear_model\\_logistic.py:939: ConvergenceWarning: lbfgs failed to converge (status=1):\n",
      "STOP: TOTAL NO. of ITERATIONS REACHED LIMIT.\n",
      "\n",
      "Increase the number of iterations (max_iter) or scale the data as shown in:\n",
      "    https://scikit-learn.org/stable/modules/preprocessing.html.\n",
      "Please also refer to the documentation for alternative solver options:\n",
      "    https://scikit-learn.org/stable/modules/linear_model.html#logistic-regression\n",
      "  extra_warning_msg=_LOGISTIC_SOLVER_CONVERGENCE_MSG)\n",
      "C:\\ProgramData\\Anaconda3\\lib\\site-packages\\sklearn\\linear_model\\_logistic.py:939: ConvergenceWarning: lbfgs failed to converge (status=1):\n",
      "STOP: TOTAL NO. of ITERATIONS REACHED LIMIT.\n",
      "\n",
      "Increase the number of iterations (max_iter) or scale the data as shown in:\n",
      "    https://scikit-learn.org/stable/modules/preprocessing.html.\n",
      "Please also refer to the documentation for alternative solver options:\n",
      "    https://scikit-learn.org/stable/modules/linear_model.html#logistic-regression\n",
      "  extra_warning_msg=_LOGISTIC_SOLVER_CONVERGENCE_MSG)\n",
      "C:\\ProgramData\\Anaconda3\\lib\\site-packages\\sklearn\\linear_model\\_logistic.py:939: ConvergenceWarning: lbfgs failed to converge (status=1):\n",
      "STOP: TOTAL NO. of ITERATIONS REACHED LIMIT.\n",
      "\n",
      "Increase the number of iterations (max_iter) or scale the data as shown in:\n",
      "    https://scikit-learn.org/stable/modules/preprocessing.html.\n",
      "Please also refer to the documentation for alternative solver options:\n",
      "    https://scikit-learn.org/stable/modules/linear_model.html#logistic-regression\n",
      "  extra_warning_msg=_LOGISTIC_SOLVER_CONVERGENCE_MSG)\n",
      "C:\\ProgramData\\Anaconda3\\lib\\site-packages\\sklearn\\model_selection\\_validation.py:536: FitFailedWarning: Estimator fit failed. The score on this train-test partition for these parameters will be set to nan. Details: \n",
      "ValueError: Solver lbfgs supports only 'l2' or 'none' penalties, got l1 penalty.\n",
      "\n",
      "  FitFailedWarning)\n",
      "C:\\ProgramData\\Anaconda3\\lib\\site-packages\\sklearn\\linear_model\\_logistic.py:939: ConvergenceWarning: lbfgs failed to converge (status=1):\n",
      "STOP: TOTAL NO. of ITERATIONS REACHED LIMIT.\n",
      "\n",
      "Increase the number of iterations (max_iter) or scale the data as shown in:\n",
      "    https://scikit-learn.org/stable/modules/preprocessing.html.\n",
      "Please also refer to the documentation for alternative solver options:\n",
      "    https://scikit-learn.org/stable/modules/linear_model.html#logistic-regression\n",
      "  extra_warning_msg=_LOGISTIC_SOLVER_CONVERGENCE_MSG)\n",
      "C:\\ProgramData\\Anaconda3\\lib\\site-packages\\sklearn\\linear_model\\_logistic.py:939: ConvergenceWarning: lbfgs failed to converge (status=1):\n",
      "STOP: TOTAL NO. of ITERATIONS REACHED LIMIT.\n",
      "\n",
      "Increase the number of iterations (max_iter) or scale the data as shown in:\n",
      "    https://scikit-learn.org/stable/modules/preprocessing.html.\n",
      "Please also refer to the documentation for alternative solver options:\n",
      "    https://scikit-learn.org/stable/modules/linear_model.html#logistic-regression\n",
      "  extra_warning_msg=_LOGISTIC_SOLVER_CONVERGENCE_MSG)\n",
      "C:\\ProgramData\\Anaconda3\\lib\\site-packages\\sklearn\\linear_model\\_logistic.py:939: ConvergenceWarning: lbfgs failed to converge (status=1):\n",
      "STOP: TOTAL NO. of ITERATIONS REACHED LIMIT.\n",
      "\n",
      "Increase the number of iterations (max_iter) or scale the data as shown in:\n",
      "    https://scikit-learn.org/stable/modules/preprocessing.html.\n",
      "Please also refer to the documentation for alternative solver options:\n",
      "    https://scikit-learn.org/stable/modules/linear_model.html#logistic-regression\n",
      "  extra_warning_msg=_LOGISTIC_SOLVER_CONVERGENCE_MSG)\n",
      "C:\\ProgramData\\Anaconda3\\lib\\site-packages\\sklearn\\linear_model\\_logistic.py:939: ConvergenceWarning: lbfgs failed to converge (status=1):\n",
      "STOP: TOTAL NO. of ITERATIONS REACHED LIMIT.\n",
      "\n",
      "Increase the number of iterations (max_iter) or scale the data as shown in:\n",
      "    https://scikit-learn.org/stable/modules/preprocessing.html.\n",
      "Please also refer to the documentation for alternative solver options:\n",
      "    https://scikit-learn.org/stable/modules/linear_model.html#logistic-regression\n",
      "  extra_warning_msg=_LOGISTIC_SOLVER_CONVERGENCE_MSG)\n",
      "C:\\ProgramData\\Anaconda3\\lib\\site-packages\\sklearn\\linear_model\\_logistic.py:939: ConvergenceWarning: lbfgs failed to converge (status=1):\n",
      "STOP: TOTAL NO. of ITERATIONS REACHED LIMIT.\n",
      "\n",
      "Increase the number of iterations (max_iter) or scale the data as shown in:\n",
      "    https://scikit-learn.org/stable/modules/preprocessing.html.\n",
      "Please also refer to the documentation for alternative solver options:\n",
      "    https://scikit-learn.org/stable/modules/linear_model.html#logistic-regression\n",
      "  extra_warning_msg=_LOGISTIC_SOLVER_CONVERGENCE_MSG)\n"
     ]
    },
    {
     "data": {
      "text/plain": [
       "{'C': 10, 'penalty': 'l2'}"
      ]
     },
     "execution_count": 77,
     "metadata": {},
     "output_type": "execute_result"
    }
   ],
   "source": [
    "# determining regularization\n",
    "lr = LogisticRegression()\n",
    "param_grid = {'penalty': ['l1','l2'],'C':[0.1,1,10]}\n",
    "lr_gscv = GridSearchCV(lr, param_grid, cv=5)\n",
    "#fit model to data\n",
    "lr_gscv.fit(X_trainA, y_trainA)\n",
    "lr_gscv.best_params_"
   ]
  },
  {
   "cell_type": "code",
   "execution_count": 36,
   "metadata": {},
   "outputs": [
    {
     "name": "stdout",
     "output_type": "stream",
     "text": [
      "              precision    recall  f1-score   support\n",
      "\n",
      "           0       0.91      0.71      0.80      2299\n",
      "           1       0.45      0.77      0.57       701\n",
      "\n",
      "    accuracy                           0.73      3000\n",
      "   macro avg       0.68      0.74      0.68      3000\n",
      "weighted avg       0.80      0.73      0.74      3000\n",
      "\n",
      "[[1638  661]\n",
      " [ 163  538]]\n"
     ]
    },
    {
     "name": "stderr",
     "output_type": "stream",
     "text": [
      "C:\\ProgramData\\Anaconda3\\lib\\site-packages\\sklearn\\linear_model\\_logistic.py:939: ConvergenceWarning: lbfgs failed to converge (status=1):\n",
      "STOP: TOTAL NO. of ITERATIONS REACHED LIMIT.\n",
      "\n",
      "Increase the number of iterations (max_iter) or scale the data as shown in:\n",
      "    https://scikit-learn.org/stable/modules/preprocessing.html.\n",
      "Please also refer to the documentation for alternative solver options:\n",
      "    https://scikit-learn.org/stable/modules/linear_model.html#logistic-regression\n",
      "  extra_warning_msg=_LOGISTIC_SOLVER_CONVERGENCE_MSG)\n"
     ]
    }
   ],
   "source": [
    "lr2_10 = LogisticRegression(penalty='l2', C=10.0)  # L2 with C(=1/λ)=10\n",
    "lr2_10.fit(X_trainA,y_trainA)\n",
    "yPred = lr2_10.predict(X_test)\n",
    "print(classification_report(y_test, yPred))\n",
    "print(confusion_matrix(y_test,yPred))"
   ]
  },
  {
   "cell_type": "code",
   "execution_count": 37,
   "metadata": {},
   "outputs": [
    {
     "name": "stdout",
     "output_type": "stream",
     "text": [
      "[[-3.51099785e+00  1.94435598e+00 -1.37247239e-01  3.37207229e-03\n",
      "   3.87479034e-01 -1.46760995e+00 -9.56103115e-01 -6.85687705e-01]]\n"
     ]
    }
   ],
   "source": [
    "print(lr2_10.coef_)"
   ]
  },
  {
   "cell_type": "markdown",
   "metadata": {},
   "source": [
    "### [안함] Logistic with groups"
   ]
  },
  {
   "cell_type": "markdown",
   "metadata": {},
   "source": [
    "## LDA - without salary"
   ]
  },
  {
   "cell_type": "code",
   "execution_count": 81,
   "metadata": {},
   "outputs": [],
   "source": [
    "# split \n",
    "from sklearn.model_selection import train_test_split\n",
    "X_train, X_test, y_train, y_test = train_test_split(hr.drop('left',\n",
    "                                                                axis=1).drop('salary',\n",
    "                                                                             axis=1), \n",
    "                                                        hr.left, test_size = 0.2, random_state = 0)"
   ]
  },
  {
   "cell_type": "code",
   "execution_count": 82,
   "metadata": {},
   "outputs": [
    {
     "name": "stderr",
     "output_type": "stream",
     "text": [
      "C:\\ProgramData\\Anaconda3\\lib\\site-packages\\sklearn\\utils\\deprecation.py:87: FutureWarning: Function safe_indexing is deprecated; safe_indexing is deprecated in version 0.22 and will be removed in version 0.24.\n",
      "  warnings.warn(msg, category=FutureWarning)\n"
     ]
    },
    {
     "data": {
      "text/plain": [
       "array([9129, 9129], dtype=int64)"
      ]
     },
     "execution_count": 82,
     "metadata": {},
     "output_type": "execute_result"
    }
   ],
   "source": [
    "from imblearn.over_sampling import SMOTE, ADASYN\n",
    "sm = SMOTE(random_state=42, kind='regular')\n",
    "X_trainS, y_trainS = sm.fit_sample(X_train, y_train)\n",
    "np.bincount(y_trainS)"
   ]
  },
  {
   "cell_type": "code",
   "execution_count": 83,
   "metadata": {},
   "outputs": [
    {
     "name": "stdout",
     "output_type": "stream",
     "text": [
      "Resampled dataset shape from ADASYN Counter({0: 9129, 1: 9072})\n"
     ]
    },
    {
     "name": "stderr",
     "output_type": "stream",
     "text": [
      "C:\\ProgramData\\Anaconda3\\lib\\site-packages\\sklearn\\utils\\deprecation.py:87: FutureWarning: Function safe_indexing is deprecated; safe_indexing is deprecated in version 0.22 and will be removed in version 0.24.\n",
      "  warnings.warn(msg, category=FutureWarning)\n"
     ]
    }
   ],
   "source": [
    "from collections import Counter\n",
    "ada=ADASYN(random_state=0)\n",
    "X_trainA,y_trainA=ada.fit_sample(X_train,y_train)\n",
    "print('Resampled dataset shape from ADASYN %s' % Counter(y_trainA))"
   ]
  },
  {
   "cell_type": "code",
   "execution_count": 84,
   "metadata": {},
   "outputs": [
    {
     "name": "stdout",
     "output_type": "stream",
     "text": [
      "              precision    recall  f1-score   support\n",
      "\n",
      "           0       0.80      0.91      0.85      2299\n",
      "           1       0.47      0.25      0.33       701\n",
      "\n",
      "    accuracy                           0.76      3000\n",
      "   macro avg       0.64      0.58      0.59      3000\n",
      "weighted avg       0.72      0.76      0.73      3000\n",
      "\n",
      "[[2101  198]\n",
      " [ 523  178]]\n"
     ]
    }
   ],
   "source": [
    "# LDA with raw\n",
    "from sklearn.discriminant_analysis import LinearDiscriminantAnalysis\n",
    "cld=LinearDiscriminantAnalysis(store_covariance=True) #store_covariance 안하면 밑에꺼 안나옴\n",
    "cld.fit(X_train, y_train) # LDA 적합\n",
    "y_train_pred=cld.predict(X_train)\n",
    "y_test_pred=cld.predict(X_test)\n",
    "\n",
    "print(classification_report(y_test, y_test_pred))\n",
    "print(confusion_matrix(y_test, y_test_pred))  # 각 행은 setosa, versicolor, virginica"
   ]
  },
  {
   "cell_type": "code",
   "execution_count": 85,
   "metadata": {},
   "outputs": [
    {
     "name": "stdout",
     "output_type": "stream",
     "text": [
      "              precision    recall  f1-score   support\n",
      "\n",
      "           0       0.92      0.72      0.81      2299\n",
      "           1       0.46      0.78      0.58       701\n",
      "\n",
      "    accuracy                           0.74      3000\n",
      "   macro avg       0.69      0.75      0.69      3000\n",
      "weighted avg       0.81      0.74      0.76      3000\n",
      "\n",
      "[[1660  639]\n",
      " [ 151  550]]\n"
     ]
    }
   ],
   "source": [
    "# LDA with SMOTE\n",
    "from sklearn.discriminant_analysis import LinearDiscriminantAnalysis\n",
    "cld=LinearDiscriminantAnalysis(store_covariance=True) #store_covariance 안하면 밑에꺼 안나옴\n",
    "cld.fit(X_trainS, y_trainS) # LDA 적합\n",
    "y_train_pred=cld.predict(X_trainS)\n",
    "y_test_pred=cld.predict(X_test)\n",
    "\n",
    "print(classification_report(y_test, y_test_pred))\n",
    "print(confusion_matrix(y_test, y_test_pred))  # 각 행은 setosa, versicolor, virginica"
   ]
  },
  {
   "cell_type": "code",
   "execution_count": 86,
   "metadata": {},
   "outputs": [
    {
     "name": "stdout",
     "output_type": "stream",
     "text": [
      "              precision    recall  f1-score   support\n",
      "\n",
      "           0       0.95      0.71      0.81      2299\n",
      "           1       0.48      0.89      0.62       701\n",
      "\n",
      "    accuracy                           0.75      3000\n",
      "   macro avg       0.72      0.80      0.72      3000\n",
      "weighted avg       0.84      0.75      0.77      3000\n",
      "\n",
      "[[1623  676]\n",
      " [  79  622]]\n"
     ]
    }
   ],
   "source": [
    "# LDA with ADASYN\n",
    "from sklearn.discriminant_analysis import LinearDiscriminantAnalysis\n",
    "cld=LinearDiscriminantAnalysis(store_covariance=True) #store_covariance 안하면 밑에꺼 안나옴\n",
    "cld.fit(X_trainA, y_trainA) # LDA 적합\n",
    "y_train_pred=cld.predict(X_trainA)\n",
    "y_test_pred=cld.predict(X_test)\n",
    "\n",
    "print(classification_report(y_test, y_test_pred))\n",
    "print(confusion_matrix(y_test, y_test_pred))  # 각 행은 setosa, versicolor, virginica"
   ]
  },
  {
   "cell_type": "code",
   "execution_count": 122,
   "metadata": {},
   "outputs": [
    {
     "data": {
      "image/png": "[encoded data removed]",
      "text/plain": [
       "<Figure size 576x432 with 4 Axes>"
      ]
     },
     "metadata": {
      "needs_background": "light"
     },
     "output_type": "display_data"
    }
   ],
   "source": [
    "plt.figure(figsize=(8, 6))\n",
    "plt.subplot(2,2,1)\n",
    "sns.distplot(hr['evaluation'])\n",
    "plt.title('Evaluation')\n",
    "plt.xlabel('')\n",
    "plt.subplot(2,2,2)\n",
    "sns.distplot(hr['satisfaction'])\n",
    "plt.title('Satisfaction')\n",
    "plt.xlabel('')\n",
    "plt.subplot(2,2,3)\n",
    "sns.distplot(hr['avgMonthlyhrs'])\n",
    "plt.title('Average Monthly Hours')\n",
    "plt.xlabel('')\n",
    "plt.subplot(2,2,4)\n",
    "sns.distplot(hr['yrsAtCompany'])\n",
    "plt.title('Years at Company')\n",
    "plt.xlabel('')\n",
    "plt.show()"
   ]
  },
  {
   "cell_type": "code",
   "execution_count": 123,
   "metadata": {},
   "outputs": [
    {
     "data": {
      "image/png": "[encoded data removed]",
      "text/plain": [
       "<Figure size 576x432 with 4 Axes>"
      ]
     },
     "metadata": {
      "needs_background": "light"
     },
     "output_type": "display_data"
    }
   ],
   "source": [
    "hr0 = hr[hr.left<1]\n",
    "plt.figure(figsize=(8, 6))\n",
    "plt.subplot(2,2,1)\n",
    "sns.distplot(hr0['evaluation'])\n",
    "plt.title('Evaluation when left=0')\n",
    "plt.xlabel('')\n",
    "plt.subplot(2,2,2)\n",
    "sns.distplot(hr0['satisfaction'])\n",
    "plt.title('Satisfaction when left=0')\n",
    "plt.xlabel('')\n",
    "plt.subplot(2,2,3)\n",
    "sns.distplot(hr0['avgMonthlyhrs'])\n",
    "plt.title('Average Monthly Hours when left=0')\n",
    "plt.xlabel('')\n",
    "plt.subplot(2,2,4)\n",
    "sns.distplot(hr0['yrsAtCompany'])\n",
    "plt.title('Years at Company when left=0')\n",
    "plt.xlabel('')\n",
    "plt.show()"
   ]
  },
  {
   "cell_type": "code",
   "execution_count": 124,
   "metadata": {},
   "outputs": [
    {
     "data": {
      "image/png": "[encoded data removed]",
      "text/plain": [
       "<Figure size 576x432 with 4 Axes>"
      ]
     },
     "metadata": {
      "needs_background": "light"
     },
     "output_type": "display_data"
    }
   ],
   "source": [
    "hr1 = hr[hr.left>0]\n",
    "plt.figure(figsize=(8, 6))\n",
    "plt.subplot(2,2,1)\n",
    "sns.distplot(hr1['evaluation'])\n",
    "plt.title('Evaluation when left=1')\n",
    "plt.xlabel('')\n",
    "plt.subplot(2,2,2)\n",
    "sns.distplot(hr1['satisfaction'])\n",
    "plt.title('Satisfaction when left=1')\n",
    "plt.xlabel('')\n",
    "plt.subplot(2,2,3)\n",
    "sns.distplot(hr1['avgMonthlyhrs'])\n",
    "plt.title('Average Monthly Hours when left=1')\n",
    "plt.xlabel('')\n",
    "plt.subplot(2,2,4)\n",
    "sns.distplot(hr1['yrsAtCompany'])\n",
    "plt.title('Years at Company when left=1')\n",
    "plt.xlabel('')\n",
    "plt.show()"
   ]
  },
  {
   "cell_type": "markdown",
   "metadata": {},
   "source": [
    "## QDA without salary"
   ]
  },
  {
   "cell_type": "code",
   "execution_count": 87,
   "metadata": {},
   "outputs": [
    {
     "name": "stdout",
     "output_type": "stream",
     "text": [
      "              precision    recall  f1-score   support\n",
      "\n",
      "           0       0.96      0.91      0.94      2299\n",
      "           1       0.76      0.89      0.82       701\n",
      "\n",
      "    accuracy                           0.91      3000\n",
      "   macro avg       0.86      0.90      0.88      3000\n",
      "weighted avg       0.91      0.91      0.91      3000\n",
      "\n",
      "[[2099  200]\n",
      " [  80  621]]\n"
     ]
    }
   ],
   "source": [
    "# QDA with raw\n",
    "from sklearn.discriminant_analysis import QuadraticDiscriminantAnalysis\n",
    "cqd=QuadraticDiscriminantAnalysis(store_covariance=True)\n",
    "cqd.fit(X_train, y_train) # QDA 적합\n",
    "y_train_pred=cqd.predict(X_train)\n",
    "y_test_pred=cqd.predict(X_test)\n",
    "\n",
    "print(classification_report(y_test, y_test_pred))\n",
    "print(confusion_matrix(y_test, y_test_pred))  # 각 행은 setosa, versicolor, virginica"
   ]
  },
  {
   "cell_type": "code",
   "execution_count": 88,
   "metadata": {},
   "outputs": [
    {
     "name": "stdout",
     "output_type": "stream",
     "text": [
      "              precision    recall  f1-score   support\n",
      "\n",
      "           0       0.96      0.87      0.92      2299\n",
      "           1       0.68      0.89      0.77       701\n",
      "\n",
      "    accuracy                           0.88      3000\n",
      "   macro avg       0.82      0.88      0.84      3000\n",
      "weighted avg       0.90      0.88      0.88      3000\n",
      "\n",
      "[[2007  292]\n",
      " [  79  622]]\n"
     ]
    }
   ],
   "source": [
    "# QDA with SMOTE\n",
    "from sklearn.discriminant_analysis import QuadraticDiscriminantAnalysis\n",
    "cqd=QuadraticDiscriminantAnalysis(store_covariance=True)\n",
    "cqd.fit(X_trainS, y_trainS) # QDA 적합\n",
    "y_train_pred=cqd.predict(X_trainS)\n",
    "y_test_pred=cqd.predict(X_test)\n",
    "\n",
    "print(classification_report(y_test, y_test_pred))\n",
    "print(confusion_matrix(y_test, y_test_pred))  # 각 행은 setosa, versicolor, virginica"
   ]
  },
  {
   "cell_type": "code",
   "execution_count": 89,
   "metadata": {},
   "outputs": [
    {
     "name": "stdout",
     "output_type": "stream",
     "text": [
      "              precision    recall  f1-score   support\n",
      "\n",
      "           0       0.97      0.66      0.79      2299\n",
      "           1       0.46      0.94      0.61       701\n",
      "\n",
      "    accuracy                           0.72      3000\n",
      "   macro avg       0.71      0.80      0.70      3000\n",
      "weighted avg       0.85      0.72      0.75      3000\n",
      "\n",
      "[[1514  785]\n",
      " [  42  659]]\n"
     ]
    }
   ],
   "source": [
    "# QDA with ADASYN\n",
    "from sklearn.discriminant_analysis import QuadraticDiscriminantAnalysis\n",
    "cqd=QuadraticDiscriminantAnalysis(store_covariance=True)\n",
    "cqd.fit(X_trainA, y_trainA) # QDA 적합\n",
    "y_train_pred=cqd.predict(X_trainA)\n",
    "y_test_pred=cqd.predict(X_test)\n",
    "\n",
    "print(classification_report(y_test, y_test_pred))\n",
    "print(confusion_matrix(y_test, y_test_pred))  # 각 행은 setosa, versicolor, virginica"
   ]
  },
  {
   "cell_type": "markdown",
   "metadata": {},
   "source": [
    "## Gaussian Naive Bayes"
   ]
  },
  {
   "cell_type": "code",
   "execution_count": 90,
   "metadata": {},
   "outputs": [
    {
     "name": "stdout",
     "output_type": "stream",
     "text": [
      "              precision    recall  f1-score   support\n",
      "\n",
      "           0       0.91      0.82      0.86      2299\n",
      "           1       0.55      0.73      0.63       701\n",
      "\n",
      "    accuracy                           0.80      3000\n",
      "   macro avg       0.73      0.77      0.75      3000\n",
      "weighted avg       0.83      0.80      0.81      3000\n",
      "\n",
      "[[1887  412]\n",
      " [ 190  511]]\n"
     ]
    }
   ],
   "source": [
    "# Gaussian Naive Bayes with raw\n",
    "from sklearn.naive_bayes import GaussianNB\n",
    "gnb=GaussianNB()\n",
    "gnb.fit(X_train, y_train)\n",
    "y_test_pred=gnb.predict(X_test)\n",
    "print(classification_report(y_test, y_test_pred))\n",
    "print(confusion_matrix(y_test, y_test_pred))  # 각 행은 setosa, versicolor, virginica"
   ]
  },
  {
   "cell_type": "code",
   "execution_count": 91,
   "metadata": {},
   "outputs": [
    {
     "name": "stdout",
     "output_type": "stream",
     "text": [
      "              precision    recall  f1-score   support\n",
      "\n",
      "           0       0.95      0.43      0.59      2299\n",
      "           1       0.33      0.93      0.49       701\n",
      "\n",
      "    accuracy                           0.55      3000\n",
      "   macro avg       0.64      0.68      0.54      3000\n",
      "weighted avg       0.81      0.55      0.57      3000\n",
      "\n",
      "[[ 990 1309]\n",
      " [  49  652]]\n"
     ]
    }
   ],
   "source": [
    "# Gaussian Naive Bayes with SMOTE\n",
    "from sklearn.naive_bayes import GaussianNB\n",
    "gnb=GaussianNB()\n",
    "gnb.fit(X_trainS, y_trainS)\n",
    "y_test_pred=gnb.predict(X_test)\n",
    "print(classification_report(y_test, y_test_pred))\n",
    "print(confusion_matrix(y_test, y_test_pred))  # 각 행은 setosa, versicolor, virginica"
   ]
  },
  {
   "cell_type": "code",
   "execution_count": 92,
   "metadata": {},
   "outputs": [
    {
     "name": "stdout",
     "output_type": "stream",
     "text": [
      "              precision    recall  f1-score   support\n",
      "\n",
      "           0       0.97      0.44      0.61      2299\n",
      "           1       0.34      0.95      0.50       701\n",
      "\n",
      "    accuracy                           0.56      3000\n",
      "   macro avg       0.66      0.70      0.56      3000\n",
      "weighted avg       0.82      0.56      0.58      3000\n",
      "\n",
      "[[1019 1280]\n",
      " [  32  669]]\n"
     ]
    }
   ],
   "source": [
    "# Gaussian Naive Bayes with ADASYN\n",
    "from sklearn.naive_bayes import GaussianNB\n",
    "gnb=GaussianNB()\n",
    "gnb.fit(X_trainA, y_trainA)\n",
    "y_test_pred=gnb.predict(X_test)\n",
    "print(classification_report(y_test, y_test_pred))\n",
    "print(confusion_matrix(y_test, y_test_pred))  # 각 행은 setosa, versicolor, virginica"
   ]
  },
  {
   "cell_type": "markdown",
   "metadata": {},
   "source": [
    "## CART with Salary"
   ]
  },
  {
   "cell_type": "code",
   "execution_count": 38,
   "metadata": {},
   "outputs": [],
   "source": [
    "# hr.info()\n",
    "# salary 추가\n",
    "from sklearn.model_selection import train_test_split\n",
    "X_train, X_test, y_train, y_test = train_test_split(hr.drop('left',axis=1), \n",
    "                                                        hr.left, test_size = 0.2, random_state = 0)"
   ]
  },
  {
   "cell_type": "code",
   "execution_count": 20,
   "metadata": {},
   "outputs": [
    {
     "name": "stderr",
     "output_type": "stream",
     "text": [
      "C:\\ProgramData\\Anaconda3\\lib\\site-packages\\sklearn\\utils\\deprecation.py:87: FutureWarning: Function safe_indexing is deprecated; safe_indexing is deprecated in version 0.22 and will be removed in version 0.24.\n",
      "  warnings.warn(msg, category=FutureWarning)\n",
      "C:\\ProgramData\\Anaconda3\\lib\\site-packages\\sklearn\\utils\\deprecation.py:87: FutureWarning: Function safe_indexing is deprecated; safe_indexing is deprecated in version 0.22 and will be removed in version 0.24.\n",
      "  warnings.warn(msg, category=FutureWarning)\n"
     ]
    }
   ],
   "source": [
    "from imblearn.over_sampling import SMOTE, ADASYN\n",
    "sm = SMOTE(random_state=42, kind='regular')\n",
    "X_trainS, y_trainS = sm.fit_sample(X_train, y_train)\n",
    "ada=ADASYN(random_state=0)\n",
    "X_trainA,y_trainA=ada.fit_sample(X_train,y_train)"
   ]
  },
  {
   "cell_type": "markdown",
   "metadata": {},
   "source": [
    "####  표준화하고 oversampling"
   ]
  },
  {
   "cell_type": "code",
   "execution_count": 21,
   "metadata": {},
   "outputs": [
    {
     "name": "stderr",
     "output_type": "stream",
     "text": [
      "C:\\ProgramData\\Anaconda3\\lib\\site-packages\\sklearn\\utils\\deprecation.py:87: FutureWarning: Function safe_indexing is deprecated; safe_indexing is deprecated in version 0.22 and will be removed in version 0.24.\n",
      "  warnings.warn(msg, category=FutureWarning)\n",
      "C:\\ProgramData\\Anaconda3\\lib\\site-packages\\sklearn\\utils\\deprecation.py:87: FutureWarning: Function safe_indexing is deprecated; safe_indexing is deprecated in version 0.22 and will be removed in version 0.24.\n",
      "  warnings.warn(msg, category=FutureWarning)\n"
     ]
    }
   ],
   "source": [
    "#표준화\n",
    "from sklearn.preprocessing import StandardScaler\n",
    "sc = StandardScaler()\n",
    "# raw\n",
    "sc.fit(X_train)\n",
    "X_train_std = sc.transform(X_train)\n",
    "X_test_std = sc.transform(X_test)\n",
    "# SMOTE\n",
    "sm = SMOTE(random_state=42, kind='regular')\n",
    "X_trainS_std, y_trainS = sm.fit_sample(X_train_std, y_train)\n",
    "ada=ADASYN(random_state=0)\n",
    "X_trainA_std,y_trainA=ada.fit_sample(X_train_std,y_train)"
   ]
  },
  {
   "cell_type": "markdown",
   "metadata": {},
   "source": [
    "####  표준화하기 전에 oversampling"
   ]
  },
  {
   "cell_type": "code",
   "execution_count": 19,
   "metadata": {},
   "outputs": [],
   "source": [
    "#표준화\n",
    "from sklearn.preprocessing import StandardScaler\n",
    "sc = StandardScaler()\n",
    "# raw\n",
    "sc.fit(X_train)\n",
    "X_train_std = sc.transform(X_train)\n",
    "X_test_std = sc.transform(X_test)\n",
    "# SMOTE\n",
    "sc.fit(X_train)\n",
    "X_trainS_std = sc.transform(X_trainS)\n",
    "X_testS_std = sc.transform(X_test_std)\n",
    "# SMOTE\n",
    "sc.fit(X_train)\n",
    "X_trainA_std = sc.transform(X_trainA)\n",
    "X_testA_std = sc.transform(X_test_std)"
   ]
  },
  {
   "cell_type": "code",
   "execution_count": 135,
   "metadata": {},
   "outputs": [
    {
     "data": {
      "text/plain": [
       "{'criterion': 'entropy',\n",
       " 'max_depth': 7,\n",
       " 'max_leaf_nodes': 20,\n",
       " 'min_samples_leaf': 10}"
      ]
     },
     "execution_count": 135,
     "metadata": {},
     "output_type": "execute_result"
    }
   ],
   "source": [
    "# GridSearchCV with std\n",
    "from sklearn import tree  \n",
    "dtc = tree.DecisionTreeClassifier(criterion='gini')\n",
    "depth = np.arange(1,21)\n",
    "param_grid = {'criterion':['gini','entropy'],'max_depth': depth,\n",
    "              'max_leaf_nodes':[10,20,50,100,300],'min_samples_leaf':[10,20,100,300]}\n",
    "dtc_gscv = GridSearchCV(dtc, param_grid, cv=5)\n",
    "#fit model to data\n",
    "dtc_gscv.fit(X_train_std, y_train)\n",
    "dtc_gscv.best_params_"
   ]
  },
  {
   "cell_type": "code",
   "execution_count": 22,
   "metadata": {},
   "outputs": [
    {
     "name": "stdout",
     "output_type": "stream",
     "text": [
      "              precision    recall  f1-score   support\n",
      "\n",
      "           0       0.98      1.00      0.99      2299\n",
      "           1       0.99      0.92      0.95       701\n",
      "\n",
      "    accuracy                           0.98      3000\n",
      "   macro avg       0.98      0.96      0.97      3000\n",
      "weighted avg       0.98      0.98      0.98      3000\n",
      "\n",
      "[[2290    9]\n",
      " [  57  644]]\n"
     ]
    }
   ],
   "source": [
    "# Classification Tree  with std\n",
    "from sklearn import tree  # 또는 #from sklearn import DecisionTreeClassifier\n",
    "dtc = tree.DecisionTreeClassifier(criterion='entropy', max_depth=7, \n",
    "                                  max_leaf_nodes=20,  min_samples_leaf=10, random_state=1)\n",
    "dtc.fit(X_train_std, y_train)\n",
    "y_train_pred = dtc.predict(X_train_std)  # Training accuracy\n",
    "y_test_pred = dtc.predict(X_test_std)    # Test accuracy\n",
    "\n",
    "# Accuracy score\n",
    "print(classification_report(y_test, y_test_pred))\n",
    "print(confusion_matrix(y_test, y_test_pred))  # 각 행은 setosa, versicolor, virginica"
   ]
  },
  {
   "cell_type": "code",
   "execution_count": 128,
   "metadata": {},
   "outputs": [
    {
     "data": {
      "text/plain": [
       "{'criterion': 'entropy',\n",
       " 'max_depth': 7,\n",
       " 'max_leaf_nodes': 20,\n",
       " 'min_samples_leaf': 10}"
      ]
     },
     "execution_count": 128,
     "metadata": {},
     "output_type": "execute_result"
    }
   ],
   "source": [
    "# GridSearchCV\n",
    "from sklearn import tree  \n",
    "dtc = tree.DecisionTreeClassifier(criterion='gini')\n",
    "depth = np.arange(1,21)\n",
    "param_grid = {'criterion':['gini','entropy'],'max_depth': depth,\n",
    "              'max_leaf_nodes':[10,20,50,100,300],'min_samples_leaf':[10,20,100,300]}\n",
    "dtc_gscv = GridSearchCV(dtc, param_grid, cv=5)\n",
    "#fit model to data\n",
    "dtc_gscv.fit(X_train, y_train)\n",
    "dtc_gscv.best_params_"
   ]
  },
  {
   "cell_type": "code",
   "execution_count": 39,
   "metadata": {},
   "outputs": [
    {
     "name": "stdout",
     "output_type": "stream",
     "text": [
      "              precision    recall  f1-score   support\n",
      "\n",
      "           0       0.98      1.00      0.99      2299\n",
      "           1       0.99      0.92      0.95       701\n",
      "\n",
      "    accuracy                           0.98      3000\n",
      "   macro avg       0.98      0.96      0.97      3000\n",
      "weighted avg       0.98      0.98      0.98      3000\n",
      "\n",
      "[[2290    9]\n",
      " [  57  644]]\n"
     ]
    }
   ],
   "source": [
    "# Classification Tree with raw\n",
    "from sklearn import tree  # 또는 #from sklearn import DecisionTreeClassifier\n",
    "dtc = tree.DecisionTreeClassifier(criterion='entropy', max_depth=7, \n",
    "                                  max_leaf_nodes=20,  min_samples_leaf=10, random_state=1)\n",
    "dtc.fit(X_train, y_train)\n",
    "y_train_pred = dtc.predict(X_train)  # Training accuracy\n",
    "y_test_pred = dtc.predict(X_test)    # Test accuracy\n",
    "\n",
    "# Accuracy score\n",
    "print(classification_report(y_test, y_test_pred))\n",
    "print(confusion_matrix(y_test, y_test_pred))  # 각 행은 setosa, versicolor, virginica"
   ]
  },
  {
   "cell_type": "code",
   "execution_count": 47,
   "metadata": {},
   "outputs": [
    {
     "data": {
      "image/png": "[encoded data removed]",
      "text/plain": [
       "<Figure size 1080x1080 with 1 Axes>"
      ]
     },
     "metadata": {
      "needs_background": "light"
     },
     "output_type": "display_data"
    }
   ],
   "source": [
    "plt.figure(figsize=(15,15))\n",
    "tree.plot_tree(dtc.fit(X_train,y_train))\n",
    "plt.show()"
   ]
  },
  {
   "cell_type": "code",
   "execution_count": 58,
   "metadata": {},
   "outputs": [
    {
     "ename": "InvocationException",
     "evalue": "GraphViz's executables not found",
     "output_type": "error",
     "traceback": [
      "\u001b[1;31m---------------------------------------------------------------------------\u001b[0m",
      "\u001b[1;31mInvocationException\u001b[0m                       Traceback (most recent call last)",
      "\u001b[1;32m<ipython-input-58-515eb1f582e9>\u001b[0m in \u001b[0;36m<module>\u001b[1;34m\u001b[0m\n\u001b[0;32m     14\u001b[0m \u001b[1;33m\u001b[0m\u001b[0m\n\u001b[0;32m     15\u001b[0m \u001b[1;32mfrom\u001b[0m \u001b[0mIPython\u001b[0m\u001b[1;33m.\u001b[0m\u001b[0mdisplay\u001b[0m \u001b[1;32mimport\u001b[0m \u001b[0mImage\u001b[0m\u001b[1;33m\u001b[0m\u001b[1;33m\u001b[0m\u001b[0m\n\u001b[1;32m---> 16\u001b[1;33m \u001b[0mImage\u001b[0m\u001b[1;33m(\u001b[0m\u001b[0mgraph\u001b[0m\u001b[1;33m.\u001b[0m\u001b[0mcreate_png\u001b[0m\u001b[1;33m(\u001b[0m\u001b[1;33m)\u001b[0m\u001b[1;33m)\u001b[0m   \u001b[1;31m# Console 창에 결과 그림 출력\u001b[0m\u001b[1;33m\u001b[0m\u001b[1;33m\u001b[0m\u001b[0m\n\u001b[0m",
      "\u001b[1;32mC:\\ProgramData\\Anaconda3\\lib\\site-packages\\pydotplus\\graphviz.py\u001b[0m in \u001b[0;36m<lambda>\u001b[1;34m(f, prog)\u001b[0m\n\u001b[0;32m   1795\u001b[0m             self.__setattr__(\n\u001b[0;32m   1796\u001b[0m                 \u001b[1;34m'create_'\u001b[0m \u001b[1;33m+\u001b[0m \u001b[0mfrmt\u001b[0m\u001b[1;33m,\u001b[0m\u001b[1;33m\u001b[0m\u001b[1;33m\u001b[0m\u001b[0m\n\u001b[1;32m-> 1797\u001b[1;33m                 \u001b[1;32mlambda\u001b[0m \u001b[0mf\u001b[0m\u001b[1;33m=\u001b[0m\u001b[0mfrmt\u001b[0m\u001b[1;33m,\u001b[0m \u001b[0mprog\u001b[0m\u001b[1;33m=\u001b[0m\u001b[0mself\u001b[0m\u001b[1;33m.\u001b[0m\u001b[0mprog\u001b[0m\u001b[1;33m:\u001b[0m \u001b[0mself\u001b[0m\u001b[1;33m.\u001b[0m\u001b[0mcreate\u001b[0m\u001b[1;33m(\u001b[0m\u001b[0mformat\u001b[0m\u001b[1;33m=\u001b[0m\u001b[0mf\u001b[0m\u001b[1;33m,\u001b[0m \u001b[0mprog\u001b[0m\u001b[1;33m=\u001b[0m\u001b[0mprog\u001b[0m\u001b[1;33m)\u001b[0m\u001b[1;33m\u001b[0m\u001b[1;33m\u001b[0m\u001b[0m\n\u001b[0m\u001b[0;32m   1798\u001b[0m             )\n\u001b[0;32m   1799\u001b[0m             \u001b[0mf\u001b[0m \u001b[1;33m=\u001b[0m \u001b[0mself\u001b[0m\u001b[1;33m.\u001b[0m\u001b[0m__dict__\u001b[0m\u001b[1;33m[\u001b[0m\u001b[1;34m'create_'\u001b[0m \u001b[1;33m+\u001b[0m \u001b[0mfrmt\u001b[0m\u001b[1;33m]\u001b[0m\u001b[1;33m\u001b[0m\u001b[1;33m\u001b[0m\u001b[0m\n",
      "\u001b[1;32mC:\\ProgramData\\Anaconda3\\lib\\site-packages\\pydotplus\\graphviz.py\u001b[0m in \u001b[0;36mcreate\u001b[1;34m(self, prog, format)\u001b[0m\n\u001b[0;32m   1958\u001b[0m             \u001b[1;32mif\u001b[0m \u001b[0mself\u001b[0m\u001b[1;33m.\u001b[0m\u001b[0mprogs\u001b[0m \u001b[1;32mis\u001b[0m \u001b[1;32mNone\u001b[0m\u001b[1;33m:\u001b[0m\u001b[1;33m\u001b[0m\u001b[1;33m\u001b[0m\u001b[0m\n\u001b[0;32m   1959\u001b[0m                 raise InvocationException(\n\u001b[1;32m-> 1960\u001b[1;33m                     'GraphViz\\'s executables not found')\n\u001b[0m\u001b[0;32m   1961\u001b[0m \u001b[1;33m\u001b[0m\u001b[0m\n\u001b[0;32m   1962\u001b[0m         \u001b[1;32mif\u001b[0m \u001b[0mprog\u001b[0m \u001b[1;32mnot\u001b[0m \u001b[1;32min\u001b[0m \u001b[0mself\u001b[0m\u001b[1;33m.\u001b[0m\u001b[0mprogs\u001b[0m\u001b[1;33m:\u001b[0m\u001b[1;33m\u001b[0m\u001b[1;33m\u001b[0m\u001b[0m\n",
      "\u001b[1;31mInvocationException\u001b[0m: GraphViz's executables not found"
     ]
    }
   ],
   "source": [
    "# Graphic\n",
    "# pip in\n",
    "from pydotplus import graph_from_dot_data  # \"pydotplus\"는 따로 설치해야 함.\n",
    "from sklearn.tree import export_graphviz\n",
    "#import graphviz\n",
    "feature2= ['satisfaction','evaluation','Nproject','avgMonthlyhrs','yrsAtCompany','workAccident','promotion','salary'] # inplace=True)\n",
    "\n",
    "dot_data = export_graphviz(dtc, filled=True, rounded=True,\n",
    "                           class_names=['left', 'not left'], \n",
    "                           feature_names=feature2,\n",
    "                           out_file=None)\n",
    "graph = graph_from_dot_data(dot_data)\n",
    "\n",
    "\n",
    "from IPython.display import Image \n",
    "Image(graph.create_png())   # Console 창에 결과 그림 출력"
   ]
  },
  {
   "cell_type": "code",
   "execution_count": 154,
   "metadata": {},
   "outputs": [
    {
     "data": {
      "text/plain": [
       "{'criterion': 'gini',\n",
       " 'max_depth': 19,\n",
       " 'max_leaf_nodes': 300,\n",
       " 'min_samples_leaf': 10}"
      ]
     },
     "execution_count": 154,
     "metadata": {},
     "output_type": "execute_result"
    }
   ],
   "source": [
    "# GridSearchCV SMOTE std\n",
    "from sklearn import tree  \n",
    "dtc = tree.DecisionTreeClassifier(criterion='gini')\n",
    "depth = np.arange(1,21)\n",
    "param_grid = {'criterion':['gini','entropy'],'max_depth': depth,\n",
    "              'max_leaf_nodes':[10,20,50,100,300],'min_samples_leaf':[10,20,100,300]}\n",
    "dtc_gscv = GridSearchCV(dtc, param_grid, cv=5)\n",
    "#fit model to data\n",
    "dtc_gscv.fit(X_trainS_std, y_trainS)\n",
    "dtc_gscv.best_params_"
   ]
  },
  {
   "cell_type": "code",
   "execution_count": 25,
   "metadata": {},
   "outputs": [
    {
     "name": "stdout",
     "output_type": "stream",
     "text": [
      "              precision    recall  f1-score   support\n",
      "\n",
      "           0       0.98      0.98      0.98      2299\n",
      "           1       0.92      0.95      0.93       701\n",
      "\n",
      "    accuracy                           0.97      3000\n",
      "   macro avg       0.95      0.96      0.96      3000\n",
      "weighted avg       0.97      0.97      0.97      3000\n",
      "\n",
      "[[2242   57]\n",
      " [  36  665]]\n"
     ]
    }
   ],
   "source": [
    "# Classification Tree with SMOTE with  std\n",
    "from sklearn import tree  # 또는 #from sklearn import DecisionTreeClassifier\n",
    "dtc = tree.DecisionTreeClassifier(criterion='entropy', max_depth=20, \n",
    "                                  max_leaf_nodes=300,  min_samples_leaf=10, random_state=1)\n",
    "dtc.fit(X_trainS_std, y_trainS)\n",
    "y_train_pred = dtc.predict(X_trainS_std)  # Training accuracy\n",
    "y_test_pred = dtc.predict(X_test_std)    # Test accuracy\n",
    "\n",
    "# Accuracy score\n",
    "print(classification_report(y_test, y_test_pred))\n",
    "print(confusion_matrix(y_test, y_test_pred))  # 각 행은 setosa, versicolor, virginica"
   ]
  },
  {
   "cell_type": "code",
   "execution_count": 141,
   "metadata": {},
   "outputs": [
    {
     "data": {
      "text/plain": [
       "{'criterion': 'entropy',\n",
       " 'max_depth': 17,\n",
       " 'max_leaf_nodes': 300,\n",
       " 'min_samples_leaf': 10}"
      ]
     },
     "execution_count": 141,
     "metadata": {},
     "output_type": "execute_result"
    }
   ],
   "source": [
    "# GridSearchCV SMOTE\n",
    "from sklearn import tree  \n",
    "dtc = tree.DecisionTreeClassifier(criterion='gini')\n",
    "depth = np.arange(1,21)\n",
    "param_grid = {'criterion':['gini','entropy'],'max_depth': depth,\n",
    "              'max_leaf_nodes':[10,20,50,100,300],'min_samples_leaf':[10,20,100,300]}\n",
    "dtc_gscv = GridSearchCV(dtc, param_grid, cv=5)\n",
    "#fit model to data\n",
    "dtc_gscv.fit(X_trainS, y_trainS)\n",
    "dtc_gscv.best_params_"
   ]
  },
  {
   "cell_type": "code",
   "execution_count": 143,
   "metadata": {},
   "outputs": [
    {
     "name": "stdout",
     "output_type": "stream",
     "text": [
      "              precision    recall  f1-score   support\n",
      "\n",
      "           0       0.98      0.98      0.98      2299\n",
      "           1       0.95      0.94      0.94       701\n",
      "\n",
      "    accuracy                           0.97      3000\n",
      "   macro avg       0.96      0.96      0.96      3000\n",
      "weighted avg       0.97      0.97      0.97      3000\n",
      "\n",
      "[[2261   38]\n",
      " [  41  660]]\n"
     ]
    }
   ],
   "source": [
    "# Classification Tree with  SMOTE  with  raw\n",
    "from sklearn import tree  # 또는 #from sklearn import DecisionTreeClassifier\n",
    "dtc = tree.DecisionTreeClassifier(criterion='entropy', max_depth=17, \n",
    "                                  max_leaf_nodes=300,  min_samples_leaf=10, random_state=1)\n",
    "dtc.fit(X_trainS, y_trainS)\n",
    "y_train_pred = dtc.predict(X_trainS)  # Training accuracy\n",
    "y_test_pred = dtc.predict(X_test)    # Test accuracy\n",
    "\n",
    "# Accuracy score\n",
    "print(classification_report(y_test, y_test_pred))\n",
    "print(confusion_matrix(y_test, y_test_pred))  # 각 행은 setosa, versicolor, virginica"
   ]
  },
  {
   "cell_type": "code",
   "execution_count": 9,
   "metadata": {},
   "outputs": [
    {
     "data": {
      "text/plain": [
       "{'criterion': 'entropy',\n",
       " 'max_depth': 20,\n",
       " 'max_leaf_nodes': 300,\n",
       " 'min_samples_leaf': 10}"
      ]
     },
     "execution_count": 9,
     "metadata": {},
     "output_type": "execute_result"
    }
   ],
   "source": [
    "# GridSearchCV ADASYN with std\n",
    "from sklearn import tree  \n",
    "dtc = tree.DecisionTreeClassifier(criterion='gini')\n",
    "depth = np.arange(1,21)\n",
    "param_grid = {'criterion':['gini','entropy'],'max_depth': depth,\n",
    "              'max_leaf_nodes':[10,20,50,100,300],'min_samples_leaf':[10,20,100,300]}\n",
    "dtc_gscv = GridSearchCV(dtc, param_grid, cv=5)\n",
    "#fit model to data\n",
    "dtc_gscv.fit(X_trainA_std, y_trainA)\n",
    "dtc_gscv.best_params_"
   ]
  },
  {
   "cell_type": "code",
   "execution_count": 24,
   "metadata": {},
   "outputs": [
    {
     "name": "stdout",
     "output_type": "stream",
     "text": [
      "              precision    recall  f1-score   support\n",
      "\n",
      "           0       0.99      0.96      0.98      2299\n",
      "           1       0.89      0.97      0.92       701\n",
      "\n",
      "    accuracy                           0.96      3000\n",
      "   macro avg       0.94      0.96      0.95      3000\n",
      "weighted avg       0.97      0.96      0.96      3000\n",
      "\n",
      "[[2213   86]\n",
      " [  24  677]]\n"
     ]
    }
   ],
   "source": [
    "# Classification Tree with  ADASYN  with  std\n",
    "from sklearn import tree  # 또는 #from sklearn import DecisionTreeClassifier\n",
    "dtc = tree.DecisionTreeClassifier(criterion='entropy', max_depth=20, \n",
    "                                  max_leaf_nodes=300,  min_samples_leaf=10, random_state=1)\n",
    "dtc.fit(X_trainA_std, y_trainA)\n",
    "y_train_pred = dtc.predict(X_trainA_std)  # Training accuracy\n",
    "y_test_pred = dtc.predict(X_test_std)    # Test accuracy\n",
    "\n",
    "# Accuracy score\n",
    "print(classification_report(y_test, y_test_pred))\n",
    "print(confusion_matrix(y_test, y_test_pred))  # 각 행은 setosa, versicolor, virginica"
   ]
  },
  {
   "cell_type": "code",
   "execution_count": 149,
   "metadata": {},
   "outputs": [
    {
     "data": {
      "text/plain": [
       "{'criterion': 'entropy',\n",
       " 'max_depth': 20,\n",
       " 'max_leaf_nodes': 300,\n",
       " 'min_samples_leaf': 10}"
      ]
     },
     "execution_count": 149,
     "metadata": {},
     "output_type": "execute_result"
    }
   ],
   "source": [
    "# GridSearchCV ADASYN with raw\n",
    "from sklearn import tree  \n",
    "dtc = tree.DecisionTreeClassifier(criterion='gini')\n",
    "depth = np.arange(1,21)\n",
    "param_grid = {'criterion':['gini','entropy'],'max_depth': depth,\n",
    "              'max_leaf_nodes':[10,20,50,100,300],'min_samples_leaf':[10,20,100,300]}\n",
    "dtc_gscv = GridSearchCV(dtc, param_grid, cv=5)\n",
    "#fit model to data\n",
    "dtc_gscv.fit(X_trainA, y_trainA)\n",
    "dtc_gscv.best_params_"
   ]
  },
  {
   "cell_type": "code",
   "execution_count": 150,
   "metadata": {},
   "outputs": [
    {
     "name": "stdout",
     "output_type": "stream",
     "text": [
      "              precision    recall  f1-score   support\n",
      "\n",
      "           0       0.99      0.96      0.97      2299\n",
      "           1       0.88      0.96      0.92       701\n",
      "\n",
      "    accuracy                           0.96      3000\n",
      "   macro avg       0.93      0.96      0.94      3000\n",
      "weighted avg       0.96      0.96      0.96      3000\n",
      "\n",
      "[[2205   94]\n",
      " [  30  671]]\n"
     ]
    }
   ],
   "source": [
    "# Classification Tree with  ADASYN  with  raw\n",
    "from sklearn import tree  # 또는 #from sklearn import DecisionTreeClassifier\n",
    "dtc = tree.DecisionTreeClassifier(criterion='entropy', max_depth=20, \n",
    "                                  max_leaf_nodes=300,  min_samples_leaf=10, random_state=1)\n",
    "dtc.fit(X_trainA, y_trainA)\n",
    "y_train_pred = dtc.predict(X_trainA)  # Training accuracy\n",
    "y_test_pred = dtc.predict(X_test)    # Test accuracy\n",
    "\n",
    "# Accuracy score\n",
    "print(classification_report(y_test, y_test_pred))\n",
    "print(confusion_matrix(y_test, y_test_pred))  # 각 행은 setosa, versicolor, virginica"
   ]
  },
  {
   "cell_type": "markdown",
   "metadata": {},
   "source": [
    "## SVM  with salary (one-hot encoding)"
   ]
  },
  {
   "cell_type": "markdown",
   "metadata": {},
   "source": [
    "### One hot encoding with 5000 data"
   ]
  },
  {
   "cell_type": "code",
   "execution_count": null,
   "metadata": {},
   "outputs": [],
   "source": [
    "#hr=pd.read_csv(\"I:/내 드라이브/대학원/고급통계적머신러닝/보고서/new_hr.csv\",engine='python')\n",
    "#hr = hr.drop('sales',axis=1)\n",
    "#hr.columns = ['satisfaction','evaluation','Nproject','avgMonthlyhrs','yrsAtCompany','workAccident','left','promotion','salary'] # inplace=True)\n",
    "\n",
    "# salary 바꿈\n",
    "#hr.salary, uniques = pd.factorize(hr.salary)\n",
    "#hr.info()"
   ]
  },
  {
   "cell_type": "code",
   "execution_count": 18,
   "metadata": {},
   "outputs": [],
   "source": [
    "from sklearn.preprocessing import LabelEncoder,OneHotEncoder\n",
    "#n_columns=['Customers','Open','Promo','Promo2','StateHoliday','SchoolHoliday','CompetitionDistance']\n",
    "categ_columns=['salary']"
   ]
  },
  {
   "cell_type": "code",
   "execution_count": 19,
   "metadata": {},
   "outputs": [],
   "source": [
    "def dummy(data,col):\n",
    "   lab=LabelEncoder() #0~c-1로 클래스 부여\n",
    "   aa=lab.fit_transform(data[col]).reshape(-1,1)\n",
    "   ohe=OneHotEncoder(sparse=False)\n",
    "   column_names=[col+'_'+ str(i) for i in lab.classes_]\n",
    "   return(pd.DataFrame(ohe.fit_transform(aa),columns=column_names))"
   ]
  },
  {
   "cell_type": "code",
   "execution_count": 20,
   "metadata": {},
   "outputs": [
    {
     "data": {
      "text/html": [
       "<div>\n",
       "<style scoped>\n",
       "    .dataframe tbody tr th:only-of-type {\n",
       "        vertical-align: middle;\n",
       "    }\n",
       "\n",
       "    .dataframe tbody tr th {\n",
       "        vertical-align: top;\n",
       "    }\n",
       "\n",
       "    .dataframe thead th {\n",
       "        text-align: right;\n",
       "    }\n",
       "</style>\n",
       "<table border=\"1\" class=\"dataframe\">\n",
       "  <thead>\n",
       "    <tr style=\"text-align: right;\">\n",
       "      <th></th>\n",
       "      <th>satisfaction</th>\n",
       "      <th>evaluation</th>\n",
       "      <th>Nproject</th>\n",
       "      <th>avgMonthlyhrs</th>\n",
       "      <th>yrsAtCompany</th>\n",
       "      <th>workAccident</th>\n",
       "      <th>left</th>\n",
       "      <th>promotion</th>\n",
       "      <th>salary_0</th>\n",
       "      <th>salary_1</th>\n",
       "      <th>salary_2</th>\n",
       "    </tr>\n",
       "  </thead>\n",
       "  <tbody>\n",
       "    <tr>\n",
       "      <th>0</th>\n",
       "      <td>0.38</td>\n",
       "      <td>0.53</td>\n",
       "      <td>2</td>\n",
       "      <td>157</td>\n",
       "      <td>3</td>\n",
       "      <td>0</td>\n",
       "      <td>1</td>\n",
       "      <td>0</td>\n",
       "      <td>1.0</td>\n",
       "      <td>0.0</td>\n",
       "      <td>0.0</td>\n",
       "    </tr>\n",
       "    <tr>\n",
       "      <th>1</th>\n",
       "      <td>0.80</td>\n",
       "      <td>0.86</td>\n",
       "      <td>5</td>\n",
       "      <td>262</td>\n",
       "      <td>6</td>\n",
       "      <td>0</td>\n",
       "      <td>1</td>\n",
       "      <td>0</td>\n",
       "      <td>0.0</td>\n",
       "      <td>1.0</td>\n",
       "      <td>0.0</td>\n",
       "    </tr>\n",
       "    <tr>\n",
       "      <th>2</th>\n",
       "      <td>0.11</td>\n",
       "      <td>0.88</td>\n",
       "      <td>7</td>\n",
       "      <td>272</td>\n",
       "      <td>4</td>\n",
       "      <td>0</td>\n",
       "      <td>1</td>\n",
       "      <td>0</td>\n",
       "      <td>0.0</td>\n",
       "      <td>1.0</td>\n",
       "      <td>0.0</td>\n",
       "    </tr>\n",
       "    <tr>\n",
       "      <th>3</th>\n",
       "      <td>0.72</td>\n",
       "      <td>0.87</td>\n",
       "      <td>5</td>\n",
       "      <td>223</td>\n",
       "      <td>5</td>\n",
       "      <td>0</td>\n",
       "      <td>1</td>\n",
       "      <td>0</td>\n",
       "      <td>1.0</td>\n",
       "      <td>0.0</td>\n",
       "      <td>0.0</td>\n",
       "    </tr>\n",
       "    <tr>\n",
       "      <th>4</th>\n",
       "      <td>0.37</td>\n",
       "      <td>0.52</td>\n",
       "      <td>2</td>\n",
       "      <td>159</td>\n",
       "      <td>3</td>\n",
       "      <td>0</td>\n",
       "      <td>1</td>\n",
       "      <td>0</td>\n",
       "      <td>1.0</td>\n",
       "      <td>0.0</td>\n",
       "      <td>0.0</td>\n",
       "    </tr>\n",
       "  </tbody>\n",
       "</table>\n",
       "</div>"
      ],
      "text/plain": [
       "   satisfaction  evaluation  Nproject  avgMonthlyhrs  yrsAtCompany  \\\n",
       "0          0.38        0.53         2            157             3   \n",
       "1          0.80        0.86         5            262             6   \n",
       "2          0.11        0.88         7            272             4   \n",
       "3          0.72        0.87         5            223             5   \n",
       "4          0.37        0.52         2            159             3   \n",
       "\n",
       "   workAccident  left  promotion  salary_0  salary_1  salary_2  \n",
       "0             0     1          0       1.0       0.0       0.0  \n",
       "1             0     1          0       0.0       1.0       0.0  \n",
       "2             0     1          0       0.0       1.0       0.0  \n",
       "3             0     1          0       1.0       0.0       0.0  \n",
       "4             0     1          0       1.0       0.0       0.0  "
      ]
     },
     "execution_count": 20,
     "metadata": {},
     "output_type": "execute_result"
    }
   ],
   "source": [
    "fdata=hr.drop('salary',axis=1)\n",
    "for column in categ_columns:\n",
    "    temp_df=dummy(hr,column)\n",
    "    fdata=pd.concat([fdata,temp_df],axis=1)\n",
    "fdata.head()"
   ]
  },
  {
   "cell_type": "code",
   "execution_count": 27,
   "metadata": {},
   "outputs": [
    {
     "data": {
      "text/plain": [
       "(5000, 11)"
      ]
     },
     "execution_count": 27,
     "metadata": {},
     "output_type": "execute_result"
    }
   ],
   "source": [
    "# 너무 오래걸려서 데이터 5천개로 진행\n",
    "fdata=fdata.sample(n=5000,replace=\"False\")\n",
    "fdata.shape"
   ]
  },
  {
   "cell_type": "code",
   "execution_count": 6,
   "metadata": {},
   "outputs": [],
   "source": [
    "# fdata 이용. one-hot-encoding한 salary 추가\n",
    "from sklearn.model_selection import train_test_split\n",
    "X_train, X_test, y_train, y_test = train_test_split(fdata.drop('left',axis=1), \n",
    "                                                        fdata.left, test_size = 0.2, random_state = 0)"
   ]
  },
  {
   "cell_type": "code",
   "execution_count": 30,
   "metadata": {},
   "outputs": [
    {
     "name": "stderr",
     "output_type": "stream",
     "text": [
      "C:\\ProgramData\\Anaconda3\\lib\\site-packages\\sklearn\\utils\\deprecation.py:87: FutureWarning: Function safe_indexing is deprecated; safe_indexing is deprecated in version 0.22 and will be removed in version 0.24.\n",
      "  warnings.warn(msg, category=FutureWarning)\n",
      "C:\\ProgramData\\Anaconda3\\lib\\site-packages\\sklearn\\utils\\deprecation.py:87: FutureWarning: Function safe_indexing is deprecated; safe_indexing is deprecated in version 0.22 and will be removed in version 0.24.\n",
      "  warnings.warn(msg, category=FutureWarning)\n"
     ]
    }
   ],
   "source": [
    "# SMOTE\n",
    "sm = SMOTE(random_state=42, kind='regular')\n",
    "X_trainS, y_trainS = sm.fit_sample(X_train, y_train)\n",
    "ada=ADASYN(random_state=0)\n",
    "X_trainA,y_trainA=ada.fit_sample(X_train,y_train)"
   ]
  },
  {
   "cell_type": "markdown",
   "metadata": {},
   "source": [
    "### SVM"
   ]
  },
  {
   "cell_type": "code",
   "execution_count": null,
   "metadata": {},
   "outputs": [],
   "source": [
    "# gridSearchCv\n",
    "from sklearn.model_selection import GridSearchCV\n",
    "from sklearn.svm import SVC\n",
    "#param_grid={'C':[1e3,5e3,1e4,5e4,1e5]},\n",
    "#            'gamma':[0.0001,0.0005,0.001,0.005,0.01,0.1]}\n",
    "param_grid={'C':[5e3,1e4,1e3],}\n",
    "            #'gamma':[0.0005,0.001, 0.01]}\n",
    "#위에 있는 조합중에 가장 좋은걸로 찾아서 넣어줌. param_grid에서.\n",
    "clf=GridSearchCV(SVC(kernel='linear'), param_grid, cv=5)   \n",
    "\n",
    "clf.fit(X_train,y_train)\n",
    "##  프로그램 실행시 약 1분정도 시간 소요됨."
   ]
  },
  {
   "cell_type": "markdown",
   "metadata": {},
   "source": [
    "### with raw"
   ]
  },
  {
   "cell_type": "code",
   "execution_count": 175,
   "metadata": {},
   "outputs": [
    {
     "name": "stdout",
     "output_type": "stream",
     "text": [
      "              precision    recall  f1-score   support\n",
      "\n",
      "           0       0.80      0.94      0.86      2299\n",
      "           1       0.54      0.25      0.34       701\n",
      "\n",
      "    accuracy                           0.78      3000\n",
      "   macro avg       0.67      0.59      0.60      3000\n",
      "weighted avg       0.74      0.78      0.74      3000\n",
      "\n",
      "[[2150  149]\n",
      " [ 524  177]]\n"
     ]
    }
   ],
   "source": [
    "## SVM\n",
    "from sklearn.svm import SVC #SVM함수의 호출\n",
    "svm=SVC(kernel='linear',C=1.0,random_state=1)\n",
    "svm.fit(X_train,y_train) #SVM추정\n",
    "y_train_pred=svm.predict(X_train) #train set의 y 예측치 구하기\n",
    "y_test_pred=svm.predict(X_test)  #test set의 y예측치 구하기\n",
    "\n",
    "print(classification_report(y_test, y_test_pred))\n",
    "print(confusion_matrix(y_test, y_test_pred))"
   ]
  },
  {
   "cell_type": "code",
   "execution_count": 8,
   "metadata": {},
   "outputs": [
    {
     "name": "stdout",
     "output_type": "stream",
     "text": [
      "              precision    recall  f1-score   support\n",
      "\n",
      "           0       0.86      0.88      0.87      2299\n",
      "           1       0.58      0.53      0.55       701\n",
      "\n",
      "    accuracy                           0.80      3000\n",
      "   macro avg       0.72      0.71      0.71      3000\n",
      "weighted avg       0.79      0.80      0.80      3000\n",
      "\n",
      "[[2031  268]\n",
      " [ 330  371]]\n"
     ]
    }
   ],
   "source": [
    "## SVM\n",
    "from sklearn.svm import SVC #SVM함수의 호출\n",
    "svm=SVC(kernel='linear',C=1000,random_state=1)\n",
    "svm.fit(X_train,y_train) #SVM추정\n",
    "y_train_pred=svm.predict(X_train) #train set의 y 예측치 구하기\n",
    "y_test_pred=svm.predict(X_test)  #test set의 y예측치 구하기\n",
    "\n",
    "print(classification_report(y_test, y_test_pred))\n",
    "print(confusion_matrix(y_test, y_test_pred))"
   ]
  },
  {
   "cell_type": "code",
   "execution_count": null,
   "metadata": {},
   "outputs": [],
   "source": [
    "## SVM\n",
    "from sklearn.svm import SVC #SVM함수의 호출\n",
    "svm=SVC(kernel='linear',C=5000,random_state=1)\n",
    "svm.fit(X_train,y_train) #SVM추정\n",
    "y_train_pred=svm.predict(X_train) #train set의 y 예측치 구하기\n",
    "y_test_pred=svm.predict(X_test)  #test set의 y예측치 구하기\n",
    "\n",
    "print(classification_report(y_test, y_test_pred))\n",
    "print(confusion_matrix(y_test, y_test_pred))"
   ]
  },
  {
   "cell_type": "markdown",
   "metadata": {},
   "source": [
    "### with SMOTE"
   ]
  },
  {
   "cell_type": "code",
   "execution_count": 9,
   "metadata": {
    "scrolled": true
   },
   "outputs": [
    {
     "name": "stdout",
     "output_type": "stream",
     "text": [
      "              precision    recall  f1-score   support\n",
      "\n",
      "           0       0.95      0.77      0.85       755\n",
      "           1       0.55      0.89      0.68       245\n",
      "\n",
      "    accuracy                           0.80      1000\n",
      "   macro avg       0.75      0.83      0.77      1000\n",
      "weighted avg       0.86      0.80      0.81      1000\n",
      "\n",
      "[[580 175]\n",
      " [ 28 217]]\n"
     ]
    }
   ],
   "source": [
    "## 1 SVM with SMOTE \n",
    "from sklearn.svm import SVC #SVM함수의 호출\n",
    "svm=SVC(kernel='linear',C=1.0,random_state=1)\n",
    "svm.fit(X_trainS,y_trainS) #SVM추정\n",
    "y_train_pred=svm.predict(X_trainS) #train set의 y 예측치 구하기\n",
    "y_test_pred=svm.predict(X_test)  #test set의 y예측치 구하기\n",
    "\n",
    "print(classification_report(y_test, y_test_pred))\n",
    "print(confusion_matrix(y_test, y_test_pred))"
   ]
  },
  {
   "cell_type": "code",
   "execution_count": 9,
   "metadata": {},
   "outputs": [
    {
     "name": "stdout",
     "output_type": "stream",
     "text": [
      "              precision    recall  f1-score   support\n",
      "\n",
      "           0       0.93      0.73      0.82       736\n",
      "           1       0.53      0.85      0.65       264\n",
      "\n",
      "    accuracy                           0.76      1000\n",
      "   macro avg       0.73      0.79      0.74      1000\n",
      "weighted avg       0.82      0.76      0.77      1000\n",
      "\n",
      "[[537 199]\n",
      " [ 40 224]]\n"
     ]
    }
   ],
   "source": [
    "## 100 SVM with SMOTE\n",
    "from sklearn.svm import SVC #SVM함수의 호출\n",
    "svm=SVC(kernel='linear',C=100.0,random_state=1)\n",
    "svm.fit(X_trainS,y_trainS) #SVM추정\n",
    "y_train_pred=svm.predict(X_trainS) #train set의 y 예측치 구하기\n",
    "y_test_pred=svm.predict(X_test)  #test set의 y예측치 구하기\n",
    "\n",
    "print(classification_report(y_test, y_test_pred))\n",
    "print(confusion_matrix(y_test, y_test_pred))"
   ]
  },
  {
   "cell_type": "code",
   "execution_count": null,
   "metadata": {},
   "outputs": [],
   "source": [
    "## 500 SVM with SMOTE\n",
    "from sklearn.svm import SVC #SVM함수의 호출\n",
    "svm=SVC(kernel='linear',C=500,random_state=1)\n",
    "svm.fit(X_trainS,y_trainS) #SVM추정\n",
    "y_train_pred=svm.predict(X_trainS) #train set의 y 예측치 구하기\n",
    "y_test_pred=svm.predict(X_test)  #test set의 y예측치 구하기\n",
    "\n",
    "print(classification_report(y_test, y_test_pred))\n",
    "print(confusion_matrix(y_test, y_test_pred))"
   ]
  },
  {
   "cell_type": "code",
   "execution_count": 9,
   "metadata": {
    "scrolled": true
   },
   "outputs": [
    {
     "name": "stdout",
     "output_type": "stream",
     "text": [
      "              precision    recall  f1-score   support\n",
      "\n",
      "           0       0.92      0.74      0.82       757\n",
      "           1       0.49      0.80      0.61       243\n",
      "\n",
      "    accuracy                           0.75      1000\n",
      "   macro avg       0.71      0.77      0.71      1000\n",
      "weighted avg       0.82      0.75      0.77      1000\n",
      "\n",
      "[[558 199]\n",
      " [ 49 194]]\n"
     ]
    }
   ],
   "source": [
    "## 1000 SVM with SMOTE\n",
    "from sklearn.svm import SVC #SVM함수의 호출\n",
    "svm=SVC(kernel='linear',C=1000,random_state=1)\n",
    "svm.fit(X_trainS,y_trainS) #SVM추정\n",
    "y_train_pred=svm.predict(X_trainS) #train set의 y 예측치 구하기\n",
    "y_test_pred=svm.predict(X_test)  #test set의 y예측치 구하기\n",
    "\n",
    "print(classification_report(y_test, y_test_pred))\n",
    "print(confusion_matrix(y_test, y_test_pred))"
   ]
  },
  {
   "cell_type": "code",
   "execution_count": 32,
   "metadata": {},
   "outputs": [
    {
     "name": "stdout",
     "output_type": "stream",
     "text": [
      "[   7    9   11 ... 6098 6099 6107]\n",
      "[1148 1149]\n"
     ]
    }
   ],
   "source": [
    "print(svm.support_)\n",
    "print(svm.n_support_)"
   ]
  },
  {
   "cell_type": "code",
   "execution_count": null,
   "metadata": {},
   "outputs": [],
   "source": [
    "## 5000 SVM with SMOTE\n",
    "from sklearn.svm import SVC #SVM함수의 호출\n",
    "svm=SVC(kernel='linear',C=5000,random_state=1)\n",
    "svm.fit(X_trainS,y_trainS) #SVM추정\n",
    "y_train_pred=svm.predict(X_trainS) #train set의 y 예측치 구하기\n",
    "y_test_pred=svm.predict(X_test)  #test set의 y예측치 구하기\n",
    "\n",
    "print(classification_report(y_test, y_test_pred))\n",
    "print(confusion_matrix(y_test, y_test_pred))"
   ]
  },
  {
   "cell_type": "markdown",
   "metadata": {},
   "source": [
    "### with ADASYN"
   ]
  },
  {
   "cell_type": "code",
   "execution_count": null,
   "metadata": {},
   "outputs": [],
   "source": [
    "## 1 SVM with ADASYN \n",
    "from sklearn.svm import SVC #SVM함수의 호출\n",
    "svm=SVC(kernel='linear',C=1.0,random_state=1)\n",
    "svm.fit(X_trainA,y_trainA) #SVM추정\n",
    "y_train_pred=svm.predict(X_trainA) #train set의 y 예측치 구하기\n",
    "y_test_pred=svm.predict(X_test)  #test set의 y예측치 구하기\n",
    "\n",
    "print(classification_report(y_test, y_test_pred))\n",
    "print(confusion_matrix(y_test, y_test_pred))"
   ]
  },
  {
   "cell_type": "code",
   "execution_count": null,
   "metadata": {},
   "outputs": [],
   "source": [
    "## 100 SVM with ADASYN \n",
    "from sklearn.svm import SVC #SVM함수의 호출\n",
    "svm=SVC(kernel='linear',C=100,random_state=1)\n",
    "svm.fit(X_trainA,y_trainA) #SVM추정\n",
    "y_train_pred=svm.predict(X_trainA) #train set의 y 예측치 구하기\n",
    "y_test_pred=svm.predict(X_test)  #test set의 y예측치 구하기\n",
    "\n",
    "print(classification_report(y_test, y_test_pred))\n",
    "print(confusion_matrix(y_test, y_test_pred))"
   ]
  },
  {
   "cell_type": "code",
   "execution_count": null,
   "metadata": {},
   "outputs": [],
   "source": [
    "## 500 SVM with ADASYN \n",
    "from sklearn.svm import SVC #SVM함수의 호출\n",
    "svm=SVC(kernel='linear',C=500,random_state=1)\n",
    "svm.fit(X_trainA,y_trainA) #SVM추정\n",
    "y_train_pred=svm.predict(X_trainA) #train set의 y 예측치 구하기\n",
    "y_test_pred=svm.predict(X_test)  #test set의 y예측치 구하기\n",
    "\n",
    "print(classification_report(y_test, y_test_pred))\n",
    "print(confusion_matrix(y_test, y_test_pred))"
   ]
  },
  {
   "cell_type": "code",
   "execution_count": null,
   "metadata": {},
   "outputs": [],
   "source": [
    "## 1000 SVM with ADASYN \n",
    "from sklearn.svm import SVC #SVM함수의 호출\n",
    "svm=SVC(kernel='linear',C=1000,random_state=1)\n",
    "svm.fit(X_trainA,y_trainA) #SVM추정\n",
    "y_train_pred=svm.predict(X_trainA) #train set의 y 예측치 구하기\n",
    "y_test_pred=svm.predict(X_test)  #test set의 y예측치 구하기\n",
    "\n",
    "print(classification_report(y_test, y_test_pred))\n",
    "print(confusion_matrix(y_test, y_test_pred))"
   ]
  },
  {
   "cell_type": "code",
   "execution_count": null,
   "metadata": {},
   "outputs": [],
   "source": [
    "## 5000 SVM with ADASYN \n",
    "from sklearn.svm import SVC #SVM함수의 호출\n",
    "svm=SVC(kernel='linear',C=5000,random_state=1)\n",
    "svm.fit(X_trainA,y_trainA) #SVM추정\n",
    "y_train_pred=svm.predict(X_trainA) #train set의 y 예측치 구하기\n",
    "y_test_pred=svm.predict(X_test)  #test set의 y예측치 구하기\n",
    "\n",
    "print(classification_report(y_test, y_test_pred))\n",
    "print(confusion_matrix(y_test, y_test_pred))"
   ]
  },
  {
   "cell_type": "code",
   "execution_count": null,
   "metadata": {},
   "outputs": [],
   "source": [
    "#  3차원 scatter  plot\n",
    "from mpl_toolkits.mplot3d import Axes3D\n",
    "import matplotlib.pyplot as plt\n",
    "\n",
    "%matplotlib notebook\n",
    "hr1 = hr[hr.left>0]\n",
    "hr0 = hr[hr.left<1]\n",
    "fig = plt.figure()\n",
    "ax = fig.add_subplot(111, projection='3d')\n",
    "\n",
    "x1 = hr1.evaluation \n",
    "y1 = hr1.satisfaction\n",
    "z1 = hr1.yrsAtCompany\n",
    "\n",
    "x0 = hr0.evaluation \n",
    "y0 = hr0.satisfaction\n",
    "z0 = hr0.yrsAtCompany\n",
    "\n",
    "ax.scatter(x1, y1, z1, c='#3f77d1', marker='o')\n",
    "ax.scatter(x0, y0, z0, c='#ffc21c', marker='^')\n",
    "\n",
    "ax.set_xlabel('evaluation')\n",
    "ax.set_ylabel('satisfaction')\n",
    "ax.set_zlabel('yrsAtCompany')\n",
    "\n",
    "plt.show()\n"
   ]
  },
  {
   "cell_type": "markdown",
   "metadata": {},
   "source": [
    "### Kernel SVM"
   ]
  },
  {
   "cell_type": "code",
   "execution_count": null,
   "metadata": {},
   "outputs": [],
   "source": [
    "ksvm=SVC(kernel='rbf',C=1.0,gamma=0.2,random_state=42)\n",
    "ksvm.fit(X_train,y_train)\n",
    "y_train_pred=ksvm.predict(X_train) # kernel SVM을 이용한 train set의 y 예측치 구하기\n",
    "y_test_pred=ksvm.predict(X_test) # kernel SVM을 이용한 #test set의 y예측치 구하기\n",
    "\n",
    "print(classification_report(y_test, y_test_pred))\n",
    "print(confusion_matrix(y_test, y_test_pred))"
   ]
  },
  {
   "cell_type": "code",
   "execution_count": 17,
   "metadata": {},
   "outputs": [
    {
     "name": "stdout",
     "output_type": "stream",
     "text": [
      "{'C': 5000, 'gamma': 0.01}\n",
      "SVC(C=5000, break_ties=False, cache_size=200, class_weight='balanced',\n",
      "    coef0=0.0, decision_function_shape='ovr', degree=3, gamma=0.01,\n",
      "    kernel='rbf', max_iter=-1, probability=False, random_state=None,\n",
      "    shrinking=True, tol=0.001, verbose=False)\n",
      "              precision    recall  f1-score   support\n",
      "\n",
      "           0       0.99      0.97      0.98      2299\n",
      "           1       0.89      0.96      0.92       701\n",
      "\n",
      "    accuracy                           0.96      3000\n",
      "   macro avg       0.94      0.96      0.95      3000\n",
      "weighted avg       0.97      0.96      0.96      3000\n",
      "\n",
      "[[2219   80]\n",
      " [  29  672]]\n"
     ]
    }
   ],
   "source": [
    "# gridSearchCv\n",
    "from sklearn.model_selection import GridSearchCV\n",
    "#param_grid={'C':[1e3,5e3,1e4,5e4,1e5],\n",
    "#            'gamma':[0.0001,0.0005,0.001,0.005,0.01,0.1]}\n",
    "param_grid={'C':[1,100,1e3,500,5000],\n",
    "            'gamma':[0.0005,0.001, 0.01]}\n",
    "#위에 있는 조합중에 가장 좋은걸로 찾아서 넣어줌. param_grid에서.\n",
    "clf=GridSearchCV(SVC(kernel='rbf', class_weight='balanced'), param_grid, cv=5)   \n",
    "\n",
    "clf.fit(X_train,y_train)\n",
    "##  프로그램 실행시 약 1분정도 시간 소요됨.\n",
    "# 가장 좋은 parameter 뽑아줌.\n",
    "\n",
    "print(clf.best_params_)            # 추정 parameter\n",
    "print(clf.best_estimator_)\n",
    "\n",
    "y_test_pred=clf.predict(X_test)\n",
    "print(classification_report(y_test, y_test_pred))\n",
    "print(confusion_matrix(y_test, y_test_pred))"
   ]
  },
  {
   "cell_type": "code",
   "execution_count": 18,
   "metadata": {},
   "outputs": [
    {
     "name": "stdout",
     "output_type": "stream",
     "text": [
      "{'C': 5000, 'gamma': 0.01}\n",
      "SVC(C=5000, break_ties=False, cache_size=200, class_weight='balanced',\n",
      "    coef0=0.0, decision_function_shape='ovr', degree=3, gamma=0.01,\n",
      "    kernel='rbf', max_iter=-1, probability=False, random_state=None,\n",
      "    shrinking=True, tol=0.001, verbose=False)\n",
      "              precision    recall  f1-score   support\n",
      "\n",
      "           0       0.98      0.97      0.97      2299\n",
      "           1       0.89      0.95      0.92       701\n",
      "\n",
      "    accuracy                           0.96      3000\n",
      "   macro avg       0.94      0.96      0.95      3000\n",
      "weighted avg       0.96      0.96      0.96      3000\n",
      "\n",
      "[[2219   80]\n",
      " [  38  663]]\n"
     ]
    }
   ],
   "source": [
    "# gridSearchCv\n",
    "from sklearn.model_selection import GridSearchCV\n",
    "#param_grid={'C':[1e3,5e3,1e4,5e4,1e5],\n",
    "#            'gamma':[0.0001,0.0005,0.001,0.005,0.01,0.1]}\n",
    "param_grid={'C':[1,100,1e3,500,5000],\n",
    "            'gamma':[0.0005,0.001, 0.01]}\n",
    "#위에 있는 조합중에 가장 좋은걸로 찾아서 넣어줌. param_grid에서.\n",
    "clf=GridSearchCV(SVC(kernel='rbf', class_weight='balanced'), param_grid, cv=5)   \n",
    "\n",
    "clf.fit(X_trainS,y_trainS)\n",
    "##  프로그램 실행시 약 1분정도 시간 소요됨.\n",
    "# 가장 좋은 parameter 뽑아줌.\n",
    "\n",
    "print(clf.best_params_)            # 추정 parameter\n",
    "print(clf.best_estimator_)\n",
    "\n",
    "y_test_pred=clf.predict(X_test)\n",
    "print(classification_report(y_test, y_test_pred))\n",
    "print(confusion_matrix(y_test, y_test_pred))"
   ]
  },
  {
   "cell_type": "code",
   "execution_count": 31,
   "metadata": {
    "scrolled": true
   },
   "outputs": [
    {
     "name": "stdout",
     "output_type": "stream",
     "text": [
      "{'C': 5000, 'gamma': 0.01}\n",
      "SVC(C=5000, break_ties=False, cache_size=200, class_weight='balanced',\n",
      "    coef0=0.0, decision_function_shape='ovr', degree=3, gamma=0.01,\n",
      "    kernel='rbf', max_iter=-1, probability=False, random_state=None,\n",
      "    shrinking=True, tol=0.001, verbose=False)\n",
      "              precision    recall  f1-score   support\n",
      "\n",
      "           0       0.99      0.94      0.96      2299\n",
      "           1       0.83      0.97      0.89       701\n",
      "\n",
      "    accuracy                           0.94      3000\n",
      "   macro avg       0.91      0.95      0.93      3000\n",
      "weighted avg       0.95      0.94      0.95      3000\n",
      "\n",
      "[[2156  143]\n",
      " [  23  678]]\n"
     ]
    }
   ],
   "source": [
    "# gridSearchCv\n",
    "from sklearn.model_selection import GridSearchCV\n",
    "#param_grid={'C':[1e3,5e3,1e4,5e4,1e5],\n",
    "#            'gamma':[0.0001,0.0005,0.001,0.005,0.01,0.1]}\n",
    "param_grid={'C':[1,100,1e3,500,5000],\n",
    "            'gamma':[0.0005,0.001, 0.01]}\n",
    "#위에 있는 조합중에 가장 좋은걸로 찾아서 넣어줌. param_grid에서.\n",
    "clf=GridSearchCV(SVC(kernel='rbf', class_weight='balanced'), param_grid, cv=5)   \n",
    "\n",
    "clf.fit(X_trainA,y_trainA)\n",
    "##  프로그램 실행시 약 1분정도 시간 소요됨.\n",
    "# 가장 좋은 parameter 뽑아줌.\n",
    "\n",
    "print(clf.best_params_)            # 추정 parameter\n",
    "print(clf.best_estimator_)\n",
    "\n",
    "y_test_pred=clf.predict(X_test)\n",
    "print(classification_report(y_test, y_test_pred))\n",
    "print(confusion_matrix(y_test, y_test_pred))"
   ]
  },
  {
   "cell_type": "code",
   "execution_count": null,
   "metadata": {},
   "outputs": [],
   "source": [
    "# pair plot\n",
    "# %matplotlib inline\n",
    "plt.figure(figsize=(10,10))\n",
    "sns.pairplot(hr[['evaluation','satisfaction','yrsAtCompany','avgMonthlyhrs','left']],hue='left')\n",
    "plt.show()\n"
   ]
  },
  {
   "cell_type": "markdown",
   "metadata": {},
   "source": [
    "### left로 구분된 3d plot"
   ]
  },
  {
   "cell_type": "code",
   "execution_count": null,
   "metadata": {},
   "outputs": [],
   "source": [
    "#  3차원 scatter  plot\n",
    "from mpl_toolkits.mplot3d import Axes3D\n",
    "import matplotlib.pyplot as plt\n",
    "\n",
    "%matplotlib notebook\n",
    "hr1 = hr[hr.left>0]\n",
    "hr0 = hr[hr.left<1]\n",
    "fig = plt.figure()\n",
    "ax = fig.add_subplot(111, projection='3d')\n",
    "\n",
    "x1 = hr1.evaluation \n",
    "y1 = hr1.satisfaction\n",
    "z1 = hr1.yrsAtCompany\n",
    "\n",
    "x0 = hr0.evaluation \n",
    "y0 = hr0.satisfaction\n",
    "z0 = hr0.yrsAtCompany\n",
    "\n",
    "ax.scatter(x1, y1, z1, c='#3f77d1', marker='o')\n",
    "ax.scatter(x0, y0, z0, c='#ffc21c', marker='^')\n",
    "\n",
    "ax.set_xlabel('evaluation')\n",
    "ax.set_ylabel('satisfaction')\n",
    "ax.set_zlabel('yrsAtCompany')\n",
    "\n",
    "plt.show()\n"
   ]
  },
  {
   "cell_type": "markdown",
   "metadata": {},
   "source": [
    "## Kernel PCA plot"
   ]
  },
  {
   "cell_type": "code",
   "execution_count": null,
   "metadata": {},
   "outputs": [],
   "source": [
    "# poly\n",
    "from sklearn.decomposition import KernelPCA\n",
    "kpca = KernelPCA(n_components=3, kernel='poly', gamma=15)\n",
    "#kpca = KernelPCA(n_components=3, kernel='cosine', gamma=15)\n",
    "X_train_kpca=kpca.fit_transform(X_train, y_train)\n",
    "X_test_kpca=kpca.transform(X_test)\n",
    "\n",
    "from mpl_toolkits.mplot3d import Axes3D\n",
    "import matplotlib.pyplot as plt\n",
    "\n",
    "%matplotlib notebook\n",
    "hr1 = hr[hr.left>0]\n",
    "hr0 = hr[hr.left<1]\n",
    "fig = plt.figure()\n",
    "ax = fig.add_subplot(111, projection='3d')\n",
    "\n",
    "x1 = hr1.evaluation \n",
    "y1 = hr1.satisfaction\n",
    "z1 = hr1.yrsAtCompany\n",
    "\n",
    "x0 = hr0.evaluation \n",
    "y0 = hr0.satisfaction\n",
    "z0 = hr0.yrsAtCompany\n",
    "\n",
    "ax.scatter(X_train_kpca[y_train==0,0], X_train_kpca[y_train==0,1],X_train_kpca[y_train==0,2], c='#3f77d1', marker='o')\n",
    "ax.scatter(X_train_kpca[y_train==1,0], X_train_kpca[y_train==1,1],X_train_kpca[y_train==1,2],c='#ffa812' , marker='^')\n",
    "\n",
    "ax.set_xlabel('PC1')\n",
    "ax.set_ylabel('PC2')\n",
    "ax.set_zlabel('PC3')\n",
    "\n",
    "plt.show()"
   ]
  },
  {
   "cell_type": "code",
   "execution_count": null,
   "metadata": {},
   "outputs": [],
   "source": [
    "# cosine\n",
    "from sklearn.decomposition import KernelPCA\n",
    "kpca = KernelPCA(n_components=3, kernel='cosine', gamma=15)\n",
    "#kpca = KernelPCA(n_components=3, kernel='cosine', gamma=15)\n",
    "X_train_kpca=kpca.fit_transform(X_train, y_train)\n",
    "X_test_kpca=kpca.transform(X_test)\n",
    "\n",
    "from mpl_toolkits.mplot3d import Axes3D\n",
    "import matplotlib.pyplot as plt\n",
    "\n",
    "%matplotlib notebook\n",
    "hr1 = hr[hr.left>0]\n",
    "hr0 = hr[hr.left<1]\n",
    "fig = plt.figure()\n",
    "ax = fig.add_subplot(111, projection='3d')\n",
    "\n",
    "x1 = hr1.evaluation \n",
    "y1 = hr1.satisfaction\n",
    "z1 = hr1.yrsAtCompany\n",
    "\n",
    "x0 = hr0.evaluation \n",
    "y0 = hr0.satisfaction\n",
    "z0 = hr0.yrsAtCompany\n",
    "\n",
    "ax.scatter(X_train_kpca[y_train==0,0], X_train_kpca[y_train==0,1],X_train_kpca[y_train==0,2], c='#3f77d1', marker='o')\n",
    "ax.scatter(X_train_kpca[y_train==1,0], X_train_kpca[y_train==1,1],X_train_kpca[y_train==1,2],c='#ffa812' , marker='^')\n",
    "\n",
    "ax.set_xlabel('PC1')\n",
    "ax.set_ylabel('PC2')\n",
    "ax.set_zlabel('PC3')\n",
    "\n",
    "plt.show()"
   ]
  },
  {
   "cell_type": "code",
   "execution_count": null,
   "metadata": {},
   "outputs": [],
   "source": [
    "# sigmoid\n",
    "from sklearn.decomposition import KernelPCA\n",
    "kpca = KernelPCA(n_components=3, kernel='sigmoid', gamma=15)\n",
    "#kpca = KernelPCA(n_components=3, kernel='cosine', gamma=15)\n",
    "X_train_kpca=kpca.fit_transform(X_train, y_train)\n",
    "X_test_kpca=kpca.transform(X_test)\n",
    "\n",
    "from mpl_toolkits.mplot3d import Axes3D\n",
    "import matplotlib.pyplot as plt\n",
    "\n",
    "%matplotlib notebook\n",
    "hr1 = hr[hr.left>0]\n",
    "hr0 = hr[hr.left<1]\n",
    "fig = plt.figure()\n",
    "ax = fig.add_subplot(111, projection='3d')\n",
    "\n",
    "x1 = hr1.evaluation \n",
    "y1 = hr1.satisfaction\n",
    "z1 = hr1.yrsAtCompany\n",
    "\n",
    "x0 = hr0.evaluation \n",
    "y0 = hr0.satisfaction\n",
    "z0 = hr0.yrsAtCompany\n",
    "\n",
    "ax.scatter(X_train_kpca[y_train==0,0], X_train_kpca[y_train==0,1],X_train_kpca[y_train==0,2], c='#3f77d1', marker='o')\n",
    "ax.scatter(X_train_kpca[y_train==1,0], X_train_kpca[y_train==1,1],X_train_kpca[y_train==1,2],c='#ffa812' , marker='^')\n",
    "\n",
    "ax.set_xlabel('PC1')\n",
    "ax.set_ylabel('PC2')\n",
    "ax.set_zlabel('PC3')\n",
    "\n",
    "plt.show()"
   ]
  },
  {
   "cell_type": "markdown",
   "metadata": {},
   "source": [
    "#### kernel PCA한거로 kernel SVM해보기"
   ]
  },
  {
   "cell_type": "code",
   "execution_count": 10,
   "metadata": {},
   "outputs": [],
   "source": [
    "# rbf\n",
    "from sklearn.decomposition import KernelPCA\n",
    "kpca = KernelPCA(n_components=4, kernel='rbf', gamma=15)\n",
    "#kpca = KernelPCA(n_components=3, kernel='cosine', gamma=15)\n",
    "X_train_kpca=kpca.fit_transform(X_train, y_train)\n",
    "X_test_kpca=kpca.transform(X_test)"
   ]
  },
  {
   "cell_type": "code",
   "execution_count": 12,
   "metadata": {},
   "outputs": [],
   "source": [
    "# poly\n",
    "from sklearn.decomposition import KernelPCA\n",
    "kpca = KernelPCA(n_components=4, kernel='poly', gamma=15)\n",
    "#kpca = KernelPCA(n_components=3, kernel='cosine', gamma=15)\n",
    "X_train_kpca=kpca.fit_transform(X_train, y_train)\n",
    "X_test_kpca=kpca.transform(X_test)"
   ]
  },
  {
   "cell_type": "code",
   "execution_count": null,
   "metadata": {},
   "outputs": [],
   "source": [
    "# gridSearchCv\n",
    "from sklearn.model_selection import GridSearchCV\n",
    "#param_grid={'C':[1e3,5e3,1e4,5e4,1e5],\n",
    "#            'gamma':[0.0001,0.0005,0.001,0.005,0.01,0.1]}\n",
    "param_grid={'C':[1,100,1e3,500,5000],\n",
    "            'gamma':[0.0005,0.001, 0.01]}\n",
    "#위에 있는 조합중에 가장 좋은걸로 찾아서 넣어줌. param_grid에서.\n",
    "clf=GridSearchCV(SVC(kernel='rbf', class_weight='balanced'), param_grid, cv=5)   \n",
    "\n",
    "clf.fit(X_train_kpca,y_train)\n",
    "##  프로그램 실행시 약 1분정도 시간 소요됨.\n",
    "# 가장 좋은 parameter 뽑아줌.\n",
    "\n",
    "print(clf.best_params_)            # 추정 parameter\n",
    "print(clf.best_estimator_)\n",
    "\n",
    "y_test_pred=clf.predict(X_test_kpca)\n",
    "print(classification_report(y_test, y_test_pred))\n",
    "print(confusion_matrix(y_test, y_test_pred))"
   ]
  },
  {
   "cell_type": "code",
   "execution_count": 13,
   "metadata": {},
   "outputs": [
    {
     "name": "stdout",
     "output_type": "stream",
     "text": [
      "              precision    recall  f1-score   support\n",
      "\n",
      "           0       0.91      1.00      0.95      2299\n",
      "           1       1.00      0.68      0.81       701\n",
      "\n",
      "    accuracy                           0.93      3000\n",
      "   macro avg       0.96      0.84      0.88      3000\n",
      "weighted avg       0.93      0.93      0.92      3000\n",
      "\n",
      "[[2299    0]\n",
      " [ 223  478]]\n"
     ]
    }
   ],
   "source": [
    "## Kernel SVM  C\n",
    "from sklearn.svm import SVC #SVM함수의 호출\n",
    "svm=SVC(kernel='rbf',C=100.0,gamma=0.01,random_state=1)\n",
    "svm.fit(X_train_kpca,y_train) #SVM추정\n",
    "y_train_pred=svm.predict(X_train_kpca) #train set의 y 예측치 구하기\n",
    "y_test_pred=svm.predict(X_test_kpca)  #test set의 y예측치 구하기\n",
    "\n",
    "print(classification_report(y_test, y_test_pred))\n",
    "print(confusion_matrix(y_test, y_test_pred))"
   ]
  },
  {
   "cell_type": "code",
   "execution_count": 14,
   "metadata": {},
   "outputs": [
    {
     "name": "stdout",
     "output_type": "stream",
     "text": [
      "              precision    recall  f1-score   support\n",
      "\n",
      "           0       0.91      1.00      0.95      2299\n",
      "           1       1.00      0.68      0.81       701\n",
      "\n",
      "    accuracy                           0.93      3000\n",
      "   macro avg       0.96      0.84      0.88      3000\n",
      "weighted avg       0.93      0.93      0.92      3000\n",
      "\n",
      "[[2299    0]\n",
      " [ 223  478]]\n"
     ]
    }
   ],
   "source": [
    "## Kernel SVM  C\n",
    "from sklearn.svm import SVC #SVM함수의 호출\n",
    "svm=SVC(kernel='rbf',C=5000,gamma=0.001,random_state=1)\n",
    "svm.fit(X_train_kpca,y_train) #SVM추정\n",
    "y_train_pred=svm.predict(X_train_kpca) #train set의 y 예측치 구하기\n",
    "y_test_pred=svm.predict(X_test_kpca)  #test set의 y예측치 구하기\n",
    "\n",
    "print(classification_report(y_test, y_test_pred))\n",
    "print(confusion_matrix(y_test, y_test_pred))"
   ]
  },
  {
   "cell_type": "markdown",
   "metadata": {},
   "source": [
    "## Voting"
   ]
  },
  {
   "cell_type": "code",
   "execution_count": 16,
   "metadata": {},
   "outputs": [
    {
     "name": "stderr",
     "output_type": "stream",
     "text": [
      "C:\\ProgramData\\Anaconda3\\lib\\site-packages\\sklearn\\linear_model\\_logistic.py:939: ConvergenceWarning: lbfgs failed to converge (status=1):\n",
      "STOP: TOTAL NO. of ITERATIONS REACHED LIMIT.\n",
      "\n",
      "Increase the number of iterations (max_iter) or scale the data as shown in:\n",
      "    https://scikit-learn.org/stable/modules/preprocessing.html.\n",
      "Please also refer to the documentation for alternative solver options:\n",
      "    https://scikit-learn.org/stable/modules/linear_model.html#logistic-regression\n",
      "  extra_warning_msg=_LOGISTIC_SOLVER_CONVERGENCE_MSG)\n",
      "C:\\ProgramData\\Anaconda3\\lib\\site-packages\\sklearn\\linear_model\\_logistic.py:939: ConvergenceWarning: lbfgs failed to converge (status=1):\n",
      "STOP: TOTAL NO. of ITERATIONS REACHED LIMIT.\n",
      "\n",
      "Increase the number of iterations (max_iter) or scale the data as shown in:\n",
      "    https://scikit-learn.org/stable/modules/preprocessing.html.\n",
      "Please also refer to the documentation for alternative solver options:\n",
      "    https://scikit-learn.org/stable/modules/linear_model.html#logistic-regression\n",
      "  extra_warning_msg=_LOGISTIC_SOLVER_CONVERGENCE_MSG)\n"
     ]
    },
    {
     "name": "stdout",
     "output_type": "stream",
     "text": [
      "LogisticRegression               precision    recall  f1-score   support\n",
      "\n",
      "           0       0.82      0.93      0.87      2299\n",
      "           1       0.59      0.34      0.43       701\n",
      "\n",
      "    accuracy                           0.79      3000\n",
      "   macro avg       0.71      0.64      0.65      3000\n",
      "weighted avg       0.77      0.79      0.77      3000\n",
      "\n",
      "LogisticRegression [[2130  169]\n",
      " [ 460  241]]\n",
      "RandomForestClassifier               precision    recall  f1-score   support\n",
      "\n",
      "           0       0.99      1.00      0.99      2299\n",
      "           1       0.99      0.98      0.98       701\n",
      "\n",
      "    accuracy                           0.99      3000\n",
      "   macro avg       0.99      0.99      0.99      3000\n",
      "weighted avg       0.99      0.99      0.99      3000\n",
      "\n",
      "RandomForestClassifier [[2291    8]\n",
      " [  16  685]]\n",
      "SVC               precision    recall  f1-score   support\n",
      "\n",
      "           0       0.78      1.00      0.88      2299\n",
      "           1       1.00      0.08      0.15       701\n",
      "\n",
      "    accuracy                           0.79      3000\n",
      "   macro avg       0.89      0.54      0.51      3000\n",
      "weighted avg       0.83      0.79      0.71      3000\n",
      "\n",
      "SVC [[2299    0]\n",
      " [ 645   56]]\n"
     ]
    },
    {
     "name": "stderr",
     "output_type": "stream",
     "text": [
      "C:\\ProgramData\\Anaconda3\\lib\\site-packages\\sklearn\\linear_model\\_logistic.py:939: ConvergenceWarning: lbfgs failed to converge (status=1):\n",
      "STOP: TOTAL NO. of ITERATIONS REACHED LIMIT.\n",
      "\n",
      "Increase the number of iterations (max_iter) or scale the data as shown in:\n",
      "    https://scikit-learn.org/stable/modules/preprocessing.html.\n",
      "Please also refer to the documentation for alternative solver options:\n",
      "    https://scikit-learn.org/stable/modules/linear_model.html#logistic-regression\n",
      "  extra_warning_msg=_LOGISTIC_SOLVER_CONVERGENCE_MSG)\n"
     ]
    },
    {
     "name": "stdout",
     "output_type": "stream",
     "text": [
      "VotingClassifier               precision    recall  f1-score   support\n",
      "\n",
      "           0       0.83      1.00      0.91      2299\n",
      "           1       1.00      0.35      0.52       701\n",
      "\n",
      "    accuracy                           0.85      3000\n",
      "   macro avg       0.92      0.68      0.71      3000\n",
      "weighted avg       0.87      0.85      0.82      3000\n",
      "\n",
      "VotingClassifier [[2299    0]\n",
      " [ 455  246]]\n"
     ]
    }
   ],
   "source": [
    "from sklearn.ensemble import RandomForestClassifier\n",
    "from sklearn.ensemble import VotingClassifier\n",
    "from sklearn.linear_model import LogisticRegression\n",
    "from sklearn.svm import SVC\n",
    "# fdata 이용. one-hot-encoding한 salary 추가\n",
    "from sklearn.model_selection import train_test_split\n",
    "X_train, X_test, y_train, y_test = train_test_split(fdata.drop('left',axis=1), \n",
    "                                                        fdata.left, test_size = 0.2, random_state = 0)\n",
    "\n",
    "log_cl=LogisticRegression()\n",
    "rf_cl=RandomForestClassifier()\n",
    "svm_cl=SVC()\n",
    "voting_cl=VotingClassifier(estimators=[('lr', log_cl), ('rf', rf_cl), ('svc', svm_cl)],voting='hard')\n",
    "voting_cl.fit(X_train, y_train)\n",
    "\n",
    "for cl in (log_cl, rf_cl, svm_cl, voting_cl):\n",
    "    cl.fit(X_train, y_train)\n",
    "    y_pred = cl.predict(X_test)\n",
    "    print(cl.__class__.__name__, classification_report(y_test, y_pred))\n",
    "    print(cl.__class__.__name__, confusion_matrix(y_test, y_pred))    "
   ]
  },
  {
   "cell_type": "markdown",
   "metadata": {},
   "source": [
    "### Bagging"
   ]
  },
  {
   "cell_type": "code",
   "execution_count": 39,
   "metadata": {},
   "outputs": [
    {
     "name": "stdout",
     "output_type": "stream",
     "text": [
      "              precision    recall  f1-score   support\n",
      "\n",
      "           0       0.97      1.00      0.98      3462\n",
      "           1       0.99      0.91      0.94      1038\n",
      "\n",
      "    accuracy                           0.98      4500\n",
      "   macro avg       0.98      0.95      0.96      4500\n",
      "weighted avg       0.98      0.98      0.97      4500\n",
      "\n",
      "[[3448   14]\n",
      " [  97  941]]\n",
      "{'base_estimator__max_depth': 5, 'max_samples': 0.5, 'n_estimators': 500}\n"
     ]
    }
   ],
   "source": [
    "# Bagging learning - 500개의 decision tree 이용\n",
    "from sklearn.ensemble import BaggingClassifier\n",
    "from sklearn.tree import DecisionTreeClassifier\n",
    "X_train, X_test, y_train, y_test = train_test_split(hr.drop('left',axis=1), hr.left, \n",
    "                                                    test_size = 0.3, random_state = 0)\n",
    "param_grid = {\n",
    "    'base_estimator__max_depth' : [1, 2, 3, 4, 5],\n",
    "    'max_samples' : [0.05, 0.1, 0.2, 0.5],\n",
    "    'n_estimators' : [10, 100, 500, 1000]\n",
    "}\n",
    "bag_clf = GridSearchCV(BaggingClassifier(DecisionTreeClassifier(),\n",
    "                                      max_features = 0.5,bootstrap=True),    \n",
    "                   param_grid, scoring='accuracy')\n",
    "bag_clf.fit(X_train, y_train)\n",
    "y_pred = bag_clf.predict(X_test)\n",
    "print(classification_report(y_test, y_pred))\n",
    "print(confusion_matrix(y_test, y_pred))\n",
    "print(bag_clf.best_params_)"
   ]
  },
  {
   "cell_type": "code",
   "execution_count": 31,
   "metadata": {},
   "outputs": [
    {
     "name": "stdout",
     "output_type": "stream",
     "text": [
      "0.9731402990761024\n"
     ]
    }
   ],
   "source": [
    "bag_cl2 = BaggingClassifier(DecisionTreeClassifier(max_depth = 5), max_samples=0.5, n_estimators=500, n_jobs=-1,bootstrap=True, oob_score=True)\n",
    "bag_cl2.fit(X_train, y_train)\n",
    "print(bag_cl2.oob_score_)"
   ]
  },
  {
   "cell_type": "markdown",
   "metadata": {},
   "source": [
    "## ADABOOST"
   ]
  },
  {
   "cell_type": "code",
   "execution_count": null,
   "metadata": {},
   "outputs": [],
   "source": [
    "from sklearn.tree import DecisionTreeClassifier\n",
    "from sklearn.ensemble import AdaBoostClassifier\n",
    "X_train, X_test, y_train, y_test = train_test_split(hr.drop('left',axis=1), hr.left, \n",
    "                                                    test_size = 0.3, random_state = 0)\n",
    "\n",
    "param_grid = {\n",
    "    'base_estimator__max_depth' : [1, 2, 3, 4, 5],   #'max_samples' : [0.05, 0.1, 0.2, 0.5],\n",
    "    'n_estimators' : [10, 100, 500, 1000],\n",
    "    'learning_rate' :  [0.01,0.1,0.5,1]\n",
    "}\n",
    "ada_t = GridSearchCV(AdaBoostClassifier(DecisionTreeClassifier(criterion='entropy')),    \n",
    "                   param_grid, scoring='accuracy')\n",
    "# ada_t = AdaBoostClassifier(DecisionTreeClassifier(max_depth=5), n_estimators=500, random_state=1)\n",
    "ada_t.fit(X_train, y_train)\n",
    "y_train_pred=ada_t.predict(X_train)\n",
    "y_test_pred=ada_t.predict(X_test)\n",
    "\n",
    "from sklearn.metrics import accuracy_score\n",
    "print(accuracy_score(y_train, y_train_pred))\n",
    "print(classification_report(y_test, y_test_pred))\n",
    "print(confusion_matrix(y_test, y_test_pred))\n",
    "print(ada_t.best_params_)"
   ]
  },
  {
   "cell_type": "code",
   "execution_count": 42,
   "metadata": {},
   "outputs": [
    {
     "name": "stdout",
     "output_type": "stream",
     "text": [
      "              precision    recall  f1-score   support\n",
      "\n",
      "           0       0.97      1.00      0.98      3462\n",
      "           1       0.99      0.91      0.94      1038\n",
      "\n",
      "    accuracy                           0.98      4500\n",
      "   macro avg       0.98      0.95      0.96      4500\n",
      "weighted avg       0.98      0.98      0.97      4500\n",
      "\n",
      "[[3448   14]\n",
      " [  97  941]]\n"
     ]
    },
    {
     "ename": "AttributeError",
     "evalue": "'AdaBoostClassifier' object has no attribute 'best_params_'",
     "output_type": "error",
     "traceback": [
      "\u001b[1;31m---------------------------------------------------------------------------\u001b[0m",
      "\u001b[1;31mAttributeError\u001b[0m                            Traceback (most recent call last)",
      "\u001b[1;32m<ipython-input-42-2278cbee7b54>\u001b[0m in \u001b[0;36m<module>\u001b[1;34m\u001b[0m\n\u001b[0;32m      1\u001b[0m \u001b[0mprint\u001b[0m\u001b[1;33m(\u001b[0m\u001b[0mclassification_report\u001b[0m\u001b[1;33m(\u001b[0m\u001b[0my_test\u001b[0m\u001b[1;33m,\u001b[0m \u001b[0my_pred\u001b[0m\u001b[1;33m)\u001b[0m\u001b[1;33m)\u001b[0m\u001b[1;33m\u001b[0m\u001b[1;33m\u001b[0m\u001b[0m\n\u001b[0;32m      2\u001b[0m \u001b[0mprint\u001b[0m\u001b[1;33m(\u001b[0m\u001b[0mconfusion_matrix\u001b[0m\u001b[1;33m(\u001b[0m\u001b[0my_test\u001b[0m\u001b[1;33m,\u001b[0m \u001b[0my_pred\u001b[0m\u001b[1;33m)\u001b[0m\u001b[1;33m)\u001b[0m\u001b[1;33m\u001b[0m\u001b[1;33m\u001b[0m\u001b[0m\n\u001b[1;32m----> 3\u001b[1;33m \u001b[0mprint\u001b[0m\u001b[1;33m(\u001b[0m\u001b[0mada_t\u001b[0m\u001b[1;33m.\u001b[0m\u001b[0mbest_params_\u001b[0m\u001b[1;33m)\u001b[0m\u001b[1;33m\u001b[0m\u001b[1;33m\u001b[0m\u001b[0m\n\u001b[0m",
      "\u001b[1;31mAttributeError\u001b[0m: 'AdaBoostClassifier' object has no attribute 'best_params_'"
     ]
    }
   ],
   "source": [
    "print(classification_report(y_test, y_pred))\n",
    "print(confusion_matrix(y_test, y_pred))\n",
    "print(ada_t.best_params_)"
   ]
  },
  {
   "cell_type": "code",
   "execution_count": 16,
   "metadata": {},
   "outputs": [
    {
     "name": "stdout",
     "output_type": "stream",
     "text": [
      "1.0\n",
      "              precision    recall  f1-score   support\n",
      "\n",
      "           0       0.99      0.99      0.99      3462\n",
      "           1       0.98      0.97      0.97      1038\n",
      "\n",
      "    accuracy                           0.99      4500\n",
      "   macro avg       0.99      0.98      0.98      4500\n",
      "weighted avg       0.99      0.99      0.99      4500\n",
      "\n",
      "[[3442   20]\n",
      " [  32 1006]]\n"
     ]
    }
   ],
   "source": [
    "# 노트북에서 5천개로 gridSearchCV돌린 parameter \n",
    "from sklearn.tree import DecisionTreeClassifier\n",
    "from sklearn.ensemble import AdaBoostClassifier\n",
    "ada_t = AdaBoostClassifier(DecisionTreeClassifier(max_depth=5),learning_rate=0.5, n_estimators=1000, random_state=1)\n",
    "ada_t.fit(X_train, y_train)\n",
    "ada_t.fit(X_train, y_train)\n",
    "y_train_pred=ada_t.predict(X_train)\n",
    "y_test_pred=ada_t.predict(X_test)\n",
    "\n",
    "from sklearn.metrics import accuracy_score\n",
    "print(accuracy_score(y_train, y_train_pred))\n",
    "print(classification_report(y_test, y_test_pred))\n",
    "print(confusion_matrix(y_test, y_test_pred))"
   ]
  },
  {
   "cell_type": "markdown",
   "metadata": {},
   "source": [
    "## GBM"
   ]
  },
  {
   "cell_type": "code",
   "execution_count": 9,
   "metadata": {},
   "outputs": [
    {
     "name": "stdout",
     "output_type": "stream",
     "text": [
      "Train accuracy  : 0.969\n",
      "Test accuracy  : 0.969\n",
      "best_n_estimator  : 98.000\n"
     ]
    }
   ],
   "source": [
    "from sklearn.ensemble import GradientBoostingClassifier\n",
    "import numpy as np\n",
    "X_train, X_test, y_train, y_test = train_test_split(hr.drop('left',axis=1), hr.left, \n",
    "                                                    test_size = 0.3, random_state = 0)\n",
    "\n",
    "gbcl=GradientBoostingClassifier(n_estimators=100, max_depth=2) # M=100, 나무 깊이=2\n",
    "gbcl.fit(X_train, y_train)\n",
    "accuracies=[accuracy_score(y_test,y_pred) for y_pred in gbcl.staged_predict(X_test)]\n",
    "best_n_estimator=np.argmax(accuracies)\n",
    "\n",
    "gbcl_best=GradientBoostingClassifier(max_depth=2, n_estimators=best_n_estimator)\n",
    "gbcl_best.fit(X_train, y_train)\n",
    "y_train_pred=gbcl_best.predict(X_train)\n",
    "y_test_pred=gbcl_best.predict(X_test)\n",
    "print('Train accuracy  : %0.3f'  %accuracy_score(y_train, y_train_pred))\n",
    "print('Test accuracy  : %0.3f' %accuracy_score(y_test, y_test_pred))\n",
    "print('best_n_estimator  : %0.3f'  %best_n_estimator)"
   ]
  },
  {
   "cell_type": "code",
   "execution_count": 10,
   "metadata": {},
   "outputs": [],
   "source": [
    "param_grid = {\n",
    "    'max_depth' : [1, 2, 3, 4, 5],   #'max_samples' : [0.05, 0.1, 0.2, 0.5],\n",
    "    'n_estimators' : [10, 100, 500, 1000],\n",
    "    'learning_rate' :  [0.01,0.1,0.5,1]\n",
    "}\n",
    "gbcl = GridSearchCV(GradientBoostingClassifier(), param_grid, scoring='accuracy')"
   ]
  },
  {
   "cell_type": "code",
   "execution_count": 11,
   "metadata": {},
   "outputs": [],
   "source": [
    "gbcl.fit(X_train, y_train)\n",
    "y_train_pred=gbcl.predict(X_train)\n",
    "y_test_pred=gbcl.predict(X_test)"
   ]
  },
  {
   "cell_type": "code",
   "execution_count": 13,
   "metadata": {},
   "outputs": [
    {
     "name": "stdout",
     "output_type": "stream",
     "text": [
      "1.0\n",
      "              precision    recall  f1-score   support\n",
      "\n",
      "           0       0.99      0.99      0.99      3462\n",
      "           1       0.98      0.97      0.97      1038\n",
      "\n",
      "    accuracy                           0.99      4500\n",
      "   macro avg       0.98      0.98      0.98      4500\n",
      "weighted avg       0.99      0.99      0.99      4500\n",
      "\n",
      "[[3440   22]\n",
      " [  30 1008]]\n",
      "{'learning_rate': 0.1, 'max_depth': 5, 'n_estimators': 500}\n"
     ]
    }
   ],
   "source": [
    "print(accuracy_score(y_train, y_train_pred))\n",
    "print(classification_report(y_test, y_test_pred))\n",
    "print(confusion_matrix(y_test, y_test_pred))\n",
    "print(gbcl.best_params_)"
   ]
  },
  {
   "cell_type": "code",
   "execution_count": null,
   "metadata": {},
   "outputs": [],
   "source": [
    "# gridSearchCv\n",
    "from sklearn.model_selection import GridSearchCV\n",
    "from sklearn.svm import SVC\n",
    "#param_grid={'C':[1e3,5e3,1e4,5e4,1e5]},\n",
    "#            'gamma':[0.0001,0.0005,0.001,0.005,0.01,0.1]}\n",
    "param_grid={'C':[5e3,1e4,1e3],}\n",
    "            #'gamma':[0.0005,0.001, 0.01]}\n",
    "#위에 있는 조합중에 가장 좋은걸로 찾아서 넣어줌. param_grid에서.\n",
    "clf=GridSearchCV(SVC(kernel='linear'), param_grid, cv=5)   \n",
    "\n",
    "clf.fit(X_train,y_train)\n",
    "##  프로그램 실행시 약 1분정도 시간 소요됨."
   ]
  },
  {
   "cell_type": "code",
   "execution_count": null,
   "metadata": {},
   "outputs": [],
   "source": []
  },
  {
   "cell_type": "markdown",
   "metadata": {},
   "source": [
    "## XGBOOST"
   ]
  },
  {
   "cell_type": "code",
   "execution_count": null,
   "metadata": {},
   "outputs": [],
   "source": [
    "import xgboost as xgb\n",
    "from sklearn.metrics import mean_squared_error\n",
    "\n",
    "X=hr.iloc[:, :8].drop('left',axis=1).values\n",
    "y=hr['left'].values\n",
    "data_dim=xgb.DMatrix(data=X, label=y)\n",
    "from sklearn.model_selection import train_test_split\n",
    "X_train, X_test, y_train, y_test = train_test_split(X, y, test_size=0.3, random_state=1)\n",
    "\n",
    "xg_clas=xgb.XGBClassifier(objective='binary:logistic',booster='gbtree',colsample_bytree=0.75, learning_rate=0.1,max_depth=5, alpha=10, n_estimators=30)\n",
    "xg_clas.fit(X_train, y_train)\n",
    "pred_train=xg_clas.predict(X_train)\n",
    "pred_test=xg_clas.predict(X_test)\n",
    "\n",
    "print(accuracy_score(y_train, y_train_pred))\n",
    "print(classification_report(y_test, y_test_pred))\n",
    "print(confusion_matrix(y_test, y_test_pred))"
   ]
  },
  {
   "cell_type": "code",
   "execution_count": 22,
   "metadata": {},
   "outputs": [],
   "source": [
    "import xgboost as xgb\n",
    "from sklearn.model_selection import train_test_split\n",
    "from sklearn.model_selection import GridSearchCV\n",
    "from sklearn.metrics import accuracy_score, classification_report,confusion_matrix\n",
    "\n",
    "X=fdata.drop('left',axis=1).values\n",
    "y=fdata['left'].values\n",
    "data_dim=xgb.DMatrix(data=X, label=y)\n",
    "\n",
    "X_train, X_test, y_train, y_test = train_test_split(X, y, test_size=0.3, random_state=1)"
   ]
  },
  {
   "cell_type": "code",
   "execution_count": 23,
   "metadata": {},
   "outputs": [
    {
     "name": "stdout",
     "output_type": "stream",
     "text": [
      "0.9962853605105249\n",
      "              precision    recall  f1-score   support\n",
      "\n",
      "           0       0.99      0.99      0.99      3416\n",
      "           1       0.98      0.95      0.97      1084\n",
      "\n",
      "    accuracy                           0.98      4500\n",
      "   macro avg       0.98      0.97      0.98      4500\n",
      "weighted avg       0.98      0.98      0.98      4500\n",
      "\n",
      "[[3396   20]\n",
      " [  49 1035]]\n",
      "{'colsample_bytree': 0.75, 'learning_rate': 0.5, 'max_depth': 5, 'n_estimators': 100}\n"
     ]
    }
   ],
   "source": [
    "param_grid = {\n",
    "    'max_depth' : [3, 4, 5],   #'max_samples' : [0.05, 0.1, 0.2, 0.5],\n",
    "    'colsample_bytree' : [0.4,0.5,0.75],\n",
    "    'learning_rate' :  [0.01,0.1,0.5,1],\n",
    "    'n_estimators' : [30,50,100]\n",
    "}\n",
    "\n",
    "xg_clas = GridSearchCV(xgb.XGBClassifier(objective='binary:logistic', booster='gbtree'),    \n",
    "                   param_grid, scoring='accuracy')\n",
    "xg_clas.fit(X_train, y_train)\n",
    "y_train_pred=xg_clas.predict(X_train)\n",
    "y_test_pred=xg_clas.predict(X_test)\n",
    "print(accuracy_score(y_train, y_train_pred))\n",
    "print(classification_report(y_test, y_test_pred))\n",
    "print(confusion_matrix(y_test, y_test_pred))\n",
    "print(xg_clas.best_params_)"
   ]
  },
  {
   "cell_type": "code",
   "execution_count": 60,
   "metadata": {},
   "outputs": [
    {
     "name": "stdout",
     "output_type": "stream",
     "text": [
      "0.9966663888657388\n",
      "              precision    recall  f1-score   support\n",
      "\n",
      "           0       0.99      1.00      0.99      2299\n",
      "           1       0.98      0.96      0.97       701\n",
      "\n",
      "    accuracy                           0.99      3000\n",
      "   macro avg       0.99      0.98      0.98      3000\n",
      "weighted avg       0.99      0.99      0.99      3000\n",
      "\n",
      "[[2288   11]\n",
      " [  25  676]]\n"
     ]
    }
   ],
   "source": [
    "xg_clas1=xgb.XGBClassifier(objective='binary:logistic',booster='gbtree',colsample_bytree=0.75, learning_rate=0.5,max_depth=5, alpha=10, n_estimators=100)\n",
    "xg_clas1.fit(X_train, y_train)\n",
    "y_train_pred=xg_clas1.predict(X_train)\n",
    "y_test_pred=xg_clas1.predict(X_test)\n",
    "print(accuracy_score(y_train, y_train_pred))\n",
    "print(classification_report(y_test, y_test_pred))\n",
    "print(confusion_matrix(y_test, y_test_pred))\n"
   ]
  },
  {
   "cell_type": "code",
   "execution_count": 62,
   "metadata": {},
   "outputs": [
    {
     "data": {
      "image/png": "[encoded data removed]",
      "text/plain": [
       "<Figure size 432x288 with 1 Axes>"
      ]
     },
     "metadata": {
      "needs_background": "light"
     },
     "output_type": "display_data"
    }
   ],
   "source": [
    "xgb.plot_importance(xg_clas1)\n",
    "plt.rcParams['figure.figsize']=[10,10]\n",
    "plt.show()"
   ]
  },
  {
   "cell_type": "code",
   "execution_count": 63,
   "metadata": {},
   "outputs": [
    {
     "data": {
      "text/html": [
       "<div>\n",
       "<style scoped>\n",
       "    .dataframe tbody tr th:only-of-type {\n",
       "        vertical-align: middle;\n",
       "    }\n",
       "\n",
       "    .dataframe tbody tr th {\n",
       "        vertical-align: top;\n",
       "    }\n",
       "\n",
       "    .dataframe thead th {\n",
       "        text-align: right;\n",
       "    }\n",
       "</style>\n",
       "<table border=\"1\" class=\"dataframe\">\n",
       "  <thead>\n",
       "    <tr style=\"text-align: right;\">\n",
       "      <th></th>\n",
       "      <th>train-auc-mean</th>\n",
       "      <th>train-auc-std</th>\n",
       "      <th>test-auc-mean</th>\n",
       "      <th>test-auc-std</th>\n",
       "    </tr>\n",
       "  </thead>\n",
       "  <tbody>\n",
       "    <tr>\n",
       "      <th>0</th>\n",
       "      <td>0.962184</td>\n",
       "      <td>0.001722</td>\n",
       "      <td>0.959606</td>\n",
       "      <td>0.002344</td>\n",
       "    </tr>\n",
       "    <tr>\n",
       "      <th>1</th>\n",
       "      <td>0.977507</td>\n",
       "      <td>0.005011</td>\n",
       "      <td>0.975683</td>\n",
       "      <td>0.004695</td>\n",
       "    </tr>\n",
       "    <tr>\n",
       "      <th>2</th>\n",
       "      <td>0.978219</td>\n",
       "      <td>0.003656</td>\n",
       "      <td>0.975986</td>\n",
       "      <td>0.004834</td>\n",
       "    </tr>\n",
       "    <tr>\n",
       "      <th>3</th>\n",
       "      <td>0.982349</td>\n",
       "      <td>0.001767</td>\n",
       "      <td>0.979157</td>\n",
       "      <td>0.002610</td>\n",
       "    </tr>\n",
       "    <tr>\n",
       "      <th>4</th>\n",
       "      <td>0.983991</td>\n",
       "      <td>0.001821</td>\n",
       "      <td>0.981340</td>\n",
       "      <td>0.002953</td>\n",
       "    </tr>\n",
       "  </tbody>\n",
       "</table>\n",
       "</div>"
      ],
      "text/plain": [
       "   train-auc-mean  train-auc-std  test-auc-mean  test-auc-std\n",
       "0        0.962184       0.001722       0.959606      0.002344\n",
       "1        0.977507       0.005011       0.975683      0.004695\n",
       "2        0.978219       0.003656       0.975986      0.004834\n",
       "3        0.982349       0.001767       0.979157      0.002610\n",
       "4        0.983991       0.001821       0.981340      0.002953"
      ]
     },
     "execution_count": 63,
     "metadata": {},
     "output_type": "execute_result"
    }
   ],
   "source": [
    "paras={'objective':'binary:logistic','colsample_bytree':0.75,'learning_rate':0.5,'max_depth':5, 'n_estimators':100}\n",
    "\n",
    "X=fdata.drop('left',axis=1).values\n",
    "y=fdata['left'].values\n",
    "data_dim=xgb.DMatrix(data=X, label=y)\n",
    "\n",
    "X_train, X_test, y_train, y_test = train_test_split(X, y, test_size=0.3, random_state=1)\n",
    "\n",
    "data_dim1=xgb.DMatrix(data=X_train,label=y_train)\n",
    "cv_result=xgb.cv(dtrain=data_dim1, params=paras, nfold=5,num_boost_round=60, \n",
    "                 early_stopping_rounds=20,metrics='auc', as_pandas=True, seed=1)\n",
    "cv_result.head()\n"
   ]
  },
  {
   "cell_type": "code",
   "execution_count": 64,
   "metadata": {},
   "outputs": [
    {
     "name": "stdout",
     "output_type": "stream",
     "text": [
      "59    0.991919\n",
      "Name: test-auc-mean, dtype: float64\n"
     ]
    }
   ],
   "source": [
    "print(cv_result['test-auc-mean'].tail(1))"
   ]
  },
  {
   "cell_type": "code",
   "execution_count": 65,
   "metadata": {},
   "outputs": [
    {
     "ename": "ExecutableNotFound",
     "evalue": "failed to execute ['dot', '-Tpng'], make sure the Graphviz executables are on your systems' PATH",
     "output_type": "error",
     "traceback": [
      "\u001b[1;31m---------------------------------------------------------------------------\u001b[0m",
      "\u001b[1;31mFileNotFoundError\u001b[0m                         Traceback (most recent call last)",
      "\u001b[1;32mC:\\ProgramData\\Anaconda3\\lib\\site-packages\\graphviz\\backend.py\u001b[0m in \u001b[0;36mrun\u001b[1;34m(cmd, input, capture_output, check, quiet, **kwargs)\u001b[0m\n\u001b[0;32m    158\u001b[0m     \u001b[1;32mtry\u001b[0m\u001b[1;33m:\u001b[0m\u001b[1;33m\u001b[0m\u001b[1;33m\u001b[0m\u001b[0m\n\u001b[1;32m--> 159\u001b[1;33m         \u001b[0mproc\u001b[0m \u001b[1;33m=\u001b[0m \u001b[0msubprocess\u001b[0m\u001b[1;33m.\u001b[0m\u001b[0mPopen\u001b[0m\u001b[1;33m(\u001b[0m\u001b[0mcmd\u001b[0m\u001b[1;33m,\u001b[0m \u001b[0mstartupinfo\u001b[0m\u001b[1;33m=\u001b[0m\u001b[0mget_startupinfo\u001b[0m\u001b[1;33m(\u001b[0m\u001b[1;33m)\u001b[0m\u001b[1;33m,\u001b[0m \u001b[1;33m**\u001b[0m\u001b[0mkwargs\u001b[0m\u001b[1;33m)\u001b[0m\u001b[1;33m\u001b[0m\u001b[1;33m\u001b[0m\u001b[0m\n\u001b[0m\u001b[0;32m    160\u001b[0m     \u001b[1;32mexcept\u001b[0m \u001b[0mOSError\u001b[0m \u001b[1;32mas\u001b[0m \u001b[0me\u001b[0m\u001b[1;33m:\u001b[0m\u001b[1;33m\u001b[0m\u001b[1;33m\u001b[0m\u001b[0m\n",
      "\u001b[1;32mC:\\ProgramData\\Anaconda3\\lib\\subprocess.py\u001b[0m in \u001b[0;36m__init__\u001b[1;34m(self, args, bufsize, executable, stdin, stdout, stderr, preexec_fn, close_fds, shell, cwd, env, universal_newlines, startupinfo, creationflags, restore_signals, start_new_session, pass_fds, encoding, errors, text)\u001b[0m\n\u001b[0;32m    774\u001b[0m                                 \u001b[0merrread\u001b[0m\u001b[1;33m,\u001b[0m \u001b[0merrwrite\u001b[0m\u001b[1;33m,\u001b[0m\u001b[1;33m\u001b[0m\u001b[1;33m\u001b[0m\u001b[0m\n\u001b[1;32m--> 775\u001b[1;33m                                 restore_signals, start_new_session)\n\u001b[0m\u001b[0;32m    776\u001b[0m         \u001b[1;32mexcept\u001b[0m\u001b[1;33m:\u001b[0m\u001b[1;33m\u001b[0m\u001b[1;33m\u001b[0m\u001b[0m\n",
      "\u001b[1;32mC:\\ProgramData\\Anaconda3\\lib\\subprocess.py\u001b[0m in \u001b[0;36m_execute_child\u001b[1;34m(self, args, executable, preexec_fn, close_fds, pass_fds, cwd, env, startupinfo, creationflags, shell, p2cread, p2cwrite, c2pread, c2pwrite, errread, errwrite, unused_restore_signals, unused_start_new_session)\u001b[0m\n\u001b[0;32m   1177\u001b[0m                                          \u001b[0mos\u001b[0m\u001b[1;33m.\u001b[0m\u001b[0mfspath\u001b[0m\u001b[1;33m(\u001b[0m\u001b[0mcwd\u001b[0m\u001b[1;33m)\u001b[0m \u001b[1;32mif\u001b[0m \u001b[0mcwd\u001b[0m \u001b[1;32mis\u001b[0m \u001b[1;32mnot\u001b[0m \u001b[1;32mNone\u001b[0m \u001b[1;32melse\u001b[0m \u001b[1;32mNone\u001b[0m\u001b[1;33m,\u001b[0m\u001b[1;33m\u001b[0m\u001b[1;33m\u001b[0m\u001b[0m\n\u001b[1;32m-> 1178\u001b[1;33m                                          startupinfo)\n\u001b[0m\u001b[0;32m   1179\u001b[0m             \u001b[1;32mfinally\u001b[0m\u001b[1;33m:\u001b[0m\u001b[1;33m\u001b[0m\u001b[1;33m\u001b[0m\u001b[0m\n",
      "\u001b[1;31mFileNotFoundError\u001b[0m: [WinError 2] 지정된 파일을 찾을 수 없습니다",
      "\nDuring handling of the above exception, another exception occurred:\n",
      "\u001b[1;31mExecutableNotFound\u001b[0m                        Traceback (most recent call last)",
      "\u001b[1;32m<ipython-input-65-caac8827274b>\u001b[0m in \u001b[0;36m<module>\u001b[1;34m\u001b[0m\n\u001b[0;32m      2\u001b[0m \u001b[1;33m\u001b[0m\u001b[0m\n\u001b[0;32m      3\u001b[0m \u001b[1;32mimport\u001b[0m \u001b[0mmatplotlib\u001b[0m\u001b[1;33m.\u001b[0m\u001b[0mpyplot\u001b[0m \u001b[1;32mas\u001b[0m \u001b[0mplt\u001b[0m\u001b[1;33m\u001b[0m\u001b[1;33m\u001b[0m\u001b[0m\n\u001b[1;32m----> 4\u001b[1;33m \u001b[0mxgb\u001b[0m\u001b[1;33m.\u001b[0m\u001b[0mplot_tree\u001b[0m\u001b[1;33m(\u001b[0m\u001b[0mxg_clas2\u001b[0m\u001b[1;33m,\u001b[0m\u001b[0mnum_trees\u001b[0m\u001b[1;33m=\u001b[0m\u001b[1;36m0\u001b[0m\u001b[1;33m)\u001b[0m\u001b[1;33m\u001b[0m\u001b[1;33m\u001b[0m\u001b[0m\n\u001b[0m\u001b[0;32m      5\u001b[0m \u001b[0mplt\u001b[0m\u001b[1;33m.\u001b[0m\u001b[0mrcParams\u001b[0m\u001b[1;33m[\u001b[0m\u001b[1;34m'figure.figsize'\u001b[0m\u001b[1;33m]\u001b[0m\u001b[1;33m=\u001b[0m\u001b[1;33m[\u001b[0m\u001b[1;36m200\u001b[0m\u001b[1;33m,\u001b[0m\u001b[1;36m50\u001b[0m\u001b[1;33m]\u001b[0m\u001b[1;33m\u001b[0m\u001b[1;33m\u001b[0m\u001b[0m\n\u001b[0;32m      6\u001b[0m \u001b[0mplt\u001b[0m\u001b[1;33m.\u001b[0m\u001b[0mshow\u001b[0m\u001b[1;33m(\u001b[0m\u001b[1;33m)\u001b[0m\u001b[1;33m\u001b[0m\u001b[1;33m\u001b[0m\u001b[0m\n",
      "\u001b[1;32mC:\\ProgramData\\Anaconda3\\lib\\site-packages\\xgboost\\plotting.py\u001b[0m in \u001b[0;36mplot_tree\u001b[1;34m(booster, fmap, num_trees, rankdir, ax, **kwargs)\u001b[0m\n\u001b[0;32m    279\u001b[0m \u001b[1;33m\u001b[0m\u001b[0m\n\u001b[0;32m    280\u001b[0m     \u001b[0ms\u001b[0m \u001b[1;33m=\u001b[0m \u001b[0mBytesIO\u001b[0m\u001b[1;33m(\u001b[0m\u001b[1;33m)\u001b[0m\u001b[1;33m\u001b[0m\u001b[1;33m\u001b[0m\u001b[0m\n\u001b[1;32m--> 281\u001b[1;33m     \u001b[0ms\u001b[0m\u001b[1;33m.\u001b[0m\u001b[0mwrite\u001b[0m\u001b[1;33m(\u001b[0m\u001b[0mg\u001b[0m\u001b[1;33m.\u001b[0m\u001b[0mpipe\u001b[0m\u001b[1;33m(\u001b[0m\u001b[0mformat\u001b[0m\u001b[1;33m=\u001b[0m\u001b[1;34m'png'\u001b[0m\u001b[1;33m)\u001b[0m\u001b[1;33m)\u001b[0m\u001b[1;33m\u001b[0m\u001b[1;33m\u001b[0m\u001b[0m\n\u001b[0m\u001b[0;32m    282\u001b[0m     \u001b[0ms\u001b[0m\u001b[1;33m.\u001b[0m\u001b[0mseek\u001b[0m\u001b[1;33m(\u001b[0m\u001b[1;36m0\u001b[0m\u001b[1;33m)\u001b[0m\u001b[1;33m\u001b[0m\u001b[1;33m\u001b[0m\u001b[0m\n\u001b[0;32m    283\u001b[0m     \u001b[0mimg\u001b[0m \u001b[1;33m=\u001b[0m \u001b[0mimage\u001b[0m\u001b[1;33m.\u001b[0m\u001b[0mimread\u001b[0m\u001b[1;33m(\u001b[0m\u001b[0ms\u001b[0m\u001b[1;33m)\u001b[0m\u001b[1;33m\u001b[0m\u001b[1;33m\u001b[0m\u001b[0m\n",
      "\u001b[1;32mC:\\ProgramData\\Anaconda3\\lib\\site-packages\\graphviz\\files.py\u001b[0m in \u001b[0;36mpipe\u001b[1;34m(self, format, renderer, formatter, quiet)\u001b[0m\n\u001b[0;32m    136\u001b[0m         out = backend.pipe(self._engine, format, data,\n\u001b[0;32m    137\u001b[0m                            \u001b[0mrenderer\u001b[0m\u001b[1;33m=\u001b[0m\u001b[0mrenderer\u001b[0m\u001b[1;33m,\u001b[0m \u001b[0mformatter\u001b[0m\u001b[1;33m=\u001b[0m\u001b[0mformatter\u001b[0m\u001b[1;33m,\u001b[0m\u001b[1;33m\u001b[0m\u001b[1;33m\u001b[0m\u001b[0m\n\u001b[1;32m--> 138\u001b[1;33m                            quiet=quiet)\n\u001b[0m\u001b[0;32m    139\u001b[0m \u001b[1;33m\u001b[0m\u001b[0m\n\u001b[0;32m    140\u001b[0m         \u001b[1;32mreturn\u001b[0m \u001b[0mout\u001b[0m\u001b[1;33m\u001b[0m\u001b[1;33m\u001b[0m\u001b[0m\n",
      "\u001b[1;32mC:\\ProgramData\\Anaconda3\\lib\\site-packages\\graphviz\\backend.py\u001b[0m in \u001b[0;36mpipe\u001b[1;34m(engine, format, data, renderer, formatter, quiet)\u001b[0m\n\u001b[0;32m    227\u001b[0m     \"\"\"\n\u001b[0;32m    228\u001b[0m     \u001b[0mcmd\u001b[0m\u001b[1;33m,\u001b[0m \u001b[0m_\u001b[0m \u001b[1;33m=\u001b[0m \u001b[0mcommand\u001b[0m\u001b[1;33m(\u001b[0m\u001b[0mengine\u001b[0m\u001b[1;33m,\u001b[0m \u001b[0mformat\u001b[0m\u001b[1;33m,\u001b[0m \u001b[1;32mNone\u001b[0m\u001b[1;33m,\u001b[0m \u001b[0mrenderer\u001b[0m\u001b[1;33m,\u001b[0m \u001b[0mformatter\u001b[0m\u001b[1;33m)\u001b[0m\u001b[1;33m\u001b[0m\u001b[1;33m\u001b[0m\u001b[0m\n\u001b[1;32m--> 229\u001b[1;33m     \u001b[0mout\u001b[0m\u001b[1;33m,\u001b[0m \u001b[0m_\u001b[0m \u001b[1;33m=\u001b[0m \u001b[0mrun\u001b[0m\u001b[1;33m(\u001b[0m\u001b[0mcmd\u001b[0m\u001b[1;33m,\u001b[0m \u001b[0minput\u001b[0m\u001b[1;33m=\u001b[0m\u001b[0mdata\u001b[0m\u001b[1;33m,\u001b[0m \u001b[0mcapture_output\u001b[0m\u001b[1;33m=\u001b[0m\u001b[1;32mTrue\u001b[0m\u001b[1;33m,\u001b[0m \u001b[0mcheck\u001b[0m\u001b[1;33m=\u001b[0m\u001b[1;32mTrue\u001b[0m\u001b[1;33m,\u001b[0m \u001b[0mquiet\u001b[0m\u001b[1;33m=\u001b[0m\u001b[0mquiet\u001b[0m\u001b[1;33m)\u001b[0m\u001b[1;33m\u001b[0m\u001b[1;33m\u001b[0m\u001b[0m\n\u001b[0m\u001b[0;32m    230\u001b[0m     \u001b[1;32mreturn\u001b[0m \u001b[0mout\u001b[0m\u001b[1;33m\u001b[0m\u001b[1;33m\u001b[0m\u001b[0m\n\u001b[0;32m    231\u001b[0m \u001b[1;33m\u001b[0m\u001b[0m\n",
      "\u001b[1;32mC:\\ProgramData\\Anaconda3\\lib\\site-packages\\graphviz\\backend.py\u001b[0m in \u001b[0;36mrun\u001b[1;34m(cmd, input, capture_output, check, quiet, **kwargs)\u001b[0m\n\u001b[0;32m    160\u001b[0m     \u001b[1;32mexcept\u001b[0m \u001b[0mOSError\u001b[0m \u001b[1;32mas\u001b[0m \u001b[0me\u001b[0m\u001b[1;33m:\u001b[0m\u001b[1;33m\u001b[0m\u001b[1;33m\u001b[0m\u001b[0m\n\u001b[0;32m    161\u001b[0m         \u001b[1;32mif\u001b[0m \u001b[0me\u001b[0m\u001b[1;33m.\u001b[0m\u001b[0merrno\u001b[0m \u001b[1;33m==\u001b[0m \u001b[0merrno\u001b[0m\u001b[1;33m.\u001b[0m\u001b[0mENOENT\u001b[0m\u001b[1;33m:\u001b[0m\u001b[1;33m\u001b[0m\u001b[1;33m\u001b[0m\u001b[0m\n\u001b[1;32m--> 162\u001b[1;33m             \u001b[1;32mraise\u001b[0m \u001b[0mExecutableNotFound\u001b[0m\u001b[1;33m(\u001b[0m\u001b[0mcmd\u001b[0m\u001b[1;33m)\u001b[0m\u001b[1;33m\u001b[0m\u001b[1;33m\u001b[0m\u001b[0m\n\u001b[0m\u001b[0;32m    163\u001b[0m         \u001b[1;32melse\u001b[0m\u001b[1;33m:\u001b[0m\u001b[1;33m\u001b[0m\u001b[1;33m\u001b[0m\u001b[0m\n\u001b[0;32m    164\u001b[0m             \u001b[1;32mraise\u001b[0m\u001b[1;33m\u001b[0m\u001b[1;33m\u001b[0m\u001b[0m\n",
      "\u001b[1;31mExecutableNotFound\u001b[0m: failed to execute ['dot', '-Tpng'], make sure the Graphviz executables are on your systems' PATH"
     ]
    },
    {
     "data": {
      "image/png": "[encoded data removed]",
      "text/plain": [
       "<Figure size 720x720 with 1 Axes>"
      ]
     },
     "metadata": {
      "needs_background": "light"
     },
     "output_type": "display_data"
    }
   ],
   "source": [
    "xg_clas2=xgb.train(params=paras, dtrain=data_dim1, num_boost_round=60)\n",
    "                \n",
    "import matplotlib.pyplot as plt\n",
    "xgb.plot_tree(xg_clas2,num_trees=0)\n",
    "plt.rcParams['figure.figsize']=[200,50]\n",
    "plt.show()"
   ]
  },
  {
   "cell_type": "code",
   "execution_count": 66,
   "metadata": {},
   "outputs": [
    {
     "name": "stdout",
     "output_type": "stream",
     "text": [
      "<class 'pandas.core.frame.DataFrame'>\n",
      "RangeIndex: 14999 entries, 0 to 14998\n",
      "Data columns (total 9 columns):\n",
      "satisfaction     14999 non-null float64\n",
      "evaluation       14999 non-null float64\n",
      "Nproject         14999 non-null int64\n",
      "avgMonthlyhrs    14999 non-null int64\n",
      "yrsAtCompany     14999 non-null int64\n",
      "workAccident     14999 non-null int64\n",
      "left             14999 non-null int64\n",
      "promotion        14999 non-null int64\n",
      "salary           14999 non-null int64\n",
      "dtypes: float64(2), int64(7)\n",
      "memory usage: 1.0 MB\n"
     ]
    }
   ],
   "source": [
    "hr.info()"
   ]
  },
  {
   "cell_type": "code",
   "execution_count": null,
   "metadata": {},
   "outputs": [],
   "source": []
  }
 ],
 "metadata": {
  "kernelspec": {
   "display_name": "Python 3",
   "language": "python",
   "name": "python3"
  },
  "language_info": {
   "codemirror_mode": {
    "name": "ipython",
    "version": 3
   },
   "file_extension": ".py",
   "mimetype": "text/x-python",
   "name": "python",
   "nbconvert_exporter": "python",
   "pygments_lexer": "ipython3",
   "version": "3.7.3"
  }
 },
 "nbformat": 4,
 "nbformat_minor": 2
}
